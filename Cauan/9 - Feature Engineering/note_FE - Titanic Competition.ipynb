{
 "cells": [
  {
   "cell_type": "markdown",
   "metadata": {},
   "source": [
    "# 6.1 - Importação e visualização do banco de dados"
   ]
  },
  {
   "cell_type": "markdown",
   "metadata": {},
   "source": [
    "### 1. Importar as bibliotecas que irão ser utilizadas:"
   ]
  },
  {
   "cell_type": "code",
   "execution_count": 2,
   "metadata": {},
   "outputs": [],
   "source": [
    "# a. numpy as np;\n",
    "\n",
    "import numpy as np"
   ]
  },
  {
   "cell_type": "code",
   "execution_count": 3,
   "metadata": {},
   "outputs": [],
   "source": [
    "# b. pandas as pd;\n",
    "\n",
    "import pandas as pd"
   ]
  },
  {
   "cell_type": "code",
   "execution_count": 4,
   "metadata": {},
   "outputs": [],
   "source": [
    "# c. matplotlib.pyplot;\n",
    "\n",
    "import matplotlib.pyplot as plt"
   ]
  },
  {
   "cell_type": "code",
   "execution_count": 5,
   "metadata": {},
   "outputs": [],
   "source": [
    "# d. seaborn as sns;\n",
    "\n",
    "import seaborn as sns\n",
    "import warnings # To suppress some warnings\n",
    "warnings.filterwarnings(\"ignore\", category=FutureWarning, module=\"seaborn\")"
   ]
  },
  {
   "cell_type": "code",
   "execution_count": 6,
   "metadata": {},
   "outputs": [],
   "source": [
    "# e. matplotlib inline, para gerar gráficos no próprio notebook;\n",
    "\n",
    "%matplotlib inline"
   ]
  },
  {
   "cell_type": "code",
   "execution_count": 7,
   "metadata": {},
   "outputs": [],
   "source": [
    "# f. Configurar o random seed para 0 (np.random.seed(0))\n",
    "\n",
    "np.random.seed(0)"
   ]
  },
  {
   "cell_type": "markdown",
   "metadata": {},
   "source": [
    "### 2. Transformar arquivos em dataframe e gerar momentos estatísticos:"
   ]
  },
  {
   "cell_type": "code",
   "execution_count": 8,
   "metadata": {},
   "outputs": [],
   "source": [
    "# a. Importar os arquivos “kaggle/input/titanic/test.csv” e “kaggle/input/titanic/train.csv”;\n",
    "\n",
    "unf_train_data = pd.read_csv(r\"C:\\Users\\Cauan\\Documents\\UFV\\NIAS-IA-treinamento-2024-2\\Cauan\\6 - Introdução ao Machine Learning\\Titanic Dataset\\train.csv\")\n",
    "unf_test_data = pd.read_csv(r\"C:\\Users\\Cauan\\Documents\\UFV\\NIAS-IA-treinamento-2024-2\\Cauan\\6 - Introdução ao Machine Learning\\Titanic Dataset\\test.csv\")"
   ]
  },
  {
   "cell_type": "code",
   "execution_count": 9,
   "metadata": {},
   "outputs": [
    {
     "data": {
      "text/plain": [
       "'Momento estátistico do dataset de treino:'"
      ]
     },
     "metadata": {},
     "output_type": "display_data"
    },
    {
     "data": {
      "application/vnd.microsoft.datawrangler.viewer.v0+json": {
       "columns": [
        {
         "name": "index",
         "rawType": "object",
         "type": "string"
        },
        {
         "name": "PassengerId",
         "rawType": "float64",
         "type": "float"
        },
        {
         "name": "Survived",
         "rawType": "float64",
         "type": "float"
        },
        {
         "name": "Pclass",
         "rawType": "float64",
         "type": "float"
        },
        {
         "name": "Age",
         "rawType": "float64",
         "type": "float"
        },
        {
         "name": "SibSp",
         "rawType": "float64",
         "type": "float"
        },
        {
         "name": "Parch",
         "rawType": "float64",
         "type": "float"
        },
        {
         "name": "Fare",
         "rawType": "float64",
         "type": "float"
        }
       ],
       "conversionMethod": "pd.DataFrame",
       "ref": "3e35c255-e374-459b-9148-eed8e267b4af",
       "rows": [
        [
         "count",
         "891.0",
         "891.0",
         "891.0",
         "714.0",
         "891.0",
         "891.0",
         "891.0"
        ],
        [
         "mean",
         "446.0",
         "0.3838383838383838",
         "2.308641975308642",
         "29.69911764705882",
         "0.5230078563411896",
         "0.38159371492704824",
         "32.204207968574636"
        ],
        [
         "std",
         "257.3538420152301",
         "0.4865924542648585",
         "0.8360712409770513",
         "14.526497332334044",
         "1.1027434322934275",
         "0.8060572211299559",
         "49.693428597180905"
        ],
        [
         "min",
         "1.0",
         "0.0",
         "1.0",
         "0.42",
         "0.0",
         "0.0",
         "0.0"
        ],
        [
         "25%",
         "223.5",
         "0.0",
         "2.0",
         "20.125",
         "0.0",
         "0.0",
         "7.9104"
        ],
        [
         "50%",
         "446.0",
         "0.0",
         "3.0",
         "28.0",
         "0.0",
         "0.0",
         "14.4542"
        ],
        [
         "75%",
         "668.5",
         "1.0",
         "3.0",
         "38.0",
         "1.0",
         "0.0",
         "31.0"
        ],
        [
         "max",
         "891.0",
         "1.0",
         "3.0",
         "80.0",
         "8.0",
         "6.0",
         "512.3292"
        ]
       ],
       "shape": {
        "columns": 7,
        "rows": 8
       }
      },
      "text/html": [
       "<div>\n",
       "<style scoped>\n",
       "    .dataframe tbody tr th:only-of-type {\n",
       "        vertical-align: middle;\n",
       "    }\n",
       "\n",
       "    .dataframe tbody tr th {\n",
       "        vertical-align: top;\n",
       "    }\n",
       "\n",
       "    .dataframe thead th {\n",
       "        text-align: right;\n",
       "    }\n",
       "</style>\n",
       "<table border=\"1\" class=\"dataframe\">\n",
       "  <thead>\n",
       "    <tr style=\"text-align: right;\">\n",
       "      <th></th>\n",
       "      <th>PassengerId</th>\n",
       "      <th>Survived</th>\n",
       "      <th>Pclass</th>\n",
       "      <th>Age</th>\n",
       "      <th>SibSp</th>\n",
       "      <th>Parch</th>\n",
       "      <th>Fare</th>\n",
       "    </tr>\n",
       "  </thead>\n",
       "  <tbody>\n",
       "    <tr>\n",
       "      <th>count</th>\n",
       "      <td>891.000000</td>\n",
       "      <td>891.000000</td>\n",
       "      <td>891.000000</td>\n",
       "      <td>714.000000</td>\n",
       "      <td>891.000000</td>\n",
       "      <td>891.000000</td>\n",
       "      <td>891.000000</td>\n",
       "    </tr>\n",
       "    <tr>\n",
       "      <th>mean</th>\n",
       "      <td>446.000000</td>\n",
       "      <td>0.383838</td>\n",
       "      <td>2.308642</td>\n",
       "      <td>29.699118</td>\n",
       "      <td>0.523008</td>\n",
       "      <td>0.381594</td>\n",
       "      <td>32.204208</td>\n",
       "    </tr>\n",
       "    <tr>\n",
       "      <th>std</th>\n",
       "      <td>257.353842</td>\n",
       "      <td>0.486592</td>\n",
       "      <td>0.836071</td>\n",
       "      <td>14.526497</td>\n",
       "      <td>1.102743</td>\n",
       "      <td>0.806057</td>\n",
       "      <td>49.693429</td>\n",
       "    </tr>\n",
       "    <tr>\n",
       "      <th>min</th>\n",
       "      <td>1.000000</td>\n",
       "      <td>0.000000</td>\n",
       "      <td>1.000000</td>\n",
       "      <td>0.420000</td>\n",
       "      <td>0.000000</td>\n",
       "      <td>0.000000</td>\n",
       "      <td>0.000000</td>\n",
       "    </tr>\n",
       "    <tr>\n",
       "      <th>25%</th>\n",
       "      <td>223.500000</td>\n",
       "      <td>0.000000</td>\n",
       "      <td>2.000000</td>\n",
       "      <td>20.125000</td>\n",
       "      <td>0.000000</td>\n",
       "      <td>0.000000</td>\n",
       "      <td>7.910400</td>\n",
       "    </tr>\n",
       "    <tr>\n",
       "      <th>50%</th>\n",
       "      <td>446.000000</td>\n",
       "      <td>0.000000</td>\n",
       "      <td>3.000000</td>\n",
       "      <td>28.000000</td>\n",
       "      <td>0.000000</td>\n",
       "      <td>0.000000</td>\n",
       "      <td>14.454200</td>\n",
       "    </tr>\n",
       "    <tr>\n",
       "      <th>75%</th>\n",
       "      <td>668.500000</td>\n",
       "      <td>1.000000</td>\n",
       "      <td>3.000000</td>\n",
       "      <td>38.000000</td>\n",
       "      <td>1.000000</td>\n",
       "      <td>0.000000</td>\n",
       "      <td>31.000000</td>\n",
       "    </tr>\n",
       "    <tr>\n",
       "      <th>max</th>\n",
       "      <td>891.000000</td>\n",
       "      <td>1.000000</td>\n",
       "      <td>3.000000</td>\n",
       "      <td>80.000000</td>\n",
       "      <td>8.000000</td>\n",
       "      <td>6.000000</td>\n",
       "      <td>512.329200</td>\n",
       "    </tr>\n",
       "  </tbody>\n",
       "</table>\n",
       "</div>"
      ],
      "text/plain": [
       "       PassengerId    Survived      Pclass         Age       SibSp  \\\n",
       "count   891.000000  891.000000  891.000000  714.000000  891.000000   \n",
       "mean    446.000000    0.383838    2.308642   29.699118    0.523008   \n",
       "std     257.353842    0.486592    0.836071   14.526497    1.102743   \n",
       "min       1.000000    0.000000    1.000000    0.420000    0.000000   \n",
       "25%     223.500000    0.000000    2.000000   20.125000    0.000000   \n",
       "50%     446.000000    0.000000    3.000000   28.000000    0.000000   \n",
       "75%     668.500000    1.000000    3.000000   38.000000    1.000000   \n",
       "max     891.000000    1.000000    3.000000   80.000000    8.000000   \n",
       "\n",
       "            Parch        Fare  \n",
       "count  891.000000  891.000000  \n",
       "mean     0.381594   32.204208  \n",
       "std      0.806057   49.693429  \n",
       "min      0.000000    0.000000  \n",
       "25%      0.000000    7.910400  \n",
       "50%      0.000000   14.454200  \n",
       "75%      0.000000   31.000000  \n",
       "max      6.000000  512.329200  "
      ]
     },
     "metadata": {},
     "output_type": "display_data"
    },
    {
     "data": {
      "text/plain": [
       "'Momento estátistico do dataset de teste:'"
      ]
     },
     "metadata": {},
     "output_type": "display_data"
    },
    {
     "data": {
      "application/vnd.microsoft.datawrangler.viewer.v0+json": {
       "columns": [
        {
         "name": "index",
         "rawType": "object",
         "type": "string"
        },
        {
         "name": "PassengerId",
         "rawType": "float64",
         "type": "float"
        },
        {
         "name": "Pclass",
         "rawType": "float64",
         "type": "float"
        },
        {
         "name": "Age",
         "rawType": "float64",
         "type": "float"
        },
        {
         "name": "SibSp",
         "rawType": "float64",
         "type": "float"
        },
        {
         "name": "Parch",
         "rawType": "float64",
         "type": "float"
        },
        {
         "name": "Fare",
         "rawType": "float64",
         "type": "float"
        }
       ],
       "conversionMethod": "pd.DataFrame",
       "ref": "7fb75898-7c81-4b0b-beef-991ed2e385b0",
       "rows": [
        [
         "count",
         "418.0",
         "418.0",
         "332.0",
         "418.0",
         "418.0",
         "417.0"
        ],
        [
         "mean",
         "1100.5",
         "2.2655502392344498",
         "30.272590361445783",
         "0.4473684210526316",
         "0.3923444976076555",
         "35.627188489208635"
        ],
        [
         "std",
         "120.81045760473994",
         "0.8418375519640519",
         "14.18120923562442",
         "0.8967595611217125",
         "0.9814288785371684",
         "55.90757617997383"
        ],
        [
         "min",
         "892.0",
         "1.0",
         "0.17",
         "0.0",
         "0.0",
         "0.0"
        ],
        [
         "25%",
         "996.25",
         "1.0",
         "21.0",
         "0.0",
         "0.0",
         "7.8958"
        ],
        [
         "50%",
         "1100.5",
         "3.0",
         "27.0",
         "0.0",
         "0.0",
         "14.4542"
        ],
        [
         "75%",
         "1204.75",
         "3.0",
         "39.0",
         "1.0",
         "0.0",
         "31.5"
        ],
        [
         "max",
         "1309.0",
         "3.0",
         "76.0",
         "8.0",
         "9.0",
         "512.3292"
        ]
       ],
       "shape": {
        "columns": 6,
        "rows": 8
       }
      },
      "text/html": [
       "<div>\n",
       "<style scoped>\n",
       "    .dataframe tbody tr th:only-of-type {\n",
       "        vertical-align: middle;\n",
       "    }\n",
       "\n",
       "    .dataframe tbody tr th {\n",
       "        vertical-align: top;\n",
       "    }\n",
       "\n",
       "    .dataframe thead th {\n",
       "        text-align: right;\n",
       "    }\n",
       "</style>\n",
       "<table border=\"1\" class=\"dataframe\">\n",
       "  <thead>\n",
       "    <tr style=\"text-align: right;\">\n",
       "      <th></th>\n",
       "      <th>PassengerId</th>\n",
       "      <th>Pclass</th>\n",
       "      <th>Age</th>\n",
       "      <th>SibSp</th>\n",
       "      <th>Parch</th>\n",
       "      <th>Fare</th>\n",
       "    </tr>\n",
       "  </thead>\n",
       "  <tbody>\n",
       "    <tr>\n",
       "      <th>count</th>\n",
       "      <td>418.000000</td>\n",
       "      <td>418.000000</td>\n",
       "      <td>332.000000</td>\n",
       "      <td>418.000000</td>\n",
       "      <td>418.000000</td>\n",
       "      <td>417.000000</td>\n",
       "    </tr>\n",
       "    <tr>\n",
       "      <th>mean</th>\n",
       "      <td>1100.500000</td>\n",
       "      <td>2.265550</td>\n",
       "      <td>30.272590</td>\n",
       "      <td>0.447368</td>\n",
       "      <td>0.392344</td>\n",
       "      <td>35.627188</td>\n",
       "    </tr>\n",
       "    <tr>\n",
       "      <th>std</th>\n",
       "      <td>120.810458</td>\n",
       "      <td>0.841838</td>\n",
       "      <td>14.181209</td>\n",
       "      <td>0.896760</td>\n",
       "      <td>0.981429</td>\n",
       "      <td>55.907576</td>\n",
       "    </tr>\n",
       "    <tr>\n",
       "      <th>min</th>\n",
       "      <td>892.000000</td>\n",
       "      <td>1.000000</td>\n",
       "      <td>0.170000</td>\n",
       "      <td>0.000000</td>\n",
       "      <td>0.000000</td>\n",
       "      <td>0.000000</td>\n",
       "    </tr>\n",
       "    <tr>\n",
       "      <th>25%</th>\n",
       "      <td>996.250000</td>\n",
       "      <td>1.000000</td>\n",
       "      <td>21.000000</td>\n",
       "      <td>0.000000</td>\n",
       "      <td>0.000000</td>\n",
       "      <td>7.895800</td>\n",
       "    </tr>\n",
       "    <tr>\n",
       "      <th>50%</th>\n",
       "      <td>1100.500000</td>\n",
       "      <td>3.000000</td>\n",
       "      <td>27.000000</td>\n",
       "      <td>0.000000</td>\n",
       "      <td>0.000000</td>\n",
       "      <td>14.454200</td>\n",
       "    </tr>\n",
       "    <tr>\n",
       "      <th>75%</th>\n",
       "      <td>1204.750000</td>\n",
       "      <td>3.000000</td>\n",
       "      <td>39.000000</td>\n",
       "      <td>1.000000</td>\n",
       "      <td>0.000000</td>\n",
       "      <td>31.500000</td>\n",
       "    </tr>\n",
       "    <tr>\n",
       "      <th>max</th>\n",
       "      <td>1309.000000</td>\n",
       "      <td>3.000000</td>\n",
       "      <td>76.000000</td>\n",
       "      <td>8.000000</td>\n",
       "      <td>9.000000</td>\n",
       "      <td>512.329200</td>\n",
       "    </tr>\n",
       "  </tbody>\n",
       "</table>\n",
       "</div>"
      ],
      "text/plain": [
       "       PassengerId      Pclass         Age       SibSp       Parch        Fare\n",
       "count   418.000000  418.000000  332.000000  418.000000  418.000000  417.000000\n",
       "mean   1100.500000    2.265550   30.272590    0.447368    0.392344   35.627188\n",
       "std     120.810458    0.841838   14.181209    0.896760    0.981429   55.907576\n",
       "min     892.000000    1.000000    0.170000    0.000000    0.000000    0.000000\n",
       "25%     996.250000    1.000000   21.000000    0.000000    0.000000    7.895800\n",
       "50%    1100.500000    3.000000   27.000000    0.000000    0.000000   14.454200\n",
       "75%    1204.750000    3.000000   39.000000    1.000000    0.000000   31.500000\n",
       "max    1309.000000    3.000000   76.000000    8.000000    9.000000  512.329200"
      ]
     },
     "metadata": {},
     "output_type": "display_data"
    }
   ],
   "source": [
    "# b. Gerar momentos estatísticos sobre o dataframe de treino, utilizando “.describe( )”;\n",
    "\n",
    "display('Momento estátistico do dataset de treino:',unf_train_data.describe())\n",
    "display('Momento estátistico do dataset de teste:',unf_test_data.describe())"
   ]
  },
  {
   "cell_type": "markdown",
   "metadata": {},
   "source": [
    "### 3. Análise dos dados:"
   ]
  },
  {
   "cell_type": "code",
   "execution_count": 10,
   "metadata": {},
   "outputs": [
    {
     "name": "stdout",
     "output_type": "stream",
     "text": [
      "<class 'pandas.core.frame.DataFrame'>\n",
      "RangeIndex: 891 entries, 0 to 890\n",
      "Data columns (total 12 columns):\n",
      " #   Column       Non-Null Count  Dtype  \n",
      "---  ------       --------------  -----  \n",
      " 0   PassengerId  891 non-null    int64  \n",
      " 1   Survived     891 non-null    int64  \n",
      " 2   Pclass       891 non-null    int64  \n",
      " 3   Name         891 non-null    object \n",
      " 4   Sex          891 non-null    object \n",
      " 5   Age          714 non-null    float64\n",
      " 6   SibSp        891 non-null    int64  \n",
      " 7   Parch        891 non-null    int64  \n",
      " 8   Ticket       891 non-null    object \n",
      " 9   Fare         891 non-null    float64\n",
      " 10  Cabin        204 non-null    object \n",
      " 11  Embarked     889 non-null    object \n",
      "dtypes: float64(2), int64(5), object(5)\n",
      "memory usage: 83.7+ KB\n"
     ]
    }
   ],
   "source": [
    "# a. Identificar as Features do banco de dados que são categóricas (não numéricas), e as que são numéricas. As numéricas,\n",
    "# deve-se separá-las em discretas e contínuas.\n",
    "\n",
    "## i. Pode-se usar o método “.info( )” para descobrir o tipo de dado de cada Feature.\n",
    "\n",
    "unf_train_data.info()\n",
    "\n",
    "# > Note que teremos como categóricas as features: Sex, Name, Ticket, Cabin e Embarked\n",
    "# > Para as númericas, teremos por discretas as features: PassengerId, Survived, Pclass, SibSp e Parch. Por contínuas teremos: Age e Fare"
   ]
  },
  {
   "cell_type": "code",
   "execution_count": 11,
   "metadata": {},
   "outputs": [
    {
     "data": {
      "text/plain": [
       "PassengerId      0\n",
       "Survived         0\n",
       "Pclass           0\n",
       "Name             0\n",
       "Sex              0\n",
       "Age            177\n",
       "SibSp            0\n",
       "Parch            0\n",
       "Ticket           0\n",
       "Fare             0\n",
       "Cabin          687\n",
       "Embarked         2\n",
       "dtype: int64"
      ]
     },
     "execution_count": 11,
     "metadata": {},
     "output_type": "execute_result"
    }
   ],
   "source": [
    "# b. Descobrir quais as Features contém NaN, além da quantidade desse tipo de dado em cada Feature.\n",
    "\n",
    "## i. Pode-se utilizar o comando “DataFrame.isnull.sum( )”.\n",
    "\n",
    "unf_train_data.isnull().sum()"
   ]
  },
  {
   "cell_type": "code",
   "execution_count": 12,
   "metadata": {},
   "outputs": [
    {
     "data": {
      "application/vnd.microsoft.datawrangler.viewer.v0+json": {
       "columns": [
        {
         "name": "PassengerId",
         "rawType": "int64",
         "type": "integer"
        },
        {
         "name": "Survived",
         "rawType": "int64",
         "type": "integer"
        },
        {
         "name": "Pclass",
         "rawType": "int64",
         "type": "integer"
        },
        {
         "name": "SibSp",
         "rawType": "int64",
         "type": "integer"
        },
        {
         "name": "Parch",
         "rawType": "int64",
         "type": "integer"
        },
        {
         "name": "Age",
         "rawType": "float64",
         "type": "float"
        },
        {
         "name": "Fare",
         "rawType": "float64",
         "type": "float"
        }
       ],
       "conversionMethod": "pd.DataFrame",
       "ref": "543a8c76-319f-43ab-a257-450bb49c03e2",
       "rows": [
        [
         "1",
         "0",
         "3",
         "1",
         "0",
         "22.0",
         "7.25"
        ],
        [
         "2",
         "1",
         "1",
         "1",
         "0",
         "38.0",
         "71.2833"
        ],
        [
         "3",
         "1",
         "3",
         "0",
         "0",
         "26.0",
         "7.925"
        ],
        [
         "4",
         "1",
         "1",
         "1",
         "0",
         "35.0",
         "53.1"
        ],
        [
         "5",
         "0",
         "3",
         "0",
         "0",
         "35.0",
         "8.05"
        ],
        [
         "6",
         "0",
         "3",
         "0",
         "0",
         "0.0",
         "8.4583"
        ],
        [
         "7",
         "0",
         "1",
         "0",
         "0",
         "54.0",
         "51.8625"
        ],
        [
         "8",
         "0",
         "3",
         "3",
         "1",
         "2.0",
         "21.075"
        ],
        [
         "9",
         "1",
         "3",
         "0",
         "2",
         "27.0",
         "11.1333"
        ],
        [
         "10",
         "1",
         "2",
         "1",
         "0",
         "14.0",
         "30.0708"
        ],
        [
         "11",
         "1",
         "3",
         "1",
         "1",
         "4.0",
         "16.7"
        ],
        [
         "12",
         "1",
         "1",
         "0",
         "0",
         "58.0",
         "26.55"
        ],
        [
         "13",
         "0",
         "3",
         "0",
         "0",
         "20.0",
         "8.05"
        ],
        [
         "14",
         "0",
         "3",
         "1",
         "5",
         "39.0",
         "31.275"
        ],
        [
         "15",
         "0",
         "3",
         "0",
         "0",
         "14.0",
         "7.8542"
        ],
        [
         "16",
         "1",
         "2",
         "0",
         "0",
         "55.0",
         "16.0"
        ],
        [
         "17",
         "0",
         "3",
         "4",
         "1",
         "2.0",
         "29.125"
        ],
        [
         "18",
         "1",
         "2",
         "0",
         "0",
         "0.0",
         "13.0"
        ],
        [
         "19",
         "0",
         "3",
         "1",
         "0",
         "31.0",
         "18.0"
        ],
        [
         "20",
         "1",
         "3",
         "0",
         "0",
         "0.0",
         "7.225"
        ],
        [
         "21",
         "0",
         "2",
         "0",
         "0",
         "35.0",
         "26.0"
        ],
        [
         "22",
         "1",
         "2",
         "0",
         "0",
         "34.0",
         "13.0"
        ],
        [
         "23",
         "1",
         "3",
         "0",
         "0",
         "15.0",
         "8.0292"
        ],
        [
         "24",
         "1",
         "1",
         "0",
         "0",
         "28.0",
         "35.5"
        ],
        [
         "25",
         "0",
         "3",
         "3",
         "1",
         "8.0",
         "21.075"
        ],
        [
         "26",
         "1",
         "3",
         "1",
         "5",
         "38.0",
         "31.3875"
        ],
        [
         "27",
         "0",
         "3",
         "0",
         "0",
         "0.0",
         "7.225"
        ],
        [
         "28",
         "0",
         "1",
         "3",
         "2",
         "19.0",
         "263.0"
        ],
        [
         "29",
         "1",
         "3",
         "0",
         "0",
         "0.0",
         "7.8792"
        ],
        [
         "30",
         "0",
         "3",
         "0",
         "0",
         "0.0",
         "7.8958"
        ],
        [
         "31",
         "0",
         "1",
         "0",
         "0",
         "40.0",
         "27.7208"
        ],
        [
         "32",
         "1",
         "1",
         "1",
         "0",
         "0.0",
         "146.5208"
        ],
        [
         "33",
         "1",
         "3",
         "0",
         "0",
         "0.0",
         "7.75"
        ],
        [
         "34",
         "0",
         "2",
         "0",
         "0",
         "66.0",
         "10.5"
        ],
        [
         "35",
         "0",
         "1",
         "1",
         "0",
         "28.0",
         "82.1708"
        ],
        [
         "36",
         "0",
         "1",
         "1",
         "0",
         "42.0",
         "52.0"
        ],
        [
         "37",
         "1",
         "3",
         "0",
         "0",
         "0.0",
         "7.2292"
        ],
        [
         "38",
         "0",
         "3",
         "0",
         "0",
         "21.0",
         "8.05"
        ],
        [
         "39",
         "0",
         "3",
         "2",
         "0",
         "18.0",
         "18.0"
        ],
        [
         "40",
         "1",
         "3",
         "1",
         "0",
         "14.0",
         "11.2417"
        ],
        [
         "41",
         "0",
         "3",
         "1",
         "0",
         "40.0",
         "9.475"
        ],
        [
         "42",
         "0",
         "2",
         "1",
         "0",
         "27.0",
         "21.0"
        ],
        [
         "43",
         "0",
         "3",
         "0",
         "0",
         "0.0",
         "7.8958"
        ],
        [
         "44",
         "1",
         "2",
         "1",
         "2",
         "3.0",
         "41.5792"
        ],
        [
         "45",
         "1",
         "3",
         "0",
         "0",
         "19.0",
         "7.8792"
        ],
        [
         "46",
         "0",
         "3",
         "0",
         "0",
         "0.0",
         "8.05"
        ],
        [
         "47",
         "0",
         "3",
         "1",
         "0",
         "0.0",
         "15.5"
        ],
        [
         "48",
         "1",
         "3",
         "0",
         "0",
         "0.0",
         "7.75"
        ],
        [
         "49",
         "0",
         "3",
         "2",
         "0",
         "0.0",
         "21.6792"
        ],
        [
         "50",
         "0",
         "3",
         "1",
         "0",
         "18.0",
         "17.8"
        ]
       ],
       "shape": {
        "columns": 6,
        "rows": 891
       }
      },
      "text/html": [
       "<div>\n",
       "<style scoped>\n",
       "    .dataframe tbody tr th:only-of-type {\n",
       "        vertical-align: middle;\n",
       "    }\n",
       "\n",
       "    .dataframe tbody tr th {\n",
       "        vertical-align: top;\n",
       "    }\n",
       "\n",
       "    .dataframe thead th {\n",
       "        text-align: right;\n",
       "    }\n",
       "</style>\n",
       "<table border=\"1\" class=\"dataframe\">\n",
       "  <thead>\n",
       "    <tr style=\"text-align: right;\">\n",
       "      <th></th>\n",
       "      <th>Survived</th>\n",
       "      <th>Pclass</th>\n",
       "      <th>SibSp</th>\n",
       "      <th>Parch</th>\n",
       "      <th>Age</th>\n",
       "      <th>Fare</th>\n",
       "    </tr>\n",
       "    <tr>\n",
       "      <th>PassengerId</th>\n",
       "      <th></th>\n",
       "      <th></th>\n",
       "      <th></th>\n",
       "      <th></th>\n",
       "      <th></th>\n",
       "      <th></th>\n",
       "    </tr>\n",
       "  </thead>\n",
       "  <tbody>\n",
       "    <tr>\n",
       "      <th>1</th>\n",
       "      <td>0</td>\n",
       "      <td>3</td>\n",
       "      <td>1</td>\n",
       "      <td>0</td>\n",
       "      <td>22.0</td>\n",
       "      <td>7.2500</td>\n",
       "    </tr>\n",
       "    <tr>\n",
       "      <th>2</th>\n",
       "      <td>1</td>\n",
       "      <td>1</td>\n",
       "      <td>1</td>\n",
       "      <td>0</td>\n",
       "      <td>38.0</td>\n",
       "      <td>71.2833</td>\n",
       "    </tr>\n",
       "    <tr>\n",
       "      <th>3</th>\n",
       "      <td>1</td>\n",
       "      <td>3</td>\n",
       "      <td>0</td>\n",
       "      <td>0</td>\n",
       "      <td>26.0</td>\n",
       "      <td>7.9250</td>\n",
       "    </tr>\n",
       "    <tr>\n",
       "      <th>4</th>\n",
       "      <td>1</td>\n",
       "      <td>1</td>\n",
       "      <td>1</td>\n",
       "      <td>0</td>\n",
       "      <td>35.0</td>\n",
       "      <td>53.1000</td>\n",
       "    </tr>\n",
       "    <tr>\n",
       "      <th>5</th>\n",
       "      <td>0</td>\n",
       "      <td>3</td>\n",
       "      <td>0</td>\n",
       "      <td>0</td>\n",
       "      <td>35.0</td>\n",
       "      <td>8.0500</td>\n",
       "    </tr>\n",
       "    <tr>\n",
       "      <th>...</th>\n",
       "      <td>...</td>\n",
       "      <td>...</td>\n",
       "      <td>...</td>\n",
       "      <td>...</td>\n",
       "      <td>...</td>\n",
       "      <td>...</td>\n",
       "    </tr>\n",
       "    <tr>\n",
       "      <th>887</th>\n",
       "      <td>0</td>\n",
       "      <td>2</td>\n",
       "      <td>0</td>\n",
       "      <td>0</td>\n",
       "      <td>27.0</td>\n",
       "      <td>13.0000</td>\n",
       "    </tr>\n",
       "    <tr>\n",
       "      <th>888</th>\n",
       "      <td>1</td>\n",
       "      <td>1</td>\n",
       "      <td>0</td>\n",
       "      <td>0</td>\n",
       "      <td>19.0</td>\n",
       "      <td>30.0000</td>\n",
       "    </tr>\n",
       "    <tr>\n",
       "      <th>889</th>\n",
       "      <td>0</td>\n",
       "      <td>3</td>\n",
       "      <td>1</td>\n",
       "      <td>2</td>\n",
       "      <td>0.0</td>\n",
       "      <td>23.4500</td>\n",
       "    </tr>\n",
       "    <tr>\n",
       "      <th>890</th>\n",
       "      <td>1</td>\n",
       "      <td>1</td>\n",
       "      <td>0</td>\n",
       "      <td>0</td>\n",
       "      <td>26.0</td>\n",
       "      <td>30.0000</td>\n",
       "    </tr>\n",
       "    <tr>\n",
       "      <th>891</th>\n",
       "      <td>0</td>\n",
       "      <td>3</td>\n",
       "      <td>0</td>\n",
       "      <td>0</td>\n",
       "      <td>32.0</td>\n",
       "      <td>7.7500</td>\n",
       "    </tr>\n",
       "  </tbody>\n",
       "</table>\n",
       "<p>891 rows × 6 columns</p>\n",
       "</div>"
      ],
      "text/plain": [
       "             Survived  Pclass  SibSp  Parch   Age     Fare\n",
       "PassengerId                                               \n",
       "1                   0       3      1      0  22.0   7.2500\n",
       "2                   1       1      1      0  38.0  71.2833\n",
       "3                   1       3      0      0  26.0   7.9250\n",
       "4                   1       1      1      0  35.0  53.1000\n",
       "5                   0       3      0      0  35.0   8.0500\n",
       "...               ...     ...    ...    ...   ...      ...\n",
       "887                 0       2      0      0  27.0  13.0000\n",
       "888                 1       1      0      0  19.0  30.0000\n",
       "889                 0       3      1      2   0.0  23.4500\n",
       "890                 1       1      0      0  26.0  30.0000\n",
       "891                 0       3      0      0  32.0   7.7500\n",
       "\n",
       "[891 rows x 6 columns]"
      ]
     },
     "metadata": {},
     "output_type": "display_data"
    },
    {
     "data": {
      "application/vnd.microsoft.datawrangler.viewer.v0+json": {
       "columns": [
        {
         "name": "PassengerId",
         "rawType": "int64",
         "type": "integer"
        },
        {
         "name": "Pclass",
         "rawType": "int64",
         "type": "integer"
        },
        {
         "name": "SibSp",
         "rawType": "int64",
         "type": "integer"
        },
        {
         "name": "Parch",
         "rawType": "int64",
         "type": "integer"
        },
        {
         "name": "Age",
         "rawType": "float64",
         "type": "float"
        },
        {
         "name": "Fare",
         "rawType": "float64",
         "type": "float"
        }
       ],
       "conversionMethod": "pd.DataFrame",
       "ref": "a515a766-97c7-4e13-8d48-afd3402783b3",
       "rows": [
        [
         "892",
         "3",
         "0",
         "0",
         "34.5",
         "7.8292"
        ],
        [
         "893",
         "3",
         "1",
         "0",
         "47.0",
         "7.0"
        ],
        [
         "894",
         "2",
         "0",
         "0",
         "62.0",
         "9.6875"
        ],
        [
         "895",
         "3",
         "0",
         "0",
         "27.0",
         "8.6625"
        ],
        [
         "896",
         "3",
         "1",
         "1",
         "22.0",
         "12.2875"
        ],
        [
         "897",
         "3",
         "0",
         "0",
         "14.0",
         "9.225"
        ],
        [
         "898",
         "3",
         "0",
         "0",
         "30.0",
         "7.6292"
        ],
        [
         "899",
         "2",
         "1",
         "1",
         "26.0",
         "29.0"
        ],
        [
         "900",
         "3",
         "0",
         "0",
         "18.0",
         "7.2292"
        ],
        [
         "901",
         "3",
         "2",
         "0",
         "21.0",
         "24.15"
        ],
        [
         "902",
         "3",
         "0",
         "0",
         "0.0",
         "7.8958"
        ],
        [
         "903",
         "1",
         "0",
         "0",
         "46.0",
         "26.0"
        ],
        [
         "904",
         "1",
         "1",
         "0",
         "23.0",
         "82.2667"
        ],
        [
         "905",
         "2",
         "1",
         "0",
         "63.0",
         "26.0"
        ],
        [
         "906",
         "1",
         "1",
         "0",
         "47.0",
         "61.175"
        ],
        [
         "907",
         "2",
         "1",
         "0",
         "24.0",
         "27.7208"
        ],
        [
         "908",
         "2",
         "0",
         "0",
         "35.0",
         "12.35"
        ],
        [
         "909",
         "3",
         "0",
         "0",
         "21.0",
         "7.225"
        ],
        [
         "910",
         "3",
         "1",
         "0",
         "27.0",
         "7.925"
        ],
        [
         "911",
         "3",
         "0",
         "0",
         "45.0",
         "7.225"
        ],
        [
         "912",
         "1",
         "1",
         "0",
         "55.0",
         "59.4"
        ],
        [
         "913",
         "3",
         "0",
         "1",
         "9.0",
         "3.1708"
        ],
        [
         "914",
         "1",
         "0",
         "0",
         "0.0",
         "31.6833"
        ],
        [
         "915",
         "1",
         "0",
         "1",
         "21.0",
         "61.3792"
        ],
        [
         "916",
         "1",
         "1",
         "3",
         "48.0",
         "262.375"
        ],
        [
         "917",
         "3",
         "1",
         "0",
         "50.0",
         "14.5"
        ],
        [
         "918",
         "1",
         "0",
         "1",
         "22.0",
         "61.9792"
        ],
        [
         "919",
         "3",
         "0",
         "0",
         "22.5",
         "7.225"
        ],
        [
         "920",
         "1",
         "0",
         "0",
         "41.0",
         "30.5"
        ],
        [
         "921",
         "3",
         "2",
         "0",
         "0.0",
         "21.6792"
        ],
        [
         "922",
         "2",
         "1",
         "0",
         "50.0",
         "26.0"
        ],
        [
         "923",
         "2",
         "2",
         "0",
         "24.0",
         "31.5"
        ],
        [
         "924",
         "3",
         "1",
         "2",
         "33.0",
         "20.575"
        ],
        [
         "925",
         "3",
         "1",
         "2",
         "0.0",
         "23.45"
        ],
        [
         "926",
         "1",
         "1",
         "0",
         "30.0",
         "57.75"
        ],
        [
         "927",
         "3",
         "0",
         "0",
         "18.5",
         "7.2292"
        ],
        [
         "928",
         "3",
         "0",
         "0",
         "0.0",
         "8.05"
        ],
        [
         "929",
         "3",
         "0",
         "0",
         "21.0",
         "8.6625"
        ],
        [
         "930",
         "3",
         "0",
         "0",
         "25.0",
         "9.5"
        ],
        [
         "931",
         "3",
         "0",
         "0",
         "0.0",
         "56.4958"
        ],
        [
         "932",
         "3",
         "0",
         "1",
         "39.0",
         "13.4167"
        ],
        [
         "933",
         "1",
         "0",
         "0",
         "0.0",
         "26.55"
        ],
        [
         "934",
         "3",
         "0",
         "0",
         "41.0",
         "7.85"
        ],
        [
         "935",
         "2",
         "0",
         "0",
         "30.0",
         "13.0"
        ],
        [
         "936",
         "1",
         "1",
         "0",
         "45.0",
         "52.5542"
        ],
        [
         "937",
         "3",
         "0",
         "0",
         "25.0",
         "7.925"
        ],
        [
         "938",
         "1",
         "0",
         "0",
         "45.0",
         "29.7"
        ],
        [
         "939",
         "3",
         "0",
         "0",
         "0.0",
         "7.75"
        ],
        [
         "940",
         "1",
         "0",
         "0",
         "60.0",
         "76.2917"
        ],
        [
         "941",
         "3",
         "0",
         "2",
         "36.0",
         "15.9"
        ]
       ],
       "shape": {
        "columns": 5,
        "rows": 418
       }
      },
      "text/html": [
       "<div>\n",
       "<style scoped>\n",
       "    .dataframe tbody tr th:only-of-type {\n",
       "        vertical-align: middle;\n",
       "    }\n",
       "\n",
       "    .dataframe tbody tr th {\n",
       "        vertical-align: top;\n",
       "    }\n",
       "\n",
       "    .dataframe thead th {\n",
       "        text-align: right;\n",
       "    }\n",
       "</style>\n",
       "<table border=\"1\" class=\"dataframe\">\n",
       "  <thead>\n",
       "    <tr style=\"text-align: right;\">\n",
       "      <th></th>\n",
       "      <th>Pclass</th>\n",
       "      <th>SibSp</th>\n",
       "      <th>Parch</th>\n",
       "      <th>Age</th>\n",
       "      <th>Fare</th>\n",
       "    </tr>\n",
       "    <tr>\n",
       "      <th>PassengerId</th>\n",
       "      <th></th>\n",
       "      <th></th>\n",
       "      <th></th>\n",
       "      <th></th>\n",
       "      <th></th>\n",
       "    </tr>\n",
       "  </thead>\n",
       "  <tbody>\n",
       "    <tr>\n",
       "      <th>892</th>\n",
       "      <td>3</td>\n",
       "      <td>0</td>\n",
       "      <td>0</td>\n",
       "      <td>34.5</td>\n",
       "      <td>7.8292</td>\n",
       "    </tr>\n",
       "    <tr>\n",
       "      <th>893</th>\n",
       "      <td>3</td>\n",
       "      <td>1</td>\n",
       "      <td>0</td>\n",
       "      <td>47.0</td>\n",
       "      <td>7.0000</td>\n",
       "    </tr>\n",
       "    <tr>\n",
       "      <th>894</th>\n",
       "      <td>2</td>\n",
       "      <td>0</td>\n",
       "      <td>0</td>\n",
       "      <td>62.0</td>\n",
       "      <td>9.6875</td>\n",
       "    </tr>\n",
       "    <tr>\n",
       "      <th>895</th>\n",
       "      <td>3</td>\n",
       "      <td>0</td>\n",
       "      <td>0</td>\n",
       "      <td>27.0</td>\n",
       "      <td>8.6625</td>\n",
       "    </tr>\n",
       "    <tr>\n",
       "      <th>896</th>\n",
       "      <td>3</td>\n",
       "      <td>1</td>\n",
       "      <td>1</td>\n",
       "      <td>22.0</td>\n",
       "      <td>12.2875</td>\n",
       "    </tr>\n",
       "    <tr>\n",
       "      <th>...</th>\n",
       "      <td>...</td>\n",
       "      <td>...</td>\n",
       "      <td>...</td>\n",
       "      <td>...</td>\n",
       "      <td>...</td>\n",
       "    </tr>\n",
       "    <tr>\n",
       "      <th>1305</th>\n",
       "      <td>3</td>\n",
       "      <td>0</td>\n",
       "      <td>0</td>\n",
       "      <td>0.0</td>\n",
       "      <td>8.0500</td>\n",
       "    </tr>\n",
       "    <tr>\n",
       "      <th>1306</th>\n",
       "      <td>1</td>\n",
       "      <td>0</td>\n",
       "      <td>0</td>\n",
       "      <td>39.0</td>\n",
       "      <td>108.9000</td>\n",
       "    </tr>\n",
       "    <tr>\n",
       "      <th>1307</th>\n",
       "      <td>3</td>\n",
       "      <td>0</td>\n",
       "      <td>0</td>\n",
       "      <td>38.5</td>\n",
       "      <td>7.2500</td>\n",
       "    </tr>\n",
       "    <tr>\n",
       "      <th>1308</th>\n",
       "      <td>3</td>\n",
       "      <td>0</td>\n",
       "      <td>0</td>\n",
       "      <td>0.0</td>\n",
       "      <td>8.0500</td>\n",
       "    </tr>\n",
       "    <tr>\n",
       "      <th>1309</th>\n",
       "      <td>3</td>\n",
       "      <td>1</td>\n",
       "      <td>1</td>\n",
       "      <td>0.0</td>\n",
       "      <td>22.3583</td>\n",
       "    </tr>\n",
       "  </tbody>\n",
       "</table>\n",
       "<p>418 rows × 5 columns</p>\n",
       "</div>"
      ],
      "text/plain": [
       "             Pclass  SibSp  Parch   Age      Fare\n",
       "PassengerId                                      \n",
       "892               3      0      0  34.5    7.8292\n",
       "893               3      1      0  47.0    7.0000\n",
       "894               2      0      0  62.0    9.6875\n",
       "895               3      0      0  27.0    8.6625\n",
       "896               3      1      1  22.0   12.2875\n",
       "...             ...    ...    ...   ...       ...\n",
       "1305              3      0      0   0.0    8.0500\n",
       "1306              1      0      0  39.0  108.9000\n",
       "1307              3      0      0  38.5    7.2500\n",
       "1308              3      0      0   0.0    8.0500\n",
       "1309              3      1      1   0.0   22.3583\n",
       "\n",
       "[418 rows x 5 columns]"
      ]
     },
     "metadata": {},
     "output_type": "display_data"
    }
   ],
   "source": [
    "# c. Deve-se utilizar apenas Features numéricas e retirar as categóricas. Portanto, faça dois novos dataframes,\n",
    "# apenas com as features numéricas do banco de dados de treino e de teste.\n",
    "\n",
    "train_data = unf_train_data.groupby('PassengerId').agg({'Survived':'sum','Pclass':'sum','SibSp':'sum','Parch':'sum','Age':'sum','Fare':'sum'}).dropna()\n",
    "test_data = unf_test_data.groupby('PassengerId').agg({'Pclass':'sum','SibSp':'sum','Parch':'sum','Age':'sum','Fare':'sum'}).fillna(value=0)\n",
    "\n",
    "display(train_data)\n",
    "display(test_data)"
   ]
  },
  {
   "cell_type": "code",
   "execution_count": 13,
   "metadata": {},
   "outputs": [],
   "source": [
    "# As letras d. e e. já foram realizadas na formação dos novos datasets"
   ]
  },
  {
   "cell_type": "markdown",
   "metadata": {},
   "source": [
    "#  6.2 - Exploração do banco de dados"
   ]
  },
  {
   "cell_type": "markdown",
   "metadata": {},
   "source": [
    "### 1. Para a Feature “Age” será necessário criar uma nova Feature que a separe em 8 grupos para que se possa utilizar “sns.barplot”. (DICA: Crie um novo dataframe apenas com as informações necessárias para a criação deste gráfico)"
   ]
  },
  {
   "cell_type": "code",
   "execution_count": 14,
   "metadata": {},
   "outputs": [],
   "source": [
    "# a. criar uma lista com os nomes que serão dados aos grupos em que as idades serão repartidas (Exemplo: “(0-10)”, “(10-20)”, ...) ;\n",
    "\n",
    "age_groups = ['(0-10)','(10-20)','(20-30)','(30-40)','(40-50)','(50-60)','(60-70)','(70-80)']"
   ]
  },
  {
   "cell_type": "code",
   "execution_count": 15,
   "metadata": {},
   "outputs": [],
   "source": [
    "# b. utilize pandas.cut, para separar as idades em 8 grupos e utilize o argumento “labels” para utilizar a lista dos nomes dos grupos;\n",
    "# c. criar a nova coluna com os grupos, perceba que esta nova coluna será categórica;\n",
    "\n",
    "age_bins = [0, 10, 20, 30, 40, 50, 60, 70, 80]\n",
    "\n",
    "train_data['Age Groups']=pd.cut(train_data.Age, age_bins, right=False, include_lowest=True, labels=age_groups)"
   ]
  },
  {
   "cell_type": "code",
   "execution_count": 16,
   "metadata": {},
   "outputs": [
    {
     "name": "stderr",
     "output_type": "stream",
     "text": [
      "C:\\Users\\Cauan\\AppData\\Local\\Temp\\ipykernel_7496\\54186911.py:3: FutureWarning: The default of observed=False is deprecated and will be changed to True in a future version of pandas. Pass observed=False to retain current behavior or observed=True to adopt the future default and silence this warning.\n",
      "  age_data = train_data.reset_index().groupby('Age Groups').Survived.sum().reset_index()\n"
     ]
    },
    {
     "data": {
      "image/png": "[encoded data removed]",
      "text/plain": [
       "<Figure size 1000x600 with 1 Axes>"
      ]
     },
     "metadata": {},
     "output_type": "display_data"
    }
   ],
   "source": [
    "# d. criar um gráfico que indique a chance de sobrevivência por grupo de idade;\n",
    "\n",
    "age_data = train_data.reset_index().groupby('Age Groups').Survived.sum().reset_index()\n",
    "\n",
    "plt.figure(figsize=(10,6))\n",
    "plt.title('Sobreviventes por grupo de idade')\n",
    "\n",
    "sns.barplot(x=age_data['Age Groups'],y=age_data.Survived)\n",
    "\n",
    "plt.xlabel('Age Group')\n",
    "\n",
    "plt.show()"
   ]
  },
  {
   "cell_type": "markdown",
   "metadata": {},
   "source": [
    "Note que a regra de crianças e mulheres primeiros, em especial as crianças, que são representadas pelo grupo (0-10), surtiu amplo efeito na margem de sobrevivência destas.\n",
    "\n",
    "Note também a taxa de sobrevivência caindo conforme o aumento da idade, implicando muito provavelmente no efeito da saúde e do vigor na sobrevivência, como também a equipe, provavelmente formada por adultos na faixa etária de 40-60."
   ]
  },
  {
   "cell_type": "markdown",
   "metadata": {},
   "source": [
    "### 2. Crie gráficos para todas as outras features numéricas discretas, e faça uma análise dos resultados obtidos. Não será necessário produzir um gráfico para a feature “Fare”. Após a criação de cada gráfico será necessário realizar uma breve análise para avaliação do impacto de cada feature na predição."
   ]
  },
  {
   "cell_type": "code",
   "execution_count": 17,
   "metadata": {},
   "outputs": [
    {
     "data": {
      "image/png": "[encoded data removed]",
      "text/plain": [
       "<Figure size 1000x600 with 1 Axes>"
      ]
     },
     "metadata": {},
     "output_type": "display_data"
    }
   ],
   "source": [
    "# Parch\n",
    "\n",
    "Parch_data = train_data.groupby('Parch').Survived.sum().reset_index()\n",
    "\n",
    "plt.figure(figsize=(10,6))\n",
    "plt.title('Sobreviventes por pais/filhos')\n",
    "\n",
    "sns.barplot(x=Parch_data.Parch,y=Parch_data.Survived)\n",
    "\n",
    "plt.xlabel('Parents/Children')\n",
    "\n",
    "plt.show()\n",
    "\n",
    "# Note que, similar ao gráfico acima, um número menor de pais ou filhos acompanhando o sobrevivente, maior a chance de sobrevivência. Nesse caso, a diferença é ainda mais\n",
    "# drástica e muito disso certamente pode ser atrelado ao príncipio de mulheres e crianças primeiro nos botes, mas também novamente a difusão da atenção, maior fragilidade\n",
    "# das crianças, maior fragilidade de pais idosos, etc."
   ]
  },
  {
   "cell_type": "code",
   "execution_count": 18,
   "metadata": {},
   "outputs": [
    {
     "data": {
      "image/png": "[encoded data removed]",
      "text/plain": [
       "<Figure size 1000x600 with 1 Axes>"
      ]
     },
     "metadata": {},
     "output_type": "display_data"
    }
   ],
   "source": [
    "#Pclass\n",
    "\n",
    "Pclass_data = train_data.groupby('Pclass').Survived.sum().reset_index()\n",
    "\n",
    "plt.figure(figsize=(10,6))\n",
    "plt.title('Sobreviventes por número de nível da passagem')\n",
    "\n",
    "sns.barplot(x=Pclass_data.Pclass,y=Pclass_data.Survived)\n",
    "\n",
    "plt.xlabel('Ticket class')\n",
    "\n",
    "plt.show()\n",
    "\n",
    "# Note um padrão parecido entre as colunas, entretanto note a quantidade de passageiros por clase de ticket influencia muito nesse número, já que a quantidade de passageiros\n",
    "# considerados terceira classe era consideravelmente maior do que os das classes \"acima\". Observando esse fato e a similaridade no número de sobreviventes, é possível\n",
    "# observar as vantagens garantidas pelo nível da passagem do sobrevivente."
   ]
  },
  {
   "cell_type": "markdown",
   "metadata": {},
   "source": [
    "# 6.3 - Treinamento do modelo e submissão das predições"
   ]
  },
  {
   "cell_type": "markdown",
   "metadata": {},
   "source": [
    "### 1. Separação de banco de dados de treino e validação:"
   ]
  },
  {
   "cell_type": "code",
   "execution_count": 19,
   "metadata": {},
   "outputs": [],
   "source": [
    "# a. Criar variável X, contendo o banco de dados apenas das Features;\n",
    "\n",
    "train_features = ['SibSp','Pclass','Parch','Age', 'Fare']\n",
    "\n",
    "X = train_data[train_features]"
   ]
  },
  {
   "cell_type": "code",
   "execution_count": 20,
   "metadata": {},
   "outputs": [],
   "source": [
    "# b. Criar variável y, contendo o target da predição;\n",
    "\n",
    "y = train_data.Survived"
   ]
  },
  {
   "cell_type": "code",
   "execution_count": 21,
   "metadata": {},
   "outputs": [],
   "source": [
    "# c. Usar Train Test Split para separar treino e validação (DICA: utilizar validação com 20% do tamanho do treino);\n",
    "\n",
    "from sklearn.model_selection import train_test_split\n",
    "\n",
    "train_X,val_X, train_y,val_y = train_test_split(X,y,random_state=1,train_size=0.8)"
   ]
  },
  {
   "cell_type": "markdown",
   "metadata": {},
   "source": [
    "### 2. Treinamento e validação do modelo:"
   ]
  },
  {
   "cell_type": "code",
   "execution_count": 22,
   "metadata": {},
   "outputs": [],
   "source": [
    "### a. Importar Random Forest Classifier da biblioteca sklearn.ensemble;\n",
    "\n",
    "from sklearn.ensemble import RandomForestClassifier"
   ]
  },
  {
   "cell_type": "code",
   "execution_count": 23,
   "metadata": {},
   "outputs": [],
   "source": [
    "# b. Importar accuracy score da biblioteca sklearn.metrics;\n",
    "\n",
    "from sklearn.metrics import accuracy_score"
   ]
  },
  {
   "cell_type": "code",
   "execution_count": 24,
   "metadata": {},
   "outputs": [
    {
     "data": {
      "text/html": [
       "<style>#sk-container-id-1 {\n",
       "  /* Definition of color scheme common for light and dark mode */\n",
       "  --sklearn-color-text: black;\n",
       "  --sklearn-color-line: gray;\n",
       "  /* Definition of color scheme for unfitted estimators */\n",
       "  --sklearn-color-unfitted-level-0: #fff5e6;\n",
       "  --sklearn-color-unfitted-level-1: #f6e4d2;\n",
       "  --sklearn-color-unfitted-level-2: #ffe0b3;\n",
       "  --sklearn-color-unfitted-level-3: chocolate;\n",
       "  /* Definition of color scheme for fitted estimators */\n",
       "  --sklearn-color-fitted-level-0: #f0f8ff;\n",
       "  --sklearn-color-fitted-level-1: #d4ebff;\n",
       "  --sklearn-color-fitted-level-2: #b3dbfd;\n",
       "  --sklearn-color-fitted-level-3: cornflowerblue;\n",
       "\n",
       "  /* Specific color for light theme */\n",
       "  --sklearn-color-text-on-default-background: var(--sg-text-color, var(--theme-code-foreground, var(--jp-content-font-color1, black)));\n",
       "  --sklearn-color-background: var(--sg-background-color, var(--theme-background, var(--jp-layout-color0, white)));\n",
       "  --sklearn-color-border-box: var(--sg-text-color, var(--theme-code-foreground, var(--jp-content-font-color1, black)));\n",
       "  --sklearn-color-icon: #696969;\n",
       "\n",
       "  @media (prefers-color-scheme: dark) {\n",
       "    /* Redefinition of color scheme for dark theme */\n",
       "    --sklearn-color-text-on-default-background: var(--sg-text-color, var(--theme-code-foreground, var(--jp-content-font-color1, white)));\n",
       "    --sklearn-color-background: var(--sg-background-color, var(--theme-background, var(--jp-layout-color0, #111)));\n",
       "    --sklearn-color-border-box: var(--sg-text-color, var(--theme-code-foreground, var(--jp-content-font-color1, white)));\n",
       "    --sklearn-color-icon: #878787;\n",
       "  }\n",
       "}\n",
       "\n",
       "#sk-container-id-1 {\n",
       "  color: var(--sklearn-color-text);\n",
       "}\n",
       "\n",
       "#sk-container-id-1 pre {\n",
       "  padding: 0;\n",
       "}\n",
       "\n",
       "#sk-container-id-1 input.sk-hidden--visually {\n",
       "  border: 0;\n",
       "  clip: rect(1px 1px 1px 1px);\n",
       "  clip: rect(1px, 1px, 1px, 1px);\n",
       "  height: 1px;\n",
       "  margin: -1px;\n",
       "  overflow: hidden;\n",
       "  padding: 0;\n",
       "  position: absolute;\n",
       "  width: 1px;\n",
       "}\n",
       "\n",
       "#sk-container-id-1 div.sk-dashed-wrapped {\n",
       "  border: 1px dashed var(--sklearn-color-line);\n",
       "  margin: 0 0.4em 0.5em 0.4em;\n",
       "  box-sizing: border-box;\n",
       "  padding-bottom: 0.4em;\n",
       "  background-color: var(--sklearn-color-background);\n",
       "}\n",
       "\n",
       "#sk-container-id-1 div.sk-container {\n",
       "  /* jupyter's `normalize.less` sets `[hidden] { display: none; }`\n",
       "     but bootstrap.min.css set `[hidden] { display: none !important; }`\n",
       "     so we also need the `!important` here to be able to override the\n",
       "     default hidden behavior on the sphinx rendered scikit-learn.org.\n",
       "     See: https://github.com/scikit-learn/scikit-learn/issues/21755 */\n",
       "  display: inline-block !important;\n",
       "  position: relative;\n",
       "}\n",
       "\n",
       "#sk-container-id-1 div.sk-text-repr-fallback {\n",
       "  display: none;\n",
       "}\n",
       "\n",
       "div.sk-parallel-item,\n",
       "div.sk-serial,\n",
       "div.sk-item {\n",
       "  /* draw centered vertical line to link estimators */\n",
       "  background-image: linear-gradient(var(--sklearn-color-text-on-default-background), var(--sklearn-color-text-on-default-background));\n",
       "  background-size: 2px 100%;\n",
       "  background-repeat: no-repeat;\n",
       "  background-position: center center;\n",
       "}\n",
       "\n",
       "/* Parallel-specific style estimator block */\n",
       "\n",
       "#sk-container-id-1 div.sk-parallel-item::after {\n",
       "  content: \"\";\n",
       "  width: 100%;\n",
       "  border-bottom: 2px solid var(--sklearn-color-text-on-default-background);\n",
       "  flex-grow: 1;\n",
       "}\n",
       "\n",
       "#sk-container-id-1 div.sk-parallel {\n",
       "  display: flex;\n",
       "  align-items: stretch;\n",
       "  justify-content: center;\n",
       "  background-color: var(--sklearn-color-background);\n",
       "  position: relative;\n",
       "}\n",
       "\n",
       "#sk-container-id-1 div.sk-parallel-item {\n",
       "  display: flex;\n",
       "  flex-direction: column;\n",
       "}\n",
       "\n",
       "#sk-container-id-1 div.sk-parallel-item:first-child::after {\n",
       "  align-self: flex-end;\n",
       "  width: 50%;\n",
       "}\n",
       "\n",
       "#sk-container-id-1 div.sk-parallel-item:last-child::after {\n",
       "  align-self: flex-start;\n",
       "  width: 50%;\n",
       "}\n",
       "\n",
       "#sk-container-id-1 div.sk-parallel-item:only-child::after {\n",
       "  width: 0;\n",
       "}\n",
       "\n",
       "/* Serial-specific style estimator block */\n",
       "\n",
       "#sk-container-id-1 div.sk-serial {\n",
       "  display: flex;\n",
       "  flex-direction: column;\n",
       "  align-items: center;\n",
       "  background-color: var(--sklearn-color-background);\n",
       "  padding-right: 1em;\n",
       "  padding-left: 1em;\n",
       "}\n",
       "\n",
       "\n",
       "/* Toggleable style: style used for estimator/Pipeline/ColumnTransformer box that is\n",
       "clickable and can be expanded/collapsed.\n",
       "- Pipeline and ColumnTransformer use this feature and define the default style\n",
       "- Estimators will overwrite some part of the style using the `sk-estimator` class\n",
       "*/\n",
       "\n",
       "/* Pipeline and ColumnTransformer style (default) */\n",
       "\n",
       "#sk-container-id-1 div.sk-toggleable {\n",
       "  /* Default theme specific background. It is overwritten whether we have a\n",
       "  specific estimator or a Pipeline/ColumnTransformer */\n",
       "  background-color: var(--sklearn-color-background);\n",
       "}\n",
       "\n",
       "/* Toggleable label */\n",
       "#sk-container-id-1 label.sk-toggleable__label {\n",
       "  cursor: pointer;\n",
       "  display: block;\n",
       "  width: 100%;\n",
       "  margin-bottom: 0;\n",
       "  padding: 0.5em;\n",
       "  box-sizing: border-box;\n",
       "  text-align: center;\n",
       "}\n",
       "\n",
       "#sk-container-id-1 label.sk-toggleable__label-arrow:before {\n",
       "  /* Arrow on the left of the label */\n",
       "  content: \"▸\";\n",
       "  float: left;\n",
       "  margin-right: 0.25em;\n",
       "  color: var(--sklearn-color-icon);\n",
       "}\n",
       "\n",
       "#sk-container-id-1 label.sk-toggleable__label-arrow:hover:before {\n",
       "  color: var(--sklearn-color-text);\n",
       "}\n",
       "\n",
       "/* Toggleable content - dropdown */\n",
       "\n",
       "#sk-container-id-1 div.sk-toggleable__content {\n",
       "  max-height: 0;\n",
       "  max-width: 0;\n",
       "  overflow: hidden;\n",
       "  text-align: left;\n",
       "  /* unfitted */\n",
       "  background-color: var(--sklearn-color-unfitted-level-0);\n",
       "}\n",
       "\n",
       "#sk-container-id-1 div.sk-toggleable__content.fitted {\n",
       "  /* fitted */\n",
       "  background-color: var(--sklearn-color-fitted-level-0);\n",
       "}\n",
       "\n",
       "#sk-container-id-1 div.sk-toggleable__content pre {\n",
       "  margin: 0.2em;\n",
       "  border-radius: 0.25em;\n",
       "  color: var(--sklearn-color-text);\n",
       "  /* unfitted */\n",
       "  background-color: var(--sklearn-color-unfitted-level-0);\n",
       "}\n",
       "\n",
       "#sk-container-id-1 div.sk-toggleable__content.fitted pre {\n",
       "  /* unfitted */\n",
       "  background-color: var(--sklearn-color-fitted-level-0);\n",
       "}\n",
       "\n",
       "#sk-container-id-1 input.sk-toggleable__control:checked~div.sk-toggleable__content {\n",
       "  /* Expand drop-down */\n",
       "  max-height: 200px;\n",
       "  max-width: 100%;\n",
       "  overflow: auto;\n",
       "}\n",
       "\n",
       "#sk-container-id-1 input.sk-toggleable__control:checked~label.sk-toggleable__label-arrow:before {\n",
       "  content: \"▾\";\n",
       "}\n",
       "\n",
       "/* Pipeline/ColumnTransformer-specific style */\n",
       "\n",
       "#sk-container-id-1 div.sk-label input.sk-toggleable__control:checked~label.sk-toggleable__label {\n",
       "  color: var(--sklearn-color-text);\n",
       "  background-color: var(--sklearn-color-unfitted-level-2);\n",
       "}\n",
       "\n",
       "#sk-container-id-1 div.sk-label.fitted input.sk-toggleable__control:checked~label.sk-toggleable__label {\n",
       "  background-color: var(--sklearn-color-fitted-level-2);\n",
       "}\n",
       "\n",
       "/* Estimator-specific style */\n",
       "\n",
       "/* Colorize estimator box */\n",
       "#sk-container-id-1 div.sk-estimator input.sk-toggleable__control:checked~label.sk-toggleable__label {\n",
       "  /* unfitted */\n",
       "  background-color: var(--sklearn-color-unfitted-level-2);\n",
       "}\n",
       "\n",
       "#sk-container-id-1 div.sk-estimator.fitted input.sk-toggleable__control:checked~label.sk-toggleable__label {\n",
       "  /* fitted */\n",
       "  background-color: var(--sklearn-color-fitted-level-2);\n",
       "}\n",
       "\n",
       "#sk-container-id-1 div.sk-label label.sk-toggleable__label,\n",
       "#sk-container-id-1 div.sk-label label {\n",
       "  /* The background is the default theme color */\n",
       "  color: var(--sklearn-color-text-on-default-background);\n",
       "}\n",
       "\n",
       "/* On hover, darken the color of the background */\n",
       "#sk-container-id-1 div.sk-label:hover label.sk-toggleable__label {\n",
       "  color: var(--sklearn-color-text);\n",
       "  background-color: var(--sklearn-color-unfitted-level-2);\n",
       "}\n",
       "\n",
       "/* Label box, darken color on hover, fitted */\n",
       "#sk-container-id-1 div.sk-label.fitted:hover label.sk-toggleable__label.fitted {\n",
       "  color: var(--sklearn-color-text);\n",
       "  background-color: var(--sklearn-color-fitted-level-2);\n",
       "}\n",
       "\n",
       "/* Estimator label */\n",
       "\n",
       "#sk-container-id-1 div.sk-label label {\n",
       "  font-family: monospace;\n",
       "  font-weight: bold;\n",
       "  display: inline-block;\n",
       "  line-height: 1.2em;\n",
       "}\n",
       "\n",
       "#sk-container-id-1 div.sk-label-container {\n",
       "  text-align: center;\n",
       "}\n",
       "\n",
       "/* Estimator-specific */\n",
       "#sk-container-id-1 div.sk-estimator {\n",
       "  font-family: monospace;\n",
       "  border: 1px dotted var(--sklearn-color-border-box);\n",
       "  border-radius: 0.25em;\n",
       "  box-sizing: border-box;\n",
       "  margin-bottom: 0.5em;\n",
       "  /* unfitted */\n",
       "  background-color: var(--sklearn-color-unfitted-level-0);\n",
       "}\n",
       "\n",
       "#sk-container-id-1 div.sk-estimator.fitted {\n",
       "  /* fitted */\n",
       "  background-color: var(--sklearn-color-fitted-level-0);\n",
       "}\n",
       "\n",
       "/* on hover */\n",
       "#sk-container-id-1 div.sk-estimator:hover {\n",
       "  /* unfitted */\n",
       "  background-color: var(--sklearn-color-unfitted-level-2);\n",
       "}\n",
       "\n",
       "#sk-container-id-1 div.sk-estimator.fitted:hover {\n",
       "  /* fitted */\n",
       "  background-color: var(--sklearn-color-fitted-level-2);\n",
       "}\n",
       "\n",
       "/* Specification for estimator info (e.g. \"i\" and \"?\") */\n",
       "\n",
       "/* Common style for \"i\" and \"?\" */\n",
       "\n",
       ".sk-estimator-doc-link,\n",
       "a:link.sk-estimator-doc-link,\n",
       "a:visited.sk-estimator-doc-link {\n",
       "  float: right;\n",
       "  font-size: smaller;\n",
       "  line-height: 1em;\n",
       "  font-family: monospace;\n",
       "  background-color: var(--sklearn-color-background);\n",
       "  border-radius: 1em;\n",
       "  height: 1em;\n",
       "  width: 1em;\n",
       "  text-decoration: none !important;\n",
       "  margin-left: 1ex;\n",
       "  /* unfitted */\n",
       "  border: var(--sklearn-color-unfitted-level-1) 1pt solid;\n",
       "  color: var(--sklearn-color-unfitted-level-1);\n",
       "}\n",
       "\n",
       ".sk-estimator-doc-link.fitted,\n",
       "a:link.sk-estimator-doc-link.fitted,\n",
       "a:visited.sk-estimator-doc-link.fitted {\n",
       "  /* fitted */\n",
       "  border: var(--sklearn-color-fitted-level-1) 1pt solid;\n",
       "  color: var(--sklearn-color-fitted-level-1);\n",
       "}\n",
       "\n",
       "/* On hover */\n",
       "div.sk-estimator:hover .sk-estimator-doc-link:hover,\n",
       ".sk-estimator-doc-link:hover,\n",
       "div.sk-label-container:hover .sk-estimator-doc-link:hover,\n",
       ".sk-estimator-doc-link:hover {\n",
       "  /* unfitted */\n",
       "  background-color: var(--sklearn-color-unfitted-level-3);\n",
       "  color: var(--sklearn-color-background);\n",
       "  text-decoration: none;\n",
       "}\n",
       "\n",
       "div.sk-estimator.fitted:hover .sk-estimator-doc-link.fitted:hover,\n",
       ".sk-estimator-doc-link.fitted:hover,\n",
       "div.sk-label-container:hover .sk-estimator-doc-link.fitted:hover,\n",
       ".sk-estimator-doc-link.fitted:hover {\n",
       "  /* fitted */\n",
       "  background-color: var(--sklearn-color-fitted-level-3);\n",
       "  color: var(--sklearn-color-background);\n",
       "  text-decoration: none;\n",
       "}\n",
       "\n",
       "/* Span, style for the box shown on hovering the info icon */\n",
       ".sk-estimator-doc-link span {\n",
       "  display: none;\n",
       "  z-index: 9999;\n",
       "  position: relative;\n",
       "  font-weight: normal;\n",
       "  right: .2ex;\n",
       "  padding: .5ex;\n",
       "  margin: .5ex;\n",
       "  width: min-content;\n",
       "  min-width: 20ex;\n",
       "  max-width: 50ex;\n",
       "  color: var(--sklearn-color-text);\n",
       "  box-shadow: 2pt 2pt 4pt #999;\n",
       "  /* unfitted */\n",
       "  background: var(--sklearn-color-unfitted-level-0);\n",
       "  border: .5pt solid var(--sklearn-color-unfitted-level-3);\n",
       "}\n",
       "\n",
       ".sk-estimator-doc-link.fitted span {\n",
       "  /* fitted */\n",
       "  background: var(--sklearn-color-fitted-level-0);\n",
       "  border: var(--sklearn-color-fitted-level-3);\n",
       "}\n",
       "\n",
       ".sk-estimator-doc-link:hover span {\n",
       "  display: block;\n",
       "}\n",
       "\n",
       "/* \"?\"-specific style due to the `<a>` HTML tag */\n",
       "\n",
       "#sk-container-id-1 a.estimator_doc_link {\n",
       "  float: right;\n",
       "  font-size: 1rem;\n",
       "  line-height: 1em;\n",
       "  font-family: monospace;\n",
       "  background-color: var(--sklearn-color-background);\n",
       "  border-radius: 1rem;\n",
       "  height: 1rem;\n",
       "  width: 1rem;\n",
       "  text-decoration: none;\n",
       "  /* unfitted */\n",
       "  color: var(--sklearn-color-unfitted-level-1);\n",
       "  border: var(--sklearn-color-unfitted-level-1) 1pt solid;\n",
       "}\n",
       "\n",
       "#sk-container-id-1 a.estimator_doc_link.fitted {\n",
       "  /* fitted */\n",
       "  border: var(--sklearn-color-fitted-level-1) 1pt solid;\n",
       "  color: var(--sklearn-color-fitted-level-1);\n",
       "}\n",
       "\n",
       "/* On hover */\n",
       "#sk-container-id-1 a.estimator_doc_link:hover {\n",
       "  /* unfitted */\n",
       "  background-color: var(--sklearn-color-unfitted-level-3);\n",
       "  color: var(--sklearn-color-background);\n",
       "  text-decoration: none;\n",
       "}\n",
       "\n",
       "#sk-container-id-1 a.estimator_doc_link.fitted:hover {\n",
       "  /* fitted */\n",
       "  background-color: var(--sklearn-color-fitted-level-3);\n",
       "}\n",
       "</style><div id=\"sk-container-id-1\" class=\"sk-top-container\"><div class=\"sk-text-repr-fallback\"><pre>RandomForestClassifier(random_state=1)</pre><b>In a Jupyter environment, please rerun this cell to show the HTML representation or trust the notebook. <br />On GitHub, the HTML representation is unable to render, please try loading this page with nbviewer.org.</b></div><div class=\"sk-container\" hidden><div class=\"sk-item\"><div class=\"sk-estimator fitted sk-toggleable\"><input class=\"sk-toggleable__control sk-hidden--visually\" id=\"sk-estimator-id-1\" type=\"checkbox\" checked><label for=\"sk-estimator-id-1\" class=\"sk-toggleable__label fitted sk-toggleable__label-arrow fitted\">&nbsp;&nbsp;RandomForestClassifier<a class=\"sk-estimator-doc-link fitted\" rel=\"noreferrer\" target=\"_blank\" href=\"https://scikit-learn.org/1.5/modules/generated/sklearn.ensemble.RandomForestClassifier.html\">?<span>Documentation for RandomForestClassifier</span></a><span class=\"sk-estimator-doc-link fitted\">i<span>Fitted</span></span></label><div class=\"sk-toggleable__content fitted\"><pre>RandomForestClassifier(random_state=1)</pre></div> </div></div></div></div>"
      ],
      "text/plain": [
       "RandomForestClassifier(random_state=1)"
      ]
     },
     "execution_count": 24,
     "metadata": {},
     "output_type": "execute_result"
    }
   ],
   "source": [
    "# c. Treinar random forest com as features e o target de treino;\n",
    "\n",
    "titanic_model = RandomForestClassifier(random_state=1)\n",
    "\n",
    "\n",
    "titanic_model.fit(train_X,train_y)"
   ]
  },
  {
   "cell_type": "code",
   "execution_count": 25,
   "metadata": {},
   "outputs": [
    {
     "data": {
      "text/plain": [
       "array([1, 0, 1, 1, 1, 0, 1, 1, 1, 1, 0, 0, 0, 1, 0, 1, 0, 0, 0, 1, 0, 0,\n",
       "       0, 0, 0, 0, 1, 0, 0, 0, 0, 0, 1, 0, 0, 0, 1, 0, 1, 0, 0, 1, 1, 0,\n",
       "       1, 0, 0, 0, 1, 1, 1, 1, 1, 0, 0, 0, 1, 0, 1, 0, 0, 0, 1, 0, 1, 0,\n",
       "       0, 0, 1, 1, 0, 0, 1, 0, 1, 1, 1, 0, 0, 1, 0, 0, 0, 0, 0, 0, 0, 0,\n",
       "       0, 0, 0, 0, 0, 0, 0, 1, 0, 0, 0, 0, 0, 0, 1, 1, 1, 0, 0, 1, 0, 0,\n",
       "       1, 1, 0, 0, 0, 0, 0, 1, 0, 0, 1, 1, 0, 0, 0, 1, 0, 0, 0, 0, 0, 0,\n",
       "       1, 1, 0, 1, 1, 0, 0, 0, 1, 0, 1, 0, 0, 0, 0, 0, 0, 0, 1, 0, 0, 1,\n",
       "       0, 0, 0, 0, 0, 0, 0, 0, 0, 0, 0, 0, 1, 0, 1, 1, 1, 0, 1, 0, 1, 0,\n",
       "       1, 0, 1], dtype=int64)"
      ]
     },
     "execution_count": 25,
     "metadata": {},
     "output_type": "execute_result"
    }
   ],
   "source": [
    "# d. Realizar a predição;\n",
    "\n",
    "titanic_model.predict(val_X)"
   ]
  },
  {
   "cell_type": "code",
   "execution_count": 26,
   "metadata": {},
   "outputs": [
    {
     "data": {
      "text/plain": [
       "0.6536312849162011"
      ]
     },
     "execution_count": 26,
     "metadata": {},
     "output_type": "execute_result"
    }
   ],
   "source": [
    "# e. Validar a predição, comparando com o target da validação, utilizando accuracy score;\n",
    "\n",
    "accuracy_score(val_y,titanic_model.predict(val_X))"
   ]
  },
  {
   "cell_type": "markdown",
   "metadata": {},
   "source": [
    "Dada as limitações do modelo, a predição é satisfatória"
   ]
  },
  {
   "cell_type": "markdown",
   "metadata": {},
   "source": [
    "### 3. Gerar predição, salvar a versão e submeter à competição:"
   ]
  },
  {
   "cell_type": "code",
   "execution_count": 27,
   "metadata": {},
   "outputs": [
    {
     "data": {
      "text/plain": [
       "'PassengerId,Survived\\r\\n892,0\\r\\n893,0\\r\\n894,1\\r\\n895,1\\r\\n896,1\\r\\n897,0\\r\\n898,0\\r\\n899,1\\r\\n900,1\\r\\n901,0\\r\\n902,0\\r\\n903,0\\r\\n904,1\\r\\n905,0\\r\\n906,0\\r\\n907,0\\r\\n908,0\\r\\n909,1\\r\\n910,0\\r\\n911,0\\r\\n912,1\\r\\n913,0\\r\\n914,0\\r\\n915,1\\r\\n916,1\\r\\n917,0\\r\\n918,1\\r\\n919,1\\r\\n920,1\\r\\n921,0\\r\\n922,0\\r\\n923,0\\r\\n924,0\\r\\n925,0\\r\\n926,1\\r\\n927,1\\r\\n928,0\\r\\n929,0\\r\\n930,0\\r\\n931,1\\r\\n932,0\\r\\n933,1\\r\\n934,0\\r\\n935,0\\r\\n936,1\\r\\n937,0\\r\\n938,0\\r\\n939,0\\r\\n940,1\\r\\n941,0\\r\\n942,1\\r\\n943,0\\r\\n944,1\\r\\n945,1\\r\\n946,0\\r\\n947,0\\r\\n948,0\\r\\n949,0\\r\\n950,1\\r\\n951,1\\r\\n952,0\\r\\n953,1\\r\\n954,0\\r\\n955,1\\r\\n956,1\\r\\n957,0\\r\\n958,1\\r\\n959,0\\r\\n960,0\\r\\n961,0\\r\\n962,0\\r\\n963,0\\r\\n964,1\\r\\n965,1\\r\\n966,1\\r\\n967,1\\r\\n968,0\\r\\n969,1\\r\\n970,0\\r\\n971,0\\r\\n972,1\\r\\n973,0\\r\\n974,1\\r\\n975,0\\r\\n976,1\\r\\n977,0\\r\\n978,0\\r\\n979,1\\r\\n980,0\\r\\n981,1\\r\\n982,0\\r\\n983,1\\r\\n984,1\\r\\n985,0\\r\\n986,1\\r\\n987,0\\r\\n988,0\\r\\n989,1\\r\\n990,0\\r\\n991,0\\r\\n992,1\\r\\n993,1\\r\\n994,0\\r\\n995,0\\r\\n996,0\\r\\n997,0\\r\\n998,0\\r\\n999,0\\r\\n1000,0\\r\\n1001,0\\r\\n1002,1\\r\\n1003,1\\r\\n1004,1\\r\\n1005,1\\r\\n1006,1\\r\\n1007,0\\r\\n1008,0\\r\\n1009,1\\r\\n1010,1\\r\\n1011,1\\r\\n1012,0\\r\\n1013,0\\r\\n1014,1\\r\\n1015,0\\r\\n1016,0\\r\\n1017,0\\r\\n1018,0\\r\\n1019,1\\r\\n1020,1\\r\\n1021,0\\r\\n1022,1\\r\\n1023,0\\r\\n1024,0\\r\\n1025,0\\r\\n1026,0\\r\\n1027,0\\r\\n1028,0\\r\\n1029,0\\r\\n1030,0\\r\\n1031,0\\r\\n1032,0\\r\\n1033,1\\r\\n1034,1\\r\\n1035,0\\r\\n1036,1\\r\\n1037,1\\r\\n1038,0\\r\\n1039,0\\r\\n1040,1\\r\\n1041,0\\r\\n1042,1\\r\\n1043,0\\r\\n1044,0\\r\\n1045,0\\r\\n1046,0\\r\\n1047,0\\r\\n1048,1\\r\\n1049,0\\r\\n1050,1\\r\\n1051,1\\r\\n1052,0\\r\\n1053,1\\r\\n1054,0\\r\\n1055,0\\r\\n1056,1\\r\\n1057,0\\r\\n1058,0\\r\\n1059,0\\r\\n1060,0\\r\\n1061,0\\r\\n1062,0\\r\\n1063,0\\r\\n1064,0\\r\\n1065,0\\r\\n1066,0\\r\\n1067,1\\r\\n1068,1\\r\\n1069,1\\r\\n1070,0\\r\\n1071,0\\r\\n1072,0\\r\\n1073,1\\r\\n1074,0\\r\\n1075,0\\r\\n1076,1\\r\\n1077,1\\r\\n1078,1\\r\\n1079,0\\r\\n1080,0\\r\\n1081,1\\r\\n1082,0\\r\\n1083,0\\r\\n1084,0\\r\\n1085,0\\r\\n1086,1\\r\\n1087,0\\r\\n1088,1\\r\\n1089,0\\r\\n1090,0\\r\\n1091,1\\r\\n1092,0\\r\\n1093,0\\r\\n1094,1\\r\\n1095,1\\r\\n1096,0\\r\\n1097,0\\r\\n1098,0\\r\\n1099,0\\r\\n1100,0\\r\\n1101,0\\r\\n1102,0\\r\\n1103,0\\r\\n1104,0\\r\\n1105,0\\r\\n1106,0\\r\\n1107,0\\r\\n1108,1\\r\\n1109,1\\r\\n1110,1\\r\\n1111,0\\r\\n1112,0\\r\\n1113,0\\r\\n1114,1\\r\\n1115,1\\r\\n1116,1\\r\\n1117,0\\r\\n1118,0\\r\\n1119,0\\r\\n1120,0\\r\\n1121,1\\r\\n1122,0\\r\\n1123,1\\r\\n1124,0\\r\\n1125,1\\r\\n1126,1\\r\\n1127,0\\r\\n1128,1\\r\\n1129,1\\r\\n1130,1\\r\\n1131,0\\r\\n1132,0\\r\\n1133,0\\r\\n1134,1\\r\\n1135,1\\r\\n1136,0\\r\\n1137,0\\r\\n1138,0\\r\\n1139,1\\r\\n1140,1\\r\\n1141,0\\r\\n1142,1\\r\\n1143,0\\r\\n1144,1\\r\\n1145,0\\r\\n1146,0\\r\\n1147,0\\r\\n1148,0\\r\\n1149,0\\r\\n1150,0\\r\\n1151,0\\r\\n1152,1\\r\\n1153,0\\r\\n1154,1\\r\\n1155,1\\r\\n1156,1\\r\\n1157,0\\r\\n1158,0\\r\\n1159,0\\r\\n1160,0\\r\\n1161,0\\r\\n1162,0\\r\\n1163,0\\r\\n1164,1\\r\\n1165,1\\r\\n1166,0\\r\\n1167,1\\r\\n1168,0\\r\\n1169,1\\r\\n1170,0\\r\\n1171,1\\r\\n1172,0\\r\\n1173,1\\r\\n1174,0\\r\\n1175,0\\r\\n1176,1\\r\\n1177,0\\r\\n1178,0\\r\\n1179,1\\r\\n1180,0\\r\\n1181,0\\r\\n1182,0\\r\\n1183,0\\r\\n1184,0\\r\\n1185,0\\r\\n1186,0\\r\\n1187,0\\r\\n1188,1\\r\\n1189,0\\r\\n1190,0\\r\\n1191,0\\r\\n1192,0\\r\\n1193,0\\r\\n1194,1\\r\\n1195,0\\r\\n1196,0\\r\\n1197,0\\r\\n1198,0\\r\\n1199,1\\r\\n1200,1\\r\\n1201,0\\r\\n1202,0\\r\\n1203,1\\r\\n1204,0\\r\\n1205,0\\r\\n1206,1\\r\\n1207,1\\r\\n1208,1\\r\\n1209,1\\r\\n1210,1\\r\\n1211,1\\r\\n1212,0\\r\\n1213,0\\r\\n1214,0\\r\\n1215,1\\r\\n1216,1\\r\\n1217,0\\r\\n1218,1\\r\\n1219,0\\r\\n1220,1\\r\\n1221,0\\r\\n1222,0\\r\\n1223,0\\r\\n1224,0\\r\\n1225,1\\r\\n1226,0\\r\\n1227,0\\r\\n1228,1\\r\\n1229,0\\r\\n1230,0\\r\\n1231,0\\r\\n1232,1\\r\\n1233,0\\r\\n1234,0\\r\\n1235,1\\r\\n1236,1\\r\\n1237,1\\r\\n1238,0\\r\\n1239,0\\r\\n1240,0\\r\\n1241,1\\r\\n1242,1\\r\\n1243,0\\r\\n1244,0\\r\\n1245,1\\r\\n1246,1\\r\\n1247,1\\r\\n1248,1\\r\\n1249,1\\r\\n1250,0\\r\\n1251,0\\r\\n1252,0\\r\\n1253,1\\r\\n1254,1\\r\\n1255,1\\r\\n1256,1\\r\\n1257,0\\r\\n1258,0\\r\\n1259,0\\r\\n1260,1\\r\\n1261,1\\r\\n1262,0\\r\\n1263,1\\r\\n1264,0\\r\\n1265,1\\r\\n1266,0\\r\\n1267,1\\r\\n1268,0\\r\\n1269,0\\r\\n1270,0\\r\\n1271,1\\r\\n1272,0\\r\\n1273,0\\r\\n1274,0\\r\\n1275,0\\r\\n1276,1\\r\\n1277,1\\r\\n1278,0\\r\\n1279,0\\r\\n1280,0\\r\\n1281,0\\r\\n1282,1\\r\\n1283,0\\r\\n1284,1\\r\\n1285,1\\r\\n1286,0\\r\\n1287,1\\r\\n1288,0\\r\\n1289,1\\r\\n1290,1\\r\\n1291,0\\r\\n1292,1\\r\\n1293,0\\r\\n1294,1\\r\\n1295,1\\r\\n1296,0\\r\\n1297,1\\r\\n1298,0\\r\\n1299,1\\r\\n1300,0\\r\\n1301,1\\r\\n1302,0\\r\\n1303,1\\r\\n1304,0\\r\\n1305,0\\r\\n1306,1\\r\\n1307,0\\r\\n1308,0\\r\\n1309,1\\r\\n'"
      ]
     },
     "execution_count": 27,
     "metadata": {},
     "output_type": "execute_result"
    }
   ],
   "source": [
    "# Gerar predição, salvar a versão e submeter à competição:\n",
    "\n",
    "titanic_model.fit(X,y)\n",
    "\n",
    "index = test_data.index\n",
    "\n",
    "test_X = test_data[train_features]\n",
    "\n",
    "titanic_model.predict(test_X)\n",
    "\n",
    "titanic_submission = pd.DataFrame({'PassengerId':index,'Survived':titanic_model.predict(test_X)}).set_index('PassengerId')\n",
    "titanic_submission\n",
    "\n",
    "titanic_submission.to_csv()"
   ]
  },
  {
   "cell_type": "markdown",
   "metadata": {},
   "source": [
    "O código acima foi utilizado para gerar o arquivo de submissão em um notebook do Kaggle. O output resultante obteve precisão de 0.62200"
   ]
  },
  {
   "cell_type": "markdown",
   "metadata": {},
   "source": [
    "# 7 - Data Cleaning"
   ]
  },
  {
   "cell_type": "markdown",
   "metadata": {},
   "source": [
    "### 1. Análise inicial:"
   ]
  },
  {
   "cell_type": "code",
   "execution_count": 28,
   "metadata": {},
   "outputs": [
    {
     "name": "stdout",
     "output_type": "stream",
     "text": [
      "Colunas do dataset de treino:  Index(['PassengerId', 'Survived', 'Pclass', 'Name', 'Sex', 'Age', 'SibSp',\n",
      "       'Parch', 'Ticket', 'Fare', 'Cabin', 'Embarked'],\n",
      "      dtype='object') \n",
      " Colunas do dataset de teste:  Index(['PassengerId', 'Pclass', 'Name', 'Sex', 'Age', 'SibSp', 'Parch',\n",
      "       'Ticket', 'Fare', 'Cabin', 'Embarked'],\n",
      "      dtype='object') \n",
      "\n"
     ]
    }
   ],
   "source": [
    "# a. Quais as colunas do banco de dados de teste e de treino?\n",
    "\n",
    "print('Colunas do dataset de treino: ', unf_train_data.columns,'\\n Colunas do dataset de teste: ', unf_test_data.columns,'\\n')"
   ]
  },
  {
   "cell_type": "code",
   "execution_count": 29,
   "metadata": {},
   "outputs": [
    {
     "name": "stdout",
     "output_type": "stream",
     "text": [
      "Tipos das colunas do dataset de treino:\n",
      " PassengerId      int64\n",
      "Survived         int64\n",
      "Pclass           int64\n",
      "Name            object\n",
      "Sex             object\n",
      "Age            float64\n",
      "SibSp            int64\n",
      "Parch            int64\n",
      "Ticket          object\n",
      "Fare           float64\n",
      "Cabin           object\n",
      "Embarked        object\n",
      "dtype: object \n",
      " Tipos das colunas do dataset de test:\n",
      " PassengerId      int64\n",
      "Pclass           int64\n",
      "Name            object\n",
      "Sex             object\n",
      "Age            float64\n",
      "SibSp            int64\n",
      "Parch            int64\n",
      "Ticket          object\n",
      "Fare           float64\n",
      "Cabin           object\n",
      "Embarked        object\n",
      "dtype: object \n",
      "\n"
     ]
    }
   ],
   "source": [
    "# b. Qual o tipo de dado de cada coluna nos dataframes de teste e de treino?\n",
    "\n",
    "print('Tipos das colunas do dataset de treino:\\n', unf_train_data.dtypes,'\\n Tipos das colunas do dataset de test:\\n', unf_test_data.dtypes,'\\n')"
   ]
  },
  {
   "cell_type": "code",
   "execution_count": 30,
   "metadata": {},
   "outputs": [
    {
     "name": "stdout",
     "output_type": "stream",
     "text": [
      "Valores nulos em cada coluna do dataset de treino:\n",
      " PassengerId      0\n",
      "Survived         0\n",
      "Pclass           0\n",
      "Name             0\n",
      "Sex              0\n",
      "Age            177\n",
      "SibSp            0\n",
      "Parch            0\n",
      "Ticket           0\n",
      "Fare             0\n",
      "Cabin          687\n",
      "Embarked         2\n",
      "dtype: int64 \n",
      " Valores nulos em cada coluno do dataset de test:\n",
      " PassengerId      0\n",
      "Pclass           0\n",
      "Name             0\n",
      "Sex              0\n",
      "Age             86\n",
      "SibSp            0\n",
      "Parch            0\n",
      "Ticket           0\n",
      "Fare             1\n",
      "Cabin          327\n",
      "Embarked         0\n",
      "dtype: int64 \n",
      "\n"
     ]
    }
   ],
   "source": [
    "# c. Qual a quantidade de valores nulos (NaN) em cada feature?\n",
    "\n",
    "print('Valores nulos em cada coluna do dataset de treino:\\n',unf_train_data.isnull().sum(), '\\n Valores nulos em cada coluno do dataset de test:\\n',unf_test_data.isnull().sum(),'\\n')"
   ]
  },
  {
   "cell_type": "code",
   "execution_count": 31,
   "metadata": {},
   "outputs": [],
   "source": [
    "# d. Realizar um cópia do banco de dados de teste e de treino para que se possa fazer a manipulação sem perder informações.\n",
    "\n",
    "train_toclean = unf_train_data.copy()\n",
    "test_toclean = unf_test_data.copy()"
   ]
  },
  {
   "cell_type": "markdown",
   "metadata": {},
   "source": [
    "### 2. Para lidar com valores nulos, podemos preencher estes valores de alguma forma ou descartar a informação. Neste item utilizaremos algumas estratégias para tal."
   ]
  },
  {
   "cell_type": "code",
   "execution_count": 32,
   "metadata": {},
   "outputs": [],
   "source": [
    "# Letras a., b., c. e d.:\n",
    "\n",
    "train_rlvnt = train_toclean.drop(['Cabin','Ticket'], axis=1).fillna({'Age':train_toclean['Age'].median(),'Fare':train_toclean['Fare'].median(),'Embarked':train_toclean['Embarked'].mode()[0]})\n",
    "test_rlvnt = test_toclean.drop(['Cabin','Ticket'], axis=1).fillna({'Age':train_toclean['Age'].median(),'Fare':train_toclean['Fare'].median(),'Embarked':train_toclean['Embarked'].mode()[0]})"
   ]
  },
  {
   "cell_type": "markdown",
   "metadata": {},
   "source": [
    "### 3. Para as Features contínuas será útil a criação de grupos para facilitar a análise. Dois métodos do pandas são úteis para esta tarefa, pd.cut e pd.qcut, também é útil visitar esta referência para uma melhor entendimento destes métodos."
   ]
  },
  {
   "cell_type": "code",
   "execution_count": 33,
   "metadata": {},
   "outputs": [
    {
     "name": "stderr",
     "output_type": "stream",
     "text": [
      "<>:3: SyntaxWarning: invalid escape sequence '\\8'\n",
      "<>:3: SyntaxWarning: invalid escape sequence '\\8'\n",
      "C:\\Users\\Cauan\\AppData\\Local\\Temp\\ipykernel_7496\\2569489508.py:3: SyntaxWarning: invalid escape sequence '\\8'\n",
      "  age_groups = ['(0-16)','(16-32)','(32-4\\8)','(48-64)','(64-80)']\n"
     ]
    }
   ],
   "source": [
    "# a. Criar Feature que separe a Feature “Age” em 5 intervalos de mesma extensão;\n",
    "\n",
    "age_groups = ['(0-16)','(16-32)','(32-4\\8)','(48-64)','(64-80)']\n",
    "age_bins = [0, 16, 32, 48, 64, np.inf]\n",
    "\n",
    "train_rlvnt['Age Groups']=test_rlvnt['Age Groups']=pd.cut(train_rlvnt.Age, age_bins, right=False, include_lowest=True, labels=age_groups).astype(str)"
   ]
  },
  {
   "cell_type": "code",
   "execution_count": 34,
   "metadata": {},
   "outputs": [],
   "source": [
    "# b. Criar Feature que separe “Fare” em 6 intervalos que contenham o mesmo número de dados (Não precisam ter a mesma extensão).\n",
    "\n",
    "fare_groups = ['(0-4)','(4-8)','(8-16)','(16-32)','(32-64)','(64-513)']\n",
    "fare_bins = [0,4,8,16,32,64,np.inf]\n",
    "\n",
    "train_rlvnt['Fare Groups']=test_rlvnt['Fare Groups']=pd.cut(train_rlvnt.Fare, fare_bins, right=False, include_lowest=True, labels=fare_groups).astype(str)\n",
    "\n",
    "train_rlvnt = train_rlvnt.drop(['Fare','Name'], axis=1)\n",
    "test_rlvnt = test_rlvnt.drop(['Fare','Name'], axis=1)"
   ]
  },
  {
   "cell_type": "code",
   "execution_count": 35,
   "metadata": {},
   "outputs": [
    {
     "data": {
      "text/plain": [
       "'Novo dataframe de treino: '"
      ]
     },
     "metadata": {},
     "output_type": "display_data"
    },
    {
     "data": {
      "application/vnd.microsoft.datawrangler.viewer.v0+json": {
       "columns": [
        {
         "name": "index",
         "rawType": "int64",
         "type": "integer"
        },
        {
         "name": "PassengerId",
         "rawType": "int64",
         "type": "integer"
        },
        {
         "name": "Survived",
         "rawType": "int64",
         "type": "integer"
        },
        {
         "name": "Pclass",
         "rawType": "int64",
         "type": "integer"
        },
        {
         "name": "Sex",
         "rawType": "object",
         "type": "string"
        },
        {
         "name": "Age",
         "rawType": "float64",
         "type": "float"
        },
        {
         "name": "SibSp",
         "rawType": "int64",
         "type": "integer"
        },
        {
         "name": "Parch",
         "rawType": "int64",
         "type": "integer"
        },
        {
         "name": "Embarked",
         "rawType": "object",
         "type": "string"
        },
        {
         "name": "Age Groups",
         "rawType": "object",
         "type": "string"
        },
        {
         "name": "Fare Groups",
         "rawType": "object",
         "type": "string"
        }
       ],
       "conversionMethod": "pd.DataFrame",
       "ref": "762d84a1-99dd-4591-83b9-0fb47e2bc52e",
       "rows": [
        [
         "0",
         "1",
         "0",
         "3",
         "male",
         "22.0",
         "1",
         "0",
         "S",
         "(16-32)",
         "(4-8)"
        ],
        [
         "1",
         "2",
         "1",
         "1",
         "female",
         "38.0",
         "1",
         "0",
         "C",
         "(32-4\\8)",
         "(64-513)"
        ],
        [
         "2",
         "3",
         "1",
         "3",
         "female",
         "26.0",
         "0",
         "0",
         "S",
         "(16-32)",
         "(4-8)"
        ],
        [
         "3",
         "4",
         "1",
         "1",
         "female",
         "35.0",
         "1",
         "0",
         "S",
         "(32-4\\8)",
         "(32-64)"
        ],
        [
         "4",
         "5",
         "0",
         "3",
         "male",
         "35.0",
         "0",
         "0",
         "S",
         "(32-4\\8)",
         "(8-16)"
        ],
        [
         "5",
         "6",
         "0",
         "3",
         "male",
         "28.0",
         "0",
         "0",
         "Q",
         "(16-32)",
         "(8-16)"
        ],
        [
         "6",
         "7",
         "0",
         "1",
         "male",
         "54.0",
         "0",
         "0",
         "S",
         "(48-64)",
         "(32-64)"
        ],
        [
         "7",
         "8",
         "0",
         "3",
         "male",
         "2.0",
         "3",
         "1",
         "S",
         "(0-16)",
         "(16-32)"
        ],
        [
         "8",
         "9",
         "1",
         "3",
         "female",
         "27.0",
         "0",
         "2",
         "S",
         "(16-32)",
         "(8-16)"
        ],
        [
         "9",
         "10",
         "1",
         "2",
         "female",
         "14.0",
         "1",
         "0",
         "C",
         "(0-16)",
         "(16-32)"
        ],
        [
         "10",
         "11",
         "1",
         "3",
         "female",
         "4.0",
         "1",
         "1",
         "S",
         "(0-16)",
         "(16-32)"
        ],
        [
         "11",
         "12",
         "1",
         "1",
         "female",
         "58.0",
         "0",
         "0",
         "S",
         "(48-64)",
         "(16-32)"
        ],
        [
         "12",
         "13",
         "0",
         "3",
         "male",
         "20.0",
         "0",
         "0",
         "S",
         "(16-32)",
         "(8-16)"
        ],
        [
         "13",
         "14",
         "0",
         "3",
         "male",
         "39.0",
         "1",
         "5",
         "S",
         "(32-4\\8)",
         "(16-32)"
        ],
        [
         "14",
         "15",
         "0",
         "3",
         "female",
         "14.0",
         "0",
         "0",
         "S",
         "(0-16)",
         "(4-8)"
        ],
        [
         "15",
         "16",
         "1",
         "2",
         "female",
         "55.0",
         "0",
         "0",
         "S",
         "(48-64)",
         "(16-32)"
        ],
        [
         "16",
         "17",
         "0",
         "3",
         "male",
         "2.0",
         "4",
         "1",
         "Q",
         "(0-16)",
         "(16-32)"
        ],
        [
         "17",
         "18",
         "1",
         "2",
         "male",
         "28.0",
         "0",
         "0",
         "S",
         "(16-32)",
         "(8-16)"
        ],
        [
         "18",
         "19",
         "0",
         "3",
         "female",
         "31.0",
         "1",
         "0",
         "S",
         "(16-32)",
         "(16-32)"
        ],
        [
         "19",
         "20",
         "1",
         "3",
         "female",
         "28.0",
         "0",
         "0",
         "C",
         "(16-32)",
         "(4-8)"
        ],
        [
         "20",
         "21",
         "0",
         "2",
         "male",
         "35.0",
         "0",
         "0",
         "S",
         "(32-4\\8)",
         "(16-32)"
        ],
        [
         "21",
         "22",
         "1",
         "2",
         "male",
         "34.0",
         "0",
         "0",
         "S",
         "(32-4\\8)",
         "(8-16)"
        ],
        [
         "22",
         "23",
         "1",
         "3",
         "female",
         "15.0",
         "0",
         "0",
         "Q",
         "(0-16)",
         "(8-16)"
        ],
        [
         "23",
         "24",
         "1",
         "1",
         "male",
         "28.0",
         "0",
         "0",
         "S",
         "(16-32)",
         "(32-64)"
        ],
        [
         "24",
         "25",
         "0",
         "3",
         "female",
         "8.0",
         "3",
         "1",
         "S",
         "(0-16)",
         "(16-32)"
        ],
        [
         "25",
         "26",
         "1",
         "3",
         "female",
         "38.0",
         "1",
         "5",
         "S",
         "(32-4\\8)",
         "(16-32)"
        ],
        [
         "26",
         "27",
         "0",
         "3",
         "male",
         "28.0",
         "0",
         "0",
         "C",
         "(16-32)",
         "(4-8)"
        ],
        [
         "27",
         "28",
         "0",
         "1",
         "male",
         "19.0",
         "3",
         "2",
         "S",
         "(16-32)",
         "(64-513)"
        ],
        [
         "28",
         "29",
         "1",
         "3",
         "female",
         "28.0",
         "0",
         "0",
         "Q",
         "(16-32)",
         "(4-8)"
        ],
        [
         "29",
         "30",
         "0",
         "3",
         "male",
         "28.0",
         "0",
         "0",
         "S",
         "(16-32)",
         "(4-8)"
        ],
        [
         "30",
         "31",
         "0",
         "1",
         "male",
         "40.0",
         "0",
         "0",
         "C",
         "(32-4\\8)",
         "(16-32)"
        ],
        [
         "31",
         "32",
         "1",
         "1",
         "female",
         "28.0",
         "1",
         "0",
         "C",
         "(16-32)",
         "(64-513)"
        ],
        [
         "32",
         "33",
         "1",
         "3",
         "female",
         "28.0",
         "0",
         "0",
         "Q",
         "(16-32)",
         "(4-8)"
        ],
        [
         "33",
         "34",
         "0",
         "2",
         "male",
         "66.0",
         "0",
         "0",
         "S",
         "(64-80)",
         "(8-16)"
        ],
        [
         "34",
         "35",
         "0",
         "1",
         "male",
         "28.0",
         "1",
         "0",
         "C",
         "(16-32)",
         "(64-513)"
        ],
        [
         "35",
         "36",
         "0",
         "1",
         "male",
         "42.0",
         "1",
         "0",
         "S",
         "(32-4\\8)",
         "(32-64)"
        ],
        [
         "36",
         "37",
         "1",
         "3",
         "male",
         "28.0",
         "0",
         "0",
         "C",
         "(16-32)",
         "(4-8)"
        ],
        [
         "37",
         "38",
         "0",
         "3",
         "male",
         "21.0",
         "0",
         "0",
         "S",
         "(16-32)",
         "(8-16)"
        ],
        [
         "38",
         "39",
         "0",
         "3",
         "female",
         "18.0",
         "2",
         "0",
         "S",
         "(16-32)",
         "(16-32)"
        ],
        [
         "39",
         "40",
         "1",
         "3",
         "female",
         "14.0",
         "1",
         "0",
         "C",
         "(0-16)",
         "(8-16)"
        ],
        [
         "40",
         "41",
         "0",
         "3",
         "female",
         "40.0",
         "1",
         "0",
         "S",
         "(32-4\\8)",
         "(8-16)"
        ],
        [
         "41",
         "42",
         "0",
         "2",
         "female",
         "27.0",
         "1",
         "0",
         "S",
         "(16-32)",
         "(16-32)"
        ],
        [
         "42",
         "43",
         "0",
         "3",
         "male",
         "28.0",
         "0",
         "0",
         "C",
         "(16-32)",
         "(4-8)"
        ],
        [
         "43",
         "44",
         "1",
         "2",
         "female",
         "3.0",
         "1",
         "2",
         "C",
         "(0-16)",
         "(32-64)"
        ],
        [
         "44",
         "45",
         "1",
         "3",
         "female",
         "19.0",
         "0",
         "0",
         "Q",
         "(16-32)",
         "(4-8)"
        ],
        [
         "45",
         "46",
         "0",
         "3",
         "male",
         "28.0",
         "0",
         "0",
         "S",
         "(16-32)",
         "(8-16)"
        ],
        [
         "46",
         "47",
         "0",
         "3",
         "male",
         "28.0",
         "1",
         "0",
         "Q",
         "(16-32)",
         "(8-16)"
        ],
        [
         "47",
         "48",
         "1",
         "3",
         "female",
         "28.0",
         "0",
         "0",
         "Q",
         "(16-32)",
         "(4-8)"
        ],
        [
         "48",
         "49",
         "0",
         "3",
         "male",
         "28.0",
         "2",
         "0",
         "C",
         "(16-32)",
         "(16-32)"
        ],
        [
         "49",
         "50",
         "0",
         "3",
         "female",
         "18.0",
         "1",
         "0",
         "S",
         "(16-32)",
         "(16-32)"
        ]
       ],
       "shape": {
        "columns": 10,
        "rows": 891
       }
      },
      "text/html": [
       "<div>\n",
       "<style scoped>\n",
       "    .dataframe tbody tr th:only-of-type {\n",
       "        vertical-align: middle;\n",
       "    }\n",
       "\n",
       "    .dataframe tbody tr th {\n",
       "        vertical-align: top;\n",
       "    }\n",
       "\n",
       "    .dataframe thead th {\n",
       "        text-align: right;\n",
       "    }\n",
       "</style>\n",
       "<table border=\"1\" class=\"dataframe\">\n",
       "  <thead>\n",
       "    <tr style=\"text-align: right;\">\n",
       "      <th></th>\n",
       "      <th>PassengerId</th>\n",
       "      <th>Survived</th>\n",
       "      <th>Pclass</th>\n",
       "      <th>Sex</th>\n",
       "      <th>Age</th>\n",
       "      <th>SibSp</th>\n",
       "      <th>Parch</th>\n",
       "      <th>Embarked</th>\n",
       "      <th>Age Groups</th>\n",
       "      <th>Fare Groups</th>\n",
       "    </tr>\n",
       "  </thead>\n",
       "  <tbody>\n",
       "    <tr>\n",
       "      <th>0</th>\n",
       "      <td>1</td>\n",
       "      <td>0</td>\n",
       "      <td>3</td>\n",
       "      <td>male</td>\n",
       "      <td>22.0</td>\n",
       "      <td>1</td>\n",
       "      <td>0</td>\n",
       "      <td>S</td>\n",
       "      <td>(16-32)</td>\n",
       "      <td>(4-8)</td>\n",
       "    </tr>\n",
       "    <tr>\n",
       "      <th>1</th>\n",
       "      <td>2</td>\n",
       "      <td>1</td>\n",
       "      <td>1</td>\n",
       "      <td>female</td>\n",
       "      <td>38.0</td>\n",
       "      <td>1</td>\n",
       "      <td>0</td>\n",
       "      <td>C</td>\n",
       "      <td>(32-4\\8)</td>\n",
       "      <td>(64-513)</td>\n",
       "    </tr>\n",
       "    <tr>\n",
       "      <th>2</th>\n",
       "      <td>3</td>\n",
       "      <td>1</td>\n",
       "      <td>3</td>\n",
       "      <td>female</td>\n",
       "      <td>26.0</td>\n",
       "      <td>0</td>\n",
       "      <td>0</td>\n",
       "      <td>S</td>\n",
       "      <td>(16-32)</td>\n",
       "      <td>(4-8)</td>\n",
       "    </tr>\n",
       "    <tr>\n",
       "      <th>3</th>\n",
       "      <td>4</td>\n",
       "      <td>1</td>\n",
       "      <td>1</td>\n",
       "      <td>female</td>\n",
       "      <td>35.0</td>\n",
       "      <td>1</td>\n",
       "      <td>0</td>\n",
       "      <td>S</td>\n",
       "      <td>(32-4\\8)</td>\n",
       "      <td>(32-64)</td>\n",
       "    </tr>\n",
       "    <tr>\n",
       "      <th>4</th>\n",
       "      <td>5</td>\n",
       "      <td>0</td>\n",
       "      <td>3</td>\n",
       "      <td>male</td>\n",
       "      <td>35.0</td>\n",
       "      <td>0</td>\n",
       "      <td>0</td>\n",
       "      <td>S</td>\n",
       "      <td>(32-4\\8)</td>\n",
       "      <td>(8-16)</td>\n",
       "    </tr>\n",
       "    <tr>\n",
       "      <th>...</th>\n",
       "      <td>...</td>\n",
       "      <td>...</td>\n",
       "      <td>...</td>\n",
       "      <td>...</td>\n",
       "      <td>...</td>\n",
       "      <td>...</td>\n",
       "      <td>...</td>\n",
       "      <td>...</td>\n",
       "      <td>...</td>\n",
       "      <td>...</td>\n",
       "    </tr>\n",
       "    <tr>\n",
       "      <th>886</th>\n",
       "      <td>887</td>\n",
       "      <td>0</td>\n",
       "      <td>2</td>\n",
       "      <td>male</td>\n",
       "      <td>27.0</td>\n",
       "      <td>0</td>\n",
       "      <td>0</td>\n",
       "      <td>S</td>\n",
       "      <td>(16-32)</td>\n",
       "      <td>(8-16)</td>\n",
       "    </tr>\n",
       "    <tr>\n",
       "      <th>887</th>\n",
       "      <td>888</td>\n",
       "      <td>1</td>\n",
       "      <td>1</td>\n",
       "      <td>female</td>\n",
       "      <td>19.0</td>\n",
       "      <td>0</td>\n",
       "      <td>0</td>\n",
       "      <td>S</td>\n",
       "      <td>(16-32)</td>\n",
       "      <td>(16-32)</td>\n",
       "    </tr>\n",
       "    <tr>\n",
       "      <th>888</th>\n",
       "      <td>889</td>\n",
       "      <td>0</td>\n",
       "      <td>3</td>\n",
       "      <td>female</td>\n",
       "      <td>28.0</td>\n",
       "      <td>1</td>\n",
       "      <td>2</td>\n",
       "      <td>S</td>\n",
       "      <td>(16-32)</td>\n",
       "      <td>(16-32)</td>\n",
       "    </tr>\n",
       "    <tr>\n",
       "      <th>889</th>\n",
       "      <td>890</td>\n",
       "      <td>1</td>\n",
       "      <td>1</td>\n",
       "      <td>male</td>\n",
       "      <td>26.0</td>\n",
       "      <td>0</td>\n",
       "      <td>0</td>\n",
       "      <td>C</td>\n",
       "      <td>(16-32)</td>\n",
       "      <td>(16-32)</td>\n",
       "    </tr>\n",
       "    <tr>\n",
       "      <th>890</th>\n",
       "      <td>891</td>\n",
       "      <td>0</td>\n",
       "      <td>3</td>\n",
       "      <td>male</td>\n",
       "      <td>32.0</td>\n",
       "      <td>0</td>\n",
       "      <td>0</td>\n",
       "      <td>Q</td>\n",
       "      <td>(32-4\\8)</td>\n",
       "      <td>(4-8)</td>\n",
       "    </tr>\n",
       "  </tbody>\n",
       "</table>\n",
       "<p>891 rows × 10 columns</p>\n",
       "</div>"
      ],
      "text/plain": [
       "     PassengerId  Survived  Pclass     Sex   Age  SibSp  Parch Embarked  \\\n",
       "0              1         0       3    male  22.0      1      0        S   \n",
       "1              2         1       1  female  38.0      1      0        C   \n",
       "2              3         1       3  female  26.0      0      0        S   \n",
       "3              4         1       1  female  35.0      1      0        S   \n",
       "4              5         0       3    male  35.0      0      0        S   \n",
       "..           ...       ...     ...     ...   ...    ...    ...      ...   \n",
       "886          887         0       2    male  27.0      0      0        S   \n",
       "887          888         1       1  female  19.0      0      0        S   \n",
       "888          889         0       3  female  28.0      1      2        S   \n",
       "889          890         1       1    male  26.0      0      0        C   \n",
       "890          891         0       3    male  32.0      0      0        Q   \n",
       "\n",
       "    Age Groups Fare Groups  \n",
       "0      (16-32)       (4-8)  \n",
       "1     (32-4\\8)    (64-513)  \n",
       "2      (16-32)       (4-8)  \n",
       "3     (32-4\\8)     (32-64)  \n",
       "4     (32-4\\8)      (8-16)  \n",
       "..         ...         ...  \n",
       "886    (16-32)      (8-16)  \n",
       "887    (16-32)     (16-32)  \n",
       "888    (16-32)     (16-32)  \n",
       "889    (16-32)     (16-32)  \n",
       "890   (32-4\\8)       (4-8)  \n",
       "\n",
       "[891 rows x 10 columns]"
      ]
     },
     "metadata": {},
     "output_type": "display_data"
    },
    {
     "data": {
      "text/plain": [
       "'Novo dataframe de teste: '"
      ]
     },
     "metadata": {},
     "output_type": "display_data"
    },
    {
     "data": {
      "application/vnd.microsoft.datawrangler.viewer.v0+json": {
       "columns": [
        {
         "name": "index",
         "rawType": "int64",
         "type": "integer"
        },
        {
         "name": "PassengerId",
         "rawType": "int64",
         "type": "integer"
        },
        {
         "name": "Pclass",
         "rawType": "int64",
         "type": "integer"
        },
        {
         "name": "Sex",
         "rawType": "object",
         "type": "string"
        },
        {
         "name": "Age",
         "rawType": "float64",
         "type": "float"
        },
        {
         "name": "SibSp",
         "rawType": "int64",
         "type": "integer"
        },
        {
         "name": "Parch",
         "rawType": "int64",
         "type": "integer"
        },
        {
         "name": "Embarked",
         "rawType": "object",
         "type": "string"
        },
        {
         "name": "Age Groups",
         "rawType": "object",
         "type": "string"
        },
        {
         "name": "Fare Groups",
         "rawType": "object",
         "type": "string"
        }
       ],
       "conversionMethod": "pd.DataFrame",
       "ref": "ed574519-2783-4606-9a25-d3b5d270ac0c",
       "rows": [
        [
         "0",
         "892",
         "3",
         "male",
         "34.5",
         "0",
         "0",
         "Q",
         "(16-32)",
         "(4-8)"
        ],
        [
         "1",
         "893",
         "3",
         "female",
         "47.0",
         "1",
         "0",
         "S",
         "(32-4\\8)",
         "(64-513)"
        ],
        [
         "2",
         "894",
         "2",
         "male",
         "62.0",
         "0",
         "0",
         "Q",
         "(16-32)",
         "(4-8)"
        ],
        [
         "3",
         "895",
         "3",
         "male",
         "27.0",
         "0",
         "0",
         "S",
         "(32-4\\8)",
         "(32-64)"
        ],
        [
         "4",
         "896",
         "3",
         "female",
         "22.0",
         "1",
         "1",
         "S",
         "(32-4\\8)",
         "(8-16)"
        ],
        [
         "5",
         "897",
         "3",
         "male",
         "14.0",
         "0",
         "0",
         "S",
         "(16-32)",
         "(8-16)"
        ],
        [
         "6",
         "898",
         "3",
         "female",
         "30.0",
         "0",
         "0",
         "Q",
         "(48-64)",
         "(32-64)"
        ],
        [
         "7",
         "899",
         "2",
         "male",
         "26.0",
         "1",
         "1",
         "S",
         "(0-16)",
         "(16-32)"
        ],
        [
         "8",
         "900",
         "3",
         "female",
         "18.0",
         "0",
         "0",
         "C",
         "(16-32)",
         "(8-16)"
        ],
        [
         "9",
         "901",
         "3",
         "male",
         "21.0",
         "2",
         "0",
         "S",
         "(0-16)",
         "(16-32)"
        ],
        [
         "10",
         "902",
         "3",
         "male",
         "28.0",
         "0",
         "0",
         "S",
         "(0-16)",
         "(16-32)"
        ],
        [
         "11",
         "903",
         "1",
         "male",
         "46.0",
         "0",
         "0",
         "S",
         "(48-64)",
         "(16-32)"
        ],
        [
         "12",
         "904",
         "1",
         "female",
         "23.0",
         "1",
         "0",
         "S",
         "(16-32)",
         "(8-16)"
        ],
        [
         "13",
         "905",
         "2",
         "male",
         "63.0",
         "1",
         "0",
         "S",
         "(32-4\\8)",
         "(16-32)"
        ],
        [
         "14",
         "906",
         "1",
         "female",
         "47.0",
         "1",
         "0",
         "S",
         "(0-16)",
         "(4-8)"
        ],
        [
         "15",
         "907",
         "2",
         "female",
         "24.0",
         "1",
         "0",
         "C",
         "(48-64)",
         "(16-32)"
        ],
        [
         "16",
         "908",
         "2",
         "male",
         "35.0",
         "0",
         "0",
         "Q",
         "(0-16)",
         "(16-32)"
        ],
        [
         "17",
         "909",
         "3",
         "male",
         "21.0",
         "0",
         "0",
         "C",
         "(16-32)",
         "(8-16)"
        ],
        [
         "18",
         "910",
         "3",
         "female",
         "27.0",
         "1",
         "0",
         "S",
         "(16-32)",
         "(16-32)"
        ],
        [
         "19",
         "911",
         "3",
         "female",
         "45.0",
         "0",
         "0",
         "C",
         "(16-32)",
         "(4-8)"
        ],
        [
         "20",
         "912",
         "1",
         "male",
         "55.0",
         "1",
         "0",
         "C",
         "(32-4\\8)",
         "(16-32)"
        ],
        [
         "21",
         "913",
         "3",
         "male",
         "9.0",
         "0",
         "1",
         "S",
         "(32-4\\8)",
         "(8-16)"
        ],
        [
         "22",
         "914",
         "1",
         "female",
         "28.0",
         "0",
         "0",
         "S",
         "(0-16)",
         "(8-16)"
        ],
        [
         "23",
         "915",
         "1",
         "male",
         "21.0",
         "0",
         "1",
         "C",
         "(16-32)",
         "(32-64)"
        ],
        [
         "24",
         "916",
         "1",
         "female",
         "48.0",
         "1",
         "3",
         "C",
         "(0-16)",
         "(16-32)"
        ],
        [
         "25",
         "917",
         "3",
         "male",
         "50.0",
         "1",
         "0",
         "S",
         "(32-4\\8)",
         "(16-32)"
        ],
        [
         "26",
         "918",
         "1",
         "female",
         "22.0",
         "0",
         "1",
         "C",
         "(16-32)",
         "(4-8)"
        ],
        [
         "27",
         "919",
         "3",
         "male",
         "22.5",
         "0",
         "0",
         "C",
         "(16-32)",
         "(64-513)"
        ],
        [
         "28",
         "920",
         "1",
         "male",
         "41.0",
         "0",
         "0",
         "S",
         "(16-32)",
         "(4-8)"
        ],
        [
         "29",
         "921",
         "3",
         "male",
         "28.0",
         "2",
         "0",
         "C",
         "(16-32)",
         "(4-8)"
        ],
        [
         "30",
         "922",
         "2",
         "male",
         "50.0",
         "1",
         "0",
         "S",
         "(32-4\\8)",
         "(16-32)"
        ],
        [
         "31",
         "923",
         "2",
         "male",
         "24.0",
         "2",
         "0",
         "S",
         "(16-32)",
         "(64-513)"
        ],
        [
         "32",
         "924",
         "3",
         "female",
         "33.0",
         "1",
         "2",
         "S",
         "(16-32)",
         "(4-8)"
        ],
        [
         "33",
         "925",
         "3",
         "female",
         "28.0",
         "1",
         "2",
         "S",
         "(64-80)",
         "(8-16)"
        ],
        [
         "34",
         "926",
         "1",
         "male",
         "30.0",
         "1",
         "0",
         "C",
         "(16-32)",
         "(64-513)"
        ],
        [
         "35",
         "927",
         "3",
         "male",
         "18.5",
         "0",
         "0",
         "C",
         "(32-4\\8)",
         "(32-64)"
        ],
        [
         "36",
         "928",
         "3",
         "female",
         "28.0",
         "0",
         "0",
         "S",
         "(16-32)",
         "(4-8)"
        ],
        [
         "37",
         "929",
         "3",
         "female",
         "21.0",
         "0",
         "0",
         "S",
         "(16-32)",
         "(8-16)"
        ],
        [
         "38",
         "930",
         "3",
         "male",
         "25.0",
         "0",
         "0",
         "S",
         "(16-32)",
         "(16-32)"
        ],
        [
         "39",
         "931",
         "3",
         "male",
         "28.0",
         "0",
         "0",
         "S",
         "(0-16)",
         "(8-16)"
        ],
        [
         "40",
         "932",
         "3",
         "male",
         "39.0",
         "0",
         "1",
         "C",
         "(32-4\\8)",
         "(8-16)"
        ],
        [
         "41",
         "933",
         "1",
         "male",
         "28.0",
         "0",
         "0",
         "S",
         "(16-32)",
         "(16-32)"
        ],
        [
         "42",
         "934",
         "3",
         "male",
         "41.0",
         "0",
         "0",
         "S",
         "(16-32)",
         "(4-8)"
        ],
        [
         "43",
         "935",
         "2",
         "female",
         "30.0",
         "0",
         "0",
         "S",
         "(0-16)",
         "(32-64)"
        ],
        [
         "44",
         "936",
         "1",
         "female",
         "45.0",
         "1",
         "0",
         "S",
         "(16-32)",
         "(4-8)"
        ],
        [
         "45",
         "937",
         "3",
         "male",
         "25.0",
         "0",
         "0",
         "S",
         "(16-32)",
         "(8-16)"
        ],
        [
         "46",
         "938",
         "1",
         "male",
         "45.0",
         "0",
         "0",
         "C",
         "(16-32)",
         "(8-16)"
        ],
        [
         "47",
         "939",
         "3",
         "male",
         "28.0",
         "0",
         "0",
         "Q",
         "(16-32)",
         "(4-8)"
        ],
        [
         "48",
         "940",
         "1",
         "female",
         "60.0",
         "0",
         "0",
         "C",
         "(16-32)",
         "(16-32)"
        ],
        [
         "49",
         "941",
         "3",
         "female",
         "36.0",
         "0",
         "2",
         "S",
         "(16-32)",
         "(16-32)"
        ]
       ],
       "shape": {
        "columns": 9,
        "rows": 418
       }
      },
      "text/html": [
       "<div>\n",
       "<style scoped>\n",
       "    .dataframe tbody tr th:only-of-type {\n",
       "        vertical-align: middle;\n",
       "    }\n",
       "\n",
       "    .dataframe tbody tr th {\n",
       "        vertical-align: top;\n",
       "    }\n",
       "\n",
       "    .dataframe thead th {\n",
       "        text-align: right;\n",
       "    }\n",
       "</style>\n",
       "<table border=\"1\" class=\"dataframe\">\n",
       "  <thead>\n",
       "    <tr style=\"text-align: right;\">\n",
       "      <th></th>\n",
       "      <th>PassengerId</th>\n",
       "      <th>Pclass</th>\n",
       "      <th>Sex</th>\n",
       "      <th>Age</th>\n",
       "      <th>SibSp</th>\n",
       "      <th>Parch</th>\n",
       "      <th>Embarked</th>\n",
       "      <th>Age Groups</th>\n",
       "      <th>Fare Groups</th>\n",
       "    </tr>\n",
       "  </thead>\n",
       "  <tbody>\n",
       "    <tr>\n",
       "      <th>0</th>\n",
       "      <td>892</td>\n",
       "      <td>3</td>\n",
       "      <td>male</td>\n",
       "      <td>34.5</td>\n",
       "      <td>0</td>\n",
       "      <td>0</td>\n",
       "      <td>Q</td>\n",
       "      <td>(16-32)</td>\n",
       "      <td>(4-8)</td>\n",
       "    </tr>\n",
       "    <tr>\n",
       "      <th>1</th>\n",
       "      <td>893</td>\n",
       "      <td>3</td>\n",
       "      <td>female</td>\n",
       "      <td>47.0</td>\n",
       "      <td>1</td>\n",
       "      <td>0</td>\n",
       "      <td>S</td>\n",
       "      <td>(32-4\\8)</td>\n",
       "      <td>(64-513)</td>\n",
       "    </tr>\n",
       "    <tr>\n",
       "      <th>2</th>\n",
       "      <td>894</td>\n",
       "      <td>2</td>\n",
       "      <td>male</td>\n",
       "      <td>62.0</td>\n",
       "      <td>0</td>\n",
       "      <td>0</td>\n",
       "      <td>Q</td>\n",
       "      <td>(16-32)</td>\n",
       "      <td>(4-8)</td>\n",
       "    </tr>\n",
       "    <tr>\n",
       "      <th>3</th>\n",
       "      <td>895</td>\n",
       "      <td>3</td>\n",
       "      <td>male</td>\n",
       "      <td>27.0</td>\n",
       "      <td>0</td>\n",
       "      <td>0</td>\n",
       "      <td>S</td>\n",
       "      <td>(32-4\\8)</td>\n",
       "      <td>(32-64)</td>\n",
       "    </tr>\n",
       "    <tr>\n",
       "      <th>4</th>\n",
       "      <td>896</td>\n",
       "      <td>3</td>\n",
       "      <td>female</td>\n",
       "      <td>22.0</td>\n",
       "      <td>1</td>\n",
       "      <td>1</td>\n",
       "      <td>S</td>\n",
       "      <td>(32-4\\8)</td>\n",
       "      <td>(8-16)</td>\n",
       "    </tr>\n",
       "    <tr>\n",
       "      <th>...</th>\n",
       "      <td>...</td>\n",
       "      <td>...</td>\n",
       "      <td>...</td>\n",
       "      <td>...</td>\n",
       "      <td>...</td>\n",
       "      <td>...</td>\n",
       "      <td>...</td>\n",
       "      <td>...</td>\n",
       "      <td>...</td>\n",
       "    </tr>\n",
       "    <tr>\n",
       "      <th>413</th>\n",
       "      <td>1305</td>\n",
       "      <td>3</td>\n",
       "      <td>male</td>\n",
       "      <td>28.0</td>\n",
       "      <td>0</td>\n",
       "      <td>0</td>\n",
       "      <td>S</td>\n",
       "      <td>(16-32)</td>\n",
       "      <td>(0-4)</td>\n",
       "    </tr>\n",
       "    <tr>\n",
       "      <th>414</th>\n",
       "      <td>1306</td>\n",
       "      <td>1</td>\n",
       "      <td>female</td>\n",
       "      <td>39.0</td>\n",
       "      <td>0</td>\n",
       "      <td>0</td>\n",
       "      <td>C</td>\n",
       "      <td>(32-4\\8)</td>\n",
       "      <td>(4-8)</td>\n",
       "    </tr>\n",
       "    <tr>\n",
       "      <th>415</th>\n",
       "      <td>1307</td>\n",
       "      <td>3</td>\n",
       "      <td>male</td>\n",
       "      <td>38.5</td>\n",
       "      <td>0</td>\n",
       "      <td>0</td>\n",
       "      <td>S</td>\n",
       "      <td>(16-32)</td>\n",
       "      <td>(8-16)</td>\n",
       "    </tr>\n",
       "    <tr>\n",
       "      <th>416</th>\n",
       "      <td>1308</td>\n",
       "      <td>3</td>\n",
       "      <td>male</td>\n",
       "      <td>28.0</td>\n",
       "      <td>0</td>\n",
       "      <td>0</td>\n",
       "      <td>S</td>\n",
       "      <td>(32-4\\8)</td>\n",
       "      <td>(32-64)</td>\n",
       "    </tr>\n",
       "    <tr>\n",
       "      <th>417</th>\n",
       "      <td>1309</td>\n",
       "      <td>3</td>\n",
       "      <td>male</td>\n",
       "      <td>28.0</td>\n",
       "      <td>1</td>\n",
       "      <td>1</td>\n",
       "      <td>C</td>\n",
       "      <td>(16-32)</td>\n",
       "      <td>(8-16)</td>\n",
       "    </tr>\n",
       "  </tbody>\n",
       "</table>\n",
       "<p>418 rows × 9 columns</p>\n",
       "</div>"
      ],
      "text/plain": [
       "     PassengerId  Pclass     Sex   Age  SibSp  Parch Embarked Age Groups  \\\n",
       "0            892       3    male  34.5      0      0        Q    (16-32)   \n",
       "1            893       3  female  47.0      1      0        S   (32-4\\8)   \n",
       "2            894       2    male  62.0      0      0        Q    (16-32)   \n",
       "3            895       3    male  27.0      0      0        S   (32-4\\8)   \n",
       "4            896       3  female  22.0      1      1        S   (32-4\\8)   \n",
       "..           ...     ...     ...   ...    ...    ...      ...        ...   \n",
       "413         1305       3    male  28.0      0      0        S    (16-32)   \n",
       "414         1306       1  female  39.0      0      0        C   (32-4\\8)   \n",
       "415         1307       3    male  38.5      0      0        S    (16-32)   \n",
       "416         1308       3    male  28.0      0      0        S   (32-4\\8)   \n",
       "417         1309       3    male  28.0      1      1        C    (16-32)   \n",
       "\n",
       "    Fare Groups  \n",
       "0         (4-8)  \n",
       "1      (64-513)  \n",
       "2         (4-8)  \n",
       "3       (32-64)  \n",
       "4        (8-16)  \n",
       "..          ...  \n",
       "413       (0-4)  \n",
       "414       (4-8)  \n",
       "415      (8-16)  \n",
       "416     (32-64)  \n",
       "417      (8-16)  \n",
       "\n",
       "[418 rows x 9 columns]"
      ]
     },
     "metadata": {},
     "output_type": "display_data"
    }
   ],
   "source": [
    "# Resultado\n",
    "\n",
    "display('Novo dataframe de treino: ', train_rlvnt,'Novo dataframe de teste: ', test_rlvnt)"
   ]
  },
  {
   "cell_type": "markdown",
   "metadata": {},
   "source": [
    "# 8.1 - Encoding de Variáveis Categóricas"
   ]
  },
  {
   "cell_type": "markdown",
   "metadata": {},
   "source": [
    "### 1. Será necessário realizar o encoding das variáveis categóricas, no momento, 3 estratégias que serão utilizadas são o one-hot, label encoding e ordinal encoding. Para fazer isso será necessário relembrar quais são as features categóricas, definir a estratégia que será utilizada, criar as features codificadas e retirar as categóricas:"
   ]
  },
  {
   "cell_type": "code",
   "execution_count": 36,
   "metadata": {},
   "outputs": [
    {
     "name": "stdout",
     "output_type": "stream",
     "text": [
      "<class 'pandas.core.frame.DataFrame'>\n",
      "RangeIndex: 891 entries, 0 to 890\n",
      "Data columns (total 10 columns):\n",
      " #   Column       Non-Null Count  Dtype  \n",
      "---  ------       --------------  -----  \n",
      " 0   PassengerId  891 non-null    int64  \n",
      " 1   Survived     891 non-null    int64  \n",
      " 2   Pclass       891 non-null    int64  \n",
      " 3   Sex          891 non-null    object \n",
      " 4   Age          891 non-null    float64\n",
      " 5   SibSp        891 non-null    int64  \n",
      " 6   Parch        891 non-null    int64  \n",
      " 7   Embarked     891 non-null    object \n",
      " 8   Age Groups   891 non-null    object \n",
      " 9   Fare Groups  891 non-null    object \n",
      "dtypes: float64(1), int64(5), object(4)\n",
      "memory usage: 69.7+ KB\n",
      "<class 'pandas.core.frame.DataFrame'>\n",
      "RangeIndex: 418 entries, 0 to 417\n",
      "Data columns (total 9 columns):\n",
      " #   Column       Non-Null Count  Dtype  \n",
      "---  ------       --------------  -----  \n",
      " 0   PassengerId  418 non-null    int64  \n",
      " 1   Pclass       418 non-null    int64  \n",
      " 2   Sex          418 non-null    object \n",
      " 3   Age          418 non-null    float64\n",
      " 4   SibSp        418 non-null    int64  \n",
      " 5   Parch        418 non-null    int64  \n",
      " 6   Embarked     418 non-null    object \n",
      " 7   Age Groups   418 non-null    object \n",
      " 8   Fare Groups  418 non-null    object \n",
      "dtypes: float64(1), int64(4), object(4)\n",
      "memory usage: 29.5+ KB\n"
     ]
    }
   ],
   "source": [
    "# a. Utilizar o método “.info( )” para relembrar quais são as features categóricas;\n",
    "\n",
    "train_rlvnt.info()\n",
    "test_rlvnt.info()"
   ]
  },
  {
   "cell_type": "code",
   "execution_count": 37,
   "metadata": {},
   "outputs": [
    {
     "data": {
      "application/vnd.microsoft.datawrangler.viewer.v0+json": {
       "columns": [
        {
         "name": "index",
         "rawType": "int64",
         "type": "integer"
        },
        {
         "name": "Sex",
         "rawType": "object",
         "type": "string"
        },
        {
         "name": "Embarked",
         "rawType": "object",
         "type": "string"
        },
        {
         "name": "Age Groups",
         "rawType": "object",
         "type": "string"
        },
        {
         "name": "Fare Groups",
         "rawType": "object",
         "type": "string"
        }
       ],
       "conversionMethod": "pd.DataFrame",
       "ref": "cc83c21f-2817-4bd6-82a3-79a41ec98faa",
       "rows": [
        [
         "0",
         "male",
         "S",
         "(16-32)",
         "(4-8)"
        ],
        [
         "1",
         "female",
         "C",
         "(32-4\\8)",
         "(64-513)"
        ],
        [
         "2",
         "female",
         "S",
         "(16-32)",
         "(4-8)"
        ],
        [
         "3",
         "female",
         "S",
         "(32-4\\8)",
         "(32-64)"
        ],
        [
         "4",
         "male",
         "S",
         "(32-4\\8)",
         "(8-16)"
        ],
        [
         "5",
         "male",
         "Q",
         "(16-32)",
         "(8-16)"
        ],
        [
         "6",
         "male",
         "S",
         "(48-64)",
         "(32-64)"
        ],
        [
         "7",
         "male",
         "S",
         "(0-16)",
         "(16-32)"
        ],
        [
         "8",
         "female",
         "S",
         "(16-32)",
         "(8-16)"
        ],
        [
         "9",
         "female",
         "C",
         "(0-16)",
         "(16-32)"
        ],
        [
         "10",
         "female",
         "S",
         "(0-16)",
         "(16-32)"
        ],
        [
         "11",
         "female",
         "S",
         "(48-64)",
         "(16-32)"
        ],
        [
         "12",
         "male",
         "S",
         "(16-32)",
         "(8-16)"
        ],
        [
         "13",
         "male",
         "S",
         "(32-4\\8)",
         "(16-32)"
        ],
        [
         "14",
         "female",
         "S",
         "(0-16)",
         "(4-8)"
        ],
        [
         "15",
         "female",
         "S",
         "(48-64)",
         "(16-32)"
        ],
        [
         "16",
         "male",
         "Q",
         "(0-16)",
         "(16-32)"
        ],
        [
         "17",
         "male",
         "S",
         "(16-32)",
         "(8-16)"
        ],
        [
         "18",
         "female",
         "S",
         "(16-32)",
         "(16-32)"
        ],
        [
         "19",
         "female",
         "C",
         "(16-32)",
         "(4-8)"
        ],
        [
         "20",
         "male",
         "S",
         "(32-4\\8)",
         "(16-32)"
        ],
        [
         "21",
         "male",
         "S",
         "(32-4\\8)",
         "(8-16)"
        ],
        [
         "22",
         "female",
         "Q",
         "(0-16)",
         "(8-16)"
        ],
        [
         "23",
         "male",
         "S",
         "(16-32)",
         "(32-64)"
        ],
        [
         "24",
         "female",
         "S",
         "(0-16)",
         "(16-32)"
        ],
        [
         "25",
         "female",
         "S",
         "(32-4\\8)",
         "(16-32)"
        ],
        [
         "26",
         "male",
         "C",
         "(16-32)",
         "(4-8)"
        ],
        [
         "27",
         "male",
         "S",
         "(16-32)",
         "(64-513)"
        ],
        [
         "28",
         "female",
         "Q",
         "(16-32)",
         "(4-8)"
        ],
        [
         "29",
         "male",
         "S",
         "(16-32)",
         "(4-8)"
        ],
        [
         "30",
         "male",
         "C",
         "(32-4\\8)",
         "(16-32)"
        ],
        [
         "31",
         "female",
         "C",
         "(16-32)",
         "(64-513)"
        ],
        [
         "32",
         "female",
         "Q",
         "(16-32)",
         "(4-8)"
        ],
        [
         "33",
         "male",
         "S",
         "(64-80)",
         "(8-16)"
        ],
        [
         "34",
         "male",
         "C",
         "(16-32)",
         "(64-513)"
        ],
        [
         "35",
         "male",
         "S",
         "(32-4\\8)",
         "(32-64)"
        ],
        [
         "36",
         "male",
         "C",
         "(16-32)",
         "(4-8)"
        ],
        [
         "37",
         "male",
         "S",
         "(16-32)",
         "(8-16)"
        ],
        [
         "38",
         "female",
         "S",
         "(16-32)",
         "(16-32)"
        ],
        [
         "39",
         "female",
         "C",
         "(0-16)",
         "(8-16)"
        ],
        [
         "40",
         "female",
         "S",
         "(32-4\\8)",
         "(8-16)"
        ],
        [
         "41",
         "female",
         "S",
         "(16-32)",
         "(16-32)"
        ],
        [
         "42",
         "male",
         "C",
         "(16-32)",
         "(4-8)"
        ],
        [
         "43",
         "female",
         "C",
         "(0-16)",
         "(32-64)"
        ],
        [
         "44",
         "female",
         "Q",
         "(16-32)",
         "(4-8)"
        ],
        [
         "45",
         "male",
         "S",
         "(16-32)",
         "(8-16)"
        ],
        [
         "46",
         "male",
         "Q",
         "(16-32)",
         "(8-16)"
        ],
        [
         "47",
         "female",
         "Q",
         "(16-32)",
         "(4-8)"
        ],
        [
         "48",
         "male",
         "C",
         "(16-32)",
         "(16-32)"
        ],
        [
         "49",
         "female",
         "S",
         "(16-32)",
         "(16-32)"
        ]
       ],
       "shape": {
        "columns": 4,
        "rows": 891
       }
      },
      "text/html": [
       "<div>\n",
       "<style scoped>\n",
       "    .dataframe tbody tr th:only-of-type {\n",
       "        vertical-align: middle;\n",
       "    }\n",
       "\n",
       "    .dataframe tbody tr th {\n",
       "        vertical-align: top;\n",
       "    }\n",
       "\n",
       "    .dataframe thead th {\n",
       "        text-align: right;\n",
       "    }\n",
       "</style>\n",
       "<table border=\"1\" class=\"dataframe\">\n",
       "  <thead>\n",
       "    <tr style=\"text-align: right;\">\n",
       "      <th></th>\n",
       "      <th>Sex</th>\n",
       "      <th>Embarked</th>\n",
       "      <th>Age Groups</th>\n",
       "      <th>Fare Groups</th>\n",
       "    </tr>\n",
       "  </thead>\n",
       "  <tbody>\n",
       "    <tr>\n",
       "      <th>0</th>\n",
       "      <td>male</td>\n",
       "      <td>S</td>\n",
       "      <td>(16-32)</td>\n",
       "      <td>(4-8)</td>\n",
       "    </tr>\n",
       "    <tr>\n",
       "      <th>1</th>\n",
       "      <td>female</td>\n",
       "      <td>C</td>\n",
       "      <td>(32-4\\8)</td>\n",
       "      <td>(64-513)</td>\n",
       "    </tr>\n",
       "    <tr>\n",
       "      <th>2</th>\n",
       "      <td>female</td>\n",
       "      <td>S</td>\n",
       "      <td>(16-32)</td>\n",
       "      <td>(4-8)</td>\n",
       "    </tr>\n",
       "    <tr>\n",
       "      <th>3</th>\n",
       "      <td>female</td>\n",
       "      <td>S</td>\n",
       "      <td>(32-4\\8)</td>\n",
       "      <td>(32-64)</td>\n",
       "    </tr>\n",
       "    <tr>\n",
       "      <th>4</th>\n",
       "      <td>male</td>\n",
       "      <td>S</td>\n",
       "      <td>(32-4\\8)</td>\n",
       "      <td>(8-16)</td>\n",
       "    </tr>\n",
       "    <tr>\n",
       "      <th>...</th>\n",
       "      <td>...</td>\n",
       "      <td>...</td>\n",
       "      <td>...</td>\n",
       "      <td>...</td>\n",
       "    </tr>\n",
       "    <tr>\n",
       "      <th>886</th>\n",
       "      <td>male</td>\n",
       "      <td>S</td>\n",
       "      <td>(16-32)</td>\n",
       "      <td>(8-16)</td>\n",
       "    </tr>\n",
       "    <tr>\n",
       "      <th>887</th>\n",
       "      <td>female</td>\n",
       "      <td>S</td>\n",
       "      <td>(16-32)</td>\n",
       "      <td>(16-32)</td>\n",
       "    </tr>\n",
       "    <tr>\n",
       "      <th>888</th>\n",
       "      <td>female</td>\n",
       "      <td>S</td>\n",
       "      <td>(16-32)</td>\n",
       "      <td>(16-32)</td>\n",
       "    </tr>\n",
       "    <tr>\n",
       "      <th>889</th>\n",
       "      <td>male</td>\n",
       "      <td>C</td>\n",
       "      <td>(16-32)</td>\n",
       "      <td>(16-32)</td>\n",
       "    </tr>\n",
       "    <tr>\n",
       "      <th>890</th>\n",
       "      <td>male</td>\n",
       "      <td>Q</td>\n",
       "      <td>(32-4\\8)</td>\n",
       "      <td>(4-8)</td>\n",
       "    </tr>\n",
       "  </tbody>\n",
       "</table>\n",
       "<p>891 rows × 4 columns</p>\n",
       "</div>"
      ],
      "text/plain": [
       "        Sex Embarked Age Groups Fare Groups\n",
       "0      male        S    (16-32)       (4-8)\n",
       "1    female        C   (32-4\\8)    (64-513)\n",
       "2    female        S    (16-32)       (4-8)\n",
       "3    female        S   (32-4\\8)     (32-64)\n",
       "4      male        S   (32-4\\8)      (8-16)\n",
       "..      ...      ...        ...         ...\n",
       "886    male        S    (16-32)      (8-16)\n",
       "887  female        S    (16-32)     (16-32)\n",
       "888  female        S    (16-32)     (16-32)\n",
       "889    male        C    (16-32)     (16-32)\n",
       "890    male        Q   (32-4\\8)       (4-8)\n",
       "\n",
       "[891 rows x 4 columns]"
      ]
     },
     "execution_count": 37,
     "metadata": {},
     "output_type": "execute_result"
    }
   ],
   "source": [
    "# b. Utilizar o método “.select_dtypes” para identificar o nome das colunas numéricas e categóricas, para numéricas identifique formatos “int64” e “float64”,\n",
    "# para categóricas identifique “Object”;\n",
    "\n",
    "train_cat_data = train_rlvnt.select_dtypes('object')\n",
    "test_cat_data = test_rlvnt.select_dtypes('object')\n",
    "\n",
    "train_num_data = train_rlvnt.select_dtypes(['int64','float64']).drop('PassengerId', axis=1)\n",
    "test_num_data = test_rlvnt.select_dtypes(['int64','float64']).drop('PassengerId',axis=1)\n",
    "\n",
    "train_cat_data"
   ]
  },
  {
   "cell_type": "code",
   "execution_count": 38,
   "metadata": {},
   "outputs": [],
   "source": [
    "# c. Temos algumas features categóricas que contém uma ordem clara, ou seja, existe o primeiro valor, segundo valor, terceiro valor, assim por diante, já em outras,\n",
    "# isso não acontece.\n",
    "\n",
    "ordered_train = ['Age Groups','Fare Groups']\n",
    "ordered_test = ['Age Groups','Fare Groups']\n",
    "\n",
    "unordered_train_cols = ['Embarked','Sex']\n",
    "unordered_test_cols = ['Embarked','Sex']"
   ]
  },
  {
   "cell_type": "code",
   "execution_count": 39,
   "metadata": {},
   "outputs": [],
   "source": [
    "# d. Criar uma função que realize o one-hot encode e, como saída, retorna um novo dataframe com as colunas que resultam da codificação, devidamente nomeadas,\n",
    "# ao invés das features categóricas:\n",
    "\n",
    "from sklearn.preprocessing import OneHotEncoder\n",
    "OHEnc = OneHotEncoder(handle_unknown='ignore', sparse_output=False).set_output(transform=\"pandas\")\n",
    "\n",
    "## i. Os argumentos deverão ser: o dataframe que será manipulado e as colunas que serão codificadas;\n",
    "def OHEncode (df, categorical, train=True):\n",
    "    \n",
    "    ##ii. Realizar uma cópia do banco de dados que foi dado como argumento;\n",
    "    copy = df.copy()\n",
    "    \n",
    "    ## iii. Criar um loop que realize o encoding das colunas presentes no argumento da função, as features resultantes devem conter o nome do valor que representam\n",
    "    ## (OBS: utilizar o método “.get_feature_names”);\n",
    "    if train:\n",
    "        for i in categorical:\n",
    "            OH_cols_X = pd.DataFrame(OHEnc.fit_transform(copy[categorical]))\n",
    "            OH_cols_X.index = copy.index\n",
    "            \n",
    "            ## iv. Ainda dentro do loop, retirar do dataframe copiado as features categóricas e mesclar as features criadas pelo one-hot encoder;\n",
    "            OH_X = pd.concat([copy.drop(categorical,axis=1),OH_cols_X], axis=1)\n",
    "        \n",
    "    ## iii. Criar um loop que realize o encoding das colunas presentes no argumento da função, as features resultantes devem conter o nome do valor que representam\n",
    "    ## (OBS: utilizar o método “.get_feature_names”);\n",
    "    else:\n",
    "        for i in categorical:\n",
    "            OH_cols_X = pd.DataFrame(OHEnc.transform(copy[categorical]))\n",
    "            OH_cols_X.index = copy.index\n",
    "            \n",
    "            ## iv. Ainda dentro do loop, retirar do dataframe copiado as features categóricas e mesclar as features criadas pelo one-hot encoder;\n",
    "            OH_X = pd.concat([copy.drop(categorical, axis=1),OH_cols_X], axis=1)\n",
    "\n",
    "    return OH_X\n",
    "\n",
    "enc_train_data = OHEncode(train_rlvnt, unordered_train_cols)\n",
    "\n",
    "enc_test_data = OHEncode(test_rlvnt, unordered_test_cols, False)"
   ]
  },
  {
   "cell_type": "code",
   "execution_count": 40,
   "metadata": {},
   "outputs": [
    {
     "data": {
      "text/plain": [
       "'Dataframe de treino encoded: '"
      ]
     },
     "metadata": {},
     "output_type": "display_data"
    },
    {
     "data": {
      "application/vnd.microsoft.datawrangler.viewer.v0+json": {
       "columns": [
        {
         "name": "index",
         "rawType": "int64",
         "type": "integer"
        },
        {
         "name": "PassengerId",
         "rawType": "int64",
         "type": "integer"
        },
        {
         "name": "Survived",
         "rawType": "int64",
         "type": "integer"
        },
        {
         "name": "Pclass",
         "rawType": "int64",
         "type": "integer"
        },
        {
         "name": "Age",
         "rawType": "float64",
         "type": "float"
        },
        {
         "name": "SibSp",
         "rawType": "int64",
         "type": "integer"
        },
        {
         "name": "Parch",
         "rawType": "int64",
         "type": "integer"
        },
        {
         "name": "Age Groups",
         "rawType": "int32",
         "type": "integer"
        },
        {
         "name": "Fare Groups",
         "rawType": "int32",
         "type": "integer"
        },
        {
         "name": "Embarked_C",
         "rawType": "float64",
         "type": "float"
        },
        {
         "name": "Embarked_Q",
         "rawType": "float64",
         "type": "float"
        },
        {
         "name": "Embarked_S",
         "rawType": "float64",
         "type": "float"
        },
        {
         "name": "Sex_female",
         "rawType": "float64",
         "type": "float"
        },
        {
         "name": "Sex_male",
         "rawType": "float64",
         "type": "float"
        }
       ],
       "conversionMethod": "pd.DataFrame",
       "ref": "dbcb0a38-a8d0-4ae7-a1cd-78da949e9a3a",
       "rows": [
        [
         "0",
         "1",
         "0",
         "3",
         "22.0",
         "1",
         "0",
         "1",
         "3",
         "0.0",
         "0.0",
         "1.0",
         "0.0",
         "1.0"
        ],
        [
         "1",
         "2",
         "1",
         "1",
         "38.0",
         "1",
         "0",
         "2",
         "4",
         "1.0",
         "0.0",
         "0.0",
         "1.0",
         "0.0"
        ],
        [
         "2",
         "3",
         "1",
         "3",
         "26.0",
         "0",
         "0",
         "1",
         "3",
         "0.0",
         "0.0",
         "1.0",
         "1.0",
         "0.0"
        ],
        [
         "3",
         "4",
         "1",
         "1",
         "35.0",
         "1",
         "0",
         "2",
         "2",
         "0.0",
         "0.0",
         "1.0",
         "1.0",
         "0.0"
        ],
        [
         "4",
         "5",
         "0",
         "3",
         "35.0",
         "0",
         "0",
         "2",
         "5",
         "0.0",
         "0.0",
         "1.0",
         "0.0",
         "1.0"
        ],
        [
         "5",
         "6",
         "0",
         "3",
         "28.0",
         "0",
         "0",
         "1",
         "5",
         "0.0",
         "1.0",
         "0.0",
         "0.0",
         "1.0"
        ],
        [
         "6",
         "7",
         "0",
         "1",
         "54.0",
         "0",
         "0",
         "3",
         "2",
         "0.0",
         "0.0",
         "1.0",
         "0.0",
         "1.0"
        ],
        [
         "7",
         "8",
         "0",
         "3",
         "2.0",
         "3",
         "1",
         "0",
         "1",
         "0.0",
         "0.0",
         "1.0",
         "0.0",
         "1.0"
        ],
        [
         "8",
         "9",
         "1",
         "3",
         "27.0",
         "0",
         "2",
         "1",
         "5",
         "0.0",
         "0.0",
         "1.0",
         "1.0",
         "0.0"
        ],
        [
         "9",
         "10",
         "1",
         "2",
         "14.0",
         "1",
         "0",
         "0",
         "1",
         "1.0",
         "0.0",
         "0.0",
         "1.0",
         "0.0"
        ],
        [
         "10",
         "11",
         "1",
         "3",
         "4.0",
         "1",
         "1",
         "0",
         "1",
         "0.0",
         "0.0",
         "1.0",
         "1.0",
         "0.0"
        ],
        [
         "11",
         "12",
         "1",
         "1",
         "58.0",
         "0",
         "0",
         "3",
         "1",
         "0.0",
         "0.0",
         "1.0",
         "1.0",
         "0.0"
        ],
        [
         "12",
         "13",
         "0",
         "3",
         "20.0",
         "0",
         "0",
         "1",
         "5",
         "0.0",
         "0.0",
         "1.0",
         "0.0",
         "1.0"
        ],
        [
         "13",
         "14",
         "0",
         "3",
         "39.0",
         "1",
         "5",
         "2",
         "1",
         "0.0",
         "0.0",
         "1.0",
         "0.0",
         "1.0"
        ],
        [
         "14",
         "15",
         "0",
         "3",
         "14.0",
         "0",
         "0",
         "0",
         "3",
         "0.0",
         "0.0",
         "1.0",
         "1.0",
         "0.0"
        ],
        [
         "15",
         "16",
         "1",
         "2",
         "55.0",
         "0",
         "0",
         "3",
         "1",
         "0.0",
         "0.0",
         "1.0",
         "1.0",
         "0.0"
        ],
        [
         "16",
         "17",
         "0",
         "3",
         "2.0",
         "4",
         "1",
         "0",
         "1",
         "0.0",
         "1.0",
         "0.0",
         "0.0",
         "1.0"
        ],
        [
         "17",
         "18",
         "1",
         "2",
         "28.0",
         "0",
         "0",
         "1",
         "5",
         "0.0",
         "0.0",
         "1.0",
         "0.0",
         "1.0"
        ],
        [
         "18",
         "19",
         "0",
         "3",
         "31.0",
         "1",
         "0",
         "1",
         "1",
         "0.0",
         "0.0",
         "1.0",
         "1.0",
         "0.0"
        ],
        [
         "19",
         "20",
         "1",
         "3",
         "28.0",
         "0",
         "0",
         "1",
         "3",
         "1.0",
         "0.0",
         "0.0",
         "1.0",
         "0.0"
        ],
        [
         "20",
         "21",
         "0",
         "2",
         "35.0",
         "0",
         "0",
         "2",
         "1",
         "0.0",
         "0.0",
         "1.0",
         "0.0",
         "1.0"
        ],
        [
         "21",
         "22",
         "1",
         "2",
         "34.0",
         "0",
         "0",
         "2",
         "5",
         "0.0",
         "0.0",
         "1.0",
         "0.0",
         "1.0"
        ],
        [
         "22",
         "23",
         "1",
         "3",
         "15.0",
         "0",
         "0",
         "0",
         "5",
         "0.0",
         "1.0",
         "0.0",
         "1.0",
         "0.0"
        ],
        [
         "23",
         "24",
         "1",
         "1",
         "28.0",
         "0",
         "0",
         "1",
         "2",
         "0.0",
         "0.0",
         "1.0",
         "0.0",
         "1.0"
        ],
        [
         "24",
         "25",
         "0",
         "3",
         "8.0",
         "3",
         "1",
         "0",
         "1",
         "0.0",
         "0.0",
         "1.0",
         "1.0",
         "0.0"
        ],
        [
         "25",
         "26",
         "1",
         "3",
         "38.0",
         "1",
         "5",
         "2",
         "1",
         "0.0",
         "0.0",
         "1.0",
         "1.0",
         "0.0"
        ],
        [
         "26",
         "27",
         "0",
         "3",
         "28.0",
         "0",
         "0",
         "1",
         "3",
         "1.0",
         "0.0",
         "0.0",
         "0.0",
         "1.0"
        ],
        [
         "27",
         "28",
         "0",
         "1",
         "19.0",
         "3",
         "2",
         "1",
         "4",
         "0.0",
         "0.0",
         "1.0",
         "0.0",
         "1.0"
        ],
        [
         "28",
         "29",
         "1",
         "3",
         "28.0",
         "0",
         "0",
         "1",
         "3",
         "0.0",
         "1.0",
         "0.0",
         "1.0",
         "0.0"
        ],
        [
         "29",
         "30",
         "0",
         "3",
         "28.0",
         "0",
         "0",
         "1",
         "3",
         "0.0",
         "0.0",
         "1.0",
         "0.0",
         "1.0"
        ],
        [
         "30",
         "31",
         "0",
         "1",
         "40.0",
         "0",
         "0",
         "2",
         "1",
         "1.0",
         "0.0",
         "0.0",
         "0.0",
         "1.0"
        ],
        [
         "31",
         "32",
         "1",
         "1",
         "28.0",
         "1",
         "0",
         "1",
         "4",
         "1.0",
         "0.0",
         "0.0",
         "1.0",
         "0.0"
        ],
        [
         "32",
         "33",
         "1",
         "3",
         "28.0",
         "0",
         "0",
         "1",
         "3",
         "0.0",
         "1.0",
         "0.0",
         "1.0",
         "0.0"
        ],
        [
         "33",
         "34",
         "0",
         "2",
         "66.0",
         "0",
         "0",
         "4",
         "5",
         "0.0",
         "0.0",
         "1.0",
         "0.0",
         "1.0"
        ],
        [
         "34",
         "35",
         "0",
         "1",
         "28.0",
         "1",
         "0",
         "1",
         "4",
         "1.0",
         "0.0",
         "0.0",
         "0.0",
         "1.0"
        ],
        [
         "35",
         "36",
         "0",
         "1",
         "42.0",
         "1",
         "0",
         "2",
         "2",
         "0.0",
         "0.0",
         "1.0",
         "0.0",
         "1.0"
        ],
        [
         "36",
         "37",
         "1",
         "3",
         "28.0",
         "0",
         "0",
         "1",
         "3",
         "1.0",
         "0.0",
         "0.0",
         "0.0",
         "1.0"
        ],
        [
         "37",
         "38",
         "0",
         "3",
         "21.0",
         "0",
         "0",
         "1",
         "5",
         "0.0",
         "0.0",
         "1.0",
         "0.0",
         "1.0"
        ],
        [
         "38",
         "39",
         "0",
         "3",
         "18.0",
         "2",
         "0",
         "1",
         "1",
         "0.0",
         "0.0",
         "1.0",
         "1.0",
         "0.0"
        ],
        [
         "39",
         "40",
         "1",
         "3",
         "14.0",
         "1",
         "0",
         "0",
         "5",
         "1.0",
         "0.0",
         "0.0",
         "1.0",
         "0.0"
        ],
        [
         "40",
         "41",
         "0",
         "3",
         "40.0",
         "1",
         "0",
         "2",
         "5",
         "0.0",
         "0.0",
         "1.0",
         "1.0",
         "0.0"
        ],
        [
         "41",
         "42",
         "0",
         "2",
         "27.0",
         "1",
         "0",
         "1",
         "1",
         "0.0",
         "0.0",
         "1.0",
         "1.0",
         "0.0"
        ],
        [
         "42",
         "43",
         "0",
         "3",
         "28.0",
         "0",
         "0",
         "1",
         "3",
         "1.0",
         "0.0",
         "0.0",
         "0.0",
         "1.0"
        ],
        [
         "43",
         "44",
         "1",
         "2",
         "3.0",
         "1",
         "2",
         "0",
         "2",
         "1.0",
         "0.0",
         "0.0",
         "1.0",
         "0.0"
        ],
        [
         "44",
         "45",
         "1",
         "3",
         "19.0",
         "0",
         "0",
         "1",
         "3",
         "0.0",
         "1.0",
         "0.0",
         "1.0",
         "0.0"
        ],
        [
         "45",
         "46",
         "0",
         "3",
         "28.0",
         "0",
         "0",
         "1",
         "5",
         "0.0",
         "0.0",
         "1.0",
         "0.0",
         "1.0"
        ],
        [
         "46",
         "47",
         "0",
         "3",
         "28.0",
         "1",
         "0",
         "1",
         "5",
         "0.0",
         "1.0",
         "0.0",
         "0.0",
         "1.0"
        ],
        [
         "47",
         "48",
         "1",
         "3",
         "28.0",
         "0",
         "0",
         "1",
         "3",
         "0.0",
         "1.0",
         "0.0",
         "1.0",
         "0.0"
        ],
        [
         "48",
         "49",
         "0",
         "3",
         "28.0",
         "2",
         "0",
         "1",
         "1",
         "1.0",
         "0.0",
         "0.0",
         "0.0",
         "1.0"
        ],
        [
         "49",
         "50",
         "0",
         "3",
         "18.0",
         "1",
         "0",
         "1",
         "1",
         "0.0",
         "0.0",
         "1.0",
         "1.0",
         "0.0"
        ]
       ],
       "shape": {
        "columns": 13,
        "rows": 891
       }
      },
      "text/html": [
       "<div>\n",
       "<style scoped>\n",
       "    .dataframe tbody tr th:only-of-type {\n",
       "        vertical-align: middle;\n",
       "    }\n",
       "\n",
       "    .dataframe tbody tr th {\n",
       "        vertical-align: top;\n",
       "    }\n",
       "\n",
       "    .dataframe thead th {\n",
       "        text-align: right;\n",
       "    }\n",
       "</style>\n",
       "<table border=\"1\" class=\"dataframe\">\n",
       "  <thead>\n",
       "    <tr style=\"text-align: right;\">\n",
       "      <th></th>\n",
       "      <th>PassengerId</th>\n",
       "      <th>Survived</th>\n",
       "      <th>Pclass</th>\n",
       "      <th>Age</th>\n",
       "      <th>SibSp</th>\n",
       "      <th>Parch</th>\n",
       "      <th>Age Groups</th>\n",
       "      <th>Fare Groups</th>\n",
       "      <th>Embarked_C</th>\n",
       "      <th>Embarked_Q</th>\n",
       "      <th>Embarked_S</th>\n",
       "      <th>Sex_female</th>\n",
       "      <th>Sex_male</th>\n",
       "    </tr>\n",
       "  </thead>\n",
       "  <tbody>\n",
       "    <tr>\n",
       "      <th>0</th>\n",
       "      <td>1</td>\n",
       "      <td>0</td>\n",
       "      <td>3</td>\n",
       "      <td>22.0</td>\n",
       "      <td>1</td>\n",
       "      <td>0</td>\n",
       "      <td>1</td>\n",
       "      <td>3</td>\n",
       "      <td>0.0</td>\n",
       "      <td>0.0</td>\n",
       "      <td>1.0</td>\n",
       "      <td>0.0</td>\n",
       "      <td>1.0</td>\n",
       "    </tr>\n",
       "    <tr>\n",
       "      <th>1</th>\n",
       "      <td>2</td>\n",
       "      <td>1</td>\n",
       "      <td>1</td>\n",
       "      <td>38.0</td>\n",
       "      <td>1</td>\n",
       "      <td>0</td>\n",
       "      <td>2</td>\n",
       "      <td>4</td>\n",
       "      <td>1.0</td>\n",
       "      <td>0.0</td>\n",
       "      <td>0.0</td>\n",
       "      <td>1.0</td>\n",
       "      <td>0.0</td>\n",
       "    </tr>\n",
       "    <tr>\n",
       "      <th>2</th>\n",
       "      <td>3</td>\n",
       "      <td>1</td>\n",
       "      <td>3</td>\n",
       "      <td>26.0</td>\n",
       "      <td>0</td>\n",
       "      <td>0</td>\n",
       "      <td>1</td>\n",
       "      <td>3</td>\n",
       "      <td>0.0</td>\n",
       "      <td>0.0</td>\n",
       "      <td>1.0</td>\n",
       "      <td>1.0</td>\n",
       "      <td>0.0</td>\n",
       "    </tr>\n",
       "    <tr>\n",
       "      <th>3</th>\n",
       "      <td>4</td>\n",
       "      <td>1</td>\n",
       "      <td>1</td>\n",
       "      <td>35.0</td>\n",
       "      <td>1</td>\n",
       "      <td>0</td>\n",
       "      <td>2</td>\n",
       "      <td>2</td>\n",
       "      <td>0.0</td>\n",
       "      <td>0.0</td>\n",
       "      <td>1.0</td>\n",
       "      <td>1.0</td>\n",
       "      <td>0.0</td>\n",
       "    </tr>\n",
       "    <tr>\n",
       "      <th>4</th>\n",
       "      <td>5</td>\n",
       "      <td>0</td>\n",
       "      <td>3</td>\n",
       "      <td>35.0</td>\n",
       "      <td>0</td>\n",
       "      <td>0</td>\n",
       "      <td>2</td>\n",
       "      <td>5</td>\n",
       "      <td>0.0</td>\n",
       "      <td>0.0</td>\n",
       "      <td>1.0</td>\n",
       "      <td>0.0</td>\n",
       "      <td>1.0</td>\n",
       "    </tr>\n",
       "    <tr>\n",
       "      <th>...</th>\n",
       "      <td>...</td>\n",
       "      <td>...</td>\n",
       "      <td>...</td>\n",
       "      <td>...</td>\n",
       "      <td>...</td>\n",
       "      <td>...</td>\n",
       "      <td>...</td>\n",
       "      <td>...</td>\n",
       "      <td>...</td>\n",
       "      <td>...</td>\n",
       "      <td>...</td>\n",
       "      <td>...</td>\n",
       "      <td>...</td>\n",
       "    </tr>\n",
       "    <tr>\n",
       "      <th>886</th>\n",
       "      <td>887</td>\n",
       "      <td>0</td>\n",
       "      <td>2</td>\n",
       "      <td>27.0</td>\n",
       "      <td>0</td>\n",
       "      <td>0</td>\n",
       "      <td>1</td>\n",
       "      <td>5</td>\n",
       "      <td>0.0</td>\n",
       "      <td>0.0</td>\n",
       "      <td>1.0</td>\n",
       "      <td>0.0</td>\n",
       "      <td>1.0</td>\n",
       "    </tr>\n",
       "    <tr>\n",
       "      <th>887</th>\n",
       "      <td>888</td>\n",
       "      <td>1</td>\n",
       "      <td>1</td>\n",
       "      <td>19.0</td>\n",
       "      <td>0</td>\n",
       "      <td>0</td>\n",
       "      <td>1</td>\n",
       "      <td>1</td>\n",
       "      <td>0.0</td>\n",
       "      <td>0.0</td>\n",
       "      <td>1.0</td>\n",
       "      <td>1.0</td>\n",
       "      <td>0.0</td>\n",
       "    </tr>\n",
       "    <tr>\n",
       "      <th>888</th>\n",
       "      <td>889</td>\n",
       "      <td>0</td>\n",
       "      <td>3</td>\n",
       "      <td>28.0</td>\n",
       "      <td>1</td>\n",
       "      <td>2</td>\n",
       "      <td>1</td>\n",
       "      <td>1</td>\n",
       "      <td>0.0</td>\n",
       "      <td>0.0</td>\n",
       "      <td>1.0</td>\n",
       "      <td>1.0</td>\n",
       "      <td>0.0</td>\n",
       "    </tr>\n",
       "    <tr>\n",
       "      <th>889</th>\n",
       "      <td>890</td>\n",
       "      <td>1</td>\n",
       "      <td>1</td>\n",
       "      <td>26.0</td>\n",
       "      <td>0</td>\n",
       "      <td>0</td>\n",
       "      <td>1</td>\n",
       "      <td>1</td>\n",
       "      <td>1.0</td>\n",
       "      <td>0.0</td>\n",
       "      <td>0.0</td>\n",
       "      <td>0.0</td>\n",
       "      <td>1.0</td>\n",
       "    </tr>\n",
       "    <tr>\n",
       "      <th>890</th>\n",
       "      <td>891</td>\n",
       "      <td>0</td>\n",
       "      <td>3</td>\n",
       "      <td>32.0</td>\n",
       "      <td>0</td>\n",
       "      <td>0</td>\n",
       "      <td>2</td>\n",
       "      <td>3</td>\n",
       "      <td>0.0</td>\n",
       "      <td>1.0</td>\n",
       "      <td>0.0</td>\n",
       "      <td>0.0</td>\n",
       "      <td>1.0</td>\n",
       "    </tr>\n",
       "  </tbody>\n",
       "</table>\n",
       "<p>891 rows × 13 columns</p>\n",
       "</div>"
      ],
      "text/plain": [
       "     PassengerId  Survived  Pclass   Age  SibSp  Parch  Age Groups  \\\n",
       "0              1         0       3  22.0      1      0           1   \n",
       "1              2         1       1  38.0      1      0           2   \n",
       "2              3         1       3  26.0      0      0           1   \n",
       "3              4         1       1  35.0      1      0           2   \n",
       "4              5         0       3  35.0      0      0           2   \n",
       "..           ...       ...     ...   ...    ...    ...         ...   \n",
       "886          887         0       2  27.0      0      0           1   \n",
       "887          888         1       1  19.0      0      0           1   \n",
       "888          889         0       3  28.0      1      2           1   \n",
       "889          890         1       1  26.0      0      0           1   \n",
       "890          891         0       3  32.0      0      0           2   \n",
       "\n",
       "     Fare Groups  Embarked_C  Embarked_Q  Embarked_S  Sex_female  Sex_male  \n",
       "0              3         0.0         0.0         1.0         0.0       1.0  \n",
       "1              4         1.0         0.0         0.0         1.0       0.0  \n",
       "2              3         0.0         0.0         1.0         1.0       0.0  \n",
       "3              2         0.0         0.0         1.0         1.0       0.0  \n",
       "4              5         0.0         0.0         1.0         0.0       1.0  \n",
       "..           ...         ...         ...         ...         ...       ...  \n",
       "886            5         0.0         0.0         1.0         0.0       1.0  \n",
       "887            1         0.0         0.0         1.0         1.0       0.0  \n",
       "888            1         0.0         0.0         1.0         1.0       0.0  \n",
       "889            1         1.0         0.0         0.0         0.0       1.0  \n",
       "890            3         0.0         1.0         0.0         0.0       1.0  \n",
       "\n",
       "[891 rows x 13 columns]"
      ]
     },
     "metadata": {},
     "output_type": "display_data"
    },
    {
     "data": {
      "text/plain": [
       "'Dataframe de teste encoded: '"
      ]
     },
     "metadata": {},
     "output_type": "display_data"
    },
    {
     "data": {
      "application/vnd.microsoft.datawrangler.viewer.v0+json": {
       "columns": [
        {
         "name": "index",
         "rawType": "int64",
         "type": "integer"
        },
        {
         "name": "PassengerId",
         "rawType": "int64",
         "type": "integer"
        },
        {
         "name": "Pclass",
         "rawType": "int64",
         "type": "integer"
        },
        {
         "name": "Age",
         "rawType": "float64",
         "type": "float"
        },
        {
         "name": "SibSp",
         "rawType": "int64",
         "type": "integer"
        },
        {
         "name": "Parch",
         "rawType": "int64",
         "type": "integer"
        },
        {
         "name": "Age Groups",
         "rawType": "int32",
         "type": "integer"
        },
        {
         "name": "Fare Groups",
         "rawType": "int32",
         "type": "integer"
        },
        {
         "name": "Embarked_C",
         "rawType": "float64",
         "type": "float"
        },
        {
         "name": "Embarked_Q",
         "rawType": "float64",
         "type": "float"
        },
        {
         "name": "Embarked_S",
         "rawType": "float64",
         "type": "float"
        },
        {
         "name": "Sex_female",
         "rawType": "float64",
         "type": "float"
        },
        {
         "name": "Sex_male",
         "rawType": "float64",
         "type": "float"
        }
       ],
       "conversionMethod": "pd.DataFrame",
       "ref": "a06f8aa6-cffb-4284-bfc3-864466aba6e2",
       "rows": [
        [
         "0",
         "892",
         "3",
         "34.5",
         "0",
         "0",
         "1",
         "3",
         "0.0",
         "1.0",
         "0.0",
         "0.0",
         "1.0"
        ],
        [
         "1",
         "893",
         "3",
         "47.0",
         "1",
         "0",
         "2",
         "4",
         "0.0",
         "0.0",
         "1.0",
         "1.0",
         "0.0"
        ],
        [
         "2",
         "894",
         "2",
         "62.0",
         "0",
         "0",
         "1",
         "3",
         "0.0",
         "1.0",
         "0.0",
         "0.0",
         "1.0"
        ],
        [
         "3",
         "895",
         "3",
         "27.0",
         "0",
         "0",
         "2",
         "2",
         "0.0",
         "0.0",
         "1.0",
         "0.0",
         "1.0"
        ],
        [
         "4",
         "896",
         "3",
         "22.0",
         "1",
         "1",
         "2",
         "5",
         "0.0",
         "0.0",
         "1.0",
         "1.0",
         "0.0"
        ],
        [
         "5",
         "897",
         "3",
         "14.0",
         "0",
         "0",
         "1",
         "5",
         "0.0",
         "0.0",
         "1.0",
         "0.0",
         "1.0"
        ],
        [
         "6",
         "898",
         "3",
         "30.0",
         "0",
         "0",
         "3",
         "2",
         "0.0",
         "1.0",
         "0.0",
         "1.0",
         "0.0"
        ],
        [
         "7",
         "899",
         "2",
         "26.0",
         "1",
         "1",
         "0",
         "1",
         "0.0",
         "0.0",
         "1.0",
         "0.0",
         "1.0"
        ],
        [
         "8",
         "900",
         "3",
         "18.0",
         "0",
         "0",
         "1",
         "5",
         "1.0",
         "0.0",
         "0.0",
         "1.0",
         "0.0"
        ],
        [
         "9",
         "901",
         "3",
         "21.0",
         "2",
         "0",
         "0",
         "1",
         "0.0",
         "0.0",
         "1.0",
         "0.0",
         "1.0"
        ],
        [
         "10",
         "902",
         "3",
         "28.0",
         "0",
         "0",
         "0",
         "1",
         "0.0",
         "0.0",
         "1.0",
         "0.0",
         "1.0"
        ],
        [
         "11",
         "903",
         "1",
         "46.0",
         "0",
         "0",
         "3",
         "1",
         "0.0",
         "0.0",
         "1.0",
         "0.0",
         "1.0"
        ],
        [
         "12",
         "904",
         "1",
         "23.0",
         "1",
         "0",
         "1",
         "5",
         "0.0",
         "0.0",
         "1.0",
         "1.0",
         "0.0"
        ],
        [
         "13",
         "905",
         "2",
         "63.0",
         "1",
         "0",
         "2",
         "1",
         "0.0",
         "0.0",
         "1.0",
         "0.0",
         "1.0"
        ],
        [
         "14",
         "906",
         "1",
         "47.0",
         "1",
         "0",
         "0",
         "3",
         "0.0",
         "0.0",
         "1.0",
         "1.0",
         "0.0"
        ],
        [
         "15",
         "907",
         "2",
         "24.0",
         "1",
         "0",
         "3",
         "1",
         "1.0",
         "0.0",
         "0.0",
         "1.0",
         "0.0"
        ],
        [
         "16",
         "908",
         "2",
         "35.0",
         "0",
         "0",
         "0",
         "1",
         "0.0",
         "1.0",
         "0.0",
         "0.0",
         "1.0"
        ],
        [
         "17",
         "909",
         "3",
         "21.0",
         "0",
         "0",
         "1",
         "5",
         "1.0",
         "0.0",
         "0.0",
         "0.0",
         "1.0"
        ],
        [
         "18",
         "910",
         "3",
         "27.0",
         "1",
         "0",
         "1",
         "1",
         "0.0",
         "0.0",
         "1.0",
         "1.0",
         "0.0"
        ],
        [
         "19",
         "911",
         "3",
         "45.0",
         "0",
         "0",
         "1",
         "3",
         "1.0",
         "0.0",
         "0.0",
         "1.0",
         "0.0"
        ],
        [
         "20",
         "912",
         "1",
         "55.0",
         "1",
         "0",
         "2",
         "1",
         "1.0",
         "0.0",
         "0.0",
         "0.0",
         "1.0"
        ],
        [
         "21",
         "913",
         "3",
         "9.0",
         "0",
         "1",
         "2",
         "5",
         "0.0",
         "0.0",
         "1.0",
         "0.0",
         "1.0"
        ],
        [
         "22",
         "914",
         "1",
         "28.0",
         "0",
         "0",
         "0",
         "5",
         "0.0",
         "0.0",
         "1.0",
         "1.0",
         "0.0"
        ],
        [
         "23",
         "915",
         "1",
         "21.0",
         "0",
         "1",
         "1",
         "2",
         "1.0",
         "0.0",
         "0.0",
         "0.0",
         "1.0"
        ],
        [
         "24",
         "916",
         "1",
         "48.0",
         "1",
         "3",
         "0",
         "1",
         "1.0",
         "0.0",
         "0.0",
         "1.0",
         "0.0"
        ],
        [
         "25",
         "917",
         "3",
         "50.0",
         "1",
         "0",
         "2",
         "1",
         "0.0",
         "0.0",
         "1.0",
         "0.0",
         "1.0"
        ],
        [
         "26",
         "918",
         "1",
         "22.0",
         "0",
         "1",
         "1",
         "3",
         "1.0",
         "0.0",
         "0.0",
         "1.0",
         "0.0"
        ],
        [
         "27",
         "919",
         "3",
         "22.5",
         "0",
         "0",
         "1",
         "4",
         "1.0",
         "0.0",
         "0.0",
         "0.0",
         "1.0"
        ],
        [
         "28",
         "920",
         "1",
         "41.0",
         "0",
         "0",
         "1",
         "3",
         "0.0",
         "0.0",
         "1.0",
         "0.0",
         "1.0"
        ],
        [
         "29",
         "921",
         "3",
         "28.0",
         "2",
         "0",
         "1",
         "3",
         "1.0",
         "0.0",
         "0.0",
         "0.0",
         "1.0"
        ],
        [
         "30",
         "922",
         "2",
         "50.0",
         "1",
         "0",
         "2",
         "1",
         "0.0",
         "0.0",
         "1.0",
         "0.0",
         "1.0"
        ],
        [
         "31",
         "923",
         "2",
         "24.0",
         "2",
         "0",
         "1",
         "4",
         "0.0",
         "0.0",
         "1.0",
         "0.0",
         "1.0"
        ],
        [
         "32",
         "924",
         "3",
         "33.0",
         "1",
         "2",
         "1",
         "3",
         "0.0",
         "0.0",
         "1.0",
         "1.0",
         "0.0"
        ],
        [
         "33",
         "925",
         "3",
         "28.0",
         "1",
         "2",
         "4",
         "5",
         "0.0",
         "0.0",
         "1.0",
         "1.0",
         "0.0"
        ],
        [
         "34",
         "926",
         "1",
         "30.0",
         "1",
         "0",
         "1",
         "4",
         "1.0",
         "0.0",
         "0.0",
         "0.0",
         "1.0"
        ],
        [
         "35",
         "927",
         "3",
         "18.5",
         "0",
         "0",
         "2",
         "2",
         "1.0",
         "0.0",
         "0.0",
         "0.0",
         "1.0"
        ],
        [
         "36",
         "928",
         "3",
         "28.0",
         "0",
         "0",
         "1",
         "3",
         "0.0",
         "0.0",
         "1.0",
         "1.0",
         "0.0"
        ],
        [
         "37",
         "929",
         "3",
         "21.0",
         "0",
         "0",
         "1",
         "5",
         "0.0",
         "0.0",
         "1.0",
         "1.0",
         "0.0"
        ],
        [
         "38",
         "930",
         "3",
         "25.0",
         "0",
         "0",
         "1",
         "1",
         "0.0",
         "0.0",
         "1.0",
         "0.0",
         "1.0"
        ],
        [
         "39",
         "931",
         "3",
         "28.0",
         "0",
         "0",
         "0",
         "5",
         "0.0",
         "0.0",
         "1.0",
         "0.0",
         "1.0"
        ],
        [
         "40",
         "932",
         "3",
         "39.0",
         "0",
         "1",
         "2",
         "5",
         "1.0",
         "0.0",
         "0.0",
         "0.0",
         "1.0"
        ],
        [
         "41",
         "933",
         "1",
         "28.0",
         "0",
         "0",
         "1",
         "1",
         "0.0",
         "0.0",
         "1.0",
         "0.0",
         "1.0"
        ],
        [
         "42",
         "934",
         "3",
         "41.0",
         "0",
         "0",
         "1",
         "3",
         "0.0",
         "0.0",
         "1.0",
         "0.0",
         "1.0"
        ],
        [
         "43",
         "935",
         "2",
         "30.0",
         "0",
         "0",
         "0",
         "2",
         "0.0",
         "0.0",
         "1.0",
         "1.0",
         "0.0"
        ],
        [
         "44",
         "936",
         "1",
         "45.0",
         "1",
         "0",
         "1",
         "3",
         "0.0",
         "0.0",
         "1.0",
         "1.0",
         "0.0"
        ],
        [
         "45",
         "937",
         "3",
         "25.0",
         "0",
         "0",
         "1",
         "5",
         "0.0",
         "0.0",
         "1.0",
         "0.0",
         "1.0"
        ],
        [
         "46",
         "938",
         "1",
         "45.0",
         "0",
         "0",
         "1",
         "5",
         "1.0",
         "0.0",
         "0.0",
         "0.0",
         "1.0"
        ],
        [
         "47",
         "939",
         "3",
         "28.0",
         "0",
         "0",
         "1",
         "3",
         "0.0",
         "1.0",
         "0.0",
         "0.0",
         "1.0"
        ],
        [
         "48",
         "940",
         "1",
         "60.0",
         "0",
         "0",
         "1",
         "1",
         "1.0",
         "0.0",
         "0.0",
         "1.0",
         "0.0"
        ],
        [
         "49",
         "941",
         "3",
         "36.0",
         "0",
         "2",
         "1",
         "1",
         "0.0",
         "0.0",
         "1.0",
         "1.0",
         "0.0"
        ]
       ],
       "shape": {
        "columns": 12,
        "rows": 418
       }
      },
      "text/html": [
       "<div>\n",
       "<style scoped>\n",
       "    .dataframe tbody tr th:only-of-type {\n",
       "        vertical-align: middle;\n",
       "    }\n",
       "\n",
       "    .dataframe tbody tr th {\n",
       "        vertical-align: top;\n",
       "    }\n",
       "\n",
       "    .dataframe thead th {\n",
       "        text-align: right;\n",
       "    }\n",
       "</style>\n",
       "<table border=\"1\" class=\"dataframe\">\n",
       "  <thead>\n",
       "    <tr style=\"text-align: right;\">\n",
       "      <th></th>\n",
       "      <th>PassengerId</th>\n",
       "      <th>Pclass</th>\n",
       "      <th>Age</th>\n",
       "      <th>SibSp</th>\n",
       "      <th>Parch</th>\n",
       "      <th>Age Groups</th>\n",
       "      <th>Fare Groups</th>\n",
       "      <th>Embarked_C</th>\n",
       "      <th>Embarked_Q</th>\n",
       "      <th>Embarked_S</th>\n",
       "      <th>Sex_female</th>\n",
       "      <th>Sex_male</th>\n",
       "    </tr>\n",
       "  </thead>\n",
       "  <tbody>\n",
       "    <tr>\n",
       "      <th>0</th>\n",
       "      <td>892</td>\n",
       "      <td>3</td>\n",
       "      <td>34.5</td>\n",
       "      <td>0</td>\n",
       "      <td>0</td>\n",
       "      <td>1</td>\n",
       "      <td>3</td>\n",
       "      <td>0.0</td>\n",
       "      <td>1.0</td>\n",
       "      <td>0.0</td>\n",
       "      <td>0.0</td>\n",
       "      <td>1.0</td>\n",
       "    </tr>\n",
       "    <tr>\n",
       "      <th>1</th>\n",
       "      <td>893</td>\n",
       "      <td>3</td>\n",
       "      <td>47.0</td>\n",
       "      <td>1</td>\n",
       "      <td>0</td>\n",
       "      <td>2</td>\n",
       "      <td>4</td>\n",
       "      <td>0.0</td>\n",
       "      <td>0.0</td>\n",
       "      <td>1.0</td>\n",
       "      <td>1.0</td>\n",
       "      <td>0.0</td>\n",
       "    </tr>\n",
       "    <tr>\n",
       "      <th>2</th>\n",
       "      <td>894</td>\n",
       "      <td>2</td>\n",
       "      <td>62.0</td>\n",
       "      <td>0</td>\n",
       "      <td>0</td>\n",
       "      <td>1</td>\n",
       "      <td>3</td>\n",
       "      <td>0.0</td>\n",
       "      <td>1.0</td>\n",
       "      <td>0.0</td>\n",
       "      <td>0.0</td>\n",
       "      <td>1.0</td>\n",
       "    </tr>\n",
       "    <tr>\n",
       "      <th>3</th>\n",
       "      <td>895</td>\n",
       "      <td>3</td>\n",
       "      <td>27.0</td>\n",
       "      <td>0</td>\n",
       "      <td>0</td>\n",
       "      <td>2</td>\n",
       "      <td>2</td>\n",
       "      <td>0.0</td>\n",
       "      <td>0.0</td>\n",
       "      <td>1.0</td>\n",
       "      <td>0.0</td>\n",
       "      <td>1.0</td>\n",
       "    </tr>\n",
       "    <tr>\n",
       "      <th>4</th>\n",
       "      <td>896</td>\n",
       "      <td>3</td>\n",
       "      <td>22.0</td>\n",
       "      <td>1</td>\n",
       "      <td>1</td>\n",
       "      <td>2</td>\n",
       "      <td>5</td>\n",
       "      <td>0.0</td>\n",
       "      <td>0.0</td>\n",
       "      <td>1.0</td>\n",
       "      <td>1.0</td>\n",
       "      <td>0.0</td>\n",
       "    </tr>\n",
       "    <tr>\n",
       "      <th>...</th>\n",
       "      <td>...</td>\n",
       "      <td>...</td>\n",
       "      <td>...</td>\n",
       "      <td>...</td>\n",
       "      <td>...</td>\n",
       "      <td>...</td>\n",
       "      <td>...</td>\n",
       "      <td>...</td>\n",
       "      <td>...</td>\n",
       "      <td>...</td>\n",
       "      <td>...</td>\n",
       "      <td>...</td>\n",
       "    </tr>\n",
       "    <tr>\n",
       "      <th>413</th>\n",
       "      <td>1305</td>\n",
       "      <td>3</td>\n",
       "      <td>28.0</td>\n",
       "      <td>0</td>\n",
       "      <td>0</td>\n",
       "      <td>1</td>\n",
       "      <td>0</td>\n",
       "      <td>0.0</td>\n",
       "      <td>0.0</td>\n",
       "      <td>1.0</td>\n",
       "      <td>0.0</td>\n",
       "      <td>1.0</td>\n",
       "    </tr>\n",
       "    <tr>\n",
       "      <th>414</th>\n",
       "      <td>1306</td>\n",
       "      <td>1</td>\n",
       "      <td>39.0</td>\n",
       "      <td>0</td>\n",
       "      <td>0</td>\n",
       "      <td>2</td>\n",
       "      <td>3</td>\n",
       "      <td>1.0</td>\n",
       "      <td>0.0</td>\n",
       "      <td>0.0</td>\n",
       "      <td>1.0</td>\n",
       "      <td>0.0</td>\n",
       "    </tr>\n",
       "    <tr>\n",
       "      <th>415</th>\n",
       "      <td>1307</td>\n",
       "      <td>3</td>\n",
       "      <td>38.5</td>\n",
       "      <td>0</td>\n",
       "      <td>0</td>\n",
       "      <td>1</td>\n",
       "      <td>5</td>\n",
       "      <td>0.0</td>\n",
       "      <td>0.0</td>\n",
       "      <td>1.0</td>\n",
       "      <td>0.0</td>\n",
       "      <td>1.0</td>\n",
       "    </tr>\n",
       "    <tr>\n",
       "      <th>416</th>\n",
       "      <td>1308</td>\n",
       "      <td>3</td>\n",
       "      <td>28.0</td>\n",
       "      <td>0</td>\n",
       "      <td>0</td>\n",
       "      <td>2</td>\n",
       "      <td>2</td>\n",
       "      <td>0.0</td>\n",
       "      <td>0.0</td>\n",
       "      <td>1.0</td>\n",
       "      <td>0.0</td>\n",
       "      <td>1.0</td>\n",
       "    </tr>\n",
       "    <tr>\n",
       "      <th>417</th>\n",
       "      <td>1309</td>\n",
       "      <td>3</td>\n",
       "      <td>28.0</td>\n",
       "      <td>1</td>\n",
       "      <td>1</td>\n",
       "      <td>1</td>\n",
       "      <td>5</td>\n",
       "      <td>1.0</td>\n",
       "      <td>0.0</td>\n",
       "      <td>0.0</td>\n",
       "      <td>0.0</td>\n",
       "      <td>1.0</td>\n",
       "    </tr>\n",
       "  </tbody>\n",
       "</table>\n",
       "<p>418 rows × 12 columns</p>\n",
       "</div>"
      ],
      "text/plain": [
       "     PassengerId  Pclass   Age  SibSp  Parch  Age Groups  Fare Groups  \\\n",
       "0            892       3  34.5      0      0           1            3   \n",
       "1            893       3  47.0      1      0           2            4   \n",
       "2            894       2  62.0      0      0           1            3   \n",
       "3            895       3  27.0      0      0           2            2   \n",
       "4            896       3  22.0      1      1           2            5   \n",
       "..           ...     ...   ...    ...    ...         ...          ...   \n",
       "413         1305       3  28.0      0      0           1            0   \n",
       "414         1306       1  39.0      0      0           2            3   \n",
       "415         1307       3  38.5      0      0           1            5   \n",
       "416         1308       3  28.0      0      0           2            2   \n",
       "417         1309       3  28.0      1      1           1            5   \n",
       "\n",
       "     Embarked_C  Embarked_Q  Embarked_S  Sex_female  Sex_male  \n",
       "0           0.0         1.0         0.0         0.0       1.0  \n",
       "1           0.0         0.0         1.0         1.0       0.0  \n",
       "2           0.0         1.0         0.0         0.0       1.0  \n",
       "3           0.0         0.0         1.0         0.0       1.0  \n",
       "4           0.0         0.0         1.0         1.0       0.0  \n",
       "..          ...         ...         ...         ...       ...  \n",
       "413         0.0         0.0         1.0         0.0       1.0  \n",
       "414         1.0         0.0         0.0         1.0       0.0  \n",
       "415         0.0         0.0         1.0         0.0       1.0  \n",
       "416         0.0         0.0         1.0         0.0       1.0  \n",
       "417         1.0         0.0         0.0         0.0       1.0  \n",
       "\n",
       "[418 rows x 12 columns]"
      ]
     },
     "metadata": {},
     "output_type": "display_data"
    }
   ],
   "source": [
    "# e. Criar novas features para realizar o label encoding das features que contém um ordenamento claro, e depois retirar as features categóricas que foram codificadas.\n",
    "\n",
    "from sklearn.preprocessing import LabelEncoder\n",
    "LEnc = LabelEncoder()\n",
    "\n",
    "enc_train_data['Age Groups'] = LEnc.fit_transform(enc_train_data['Age Groups'])\n",
    "enc_test_data['Age Groups'] = LEnc.transform(enc_test_data['Age Groups'])\n",
    "\n",
    "enc_train_data['Fare Groups'] = LEnc.fit_transform(enc_train_data['Fare Groups'])\n",
    "enc_test_data['Fare Groups'] = LEnc.transform(enc_test_data['Fare Groups'])\n",
    "\n",
    "display('Dataframe de treino encoded: ', enc_train_data,'Dataframe de teste encoded: ', enc_test_data)"
   ]
  },
  {
   "cell_type": "markdown",
   "metadata": {},
   "source": [
    "### 2. Agora será realizado um novo treinamento e avaliação de modelo, os passos serão os mesmo realizados no item 6.1 g), mas agora com o banco de dados que é resultado do encoding das variáveis categóricas. Após essa avaliação, será possível notar a evolução da precisão do modelo produzido utilizando essas novas técnicas."
   ]
  },
  {
   "cell_type": "code",
   "execution_count": 41,
   "metadata": {},
   "outputs": [
    {
     "name": "stdout",
     "output_type": "stream",
     "text": [
      "0.7821229050279329\n"
     ]
    }
   ],
   "source": [
    "X = enc_train_data.drop('Survived', axis=1)\n",
    "y = enc_train_data.Survived\n",
    "\n",
    "train_X,val_X, train_y,val_y = train_test_split(X,y,random_state=1,train_size=0.8)\n",
    "\n",
    "enc_titanic_model = RandomForestClassifier(random_state=1)\n",
    "\n",
    "enc_titanic_model.fit(train_X,train_y)\n",
    "enc_titanic_model.predict(val_X)\n",
    "\n",
    "print(accuracy_score(val_y,enc_titanic_model.predict(val_X)))"
   ]
  },
  {
   "cell_type": "code",
   "execution_count": 42,
   "metadata": {},
   "outputs": [],
   "source": [
    "# Gerar predição, salvar a versão e submeter à competição:\n",
    "\n",
    "enc_titanic_model.fit(X,y)\n",
    "\n",
    "enc_index = enc_test_data.index\n",
    "\n",
    "enc_test_X = enc_test_data[enc_train_data.drop('Survived', axis=1).columns]\n",
    "\n",
    "enc_titanic_model.predict(enc_test_X)\n",
    "\n",
    "enc_titanic_submission = pd.DataFrame({'PassengerId':index,'Survived':enc_titanic_model.predict(enc_test_X)}).set_index('PassengerId')\n",
    "enc_titanic_submission\n",
    "\n",
    "enc_titanic_submission.to_csv('enc_titanic.csv')"
   ]
  },
  {
   "cell_type": "markdown",
   "metadata": {},
   "source": [
    "# 8.2 - Pipelines"
   ]
  },
  {
   "cell_type": "markdown",
   "metadata": {},
   "source": [
    "### 1. Deverá ser criada uma função que produz e avalia pipelines que utilizam diversas estratégias de imputing de valores nulos e encoding de variáveis categóricas."
   ]
  },
  {
   "cell_type": "code",
   "execution_count": 43,
   "metadata": {},
   "outputs": [],
   "source": [
    "# a. Colocar de volta os valores nulos das colunas “Age” e “Embarked” do dataframe de treino, utilizando as colunas do banco de dados original. Lembrando que,\n",
    "# ao iniciar este notebook, foi feita uma cópia deste banco de dados.\n",
    "\n",
    "train_topip = train_rlvnt.copy()\n",
    "test_topip = test_rlvnt.copy()\n",
    "\n",
    "for i in ['Age','Embarked']:\n",
    "    train_topip[i]=train_toclean[i]\n",
    "    test_topip[i]=test_toclean[i]"
   ]
  },
  {
   "cell_type": "code",
   "execution_count": 44,
   "metadata": {},
   "outputs": [],
   "source": [
    "# b. Criar uma função que produza e avalie pipelines que utilizam estratégias indicadas nos argumentos:\n",
    "\n",
    "from sklearn.compose import ColumnTransformer\n",
    "from sklearn.pipeline import Pipeline\n",
    "from sklearn.impute import SimpleImputer\n",
    "from sklearn.preprocessing import OrdinalEncoder\n",
    "\n",
    "OEnc = OrdinalEncoder()\n",
    "\n",
    "## i. Argumentos:\n",
    "def AvPip(df, encoder, num_stg, cat_stg = 'most_frequent', model = RandomForestClassifier(random_state=1)):\n",
    "    \n",
    "    X = df.drop(['Survived'], axis=1)\n",
    "    y = df.Survived\n",
    "    \n",
    "    \n",
    "    ## ii. Definir as features e o target que serão usados para treinar o modelo e separar o banco de dados utilizando o train-test split.\n",
    "    train_X, val_X, train_y, val_y = train_test_split(X, y, random_state=1,train_size=0.8)\n",
    "\n",
    "    cat_cols = train_X.select_dtypes('object').columns\n",
    "    num_cols = train_X.select_dtypes(['int64','float64']).columns\n",
    "\n",
    "    cat_transformer = Pipeline(steps=[('imputer', SimpleImputer(strategy=cat_stg)),('encoder', encoder)])\n",
    "\n",
    "\n",
    "    ## iii. Criar um preprocessor que: para as features numéricas, utilize o imputer indicado por “numerical_imputer”; para as categóricas,\n",
    "    ## utilize o imputer fornecido em “categorical_imputer” e como encoder utilize o argumento “encoder”.\n",
    "    preprocessor = ColumnTransformer(transformers=[('num', SimpleImputer(strategy=num_stg), num_cols),('cat', cat_transformer, cat_cols)])\n",
    "\n",
    "    ## iv. Produzir pipeline utilizando o preprocessor previamente construído e o modelo do argumento “model”.\n",
    "    pip = Pipeline(steps=[('Preprocessor', preprocessor), ('model', model)])\n",
    "\n",
    "\n",
    "    ## v. Realizar o treinamento da pipeline, gerar predições e avaliar utilizando accuracy score.\n",
    "    pip.fit(train_X, train_y)\n",
    "    \n",
    "    \n",
    "    ## vi. A função deve retornar o resultado da avaliação em porcentagem.\n",
    "    return round(accuracy_score(val_y,pip.predict(val_X)),6) * 100"
   ]
  },
  {
   "cell_type": "markdown",
   "metadata": {},
   "source": [
    "### 3. Aqui serão feitas duas listas, uma com algumas estratégias de imputing de valores nulos e outra com os encoders que foram utilizados até agora. O label encoder deve ter substituído pelo ordinal encoder, ambos têm o mesmo resultado, contudo o ordinal é feito para decodificar features, e o label, para o target. Acesse estas referências para entender sobre a utilização do Simple Imputer e Ordinal encoder"
   ]
  },
  {
   "cell_type": "code",
   "execution_count": 45,
   "metadata": {},
   "outputs": [],
   "source": [
    "# a. Definir as 4 seguintes estratégias para imputing:\n",
    "\n",
    "imputers = ['mean', 'most_frequent', 'median', 'constant']"
   ]
  },
  {
   "cell_type": "code",
   "execution_count": 46,
   "metadata": {},
   "outputs": [],
   "source": [
    "# b. Definir as 2 estratégias para encoding:\n",
    "\n",
    "encoders = [OEnc, OHEnc]"
   ]
  },
  {
   "cell_type": "markdown",
   "metadata": {},
   "source": [
    "### 4. A partir da função de criação de pipelines e das listas de encoders e imputers, criar um loop que produza todas as combinações possíveis dessas estratégias, e mostre o resultado da avaliação de precisão de cada pipeline produzida no loop. (OBS: terá que ser usado um “for” dentro de outro)."
   ]
  },
  {
   "cell_type": "code",
   "execution_count": 47,
   "metadata": {},
   "outputs": [
    {
     "data": {
      "text/plain": [
       "['78.7709%, para encoder OrdinalEncoder() e estratégia mean',\n",
       " '78.7709%, para encoder OrdinalEncoder() e estratégia most_frequent',\n",
       " '78.2123%, para encoder OrdinalEncoder() e estratégia median',\n",
       " '75.9777%, para encoder OrdinalEncoder() e estratégia constant',\n",
       " \"77.6536%, para encoder OneHotEncoder(handle_unknown='ignore', sparse_output=False) e estratégia mean\",\n",
       " \"77.6536%, para encoder OneHotEncoder(handle_unknown='ignore', sparse_output=False) e estratégia most_frequent\",\n",
       " \"79.3296%, para encoder OneHotEncoder(handle_unknown='ignore', sparse_output=False) e estratégia median\",\n",
       " \"79.3296%, para encoder OneHotEncoder(handle_unknown='ignore', sparse_output=False) e estratégia constant\"]"
      ]
     },
     "execution_count": 47,
     "metadata": {},
     "output_type": "execute_result"
    }
   ],
   "source": [
    "pip_results = []\n",
    "\n",
    "for i in encoders:\n",
    "    for j in imputers:\n",
    "        pip_results.append('{}%, para encoder {} e estratégia {}'.format(AvPip(train_topip, i, j), i, j))\n",
    "\n",
    "pip_results"
   ]
  },
  {
   "cell_type": "markdown",
   "metadata": {},
   "source": [
    "### 5. Avalie se alguma dessas estratégias usadas separadamente, gerou uma precisão do modelo maior que suas utilizações mescladas, que foi a estratégia realizada para produzir o modelo antes das pipelines.\n",
    "\n",
    "Note que, das estratégias implementadas, as 2 primeiras e as 2 últimas foram as que obtiveram resultado maior do que o do item 8.1"
   ]
  },
  {
   "cell_type": "markdown",
   "metadata": {},
   "source": [
    "# 8.3 - Cross Validation e Gradient Boosting"
   ]
  },
  {
   "cell_type": "markdown",
   "metadata": {},
   "source": [
    "### 1. O cross validation é uma maneira melhor para avaliar os modelos com os quais estamos lidando. Portanto, o modelo que melhor se saiu nos teste até agora, deverá ser avaliado utilizando este método. Como resultado será utilizada a média entre as avaliações, lembre-se de utilizar o scoring = “accuracy”."
   ]
  },
  {
   "cell_type": "code",
   "execution_count": 48,
   "metadata": {},
   "outputs": [
    {
     "data": {
      "text/plain": [
       "[74.8603, 82.0225, 85.9551, 84.8315, 84.8315]"
      ]
     },
     "execution_count": 48,
     "metadata": {},
     "output_type": "execute_result"
    }
   ],
   "source": [
    "from sklearn.model_selection import cross_val_score\n",
    "\n",
    "#dos modelos com as melhores avaliações, escolheremos a combinação de OneHot com a estratégia 'median'\n",
    "\n",
    "train_tocrssval = train_topip.copy()\n",
    "\n",
    "X = train_tocrssval.drop(['Survived'], axis=1)\n",
    "y = train_tocrssval.Survived\n",
    "\n",
    "cat_cols = X.select_dtypes('object').columns\n",
    "num_cols = X.select_dtypes(['int64','float64']).columns\n",
    "\n",
    "cat_transformer = Pipeline(steps=[('imputer', SimpleImputer(strategy='most_frequent')),('encoder', OHEnc)])\n",
    "\n",
    "preprocessor = ColumnTransformer(transformers=[('num', SimpleImputer(strategy='median'), num_cols),('cat', cat_transformer, cat_cols)])\n",
    "\n",
    "pip = Pipeline(steps=[('Preprocessor', preprocessor), ('model', RandomForestClassifier(random_state=1))])\n",
    "\n",
    "crssval_results = list(cross_val_score(pip, X, y, cv=5, scoring='accuracy'))\n",
    "\n",
    "crssval_results\n",
    "\n",
    "for i in range(len(crssval_results)):\n",
    "    crssval_results[i] = round(crssval_results[i], 6) * 100\n",
    "\n",
    "crssval_results"
   ]
  },
  {
   "cell_type": "markdown",
   "metadata": {},
   "source": [
    "### 2. Assim como o Random Forest, o XGBoost também tem seu equivalente como classifier. O Gradient Boosting Classifier será utilizado agora para gerar um novo modelo, a partir do dataframe que foi manipulado com as melhores estratégias até agora."
   ]
  },
  {
   "cell_type": "code",
   "execution_count": 49,
   "metadata": {},
   "outputs": [],
   "source": [
    "# a. Importar o Gradient Boosting Classifier, utilizando random state = 0 e n_iter_no_change = 100 (Entender o que são esses parâmetros a partir da documentação do algoritmo);\n",
    "\n",
    "from sklearn.ensemble import GradientBoostingClassifier\n",
    "\n",
    "gbc_pip = Pipeline(steps=[('Preprocessor', preprocessor), ('model', GradientBoostingClassifier(random_state = 0, n_iter_no_change = 100))])"
   ]
  },
  {
   "cell_type": "code",
   "execution_count": 50,
   "metadata": {},
   "outputs": [],
   "source": [
    "# b. Determinar as features e o target que serão utilizados para gerar o modelo;\n",
    "# c. Treinar e avaliar o modelo utilizando cross validation;\n",
    "\n",
    "gbc_results = list(cross_val_score(gbc_pip, X, y, cv=5, scoring='accuracy'))"
   ]
  },
  {
   "cell_type": "code",
   "execution_count": 51,
   "metadata": {},
   "outputs": [
    {
     "data": {
      "text/plain": [
       "[61.4525, 82.5843, 80.33709999999999, 82.5843, 84.8315]"
      ]
     },
     "execution_count": 51,
     "metadata": {},
     "output_type": "execute_result"
    }
   ],
   "source": [
    "# d. A partir da nota gerada pela avaliação, determinar qual algoritmo se saiu melhor, Random Forest ou Gradient Boosting.\n",
    "\n",
    "for i in range(len(crssval_results)):\n",
    "    gbc_results[i] = round(gbc_results[i], 6) * 100\n",
    "\n",
    "gbc_results"
   ]
  },
  {
   "cell_type": "markdown",
   "metadata": {},
   "source": [
    "# 9.1 - Feature Selection"
   ]
  },
  {
   "cell_type": "markdown",
   "metadata": {},
   "source": [
    "### 1. O primeiro passo é a avaliação da importância de cada feature que já está no banco de dados de teste, para isso será criada uma função que produza um gráfico indicado o Mutual Information Score de cada feature existente no banco de dados de treino, em relação ao target:"
   ]
  },
  {
   "cell_type": "code",
   "execution_count": 52,
   "metadata": {},
   "outputs": [],
   "source": [
    "# a. Determinar quais são as features discretas; (apenas as features “Age” e “Fare” não são discretas);\n",
    "\n",
    "from sklearn.feature_selection import mutual_info_classif\n",
    "\n",
    "train_toeng = unf_train_data.drop(['Ticket','Cabin','Name'], axis = 1)\n",
    "\n",
    "unf_cat_cols = train_toeng.select_dtypes('object').columns\n",
    "unf_num_cols = train_toeng.select_dtypes(['int64','float64']).columns\n",
    "\n",
    "train_toeng[unf_cat_cols] = SimpleImputer(strategy = 'most_frequent').fit_transform(train_toeng[unf_cat_cols])\n",
    "train_toeng[unf_num_cols] = SimpleImputer(strategy = 'median').fit_transform(train_toeng[unf_num_cols])\n",
    "\n",
    "X = train_toeng.drop('Survived', axis = 1)\n",
    "y = train_toeng['Survived']\n",
    "\n",
    "disc_features = X.dtypes == int"
   ]
  },
  {
   "cell_type": "code",
   "execution_count": 53,
   "metadata": {},
   "outputs": [],
   "source": [
    "# b. Criar a função que produza o gráfico de MI scores:\n",
    "\n",
    "\n",
    "## i. Argumentos:\n",
    "def PlotMI(features, target, discrete_features):\n",
    "\n",
    "    for col in features.select_dtypes('object').columns:\n",
    "        features[col], _ = features[col].factorize()\n",
    "    \n",
    "    \n",
    "    ## ii. Gerar MI scores e produzir uma série do pandas com estes valore ordenados de forma descendente;\n",
    "    mi_scores = mutual_info_classif(features, target, discrete_features = discrete_features, random_state=0)\n",
    "    mi_scores = pd.Series(mi_scores, name=\"MI Scores\", index=features.columns)\n",
    "    mi_scores = mi_scores.sort_values(ascending=False)\n",
    "   \n",
    "   \n",
    "    ## iii. Criar um gráfico de barras que indique a pontuação de cada features;\n",
    "    plt_scores = mi_scores.sort_values(ascending=True)\n",
    "    width = np.arange(len(plt_scores))\n",
    "    ticks = list(plt_scores.index)\n",
    "    plt.barh(width, plt_scores)\n",
    "    plt.yticks(width, ticks)\n",
    "    plt.title(\"Pontuação de Informação Mútua de Scores\")\n",
    "\n",
    "    \n",
    "    ## iv. A função deve retornar a série que contém os MI scores.\n",
    "    return mi_scores"
   ]
  },
  {
   "cell_type": "code",
   "execution_count": 55,
   "metadata": {},
   "outputs": [
    {
     "data": {
      "image/png": "[encoded data removed]",
      "text/plain": [
       "<Figure size 640x480 with 1 Axes>"
      ]
     },
     "metadata": {},
     "output_type": "display_data"
    }
   ],
   "source": [
    "# c. Determinar quais são as features que serão utilizadas na função e o target;\n",
    "# d. Produzir gráfico a partir da função e dos argumentos necessários.\n",
    "\n",
    "PlotMI(X, y, disc_features)\n",
    "\n",
    "plt.show()"
   ]
  },
  {
   "cell_type": "markdown",
   "metadata": {},
   "source": [
    "### 2. Após a observação do gráfico gerado é possível concluir que as features que as features com maior influência no target são “Fare”, “Sex” e “Age”, por este motivo, elas serão analisadas mais a fundo por meio da utilização de gráficos. Para facilitar a visualização dos dados, é útil que seja usado um banco de dados que ainda contenha as features categóricas originais."
   ]
  },
  {
   "cell_type": "code",
   "execution_count": 70,
   "metadata": {},
   "outputs": [
    {
     "data": {
      "image/png": "[encoded data removed]",
      "text/plain": [
       "<Figure size 1000x600 with 2 Axes>"
      ]
     },
     "metadata": {},
     "output_type": "display_data"
    }
   ],
   "source": [
    "# a. Construir dois gráficos do tipo sns.histplot para a análise de “Fare”:\n",
    "\n",
    "fig, ax = plt.subplots(2,1, figsize=(10,6))\n",
    "\n",
    "\n",
    "## i. A distribuição total das taxas;\n",
    "sns.histplot(data=train_toeng, x='Fare', ax = ax[0])\n",
    "ax[0].title.set_text('Distribuição das Fares por Passageiro')\n",
    "\n",
    "\n",
    "## ii. A distribuição relacionada com o target;\n",
    "sns.histplot(data=train_toeng, x='Fare', hue='Survived', ax = ax[1])\n",
    "ax[1].title.set_text('Distribuição das Fares por Passageiros - Separados por Sobreviventes')\n",
    "\n",
    "\n",
    "fig.tight_layout()\n",
    "plt.show()"
   ]
  },
  {
   "cell_type": "markdown",
   "metadata": {},
   "source": [
    "#### iii. Realize uma análise em relação à distribuição total, se a curva é normal ou não, por exemplo. Qual a influência da feature “Fare” no target que pode ser percebida a partir do segundo gráfico?\n",
    "\n",
    "A curva apresentada é considerada como não sendo normal. A partir do segundo gáfico, nota-se a a influência da taca na sobrevivência, de forma positiva. Quanto maior a taxa, maior a relação de sobreiventes."
   ]
  },
  {
   "cell_type": "code",
   "execution_count": null,
   "metadata": {},
   "outputs": [
    {
     "data": {
      "image/png": "[encoded data removed]",
      "text/plain": [
       "<Figure size 1000x600 with 4 Axes>"
      ]
     },
     "metadata": {},
     "output_type": "display_data"
    }
   ],
   "source": [
    "# b. Agora serão criados 4 gráficos também utilizando histogramas com seaborn. Tais gráficos relacionam a Feature “Age” com “Sex”. Para facilitar a visualização\n",
    "# é indicada a utilização de plt.subplots, para a visualização de mais de um gráfico por output:\n",
    "\n",
    "fig, ax = plt.subplots(2,2, figsize=(10,6))\n",
    "\n",
    "\n",
    "## i. Distribuição da idade dos passageiros utilizando o sexo como camada;\n",
    "sns.histplot(data=train_toeng, x='Age', hue='Sex', ax=ax[0,0])\n",
    "ax[0,0].title.set_text('Relação de Idade com Sexo - Passageiros')\n",
    "\n",
    "\n",
    "## ii. A distribuição da idade dos passageiros, apenas entre os sobreviventes, utilizando o sexo como camada;\n",
    "sns.histplot(data=train_toeng.loc[train_toeng['Survived'] == 1], x='Age', hue='Sex', ax = ax[0,1])\n",
    "ax[0,1].title.set_text('Relação de Idade com Sexo - Sobreviventes')\n",
    "\n",
    "\n",
    "## iii. Distribuição da idade dos homens, utilizando “Survived” como camada;\n",
    "sns.histplot(data=train_toeng.loc[train_toeng['Sex'] == 'male'], x='Age', hue='Survived', ax = ax[1,0])\n",
    "ax[1,0].title.set_text('Relação de Idade com Sobrevivência - Homens')\n",
    "\n",
    "\n",
    "## iv. Distribuição da idade das mulheres, utilizando “Survived” como camada;\n",
    "sns.histplot(data=train_toeng.loc[train_toeng['Sex'] == 'female'], x='Age', hue='Survived', ax = ax[1,1])\n",
    "ax[1,1].title.set_text('Relação de Idade com Sobrevivência - Mulheres')\n",
    "\n",
    "\n",
    "fig.tight_layout()\n",
    "plt.show()"
   ]
  },
  {
   "cell_type": "markdown",
   "metadata": {},
   "source": [
    "#### v. Faça uma análise comparando a distribuição dos sobreviventes, comparando homens e mulheres e qual e como a idade influencia na chance de sobrevivência.\n",
    "\n",
    "Nota-se que a maioria dos passageiros possuía idades entre 20 e 30 anos e ram majoritariamente homens, especialmente nestafaixa. Ao analisarmos a taxa de sobrevivência, observamos uma tendência muito maior de sobrevivência das mulheres, especialmente nessa faixa etária."
   ]
  },
  {
   "cell_type": "markdown",
   "metadata": {},
   "source": [
    "# 9.2 - Feature Construction"
   ]
  },
  {
   "cell_type": "markdown",
   "metadata": {},
   "source": [
    "### 1. Na feature “Name” existe, para cada passageiro, um título, como “Mr” ou “Miss”. Esta informação pode ser útil, então podemos criar uma nova coluna para obter estes dados."
   ]
  },
  {
   "cell_type": "code",
   "execution_count": 71,
   "metadata": {},
   "outputs": [],
   "source": [
    "# a. A partir de “Name” criar a feature “Title” para separar os valores, primeiramente, pela vírgula, e depois pelo ponto. Para isso deve-se utilizar o método str.split,\n",
    "# lembre-se de criar uma nova coluna para armazenar estas informações, após isso, pode-se excluir a feature “Names”.\n",
    "\n",
    "train_toeng['Title'] = unf_train_data['Name'].str.split(',', n=1, expand=True)[1].str.split('.', n=1, expand=True)[0]"
   ]
  },
  {
   "cell_type": "markdown",
   "metadata": {},
   "source": [
    "### 2. Criar novas Features para resumir informações de outras já existentes, uma para indicar o número total de familiares de cada passageiro, sejam eles primos, filhos ou acompanhantes, e outra para informar se o passageiro está sozinho ou não."
   ]
  },
  {
   "cell_type": "code",
   "execution_count": 72,
   "metadata": {},
   "outputs": [],
   "source": [
    "# a. Criar feature que indique o tamanho da família, somando “SibSp” e “Parch”;\n",
    "\n",
    "train_toeng['FamSiz'] = train_toeng['SibSp'] + train_toeng['Parch']"
   ]
  },
  {
   "cell_type": "code",
   "execution_count": 73,
   "metadata": {},
   "outputs": [],
   "source": [
    "# b. Criar feature booleana indicando se o passageiro está sozinho, sendo, verdadeiro caso não tenha nenhum familiar a bordo, e falso caso tenha.\n",
    "\n",
    "train_toeng['Accompanied'] = train_toeng['SibSp'].gt(0) | train_toeng['Parch'].gt(0)"
   ]
  },
  {
   "cell_type": "code",
   "execution_count": 74,
   "metadata": {},
   "outputs": [
    {
     "data": {
      "application/vnd.microsoft.datawrangler.viewer.v0+json": {
       "columns": [
        {
         "name": "index",
         "rawType": "int64",
         "type": "integer"
        },
        {
         "name": "PassengerId",
         "rawType": "float64",
         "type": "float"
        },
        {
         "name": "Survived",
         "rawType": "float64",
         "type": "float"
        },
        {
         "name": "Pclass",
         "rawType": "float64",
         "type": "float"
        },
        {
         "name": "Sex",
         "rawType": "object",
         "type": "string"
        },
        {
         "name": "Age",
         "rawType": "float64",
         "type": "float"
        },
        {
         "name": "SibSp",
         "rawType": "float64",
         "type": "float"
        },
        {
         "name": "Parch",
         "rawType": "float64",
         "type": "float"
        },
        {
         "name": "Fare",
         "rawType": "float64",
         "type": "float"
        },
        {
         "name": "Embarked",
         "rawType": "object",
         "type": "string"
        },
        {
         "name": "Title",
         "rawType": "object",
         "type": "string"
        },
        {
         "name": "FamSiz",
         "rawType": "float64",
         "type": "float"
        },
        {
         "name": "Accompanied",
         "rawType": "bool",
         "type": "boolean"
        }
       ],
       "conversionMethod": "pd.DataFrame",
       "ref": "837036d1-1fa9-46c2-964b-078760acc3a2",
       "rows": [
        [
         "0",
         "1.0",
         "0.0",
         "3.0",
         "male",
         "22.0",
         "1.0",
         "0.0",
         "7.25",
         "S",
         " Mr",
         "1.0",
         "True"
        ],
        [
         "1",
         "2.0",
         "1.0",
         "1.0",
         "female",
         "38.0",
         "1.0",
         "0.0",
         "71.2833",
         "C",
         " Mrs",
         "1.0",
         "True"
        ],
        [
         "2",
         "3.0",
         "1.0",
         "3.0",
         "female",
         "26.0",
         "0.0",
         "0.0",
         "7.925",
         "S",
         " Miss",
         "0.0",
         "False"
        ],
        [
         "3",
         "4.0",
         "1.0",
         "1.0",
         "female",
         "35.0",
         "1.0",
         "0.0",
         "53.1",
         "S",
         " Mrs",
         "1.0",
         "True"
        ],
        [
         "4",
         "5.0",
         "0.0",
         "3.0",
         "male",
         "35.0",
         "0.0",
         "0.0",
         "8.05",
         "S",
         " Mr",
         "0.0",
         "False"
        ]
       ],
       "shape": {
        "columns": 12,
        "rows": 5
       }
      },
      "text/html": [
       "<div>\n",
       "<style scoped>\n",
       "    .dataframe tbody tr th:only-of-type {\n",
       "        vertical-align: middle;\n",
       "    }\n",
       "\n",
       "    .dataframe tbody tr th {\n",
       "        vertical-align: top;\n",
       "    }\n",
       "\n",
       "    .dataframe thead th {\n",
       "        text-align: right;\n",
       "    }\n",
       "</style>\n",
       "<table border=\"1\" class=\"dataframe\">\n",
       "  <thead>\n",
       "    <tr style=\"text-align: right;\">\n",
       "      <th></th>\n",
       "      <th>PassengerId</th>\n",
       "      <th>Survived</th>\n",
       "      <th>Pclass</th>\n",
       "      <th>Sex</th>\n",
       "      <th>Age</th>\n",
       "      <th>SibSp</th>\n",
       "      <th>Parch</th>\n",
       "      <th>Fare</th>\n",
       "      <th>Embarked</th>\n",
       "      <th>Title</th>\n",
       "      <th>FamSiz</th>\n",
       "      <th>Accompanied</th>\n",
       "    </tr>\n",
       "  </thead>\n",
       "  <tbody>\n",
       "    <tr>\n",
       "      <th>0</th>\n",
       "      <td>1.0</td>\n",
       "      <td>0.0</td>\n",
       "      <td>3.0</td>\n",
       "      <td>male</td>\n",
       "      <td>22.0</td>\n",
       "      <td>1.0</td>\n",
       "      <td>0.0</td>\n",
       "      <td>7.2500</td>\n",
       "      <td>S</td>\n",
       "      <td>Mr</td>\n",
       "      <td>1.0</td>\n",
       "      <td>True</td>\n",
       "    </tr>\n",
       "    <tr>\n",
       "      <th>1</th>\n",
       "      <td>2.0</td>\n",
       "      <td>1.0</td>\n",
       "      <td>1.0</td>\n",
       "      <td>female</td>\n",
       "      <td>38.0</td>\n",
       "      <td>1.0</td>\n",
       "      <td>0.0</td>\n",
       "      <td>71.2833</td>\n",
       "      <td>C</td>\n",
       "      <td>Mrs</td>\n",
       "      <td>1.0</td>\n",
       "      <td>True</td>\n",
       "    </tr>\n",
       "    <tr>\n",
       "      <th>2</th>\n",
       "      <td>3.0</td>\n",
       "      <td>1.0</td>\n",
       "      <td>3.0</td>\n",
       "      <td>female</td>\n",
       "      <td>26.0</td>\n",
       "      <td>0.0</td>\n",
       "      <td>0.0</td>\n",
       "      <td>7.9250</td>\n",
       "      <td>S</td>\n",
       "      <td>Miss</td>\n",
       "      <td>0.0</td>\n",
       "      <td>False</td>\n",
       "    </tr>\n",
       "    <tr>\n",
       "      <th>3</th>\n",
       "      <td>4.0</td>\n",
       "      <td>1.0</td>\n",
       "      <td>1.0</td>\n",
       "      <td>female</td>\n",
       "      <td>35.0</td>\n",
       "      <td>1.0</td>\n",
       "      <td>0.0</td>\n",
       "      <td>53.1000</td>\n",
       "      <td>S</td>\n",
       "      <td>Mrs</td>\n",
       "      <td>1.0</td>\n",
       "      <td>True</td>\n",
       "    </tr>\n",
       "    <tr>\n",
       "      <th>4</th>\n",
       "      <td>5.0</td>\n",
       "      <td>0.0</td>\n",
       "      <td>3.0</td>\n",
       "      <td>male</td>\n",
       "      <td>35.0</td>\n",
       "      <td>0.0</td>\n",
       "      <td>0.0</td>\n",
       "      <td>8.0500</td>\n",
       "      <td>S</td>\n",
       "      <td>Mr</td>\n",
       "      <td>0.0</td>\n",
       "      <td>False</td>\n",
       "    </tr>\n",
       "  </tbody>\n",
       "</table>\n",
       "</div>"
      ],
      "text/plain": [
       "   PassengerId  Survived  Pclass     Sex   Age  SibSp  Parch     Fare  \\\n",
       "0          1.0       0.0     3.0    male  22.0    1.0    0.0   7.2500   \n",
       "1          2.0       1.0     1.0  female  38.0    1.0    0.0  71.2833   \n",
       "2          3.0       1.0     3.0  female  26.0    0.0    0.0   7.9250   \n",
       "3          4.0       1.0     1.0  female  35.0    1.0    0.0  53.1000   \n",
       "4          5.0       0.0     3.0    male  35.0    0.0    0.0   8.0500   \n",
       "\n",
       "  Embarked  Title  FamSiz  Accompanied  \n",
       "0        S     Mr     1.0         True  \n",
       "1        C    Mrs     1.0         True  \n",
       "2        S   Miss     0.0        False  \n",
       "3        S    Mrs     1.0         True  \n",
       "4        S     Mr     0.0        False  "
      ]
     },
     "execution_count": 74,
     "metadata": {},
     "output_type": "execute_result"
    }
   ],
   "source": [
    "# Resultado\n",
    "\n",
    "train_toeng.head()"
   ]
  },
  {
   "cell_type": "markdown",
   "metadata": {},
   "source": [
    "# 9.3 - Feature Extraction"
   ]
  },
  {
   "cell_type": "markdown",
   "metadata": {},
   "source": [
    "### 1. No banco de dados em que estamos trabalhando existem duas features com valores contínuos, são \"Fare'' e “Age”, portanto, a partir da interação entre elas pode-se criar grupos utilizando K-means como forma de clustering."
   ]
  },
  {
   "cell_type": "code",
   "execution_count": null,
   "metadata": {},
   "outputs": [
    {
     "data": {
      "image/png": "[encoded data removed]",
      "text/plain": [
       "<Figure size 640x480 with 1 Axes>"
      ]
     },
     "metadata": {},
     "output_type": "display_data"
    }
   ],
   "source": [
    "# a. O primeiro passo é analisar a distribuição dos passageiros levando em consideração “Fare” e “Age”:\n",
    "\n",
    "from sklearn.cluster import KMeans\n",
    "\n",
    "\n",
    "## i. Produzir um gráfico, do tipo scatter plot, colocando “Age” e “Fare” como eixos.\n",
    "sns.scatterplot(x=train_toeng['Age'],y=train_toeng['Fare'])\n",
    "plt.title('Relação Entre Age e Fare')\n",
    "\n",
    "plt.show()\n",
    "\n",
    "## ii. Nesta distribuição é possível identificar outliers, esses valores devem ser retirados para que o algoritmo k-means, encontre os grupos da maneira correta.\n",
    "## Como esses valores podem ser retirados?\n",
    "## > Podemos remover os outliers usando o method pd.DataFrame.lt()"
   ]
  },
  {
   "cell_type": "code",
   "execution_count": 84,
   "metadata": {},
   "outputs": [
    {
     "name": "stderr",
     "output_type": "stream",
     "text": [
      "c:\\Users\\Cauan\\anaconda3\\Lib\\site-packages\\sklearn\\cluster\\_kmeans.py:1429: UserWarning: KMeans is known to have a memory leak on Windows with MKL, when there are less chunks than available threads. You can avoid it by setting the environment variable OMP_NUM_THREADS=4.\n",
      "  warnings.warn(\n"
     ]
    }
   ],
   "source": [
    "# b. Agora será necessário criar os grupos utilizando a biblioteca K-means do sklearn:\n",
    "\n",
    "\n",
    "## i. Crie um dataframe que contenha apenas as features “Age” e “Fare”, para remover os outliers, selecione apenas os passageiros que tenham as taxas menores que 500;\n",
    "AgeFare = train_toeng.loc[:, ['Age','Fare']].loc[train_toeng['Fare']<500]\n",
    "\n",
    "\n",
    "## ii. Crie um algoritmo k-means que produza 6 grupos;\n",
    "kmean = KMeans(n_clusters=6)\n",
    "\n",
    "\n",
    "## iii. Utilizando este algoritmo, produza uma nova coluna no dataframe criado, contendo os grupos de cada passageiro;\n",
    "AgeFare['Grupos'] = kmean.fit_predict(AgeFare)\n",
    "AgeFare['Grupos'] = AgeFare['Grupos'].astype('category')"
   ]
  },
  {
   "cell_type": "code",
   "execution_count": null,
   "metadata": {},
   "outputs": [
    {
     "name": "stderr",
     "output_type": "stream",
     "text": [
      "C:\\Users\\Cauan\\AppData\\Local\\Temp\\ipykernel_7496\\2306684939.py:12: FutureWarning: The default of observed=False is deprecated and will be changed to True in a future version of pandas. Pass observed=False to retain current behavior or observed=True to adopt the future default and silence this warning.\n",
      "  survivors_by_group = train_toeng.groupby('Grupos').agg({'Grupos':'count','Survived':'sum'})\n"
     ]
    },
    {
     "data": {
      "image/png": "[encoded data removed]",
      "text/plain": [
       "<Figure size 1000x1000 with 2 Axes>"
      ]
     },
     "metadata": {},
     "output_type": "display_data"
    }
   ],
   "source": [
    "# c. Agora será útil entender quais as características de cada grupo criado pelo algoritmo, para isso serão utilizados dois gráficos, um para identificar os grupos\n",
    "# na distribuição “Age” x “Fare”, outro para avaliá-los em relação à chance de sobrevivência:\n",
    "\n",
    "fig, ax = plt.subplots(2, 1, figsize = (10,10))\n",
    "\n",
    "\n",
    "## i. Adicionar a nova feature ao banco de dados de treino;\n",
    "train_toeng['Grupos'] = AgeFare['Grupos']\n",
    "\n",
    "\n",
    "## ii. Construir um gráfico scatter plot que mostra a distribuição “Fare” x “Age”, tendo os grupos como camadas;\n",
    "sns.scatterplot(x=train_toeng['Age'],y=train_toeng['Fare'], hue=train_toeng['Grupos'], ax = ax[0])\n",
    "ax[0].title.set_text('Relação Entre Age e Fare')\n",
    "\n",
    "survivors_by_group = train_toeng.groupby('Grupos').agg({'Grupos':'count','Survived':'sum'})\n",
    "survival_chnc = (survivors_by_group['Survived']/survivors_by_group['Grupos'])*100\n",
    "survival_chnc\n",
    "\n",
    "\n",
    "## iii. Um gráfico bar chart que indique a chance de sobrevivência, em média, de cada grupo;\n",
    "sns.barplot(x=survival_chnc.index, y=survival_chnc, ax = ax[1])\n",
    "ax[1].title.set_text('Chance de Sobrevivência por Grupo')\n",
    "\n",
    "fig.tight_layout()\n",
    "plt.show()"
   ]
  },
  {
   "cell_type": "markdown",
   "metadata": {},
   "source": [
    "#### iv. Faça uma análise qualitativa do que cada grupo representa e discuta sobre as chances de sobrevivência médias.\n",
    "\n",
    "Conclui-se através da análise dos gráficos que os grupos podem ser denominados como:\n",
    "\n",
    "0 - 'classe média', passageiros de todas as idades muito provavelmente de PClass 2;\n",
    "\n",
    "1 - 'classe baixa idosa', passageiros de idade mais avançada e provavelmente de PClass 3;\n",
    "\n",
    "2 - 'classe alta', passageiros de todas as idades e muito provavelmente de PClass 1;\n",
    "\n",
    "3 - 'classe baixa acendente', transição entre classe baixa e média, de todas as idades;\n",
    "\n",
    "4 - 'classe baixa jovem', passageiros adolescentes, jovens adultos e adultos, muito provavelmente de PClass 3;\n",
    "\n",
    "5 - 'classe infanto-juvenil', passageiros em sua maioria crianças mas que se estende até os adultos\n",
    "\n",
    "Nota-se o taxa de sobrevivência psotivamente influenciada pela taxa de pagamento, passageiros do grupo 0, 2 e 3 possuem as maiores taxas de sobrevivência, em conjunto com a taxa de sobrevivência negativamente influenciada pela idade, com os mais jovens com maior chance de sobreviver."
   ]
  },
  {
   "cell_type": "markdown",
   "metadata": {},
   "source": [
    "### 2. Ao analisarmos a nova feature, é fácil notar que existem valores nulos, estes valores correspondem aos outliers que foram retirados para a construção dos grupos. Para substituir os NaN, deve-se identificar quem são esses outliers e designar, manualmente, seu grupo:"
   ]
  },
  {
   "cell_type": "code",
   "execution_count": 93,
   "metadata": {},
   "outputs": [
    {
     "data": {
      "application/vnd.microsoft.datawrangler.viewer.v0+json": {
       "columns": [
        {
         "name": "index",
         "rawType": "int64",
         "type": "integer"
        },
        {
         "name": "PassengerId",
         "rawType": "float64",
         "type": "float"
        },
        {
         "name": "Survived",
         "rawType": "float64",
         "type": "float"
        },
        {
         "name": "Pclass",
         "rawType": "float64",
         "type": "float"
        },
        {
         "name": "Sex",
         "rawType": "object",
         "type": "string"
        },
        {
         "name": "Age",
         "rawType": "float64",
         "type": "float"
        },
        {
         "name": "SibSp",
         "rawType": "float64",
         "type": "float"
        },
        {
         "name": "Parch",
         "rawType": "float64",
         "type": "float"
        },
        {
         "name": "Fare",
         "rawType": "float64",
         "type": "float"
        },
        {
         "name": "Embarked",
         "rawType": "object",
         "type": "string"
        },
        {
         "name": "Title",
         "rawType": "object",
         "type": "string"
        },
        {
         "name": "FamSiz",
         "rawType": "float64",
         "type": "float"
        },
        {
         "name": "Accompanied",
         "rawType": "bool",
         "type": "boolean"
        },
        {
         "name": "Grupos",
         "rawType": "category",
         "type": "unknown"
        }
       ],
       "conversionMethod": "pd.DataFrame",
       "ref": "8cd52f5e-a3a2-4038-a7cc-f29941e0b751",
       "rows": [
        [
         "258",
         "259.0",
         "1.0",
         "1.0",
         "female",
         "35.0",
         "0.0",
         "0.0",
         "512.3292",
         "C",
         " Miss",
         "0.0",
         "False",
         null
        ],
        [
         "679",
         "680.0",
         "1.0",
         "1.0",
         "male",
         "36.0",
         "0.0",
         "1.0",
         "512.3292",
         "C",
         " Mr",
         "1.0",
         "True",
         null
        ],
        [
         "737",
         "738.0",
         "1.0",
         "1.0",
         "male",
         "35.0",
         "0.0",
         "0.0",
         "512.3292",
         "C",
         " Mr",
         "0.0",
         "False",
         null
        ]
       ],
       "shape": {
        "columns": 13,
        "rows": 3
       }
      },
      "text/html": [
       "<div>\n",
       "<style scoped>\n",
       "    .dataframe tbody tr th:only-of-type {\n",
       "        vertical-align: middle;\n",
       "    }\n",
       "\n",
       "    .dataframe tbody tr th {\n",
       "        vertical-align: top;\n",
       "    }\n",
       "\n",
       "    .dataframe thead th {\n",
       "        text-align: right;\n",
       "    }\n",
       "</style>\n",
       "<table border=\"1\" class=\"dataframe\">\n",
       "  <thead>\n",
       "    <tr style=\"text-align: right;\">\n",
       "      <th></th>\n",
       "      <th>PassengerId</th>\n",
       "      <th>Survived</th>\n",
       "      <th>Pclass</th>\n",
       "      <th>Sex</th>\n",
       "      <th>Age</th>\n",
       "      <th>SibSp</th>\n",
       "      <th>Parch</th>\n",
       "      <th>Fare</th>\n",
       "      <th>Embarked</th>\n",
       "      <th>Title</th>\n",
       "      <th>FamSiz</th>\n",
       "      <th>Accompanied</th>\n",
       "      <th>Grupos</th>\n",
       "    </tr>\n",
       "  </thead>\n",
       "  <tbody>\n",
       "    <tr>\n",
       "      <th>258</th>\n",
       "      <td>259.0</td>\n",
       "      <td>1.0</td>\n",
       "      <td>1.0</td>\n",
       "      <td>female</td>\n",
       "      <td>35.0</td>\n",
       "      <td>0.0</td>\n",
       "      <td>0.0</td>\n",
       "      <td>512.3292</td>\n",
       "      <td>C</td>\n",
       "      <td>Miss</td>\n",
       "      <td>0.0</td>\n",
       "      <td>False</td>\n",
       "      <td>NaN</td>\n",
       "    </tr>\n",
       "    <tr>\n",
       "      <th>679</th>\n",
       "      <td>680.0</td>\n",
       "      <td>1.0</td>\n",
       "      <td>1.0</td>\n",
       "      <td>male</td>\n",
       "      <td>36.0</td>\n",
       "      <td>0.0</td>\n",
       "      <td>1.0</td>\n",
       "      <td>512.3292</td>\n",
       "      <td>C</td>\n",
       "      <td>Mr</td>\n",
       "      <td>1.0</td>\n",
       "      <td>True</td>\n",
       "      <td>NaN</td>\n",
       "    </tr>\n",
       "    <tr>\n",
       "      <th>737</th>\n",
       "      <td>738.0</td>\n",
       "      <td>1.0</td>\n",
       "      <td>1.0</td>\n",
       "      <td>male</td>\n",
       "      <td>35.0</td>\n",
       "      <td>0.0</td>\n",
       "      <td>0.0</td>\n",
       "      <td>512.3292</td>\n",
       "      <td>C</td>\n",
       "      <td>Mr</td>\n",
       "      <td>0.0</td>\n",
       "      <td>False</td>\n",
       "      <td>NaN</td>\n",
       "    </tr>\n",
       "  </tbody>\n",
       "</table>\n",
       "</div>"
      ],
      "text/plain": [
       "     PassengerId  Survived  Pclass     Sex   Age  SibSp  Parch      Fare  \\\n",
       "258        259.0       1.0     1.0  female  35.0    0.0    0.0  512.3292   \n",
       "679        680.0       1.0     1.0    male  36.0    0.0    1.0  512.3292   \n",
       "737        738.0       1.0     1.0    male  35.0    0.0    0.0  512.3292   \n",
       "\n",
       "    Embarked  Title  FamSiz  Accompanied Grupos  \n",
       "258        C   Miss     0.0        False    NaN  \n",
       "679        C     Mr     1.0         True    NaN  \n",
       "737        C     Mr     0.0        False    NaN  "
      ]
     },
     "metadata": {},
     "output_type": "display_data"
    },
    {
     "name": "stderr",
     "output_type": "stream",
     "text": [
      "C:\\Users\\Cauan\\AppData\\Local\\Temp\\ipykernel_7496\\2655080059.py:9: FutureWarning: A value is trying to be set on a copy of a DataFrame or Series through chained assignment using an inplace method.\n",
      "The behavior will change in pandas 3.0. This inplace method will never work because the intermediate object on which we are setting values always behaves as a copy.\n",
      "\n",
      "For example, when doing 'df[col].method(value, inplace=True)', try using 'df.method({col: value}, inplace=True)' or df[col] = df[col].method(value) instead, to perform the operation inplace on the original object.\n",
      "\n",
      "\n",
      "  train_toeng['Grupos'].fillna(5, inplace=True)\n"
     ]
    }
   ],
   "source": [
    "# a. Identifique quem são os outliers;\n",
    "\n",
    "\n",
    "## i. Utilize o método .loc do pandas para localizar as linhas onde ocorrem os valores nulos da nova feature;\n",
    "display(train_toeng.loc[train_toeng['Grupos'].isnull()])\n",
    "\n",
    "\n",
    "## ii. Analise as características destes passageiros e defina qual grupo melhor encaixam.\n",
    "train_toeng['Grupos'].fillna(5, inplace=True)"
   ]
  },
  {
   "cell_type": "markdown",
   "metadata": {},
   "source": [
    "### 3. Agora avalie, utilizando mutual information, se a nova feature é significativa para a previsão do target (Utilize os passos mostrados em 9.1 - 1)."
   ]
  },
  {
   "cell_type": "code",
   "execution_count": 95,
   "metadata": {},
   "outputs": [
    {
     "data": {
      "image/png": "[encoded data removed]",
      "text/plain": [
       "<Figure size 640x480 with 1 Axes>"
      ]
     },
     "metadata": {},
     "output_type": "display_data"
    }
   ],
   "source": [
    "X = train_toeng.copy()\n",
    "y = X.pop('Survived')\n",
    "\n",
    "disc_features = X.dtypes == int\n",
    "\n",
    "PlotMI(X, y, disc_features)\n",
    "\n",
    "plt.show()"
   ]
  },
  {
   "cell_type": "markdown",
   "metadata": {},
   "source": [
    "### 4. As features originais não representam a mesma grandeza, “Age” conta a idade emanos e “Fare” a taxa de embarque em dólares, portanto, para que seja possível utilizar o PCA, deve-se primeiramente realizar os Scaling das variáveis. Para esta etapa será utilizado o MinMax Scaler do scikit learn:"
   ]
  },
  {
   "cell_type": "code",
   "execution_count": 96,
   "metadata": {},
   "outputs": [
    {
     "data": {
      "application/vnd.microsoft.datawrangler.viewer.v0+json": {
       "columns": [
        {
         "name": "index",
         "rawType": "int64",
         "type": "integer"
        },
        {
         "name": "Age",
         "rawType": "float64",
         "type": "float"
        },
        {
         "name": "Fare",
         "rawType": "float64",
         "type": "float"
        }
       ],
       "conversionMethod": "pd.DataFrame",
       "ref": "79fcc885-d0c6-4627-96ce-ee3829f782f5",
       "rows": [
        [
         "0",
         "0.2711736617240512",
         "0.014151057562208049"
        ],
        [
         "1",
         "0.4722292033174164",
         "0.13913573538264068"
        ],
        [
         "2",
         "0.32143754712239253",
         "0.015468569817999833"
        ],
        [
         "3",
         "0.4345312892686604",
         "0.10364429745562033"
        ],
        [
         "4",
         "0.4345312892686604",
         "0.015712553569072387"
        ],
        [
         "5",
         "0.34656948982156316",
         "0.01650950209357577"
        ],
        [
         "6",
         "0.6732847449107816",
         "0.10122885832000206"
        ],
        [
         "7",
         "0.01985423473234481",
         "0.04113566043083236"
        ],
        [
         "8",
         "0.33400351847197784",
         "0.021730754366528396"
        ],
        [
         "9",
         "0.17064589092736868",
         "0.058694292654020104"
        ],
        [
         "10",
         "0.04498617743151546",
         "0.03259622914329302"
        ],
        [
         "11",
         "0.723548630309123",
         "0.051822148727810165"
        ],
        [
         "12",
         "0.24604171902488062",
         "0.015712553569072387"
        ],
        [
         "13",
         "0.4847951746670017",
         "0.06104473451835265"
        ],
        [
         "14",
         "0.17064589092736868",
         "0.015330377421392339"
        ],
        [
         "15",
         "0.685850716260367",
         "0.03122992013728673"
        ],
        [
         "16",
         "0.01985423473234481",
         "0.05684821399990475"
        ],
        [
         "17",
         "0.34656948982156316",
         "0.025374310111545468"
        ],
        [
         "18",
         "0.38426740387031916",
         "0.03513366015444757"
        ],
        [
         "19",
         "0.34656948982156316",
         "0.014102260811993537"
        ],
        [
         "20",
         "0.4345312892686604",
         "0.050748620223090936"
        ],
        [
         "21",
         "0.4219653179190751",
         "0.025374310111545468"
        ],
        [
         "22",
         "0.18321186227695402",
         "0.015671954672893913"
        ],
        [
         "23",
         "0.34656948982156316",
         "0.06929138530460494"
        ],
        [
         "24",
         "0.09525006282985675",
         "0.04113566043083236"
        ],
        [
         "25",
         "0.4722292033174164",
         "0.06126431989431795"
        ],
        [
         "26",
         "0.34656948982156316",
         "0.014102260811993537"
        ],
        [
         "27",
         "0.2334757476752953",
         "0.5133418122566507"
        ],
        [
         "28",
         "0.34656948982156316",
         "0.01537917417160685"
        ],
        [
         "29",
         "0.34656948982156316",
         "0.015411575213749286"
        ],
        [
         "30",
         "0.49736114601658704",
         "0.05410739813385612"
        ],
        [
         "31",
         "0.34656948982156316",
         "0.2859895551532101"
        ],
        [
         "32",
         "0.34656948982156316",
         "0.015126992566498259"
        ],
        [
         "33",
         "0.8240764011058055",
         "0.020494635090094415"
        ],
        [
         "34",
         "0.34656948982156316",
         "0.16038672010106003"
        ],
        [
         "35",
         "0.5224930887157577",
         "0.10149724044618187"
        ],
        [
         "36",
         "0.34656948982156316",
         "0.014110458666029575"
        ],
        [
         "37",
         "0.2586076903744659",
         "0.015712553569072387"
        ],
        [
         "38",
         "0.22090977632571",
         "0.03513366015444757"
        ],
        [
         "39",
         "0.17064589092736868",
         "0.021942337075458514"
        ],
        [
         "40",
         "0.49736114601658704",
         "0.018493968331299484"
        ],
        [
         "41",
         "0.33400351847197784",
         "0.04098927018018883"
        ],
        [
         "42",
         "0.34656948982156316",
         "0.015411575213749286"
        ],
        [
         "43",
         "0.032420206081930136",
         "0.08115719346076702"
        ],
        [
         "44",
         "0.2334757476752953",
         "0.01537917417160685"
        ],
        [
         "45",
         "0.34656948982156316",
         "0.015712553569072387"
        ],
        [
         "46",
         "0.34656948982156316",
         "0.030253985132996517"
        ],
        [
         "47",
         "0.34656948982156316",
         "0.015126992566498259"
        ],
        [
         "48",
         "0.34656948982156316",
         "0.04231498029001666"
        ],
        [
         "49",
         "0.22090977632571",
         "0.034743286152731485"
        ]
       ],
       "shape": {
        "columns": 2,
        "rows": 891
       }
      },
      "text/html": [
       "<div>\n",
       "<style scoped>\n",
       "    .dataframe tbody tr th:only-of-type {\n",
       "        vertical-align: middle;\n",
       "    }\n",
       "\n",
       "    .dataframe tbody tr th {\n",
       "        vertical-align: top;\n",
       "    }\n",
       "\n",
       "    .dataframe thead th {\n",
       "        text-align: right;\n",
       "    }\n",
       "</style>\n",
       "<table border=\"1\" class=\"dataframe\">\n",
       "  <thead>\n",
       "    <tr style=\"text-align: right;\">\n",
       "      <th></th>\n",
       "      <th>Age</th>\n",
       "      <th>Fare</th>\n",
       "    </tr>\n",
       "  </thead>\n",
       "  <tbody>\n",
       "    <tr>\n",
       "      <th>0</th>\n",
       "      <td>0.271174</td>\n",
       "      <td>0.014151</td>\n",
       "    </tr>\n",
       "    <tr>\n",
       "      <th>1</th>\n",
       "      <td>0.472229</td>\n",
       "      <td>0.139136</td>\n",
       "    </tr>\n",
       "    <tr>\n",
       "      <th>2</th>\n",
       "      <td>0.321438</td>\n",
       "      <td>0.015469</td>\n",
       "    </tr>\n",
       "    <tr>\n",
       "      <th>3</th>\n",
       "      <td>0.434531</td>\n",
       "      <td>0.103644</td>\n",
       "    </tr>\n",
       "    <tr>\n",
       "      <th>4</th>\n",
       "      <td>0.434531</td>\n",
       "      <td>0.015713</td>\n",
       "    </tr>\n",
       "    <tr>\n",
       "      <th>...</th>\n",
       "      <td>...</td>\n",
       "      <td>...</td>\n",
       "    </tr>\n",
       "    <tr>\n",
       "      <th>886</th>\n",
       "      <td>0.334004</td>\n",
       "      <td>0.025374</td>\n",
       "    </tr>\n",
       "    <tr>\n",
       "      <th>887</th>\n",
       "      <td>0.233476</td>\n",
       "      <td>0.058556</td>\n",
       "    </tr>\n",
       "    <tr>\n",
       "      <th>888</th>\n",
       "      <td>0.346569</td>\n",
       "      <td>0.045771</td>\n",
       "    </tr>\n",
       "    <tr>\n",
       "      <th>889</th>\n",
       "      <td>0.321438</td>\n",
       "      <td>0.058556</td>\n",
       "    </tr>\n",
       "    <tr>\n",
       "      <th>890</th>\n",
       "      <td>0.396833</td>\n",
       "      <td>0.015127</td>\n",
       "    </tr>\n",
       "  </tbody>\n",
       "</table>\n",
       "<p>891 rows × 2 columns</p>\n",
       "</div>"
      ],
      "text/plain": [
       "          Age      Fare\n",
       "0    0.271174  0.014151\n",
       "1    0.472229  0.139136\n",
       "2    0.321438  0.015469\n",
       "3    0.434531  0.103644\n",
       "4    0.434531  0.015713\n",
       "..        ...       ...\n",
       "886  0.334004  0.025374\n",
       "887  0.233476  0.058556\n",
       "888  0.346569  0.045771\n",
       "889  0.321438  0.058556\n",
       "890  0.396833  0.015127\n",
       "\n",
       "[891 rows x 2 columns]"
      ]
     },
     "execution_count": 96,
     "metadata": {},
     "output_type": "execute_result"
    }
   ],
   "source": [
    "# a. Scaling das features “Age” e “Fare”, entre 0 e 1:\n",
    "\n",
    "from sklearn.preprocessing import MinMaxScaler\n",
    "\n",
    "\n",
    "## i. Criar um scaler utilizando minmax scaler;\n",
    "scaler = MinMaxScaler()\n",
    "\n",
    "\n",
    "## ii. Criar um dataframe para armazenar as features após o Scaling;\n",
    "scl_features = pd.DataFrame()\n",
    "\n",
    "\n",
    "## iii. Criar um loop que passe pelas duas features que serão escaladas:\n",
    "for i in ['Age','Fare']:\n",
    "    scl_features[i] = train_toeng[i]\n",
    "    scl_features[i] = scaler.fit_transform(scl_features[[i]])\n",
    "\n",
    "scl_features"
   ]
  },
  {
   "cell_type": "code",
   "execution_count": 99,
   "metadata": {},
   "outputs": [
    {
     "data": {
      "image/png": "[encoded data removed]",
      "text/plain": [
       "<Figure size 1000x600 with 2 Axes>"
      ]
     },
     "metadata": {},
     "output_type": "display_data"
    },
    {
     "data": {
      "image/png": "[encoded data removed]",
      "text/plain": [
       "<Figure size 1000x600 with 2 Axes>"
      ]
     },
     "metadata": {},
     "output_type": "display_data"
    },
    {
     "data": {
      "image/png": "[encoded data removed]",
      "text/plain": [
       "<Figure size 1000x600 with 2 Axes>"
      ]
     },
     "metadata": {},
     "output_type": "display_data"
    }
   ],
   "source": [
    "# b. Para garantir que o processo foi realizado com sucesso agora deve-se visualizar as duas colunas, elas devem ter seus valores entre 0 e 1 e manter sua forma original.\n",
    "\n",
    "fig, ax = plt.subplots(2,1, figsize=(10,6))\n",
    "\n",
    "\n",
    "## i. Fazer um histograma com a coluna “Age” do novo dataframe;\n",
    "sns.histplot(data=scl_features, x='Age', ax = ax[0])\n",
    "\n",
    "\n",
    "## ii. Fazer um histograma com a coluna “Fare” do novo dataframe.\n",
    "sns.histplot(data=scl_features, x='Fare', ax = ax[1])\n",
    "\n",
    "plt.show()"
   ]
  },
  {
   "cell_type": "markdown",
   "metadata": {},
   "source": [
    "### 5. Agora já é possível realizar o PCA, contudo, não há garantias que esta estratégia trará novas informações úteis para o modelo, portanto, é necessário, após a criação dos novos eixos, analisar criticamente se vale a pena introduzi-los ao banco de dados."
   ]
  },
  {
   "cell_type": "code",
   "execution_count": 101,
   "metadata": {},
   "outputs": [
    {
     "data": {
      "application/vnd.microsoft.datawrangler.viewer.v0+json": {
       "columns": [
        {
         "name": "index",
         "rawType": "object",
         "type": "string"
        },
        {
         "name": "PC1",
         "rawType": "float64",
         "type": "float"
        },
        {
         "name": "PC2",
         "rawType": "float64",
         "type": "float"
        }
       ],
       "conversionMethod": "pd.DataFrame",
       "ref": "3aec474b-2427-4b19-af4b-465af01e41eb",
       "rows": [
        [
         "Age",
         "0.9961754649404274",
         "-0.08737530000362351"
        ],
        [
         "Fare",
         "0.08737530000362351",
         "0.9961754649404274"
        ]
       ],
       "shape": {
        "columns": 2,
        "rows": 2
       }
      },
      "text/html": [
       "<div>\n",
       "<style scoped>\n",
       "    .dataframe tbody tr th:only-of-type {\n",
       "        vertical-align: middle;\n",
       "    }\n",
       "\n",
       "    .dataframe tbody tr th {\n",
       "        vertical-align: top;\n",
       "    }\n",
       "\n",
       "    .dataframe thead th {\n",
       "        text-align: right;\n",
       "    }\n",
       "</style>\n",
       "<table border=\"1\" class=\"dataframe\">\n",
       "  <thead>\n",
       "    <tr style=\"text-align: right;\">\n",
       "      <th></th>\n",
       "      <th>PC1</th>\n",
       "      <th>PC2</th>\n",
       "    </tr>\n",
       "  </thead>\n",
       "  <tbody>\n",
       "    <tr>\n",
       "      <th>Age</th>\n",
       "      <td>0.996175</td>\n",
       "      <td>-0.087375</td>\n",
       "    </tr>\n",
       "    <tr>\n",
       "      <th>Fare</th>\n",
       "      <td>0.087375</td>\n",
       "      <td>0.996175</td>\n",
       "    </tr>\n",
       "  </tbody>\n",
       "</table>\n",
       "</div>"
      ],
      "text/plain": [
       "           PC1       PC2\n",
       "Age   0.996175 -0.087375\n",
       "Fare  0.087375  0.996175"
      ]
     },
     "execution_count": 101,
     "metadata": {},
     "output_type": "execute_result"
    }
   ],
   "source": [
    "# a. Realizar o PCA no dataframe com features escaladas:\n",
    "\n",
    "from sklearn.decomposition import PCA\n",
    "\n",
    "\n",
    "## i. Criar um PCA utilizando a biblioteca do sklearn;\n",
    "pca = PCA()\n",
    "\n",
    "\n",
    "## ii. Ajustar e transformar o dataframe com features escaladas utilizando PCA;\n",
    "pca_features = pca.fit_transform(scl_features)\n",
    "\n",
    "\n",
    "## iii. Criar um dataframe com os novos dados após a transformação com PCA;\n",
    "component_names = [f\"PC{i+1}\" for i in range(pca_features.shape[1])]\n",
    "pca_features = pd.DataFrame(pca_features, columns=component_names)\n",
    "\n",
    "pca_features.head()\n",
    "\n",
    "\n",
    "## iv. Criar um dataframe com os valores que foram multiplicados os eixos das features “Age” e “Fare”;\n",
    "loadings = pd.DataFrame( pca.components_.T, columns=component_names, index=scl_features.columns)\n",
    "\n",
    "loadings"
   ]
  },
  {
   "cell_type": "markdown",
   "metadata": {},
   "source": [
    "### 6. Agora, o último passo será avaliar a nova feature criada pelo PCA, utilizando o mesmo processo encontrado no curso de Feature Engineering do kaggle, no capítulo Principal Component Analysis. É viável, com essas técnicas, a substituição das features “Fare” e “Age” por apenas uma?"
   ]
  },
  {
   "cell_type": "code",
   "execution_count": 103,
   "metadata": {},
   "outputs": [
    {
     "data": {
      "image/png": "[encoded data removed]",
      "text/plain": [
       "<Figure size 640x480 with 1 Axes>"
      ]
     },
     "metadata": {},
     "output_type": "display_data"
    }
   ],
   "source": [
    "# Agora, o último passo será avaliar a nova feature criada pelo PCA, utilizando o mesmo processo encontrado no curso de Feature Engineering\n",
    "# do kaggle, no capítulo Principal Component Analysis. É viável, com essas técnicas, a substituição das features “Fare” e “Age” por apenas uma?\n",
    "\n",
    "PlotMI(pca_features,y,discrete_features=False)\n",
    "plt.show()\n",
    "\n",
    "#Note que ambas as features tiveram um score bastante baixo e portanto não devem ser consideradas"
   ]
  }
 ],
 "metadata": {
  "kernelspec": {
   "display_name": "base",
   "language": "python",
   "name": "python3"
  },
  "language_info": {
   "codemirror_mode": {
    "name": "ipython",
    "version": 3
   },
   "file_extension": ".py",
   "mimetype": "text/x-python",
   "name": "python",
   "nbconvert_exporter": "python",
   "pygments_lexer": "ipython3",
   "version": "3.12.7"
  }
 },
 "nbformat": 4,
 "nbformat_minor": 2
}
