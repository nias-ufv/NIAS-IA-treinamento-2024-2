{
 "cells": [
  {
   "cell_type": "code",
   "execution_count": 1,
   "id": "24b22d3f",
   "metadata": {
    "_cell_guid": "b1076dfc-b9ad-4769-8c92-a6c4dae69d19",
    "_uuid": "8f2839f25d086af736a60e9eeb907d3b93b6e0e5",
    "execution": {
     "iopub.execute_input": "2025-03-01T05:08:55.690638Z",
     "iopub.status.busy": "2025-03-01T05:08:55.690212Z",
     "iopub.status.idle": "2025-03-01T05:08:59.249068Z",
     "shell.execute_reply": "2025-03-01T05:08:59.247645Z"
    },
    "papermill": {
     "duration": 3.569276,
     "end_time": "2025-03-01T05:08:59.250949",
     "exception": false,
     "start_time": "2025-03-01T05:08:55.681673",
     "status": "completed"
    },
    "tags": []
   },
   "outputs": [
    {
     "name": "stdout",
     "output_type": "stream",
     "text": [
      "Setup completo :)\n"
     ]
    }
   ],
   "source": [
    "# Importar as bibliotecas que irão ser utilizadas:\n",
    "\n",
    "# Para leitura de dados:\n",
    "import numpy as np\n",
    "import pandas as pd\n",
    "\n",
    "# Para criação de gráficos e visualização de informações:\n",
    "import matplotlib.pyplot as plt\n",
    "%matplotlib inline\n",
    "import seaborn as sns\n",
    "import warnings # To suppress some warnings\n",
    "warnings.filterwarnings(\"ignore\", category=FutureWarning, module=\"seaborn\")\n",
    "\n",
    "# Para montagem do modelo\n",
    "from sklearn.ensemble import RandomForestClassifier\n",
    "from sklearn.metrics import accuracy_score\n",
    "from sklearn.model_selection import train_test_split\n",
    "np.random.seed(0)\n",
    "\n",
    "print('Setup completo :)')"
   ]
  },
  {
   "cell_type": "markdown",
   "id": "29be838a",
   "metadata": {
    "papermill": {
     "duration": 0.006413,
     "end_time": "2025-03-01T05:08:59.264440",
     "exception": false,
     "start_time": "2025-03-01T05:08:59.258027",
     "status": "completed"
    },
    "tags": []
   },
   "source": [
    "# 10.1 - Exploração do banco de dados"
   ]
  },
  {
   "cell_type": "markdown",
   "id": "3f3c18cb",
   "metadata": {
    "papermill": {
     "duration": 0.006322,
     "end_time": "2025-03-01T05:08:59.277380",
     "exception": false,
     "start_time": "2025-03-01T05:08:59.271058",
     "status": "completed"
    },
    "tags": []
   },
   "source": [
    "### 1. O primeiro passo é importar e visualizar o banco de dados, rastrear os valores faltantes e identificar os momentos estatísticos existentes:"
   ]
  },
  {
   "cell_type": "code",
   "execution_count": 2,
   "id": "c61895f0",
   "metadata": {
    "execution": {
     "iopub.execute_input": "2025-03-01T05:08:59.292553Z",
     "iopub.status.busy": "2025-03-01T05:08:59.292019Z",
     "iopub.status.idle": "2025-03-01T05:08:59.870907Z",
     "shell.execute_reply": "2025-03-01T05:08:59.869761Z"
    },
    "papermill": {
     "duration": 0.588898,
     "end_time": "2025-03-01T05:08:59.872921",
     "exception": false,
     "start_time": "2025-03-01T05:08:59.284023",
     "status": "completed"
    },
    "tags": []
   },
   "outputs": [
    {
     "data": {
      "text/html": [
       "<div>\n",
       "<style scoped>\n",
       "    .dataframe tbody tr th:only-of-type {\n",
       "        vertical-align: middle;\n",
       "    }\n",
       "\n",
       "    .dataframe tbody tr th {\n",
       "        vertical-align: top;\n",
       "    }\n",
       "\n",
       "    .dataframe thead th {\n",
       "        text-align: right;\n",
       "    }\n",
       "</style>\n",
       "<table border=\"1\" class=\"dataframe\">\n",
       "  <thead>\n",
       "    <tr style=\"text-align: right;\">\n",
       "      <th></th>\n",
       "      <th>Formatted Date</th>\n",
       "      <th>Summary</th>\n",
       "      <th>Precip Type</th>\n",
       "      <th>Temperature (C)</th>\n",
       "      <th>Apparent Temperature (C)</th>\n",
       "      <th>Humidity</th>\n",
       "      <th>Wind Speed (km/h)</th>\n",
       "      <th>Wind Bearing (degrees)</th>\n",
       "      <th>Visibility (km)</th>\n",
       "      <th>Loud Cover</th>\n",
       "      <th>Pressure (millibars)</th>\n",
       "      <th>Daily Summary</th>\n",
       "    </tr>\n",
       "  </thead>\n",
       "  <tbody>\n",
       "    <tr>\n",
       "      <th>0</th>\n",
       "      <td>2006-04-01 00:00:00.000 +0200</td>\n",
       "      <td>Partly Cloudy</td>\n",
       "      <td>rain</td>\n",
       "      <td>9.472222</td>\n",
       "      <td>7.388889</td>\n",
       "      <td>0.89</td>\n",
       "      <td>14.1197</td>\n",
       "      <td>251.0</td>\n",
       "      <td>15.8263</td>\n",
       "      <td>0.0</td>\n",
       "      <td>1015.13</td>\n",
       "      <td>Partly cloudy throughout the day.</td>\n",
       "    </tr>\n",
       "    <tr>\n",
       "      <th>1</th>\n",
       "      <td>2006-04-01 01:00:00.000 +0200</td>\n",
       "      <td>Partly Cloudy</td>\n",
       "      <td>rain</td>\n",
       "      <td>9.355556</td>\n",
       "      <td>7.227778</td>\n",
       "      <td>0.86</td>\n",
       "      <td>14.2646</td>\n",
       "      <td>259.0</td>\n",
       "      <td>15.8263</td>\n",
       "      <td>0.0</td>\n",
       "      <td>1015.63</td>\n",
       "      <td>Partly cloudy throughout the day.</td>\n",
       "    </tr>\n",
       "    <tr>\n",
       "      <th>2</th>\n",
       "      <td>2006-04-01 02:00:00.000 +0200</td>\n",
       "      <td>Mostly Cloudy</td>\n",
       "      <td>rain</td>\n",
       "      <td>9.377778</td>\n",
       "      <td>9.377778</td>\n",
       "      <td>0.89</td>\n",
       "      <td>3.9284</td>\n",
       "      <td>204.0</td>\n",
       "      <td>14.9569</td>\n",
       "      <td>0.0</td>\n",
       "      <td>1015.94</td>\n",
       "      <td>Partly cloudy throughout the day.</td>\n",
       "    </tr>\n",
       "    <tr>\n",
       "      <th>3</th>\n",
       "      <td>2006-04-01 03:00:00.000 +0200</td>\n",
       "      <td>Partly Cloudy</td>\n",
       "      <td>rain</td>\n",
       "      <td>8.288889</td>\n",
       "      <td>5.944444</td>\n",
       "      <td>0.83</td>\n",
       "      <td>14.1036</td>\n",
       "      <td>269.0</td>\n",
       "      <td>15.8263</td>\n",
       "      <td>0.0</td>\n",
       "      <td>1016.41</td>\n",
       "      <td>Partly cloudy throughout the day.</td>\n",
       "    </tr>\n",
       "    <tr>\n",
       "      <th>4</th>\n",
       "      <td>2006-04-01 04:00:00.000 +0200</td>\n",
       "      <td>Mostly Cloudy</td>\n",
       "      <td>rain</td>\n",
       "      <td>8.755556</td>\n",
       "      <td>6.977778</td>\n",
       "      <td>0.83</td>\n",
       "      <td>11.0446</td>\n",
       "      <td>259.0</td>\n",
       "      <td>15.8263</td>\n",
       "      <td>0.0</td>\n",
       "      <td>1016.51</td>\n",
       "      <td>Partly cloudy throughout the day.</td>\n",
       "    </tr>\n",
       "  </tbody>\n",
       "</table>\n",
       "</div>"
      ],
      "text/plain": [
       "                  Formatted Date        Summary Precip Type  Temperature (C)  \\\n",
       "0  2006-04-01 00:00:00.000 +0200  Partly Cloudy        rain         9.472222   \n",
       "1  2006-04-01 01:00:00.000 +0200  Partly Cloudy        rain         9.355556   \n",
       "2  2006-04-01 02:00:00.000 +0200  Mostly Cloudy        rain         9.377778   \n",
       "3  2006-04-01 03:00:00.000 +0200  Partly Cloudy        rain         8.288889   \n",
       "4  2006-04-01 04:00:00.000 +0200  Mostly Cloudy        rain         8.755556   \n",
       "\n",
       "   Apparent Temperature (C)  Humidity  Wind Speed (km/h)  \\\n",
       "0                  7.388889      0.89            14.1197   \n",
       "1                  7.227778      0.86            14.2646   \n",
       "2                  9.377778      0.89             3.9284   \n",
       "3                  5.944444      0.83            14.1036   \n",
       "4                  6.977778      0.83            11.0446   \n",
       "\n",
       "   Wind Bearing (degrees)  Visibility (km)  Loud Cover  Pressure (millibars)  \\\n",
       "0                   251.0          15.8263         0.0               1015.13   \n",
       "1                   259.0          15.8263         0.0               1015.63   \n",
       "2                   204.0          14.9569         0.0               1015.94   \n",
       "3                   269.0          15.8263         0.0               1016.41   \n",
       "4                   259.0          15.8263         0.0               1016.51   \n",
       "\n",
       "                       Daily Summary  \n",
       "0  Partly cloudy throughout the day.  \n",
       "1  Partly cloudy throughout the day.  \n",
       "2  Partly cloudy throughout the day.  \n",
       "3  Partly cloudy throughout the day.  \n",
       "4  Partly cloudy throughout the day.  "
      ]
     },
     "execution_count": 2,
     "metadata": {},
     "output_type": "execute_result"
    }
   ],
   "source": [
    "# a. Importar o banco de dados utilizando o pandas;\n",
    "unf_train_data = pd.read_csv('/kaggle/input/szeged-weather/weatherHistory.csv')\n",
    "unf_train_data.head()"
   ]
  },
  {
   "cell_type": "code",
   "execution_count": 3,
   "id": "bea05399",
   "metadata": {
    "execution": {
     "iopub.execute_input": "2025-03-01T05:08:59.888498Z",
     "iopub.status.busy": "2025-03-01T05:08:59.888092Z",
     "iopub.status.idle": "2025-03-01T05:08:59.927562Z",
     "shell.execute_reply": "2025-03-01T05:08:59.926522Z"
    },
    "papermill": {
     "duration": 0.049393,
     "end_time": "2025-03-01T05:08:59.929473",
     "exception": false,
     "start_time": "2025-03-01T05:08:59.880080",
     "status": "completed"
    },
    "tags": []
   },
   "outputs": [
    {
     "data": {
      "text/plain": [
       "Formatted Date                0\n",
       "Summary                       0\n",
       "Precip Type                 517\n",
       "Temperature (C)               0\n",
       "Apparent Temperature (C)      0\n",
       "Humidity                      0\n",
       "Wind Speed (km/h)             0\n",
       "Wind Bearing (degrees)        0\n",
       "Visibility (km)               0\n",
       "Loud Cover                    0\n",
       "Pressure (millibars)          0\n",
       "Daily Summary                 0\n",
       "dtype: int64"
      ]
     },
     "execution_count": 3,
     "metadata": {},
     "output_type": "execute_result"
    }
   ],
   "source": [
    "# b. Identificar o número de valores faltantes em cada colunas;\n",
    "unf_train_data.isnull().sum()\n",
    "\n",
    "## i. Qual sua hipótese para a existência desses valores faltantes?\n",
    "## > Não houve precipitação no dia em questão"
   ]
  },
  {
   "cell_type": "code",
   "execution_count": 4,
   "id": "ddc90861",
   "metadata": {
    "execution": {
     "iopub.execute_input": "2025-03-01T05:08:59.945704Z",
     "iopub.status.busy": "2025-03-01T05:08:59.945263Z",
     "iopub.status.idle": "2025-03-01T05:09:00.017370Z",
     "shell.execute_reply": "2025-03-01T05:09:00.016236Z"
    },
    "papermill": {
     "duration": 0.08258,
     "end_time": "2025-03-01T05:09:00.019458",
     "exception": false,
     "start_time": "2025-03-01T05:08:59.936878",
     "status": "completed"
    },
    "tags": []
   },
   "outputs": [
    {
     "data": {
      "text/html": [
       "<div>\n",
       "<style scoped>\n",
       "    .dataframe tbody tr th:only-of-type {\n",
       "        vertical-align: middle;\n",
       "    }\n",
       "\n",
       "    .dataframe tbody tr th {\n",
       "        vertical-align: top;\n",
       "    }\n",
       "\n",
       "    .dataframe thead th {\n",
       "        text-align: right;\n",
       "    }\n",
       "</style>\n",
       "<table border=\"1\" class=\"dataframe\">\n",
       "  <thead>\n",
       "    <tr style=\"text-align: right;\">\n",
       "      <th></th>\n",
       "      <th>Temperature (C)</th>\n",
       "      <th>Apparent Temperature (C)</th>\n",
       "      <th>Humidity</th>\n",
       "      <th>Wind Speed (km/h)</th>\n",
       "      <th>Wind Bearing (degrees)</th>\n",
       "      <th>Visibility (km)</th>\n",
       "      <th>Loud Cover</th>\n",
       "      <th>Pressure (millibars)</th>\n",
       "    </tr>\n",
       "  </thead>\n",
       "  <tbody>\n",
       "    <tr>\n",
       "      <th>count</th>\n",
       "      <td>96453.000000</td>\n",
       "      <td>96453.000000</td>\n",
       "      <td>96453.000000</td>\n",
       "      <td>96453.000000</td>\n",
       "      <td>96453.000000</td>\n",
       "      <td>96453.000000</td>\n",
       "      <td>96453.0</td>\n",
       "      <td>96453.000000</td>\n",
       "    </tr>\n",
       "    <tr>\n",
       "      <th>mean</th>\n",
       "      <td>11.932678</td>\n",
       "      <td>10.855029</td>\n",
       "      <td>0.734899</td>\n",
       "      <td>10.810640</td>\n",
       "      <td>187.509232</td>\n",
       "      <td>10.347325</td>\n",
       "      <td>0.0</td>\n",
       "      <td>1003.235956</td>\n",
       "    </tr>\n",
       "    <tr>\n",
       "      <th>std</th>\n",
       "      <td>9.551546</td>\n",
       "      <td>10.696847</td>\n",
       "      <td>0.195473</td>\n",
       "      <td>6.913571</td>\n",
       "      <td>107.383428</td>\n",
       "      <td>4.192123</td>\n",
       "      <td>0.0</td>\n",
       "      <td>116.969906</td>\n",
       "    </tr>\n",
       "    <tr>\n",
       "      <th>min</th>\n",
       "      <td>-21.822222</td>\n",
       "      <td>-27.716667</td>\n",
       "      <td>0.000000</td>\n",
       "      <td>0.000000</td>\n",
       "      <td>0.000000</td>\n",
       "      <td>0.000000</td>\n",
       "      <td>0.0</td>\n",
       "      <td>0.000000</td>\n",
       "    </tr>\n",
       "    <tr>\n",
       "      <th>25%</th>\n",
       "      <td>4.688889</td>\n",
       "      <td>2.311111</td>\n",
       "      <td>0.600000</td>\n",
       "      <td>5.828200</td>\n",
       "      <td>116.000000</td>\n",
       "      <td>8.339800</td>\n",
       "      <td>0.0</td>\n",
       "      <td>1011.900000</td>\n",
       "    </tr>\n",
       "    <tr>\n",
       "      <th>50%</th>\n",
       "      <td>12.000000</td>\n",
       "      <td>12.000000</td>\n",
       "      <td>0.780000</td>\n",
       "      <td>9.965900</td>\n",
       "      <td>180.000000</td>\n",
       "      <td>10.046400</td>\n",
       "      <td>0.0</td>\n",
       "      <td>1016.450000</td>\n",
       "    </tr>\n",
       "    <tr>\n",
       "      <th>75%</th>\n",
       "      <td>18.838889</td>\n",
       "      <td>18.838889</td>\n",
       "      <td>0.890000</td>\n",
       "      <td>14.135800</td>\n",
       "      <td>290.000000</td>\n",
       "      <td>14.812000</td>\n",
       "      <td>0.0</td>\n",
       "      <td>1021.090000</td>\n",
       "    </tr>\n",
       "    <tr>\n",
       "      <th>max</th>\n",
       "      <td>39.905556</td>\n",
       "      <td>39.344444</td>\n",
       "      <td>1.000000</td>\n",
       "      <td>63.852600</td>\n",
       "      <td>359.000000</td>\n",
       "      <td>16.100000</td>\n",
       "      <td>0.0</td>\n",
       "      <td>1046.380000</td>\n",
       "    </tr>\n",
       "  </tbody>\n",
       "</table>\n",
       "</div>"
      ],
      "text/plain": [
       "       Temperature (C)  Apparent Temperature (C)      Humidity  \\\n",
       "count     96453.000000              96453.000000  96453.000000   \n",
       "mean         11.932678                 10.855029      0.734899   \n",
       "std           9.551546                 10.696847      0.195473   \n",
       "min         -21.822222                -27.716667      0.000000   \n",
       "25%           4.688889                  2.311111      0.600000   \n",
       "50%          12.000000                 12.000000      0.780000   \n",
       "75%          18.838889                 18.838889      0.890000   \n",
       "max          39.905556                 39.344444      1.000000   \n",
       "\n",
       "       Wind Speed (km/h)  Wind Bearing (degrees)  Visibility (km)  Loud Cover  \\\n",
       "count       96453.000000            96453.000000     96453.000000     96453.0   \n",
       "mean           10.810640              187.509232        10.347325         0.0   \n",
       "std             6.913571              107.383428         4.192123         0.0   \n",
       "min             0.000000                0.000000         0.000000         0.0   \n",
       "25%             5.828200              116.000000         8.339800         0.0   \n",
       "50%             9.965900              180.000000        10.046400         0.0   \n",
       "75%            14.135800              290.000000        14.812000         0.0   \n",
       "max            63.852600              359.000000        16.100000         0.0   \n",
       "\n",
       "       Pressure (millibars)  \n",
       "count          96453.000000  \n",
       "mean            1003.235956  \n",
       "std              116.969906  \n",
       "min                0.000000  \n",
       "25%             1011.900000  \n",
       "50%             1016.450000  \n",
       "75%             1021.090000  \n",
       "max             1046.380000  "
      ]
     },
     "execution_count": 4,
     "metadata": {},
     "output_type": "execute_result"
    }
   ],
   "source": [
    "# c. Gerar momentos estatísticos do banco de dados;\n",
    "\n",
    "unf_train_data.describe()\n",
    "\n",
    "## i. Qual coluna parece fora do comum? Por que?\n",
    "## > a coluna 'Loud Cover' aparenta não possuir valor algum, totalmente fora do padrão do resto do dataset"
   ]
  },
  {
   "cell_type": "code",
   "execution_count": 5,
   "id": "6a5b57ca",
   "metadata": {
    "execution": {
     "iopub.execute_input": "2025-03-01T05:09:00.042197Z",
     "iopub.status.busy": "2025-03-01T05:09:00.041750Z",
     "iopub.status.idle": "2025-03-01T05:09:07.580758Z",
     "shell.execute_reply": "2025-03-01T05:09:07.579563Z"
    },
    "papermill": {
     "duration": 7.55292,
     "end_time": "2025-03-01T05:09:07.583045",
     "exception": false,
     "start_time": "2025-03-01T05:09:00.030125",
     "status": "completed"
    },
    "tags": []
   },
   "outputs": [
    {
     "name": "stderr",
     "output_type": "stream",
     "text": [
      "<ipython-input-5-e0aa702a3f00>:20: FutureWarning: Series.__getitem__ treating keys as positions is deprecated. In a future version, integer keys will always be treated as labels (consistent with DataFrame behavior). To access a value by position, use `ser.iloc[pos]`\n",
      "  print('Existem {} valores na coluna Pressure (millibars) que estão errados'.format(unf_train_data.loc[unf_train_data['Pressure (millibars)'].lt(900)].count()[0]))\n"
     ]
    },
    {
     "name": "stdout",
     "output_type": "stream",
     "text": [
      "Existem 1288 valores na coluna Pressure (millibars) que estão errados\n"
     ]
    },
    {
     "data": {
      "image/png": "[encoded data removed]",
      "text/plain": [
       "<Figure size 1500x1200 with 8 Axes>"
      ]
     },
     "metadata": {},
     "output_type": "display_data"
    }
   ],
   "source": [
    "# d. Utilizando o método “.hist” do pandas realize plots de distribuição dos valores das colunas:\n",
    "\n",
    "fig, ax = plt.subplots(4,2, figsize=(15,12))\n",
    "fig.tight_layout()\n",
    "\n",
    "unf_num_cols = unf_train_data.select_dtypes(['int64','float64']).columns\n",
    "\n",
    "n = 0\n",
    "\n",
    "for i in [0,1]:\n",
    "    for j in [0,1,2,3]:\n",
    "        sns.histplot(unf_train_data[unf_num_cols[n]], ax = ax[j,i])\n",
    "        n += 1\n",
    "\n",
    "## i. É possível identificar algo de estranho com a coluna “Pressure(millibars)”. Identifique e explique o que há de errado;\n",
    "## > Através do gráfico, e também do describe() do dataset, é possível observar alguns dados 'outliers' com valores extremamente baixos\n",
    "\n",
    "## ii. Utilizando “.loc” do bandas, identifique a quantidade de valores errados.\n",
    "\n",
    "print('Existem {} valores na coluna Pressure (millibars) que estão errados'.format(unf_train_data.loc[unf_train_data['Pressure (millibars)'].lt(900)].count()[0]))"
   ]
  },
  {
   "cell_type": "markdown",
   "id": "de94441e",
   "metadata": {
    "papermill": {
     "duration": 0.009639,
     "end_time": "2025-03-01T05:09:07.603065",
     "exception": false,
     "start_time": "2025-03-01T05:09:07.593426",
     "status": "completed"
    },
    "tags": []
   },
   "source": [
    "### 2. Deve-se agora definir quais são as features categóricas e quais são as numéricas, para isso existe o método “.select_dtypes”, aqui será necessário identificar apenas os nomes das features."
   ]
  },
  {
   "cell_type": "code",
   "execution_count": 6,
   "id": "53ca7140",
   "metadata": {
    "execution": {
     "iopub.execute_input": "2025-03-01T05:09:07.625434Z",
     "iopub.status.busy": "2025-03-01T05:09:07.625018Z",
     "iopub.status.idle": "2025-03-01T05:09:07.633951Z",
     "shell.execute_reply": "2025-03-01T05:09:07.632554Z"
    },
    "papermill": {
     "duration": 0.022594,
     "end_time": "2025-03-01T05:09:07.635944",
     "exception": false,
     "start_time": "2025-03-01T05:09:07.613350",
     "status": "completed"
    },
    "tags": []
   },
   "outputs": [],
   "source": [
    "# a. Identifique as features numéricas, aquelas que são do tipo “int64” ou “float64”, utilizando “.select_dtypes”;\n",
    "\n",
    "unf_num_cols = unf_train_data.select_dtypes(['int64','float64']).columns"
   ]
  },
  {
   "cell_type": "code",
   "execution_count": 7,
   "id": "7fd0e089",
   "metadata": {
    "execution": {
     "iopub.execute_input": "2025-03-01T05:09:07.657954Z",
     "iopub.status.busy": "2025-03-01T05:09:07.657436Z",
     "iopub.status.idle": "2025-03-01T05:09:07.669637Z",
     "shell.execute_reply": "2025-03-01T05:09:07.668328Z"
    },
    "papermill": {
     "duration": 0.025441,
     "end_time": "2025-03-01T05:09:07.671725",
     "exception": false,
     "start_time": "2025-03-01T05:09:07.646284",
     "status": "completed"
    },
    "tags": []
   },
   "outputs": [
    {
     "data": {
      "text/plain": [
       "Formatted Date               object\n",
       "Summary                      object\n",
       "Precip Type                  object\n",
       "Temperature (C)             float64\n",
       "Apparent Temperature (C)    float64\n",
       "Humidity                    float64\n",
       "Wind Speed (km/h)           float64\n",
       "Wind Bearing (degrees)      float64\n",
       "Visibility (km)             float64\n",
       "Loud Cover                  float64\n",
       "Pressure (millibars)        float64\n",
       "Daily Summary                object\n",
       "dtype: object"
      ]
     },
     "execution_count": 7,
     "metadata": {},
     "output_type": "execute_result"
    }
   ],
   "source": [
    "# b. Identifique as features categóricas, aquelas que são do tipo “object”;\n",
    "\n",
    "unf_obj_cols = unf_train_data.select_dtypes('object').columns\n",
    "\n",
    "## i. Uma das features é do tipo object mas não é categórica. Qual é ela?\n",
    "## > A feature Formatted Date\n",
    "\n",
    "unf_train_data.dtypes"
   ]
  },
  {
   "cell_type": "code",
   "execution_count": 8,
   "id": "3039235f",
   "metadata": {
    "execution": {
     "iopub.execute_input": "2025-03-01T05:09:07.693388Z",
     "iopub.status.busy": "2025-03-01T05:09:07.692980Z",
     "iopub.status.idle": "2025-03-01T05:09:07.747419Z",
     "shell.execute_reply": "2025-03-01T05:09:07.746238Z"
    },
    "papermill": {
     "duration": 0.067343,
     "end_time": "2025-03-01T05:09:07.749345",
     "exception": false,
     "start_time": "2025-03-01T05:09:07.682002",
     "status": "completed"
    },
    "tags": []
   },
   "outputs": [
    {
     "name": "stdout",
     "output_type": "stream",
     "text": [
      "Valores únicos na feature Summary : \n",
      " Summary\n",
      "Windy and Dry                          1\n",
      "Dangerously Windy and Partly Cloudy    1\n",
      "Breezy and Dry                         1\n",
      "Name: count, dtype: int64 \n",
      "\n",
      "Valores únicos na feature Precip Type : \n",
      " Series([], Name: count, dtype: int64) \n",
      "\n",
      "Valores únicos na feature Daily Summary : \n",
      " Series([], Name: count, dtype: int64) \n",
      "\n"
     ]
    }
   ],
   "source": [
    "# c. Inspecione os valores únicos de cada feature categórica, para garantir que não há nenhum valor que ocorra apenas uma vez,\n",
    "# o que iria interferir na separação do banco de dados em treino e validação (Por que?). Utilize o método \".value_counts\" para isso;\n",
    "# > Influenciaria no fit do modelo, pois o valor único poderia cair no set de validação, impedindo que o modelo seja corretamente\n",
    "# ajustado (fit).\n",
    "\n",
    "for i in unf_obj_cols.drop('Formatted Date'):\n",
    "    print('Valores únicos na feature', i,': \\n', unf_train_data[i].value_counts().loc[unf_train_data[i].value_counts().lt(2)], '\\n')\n",
    "\n",
    "## i. Há uma feature em que existem valores que não ocorrem mais de uma vez. esse valores serão retirados do banco de dados futuramente;"
   ]
  },
  {
   "cell_type": "markdown",
   "id": "522dd3e6",
   "metadata": {
    "papermill": {
     "duration": 0.01005,
     "end_time": "2025-03-01T05:09:07.769717",
     "exception": false,
     "start_time": "2025-03-01T05:09:07.759667",
     "status": "completed"
    },
    "tags": []
   },
   "source": [
    "# 10.2 - Limpeza do banco de dados"
   ]
  },
  {
   "cell_type": "markdown",
   "id": "3d9ae21b",
   "metadata": {
    "papermill": {
     "duration": 0.01027,
     "end_time": "2025-03-01T05:09:07.790088",
     "exception": false,
     "start_time": "2025-03-01T05:09:07.779818",
     "status": "completed"
    },
    "tags": []
   },
   "source": [
    "### 1. Uma das features do tipo “object” é “Formatted Date” que, na verdade, indica a data do registro climático. Essa coluna deverá então ser transformada para o formato de data para que seja possível extrair informações úteis para o treinamento do modelo."
   ]
  },
  {
   "cell_type": "code",
   "execution_count": 9,
   "id": "2c9e79e9",
   "metadata": {
    "execution": {
     "iopub.execute_input": "2025-03-01T05:09:07.812434Z",
     "iopub.status.busy": "2025-03-01T05:09:07.812054Z",
     "iopub.status.idle": "2025-03-01T05:09:08.483742Z",
     "shell.execute_reply": "2025-03-01T05:09:08.482444Z"
    },
    "papermill": {
     "duration": 0.684817,
     "end_time": "2025-03-01T05:09:08.485562",
     "exception": false,
     "start_time": "2025-03-01T05:09:07.800745",
     "status": "completed"
    },
    "tags": []
   },
   "outputs": [
    {
     "data": {
      "text/plain": [
       "Formatted Date              datetime64[ns]\n",
       "Summary                             object\n",
       "Precip Type                         object\n",
       "Temperature (C)                    float64\n",
       "Apparent Temperature (C)           float64\n",
       "Humidity                           float64\n",
       "Wind Speed (km/h)                  float64\n",
       "Wind Bearing (degrees)             float64\n",
       "Visibility (km)                    float64\n",
       "Loud Cover                         float64\n",
       "Pressure (millibars)               float64\n",
       "Daily Summary                       object\n",
       "dtype: object"
      ]
     },
     "execution_count": 9,
     "metadata": {},
     "output_type": "execute_result"
    }
   ],
   "source": [
    "# a. Existe um valor nessa feature que indica o fuso-horário (“+0200”). Para que a coluna seja corretamente transformada este valor desse ser retirado;\n",
    "\n",
    "## i. Deve ser realizado um processo semelhante ao item 9.2-1, em que será utilizado o método “str.split” para retirar o texto “+0200” de todos\n",
    "## os valores da feature;\n",
    "\n",
    "unf_train_data['Formatted Date'] = unf_train_data['Formatted Date'].str.split('+', n=1, expand=True)[0]\n",
    "\n",
    "## ii. Use o método \"to_datetime\" para transformar a coluna no formato desejado.\n",
    "\n",
    "unf_train_data['Formatted Date'] = pd.to_datetime(unf_train_data['Formatted Date'])\n",
    "\n",
    "unf_train_data.dtypes"
   ]
  },
  {
   "cell_type": "code",
   "execution_count": 10,
   "id": "cf67bb44",
   "metadata": {
    "execution": {
     "iopub.execute_input": "2025-03-01T05:09:08.507966Z",
     "iopub.status.busy": "2025-03-01T05:09:08.507585Z",
     "iopub.status.idle": "2025-03-01T05:09:08.535378Z",
     "shell.execute_reply": "2025-03-01T05:09:08.534168Z"
    },
    "papermill": {
     "duration": 0.041435,
     "end_time": "2025-03-01T05:09:08.537410",
     "exception": false,
     "start_time": "2025-03-01T05:09:08.495975",
     "status": "completed"
    },
    "tags": []
   },
   "outputs": [],
   "source": [
    "# b. Utilizando os métodos existentes em “.dt” crie novas colunas retirando as informações de hora, dia, mês e ano de cada valor de data na feature;\n",
    "\n",
    "## i. Utilize os métodos “dt.hour ”, “dt.day ”, “dt.month ”, “dt.year ”;\n",
    "\n",
    "unf_train_data['Hour'] = unf_train_data['Formatted Date'].dt.hour\n",
    "unf_train_data['Day'] = unf_train_data['Formatted Date'].dt.day\n",
    "unf_train_data['Month'] = unf_train_data['Formatted Date'].dt.month\n",
    "unf_train_data['Year'] = unf_train_data['Formatted Date'].dt.year\n",
    "\n",
    "## ii. Retire a coluna original de data do banco de dados.\n",
    "\n",
    "unf_train_data.drop('Formatted Date', axis=1, inplace = True)"
   ]
  },
  {
   "cell_type": "markdown",
   "id": "27c57986",
   "metadata": {
    "papermill": {
     "duration": 0.009779,
     "end_time": "2025-03-01T05:09:08.557421",
     "exception": false,
     "start_time": "2025-03-01T05:09:08.547642",
     "status": "completed"
    },
    "tags": []
   },
   "source": [
    "### 2. Agora será criada a pipeline para completar a limpeza dos dados, com ela será realizada a substituição dos valores faltantes nas colunas “Pressure (millibars)” e “Precip Type” e o encoding, utilizando ordinal encoder, das variáveis categóricas. Para isso será utilizada a biblioteca Column Transformer do sklearn, mas antes deverão ser retirados os dados que não servirão para o treinamento do modelo."
   ]
  },
  {
   "cell_type": "code",
   "execution_count": 11,
   "id": "c5ecffb9",
   "metadata": {
    "execution": {
     "iopub.execute_input": "2025-03-01T05:09:08.579472Z",
     "iopub.status.busy": "2025-03-01T05:09:08.579081Z",
     "iopub.status.idle": "2025-03-01T05:09:08.635959Z",
     "shell.execute_reply": "2025-03-01T05:09:08.634856Z"
    },
    "papermill": {
     "duration": 0.069833,
     "end_time": "2025-03-01T05:09:08.637660",
     "exception": false,
     "start_time": "2025-03-01T05:09:08.567827",
     "status": "completed"
    },
    "tags": []
   },
   "outputs": [
    {
     "data": {
      "text/plain": [
       "Summary                      object\n",
       "Precip Type                  object\n",
       "Temperature (C)             float64\n",
       "Apparent Temperature (C)    float64\n",
       "Humidity                    float64\n",
       "Wind Speed (km/h)           float64\n",
       "Wind Bearing (degrees)      float64\n",
       "Visibility (km)             float64\n",
       "Pressure (millibars)        float64\n",
       "Daily Summary                object\n",
       "Hour                          int32\n",
       "Day                           int32\n",
       "Month                         int32\n",
       "Year                          int32\n",
       "dtype: object"
      ]
     },
     "execution_count": 11,
     "metadata": {},
     "output_type": "execute_result"
    }
   ],
   "source": [
    "# a. Retirar a coluna “Loud Cover”, já que contém apenas valores nulos, e linhas cujo valor da coluna “Summary” aparecem apenas uma vez;\n",
    "\n",
    "train_topip = unf_train_data.copy()\n",
    "\n",
    "## i. Para localizar as linhas que serão retiradas utilize o método “.loc”.\n",
    "\n",
    "train_topip.drop('Loud Cover', axis=1, inplace=True)\n",
    "train_topip.drop(train_topip.loc[(train_topip['Summary'] == 'Windy and Dry') | (train_topip['Summary'] == 'Dangerously Windy and Partly Cloudy') | (train_topip['Summary'] == 'Breezy and Dry')].index, inplace=True)\n",
    "\n",
    "train_topip.dtypes"
   ]
  },
  {
   "cell_type": "code",
   "execution_count": 12,
   "id": "ed880bb7",
   "metadata": {
    "execution": {
     "iopub.execute_input": "2025-03-01T05:09:08.659487Z",
     "iopub.status.busy": "2025-03-01T05:09:08.659099Z",
     "iopub.status.idle": "2025-03-01T05:09:08.692436Z",
     "shell.execute_reply": "2025-03-01T05:09:08.691281Z"
    },
    "papermill": {
     "duration": 0.046668,
     "end_time": "2025-03-01T05:09:08.694635",
     "exception": false,
     "start_time": "2025-03-01T05:09:08.647967",
     "status": "completed"
    },
    "tags": []
   },
   "outputs": [],
   "source": [
    "# b. Definir imputers para variáveis numéricas e para categóricas, e o encoder das variáveis categóricas;\n",
    "\n",
    "from sklearn.impute import SimpleImputer\n",
    "from sklearn.pipeline import Pipeline\n",
    "from sklearn.preprocessing import OrdinalEncoder\n",
    "\n",
    "topip_num_cols = train_topip.select_dtypes(['int64','float64','int32']).columns\n",
    "topip_cat_cols = train_topip.select_dtypes('object').columns\n",
    "\n",
    "## i. Configurar imputer das variáveis numéricas com simple imputer, utilizando a média como substituta do valor faltante e indicando que o\n",
    "## valor 0 significa valor faltante (valores iguais a 0 em “Pressure (millibars)” representam valores faltantes);\n",
    "\n",
    "num_imputer = SimpleImputer(strategy='mean', missing_values = 0)\n",
    "\n",
    "## ii. Criar uma pipeline para tratamento das variáveis categóricas, primeiro passo deve ser a substituição dos valores faltantes utilizando simple\n",
    "## imputer, substituindo o valor faltante por um texto, o segundo passo é realizar o encoding utilizando ordinal encoder.\n",
    "\n",
    "OEnc = OrdinalEncoder()\n",
    "\n",
    "cat_transformer = Pipeline(steps=[('imputer', SimpleImputer(strategy='constant')),('encoder', OEnc)])"
   ]
  },
  {
   "cell_type": "code",
   "execution_count": 13,
   "id": "1d480607",
   "metadata": {
    "execution": {
     "iopub.execute_input": "2025-03-01T05:09:08.716893Z",
     "iopub.status.busy": "2025-03-01T05:09:08.716522Z",
     "iopub.status.idle": "2025-03-01T05:09:08.733848Z",
     "shell.execute_reply": "2025-03-01T05:09:08.732782Z"
    },
    "papermill": {
     "duration": 0.030724,
     "end_time": "2025-03-01T05:09:08.735863",
     "exception": false,
     "start_time": "2025-03-01T05:09:08.705139",
     "status": "completed"
    },
    "tags": []
   },
   "outputs": [],
   "source": [
    "# c. Criar um objeto do tipo Column Transformer para aplicar os passos criados anteriormente.\n",
    "\n",
    "from sklearn.compose import ColumnTransformer\n",
    "\n",
    "preprocessor = ColumnTransformer([('num', num_imputer, list(topip_num_cols)),('cat', cat_transformer, list(topip_cat_cols.drop('Daily Summary')))], remainder='passthrough')"
   ]
  },
  {
   "cell_type": "markdown",
   "id": "3187467b",
   "metadata": {
    "papermill": {
     "duration": 0.010155,
     "end_time": "2025-03-01T05:09:08.756858",
     "exception": false,
     "start_time": "2025-03-01T05:09:08.746703",
     "status": "completed"
    },
    "tags": []
   },
   "source": [
    "### 3. O último passo da limpeza dos dados será a separação em treino e validação, aplicação da pipeline de limpeza e o encoding da coluna que será o target (“Daily summary”)."
   ]
  },
  {
   "cell_type": "code",
   "execution_count": 14,
   "id": "eeeb7c07",
   "metadata": {
    "execution": {
     "iopub.execute_input": "2025-03-01T05:09:08.779897Z",
     "iopub.status.busy": "2025-03-01T05:09:08.779485Z",
     "iopub.status.idle": "2025-03-01T05:09:08.913655Z",
     "shell.execute_reply": "2025-03-01T05:09:08.912438Z"
    },
    "papermill": {
     "duration": 0.148038,
     "end_time": "2025-03-01T05:09:08.915798",
     "exception": false,
     "start_time": "2025-03-01T05:09:08.767760",
     "status": "completed"
    },
    "tags": []
   },
   "outputs": [
    {
     "data": {
      "text/html": [
       "<div>\n",
       "<style scoped>\n",
       "    .dataframe tbody tr th:only-of-type {\n",
       "        vertical-align: middle;\n",
       "    }\n",
       "\n",
       "    .dataframe tbody tr th {\n",
       "        vertical-align: top;\n",
       "    }\n",
       "\n",
       "    .dataframe thead th {\n",
       "        text-align: right;\n",
       "    }\n",
       "</style>\n",
       "<table border=\"1\" class=\"dataframe\">\n",
       "  <thead>\n",
       "    <tr style=\"text-align: right;\">\n",
       "      <th></th>\n",
       "      <th>Summary</th>\n",
       "      <th>Precip Type</th>\n",
       "      <th>Temperature (C)</th>\n",
       "      <th>Apparent Temperature (C)</th>\n",
       "      <th>Humidity</th>\n",
       "      <th>Wind Speed (km/h)</th>\n",
       "      <th>Wind Bearing (degrees)</th>\n",
       "      <th>Visibility (km)</th>\n",
       "      <th>Pressure (millibars)</th>\n",
       "      <th>Hour</th>\n",
       "      <th>Day</th>\n",
       "      <th>Month</th>\n",
       "      <th>Year</th>\n",
       "    </tr>\n",
       "  </thead>\n",
       "  <tbody>\n",
       "    <tr>\n",
       "      <th>21859</th>\n",
       "      <td>Partly Cloudy</td>\n",
       "      <td>rain</td>\n",
       "      <td>27.244444</td>\n",
       "      <td>26.744444</td>\n",
       "      <td>0.34</td>\n",
       "      <td>10.9641</td>\n",
       "      <td>172.0</td>\n",
       "      <td>9.9820</td>\n",
       "      <td>1011.93</td>\n",
       "      <td>19</td>\n",
       "      <td>6</td>\n",
       "      <td>7</td>\n",
       "      <td>2008</td>\n",
       "    </tr>\n",
       "    <tr>\n",
       "      <th>29271</th>\n",
       "      <td>Foggy</td>\n",
       "      <td>snow</td>\n",
       "      <td>-5.000000</td>\n",
       "      <td>-5.000000</td>\n",
       "      <td>0.84</td>\n",
       "      <td>4.8300</td>\n",
       "      <td>40.0</td>\n",
       "      <td>2.5760</td>\n",
       "      <td>1040.40</td>\n",
       "      <td>15</td>\n",
       "      <td>11</td>\n",
       "      <td>1</td>\n",
       "      <td>2009</td>\n",
       "    </tr>\n",
       "    <tr>\n",
       "      <th>44494</th>\n",
       "      <td>Mostly Cloudy</td>\n",
       "      <td>rain</td>\n",
       "      <td>13.200000</td>\n",
       "      <td>13.200000</td>\n",
       "      <td>0.69</td>\n",
       "      <td>10.8353</td>\n",
       "      <td>289.0</td>\n",
       "      <td>14.9086</td>\n",
       "      <td>1023.80</td>\n",
       "      <td>22</td>\n",
       "      <td>6</td>\n",
       "      <td>4</td>\n",
       "      <td>2011</td>\n",
       "    </tr>\n",
       "    <tr>\n",
       "      <th>48498</th>\n",
       "      <td>Mostly Cloudy</td>\n",
       "      <td>rain</td>\n",
       "      <td>25.861111</td>\n",
       "      <td>25.861111</td>\n",
       "      <td>0.60</td>\n",
       "      <td>5.9087</td>\n",
       "      <td>4.0</td>\n",
       "      <td>11.2700</td>\n",
       "      <td>1016.77</td>\n",
       "      <td>18</td>\n",
       "      <td>2</td>\n",
       "      <td>6</td>\n",
       "      <td>2011</td>\n",
       "    </tr>\n",
       "    <tr>\n",
       "      <th>89893</th>\n",
       "      <td>Overcast</td>\n",
       "      <td>rain</td>\n",
       "      <td>9.888889</td>\n",
       "      <td>8.405556</td>\n",
       "      <td>0.93</td>\n",
       "      <td>10.6743</td>\n",
       "      <td>301.0</td>\n",
       "      <td>6.3112</td>\n",
       "      <td>1021.51</td>\n",
       "      <td>16</td>\n",
       "      <td>1</td>\n",
       "      <td>2</td>\n",
       "      <td>2016</td>\n",
       "    </tr>\n",
       "    <tr>\n",
       "      <th>...</th>\n",
       "      <td>...</td>\n",
       "      <td>...</td>\n",
       "      <td>...</td>\n",
       "      <td>...</td>\n",
       "      <td>...</td>\n",
       "      <td>...</td>\n",
       "      <td>...</td>\n",
       "      <td>...</td>\n",
       "      <td>...</td>\n",
       "      <td>...</td>\n",
       "      <td>...</td>\n",
       "      <td>...</td>\n",
       "      <td>...</td>\n",
       "    </tr>\n",
       "    <tr>\n",
       "      <th>18772</th>\n",
       "      <td>Mostly Cloudy</td>\n",
       "      <td>rain</td>\n",
       "      <td>18.655556</td>\n",
       "      <td>18.655556</td>\n",
       "      <td>0.76</td>\n",
       "      <td>10.4650</td>\n",
       "      <td>250.0</td>\n",
       "      <td>15.8263</td>\n",
       "      <td>1014.87</td>\n",
       "      <td>4</td>\n",
       "      <td>29</td>\n",
       "      <td>8</td>\n",
       "      <td>2008</td>\n",
       "    </tr>\n",
       "    <tr>\n",
       "      <th>76619</th>\n",
       "      <td>Mostly Cloudy</td>\n",
       "      <td>rain</td>\n",
       "      <td>15.044444</td>\n",
       "      <td>15.044444</td>\n",
       "      <td>0.44</td>\n",
       "      <td>13.7494</td>\n",
       "      <td>351.0</td>\n",
       "      <td>10.2557</td>\n",
       "      <td>1017.73</td>\n",
       "      <td>15</td>\n",
       "      <td>5</td>\n",
       "      <td>5</td>\n",
       "      <td>2014</td>\n",
       "    </tr>\n",
       "    <tr>\n",
       "      <th>17431</th>\n",
       "      <td>Overcast</td>\n",
       "      <td>rain</td>\n",
       "      <td>8.866667</td>\n",
       "      <td>5.888889</td>\n",
       "      <td>0.89</td>\n",
       "      <td>20.7207</td>\n",
       "      <td>311.0</td>\n",
       "      <td>4.0089</td>\n",
       "      <td>1010.10</td>\n",
       "      <td>7</td>\n",
       "      <td>5</td>\n",
       "      <td>9</td>\n",
       "      <td>2007</td>\n",
       "    </tr>\n",
       "    <tr>\n",
       "      <th>58605</th>\n",
       "      <td>Overcast</td>\n",
       "      <td>rain</td>\n",
       "      <td>10.555556</td>\n",
       "      <td>10.555556</td>\n",
       "      <td>0.89</td>\n",
       "      <td>0.0000</td>\n",
       "      <td>0.0</td>\n",
       "      <td>12.0750</td>\n",
       "      <td>1013.40</td>\n",
       "      <td>22</td>\n",
       "      <td>14</td>\n",
       "      <td>5</td>\n",
       "      <td>2012</td>\n",
       "    </tr>\n",
       "    <tr>\n",
       "      <th>9997</th>\n",
       "      <td>Partly Cloudy</td>\n",
       "      <td>rain</td>\n",
       "      <td>23.544444</td>\n",
       "      <td>23.544444</td>\n",
       "      <td>0.60</td>\n",
       "      <td>17.4685</td>\n",
       "      <td>298.0</td>\n",
       "      <td>14.3612</td>\n",
       "      <td>1014.88</td>\n",
       "      <td>13</td>\n",
       "      <td>28</td>\n",
       "      <td>8</td>\n",
       "      <td>2007</td>\n",
       "    </tr>\n",
       "  </tbody>\n",
       "</table>\n",
       "<p>67515 rows × 13 columns</p>\n",
       "</div>"
      ],
      "text/plain": [
       "             Summary Precip Type  Temperature (C)  Apparent Temperature (C)  \\\n",
       "21859  Partly Cloudy        rain        27.244444                 26.744444   \n",
       "29271          Foggy        snow        -5.000000                 -5.000000   \n",
       "44494  Mostly Cloudy        rain        13.200000                 13.200000   \n",
       "48498  Mostly Cloudy        rain        25.861111                 25.861111   \n",
       "89893       Overcast        rain         9.888889                  8.405556   \n",
       "...              ...         ...              ...                       ...   \n",
       "18772  Mostly Cloudy        rain        18.655556                 18.655556   \n",
       "76619  Mostly Cloudy        rain        15.044444                 15.044444   \n",
       "17431       Overcast        rain         8.866667                  5.888889   \n",
       "58605       Overcast        rain        10.555556                 10.555556   \n",
       "9997   Partly Cloudy        rain        23.544444                 23.544444   \n",
       "\n",
       "       Humidity  Wind Speed (km/h)  Wind Bearing (degrees)  Visibility (km)  \\\n",
       "21859      0.34            10.9641                   172.0           9.9820   \n",
       "29271      0.84             4.8300                    40.0           2.5760   \n",
       "44494      0.69            10.8353                   289.0          14.9086   \n",
       "48498      0.60             5.9087                     4.0          11.2700   \n",
       "89893      0.93            10.6743                   301.0           6.3112   \n",
       "...         ...                ...                     ...              ...   \n",
       "18772      0.76            10.4650                   250.0          15.8263   \n",
       "76619      0.44            13.7494                   351.0          10.2557   \n",
       "17431      0.89            20.7207                   311.0           4.0089   \n",
       "58605      0.89             0.0000                     0.0          12.0750   \n",
       "9997       0.60            17.4685                   298.0          14.3612   \n",
       "\n",
       "       Pressure (millibars)  Hour  Day  Month  Year  \n",
       "21859               1011.93    19    6      7  2008  \n",
       "29271               1040.40    15   11      1  2009  \n",
       "44494               1023.80    22    6      4  2011  \n",
       "48498               1016.77    18    2      6  2011  \n",
       "89893               1021.51    16    1      2  2016  \n",
       "...                     ...   ...  ...    ...   ...  \n",
       "18772               1014.87     4   29      8  2008  \n",
       "76619               1017.73    15    5      5  2014  \n",
       "17431               1010.10     7    5      9  2007  \n",
       "58605               1013.40    22   14      5  2012  \n",
       "9997                1014.88    13   28      8  2007  \n",
       "\n",
       "[67515 rows x 13 columns]"
      ]
     },
     "execution_count": 14,
     "metadata": {},
     "output_type": "execute_result"
    }
   ],
   "source": [
    "# a. Definir quais são as features, o que é o target e separar o banco de dados utilizando train-test split,\n",
    "# deve-se garantir que todos os valores do target estão distribuídos de forma equilibrada na reparação do banco de dados;\n",
    "\n",
    "## i. Indicar o target como sendo “Daily Summary” e as features como as colunas restantes;\n",
    "\n",
    "X = train_topip.copy()\n",
    "y = X.pop('Daily Summary')\n",
    "\n",
    "## ii. Utilizar train-test split, configurado para que o tamanho do banco de dados de teste seja 30% do banco de dados original e utilizando o\n",
    "## target como parâmetro de “stratify”;\n",
    "\n",
    "train_X, val_X, train_y, val_y = train_test_split(X, y, random_state=1, test_size=0.3, stratify = y)\n",
    "\n",
    "train_X"
   ]
  },
  {
   "cell_type": "code",
   "execution_count": 15,
   "id": "39bbc6ff",
   "metadata": {
    "execution": {
     "iopub.execute_input": "2025-03-01T05:09:08.939714Z",
     "iopub.status.busy": "2025-03-01T05:09:08.939285Z",
     "iopub.status.idle": "2025-03-01T05:09:09.088724Z",
     "shell.execute_reply": "2025-03-01T05:09:09.087565Z"
    },
    "papermill": {
     "duration": 0.163714,
     "end_time": "2025-03-01T05:09:09.090623",
     "exception": false,
     "start_time": "2025-03-01T05:09:08.926909",
     "status": "completed"
    },
    "tags": []
   },
   "outputs": [
    {
     "data": {
      "text/html": [
       "<div>\n",
       "<style scoped>\n",
       "    .dataframe tbody tr th:only-of-type {\n",
       "        vertical-align: middle;\n",
       "    }\n",
       "\n",
       "    .dataframe tbody tr th {\n",
       "        vertical-align: top;\n",
       "    }\n",
       "\n",
       "    .dataframe thead th {\n",
       "        text-align: right;\n",
       "    }\n",
       "</style>\n",
       "<table border=\"1\" class=\"dataframe\">\n",
       "  <thead>\n",
       "    <tr style=\"text-align: right;\">\n",
       "      <th></th>\n",
       "      <th>Temperature (C)</th>\n",
       "      <th>Apparent Temperature (C)</th>\n",
       "      <th>Humidity</th>\n",
       "      <th>Wind Speed (km/h)</th>\n",
       "      <th>Wind Bearing (degrees)</th>\n",
       "      <th>Visibility (km)</th>\n",
       "      <th>Pressure (millibars)</th>\n",
       "      <th>Hour</th>\n",
       "      <th>Day</th>\n",
       "      <th>Month</th>\n",
       "      <th>Year</th>\n",
       "      <th>Summary</th>\n",
       "      <th>Precip Type</th>\n",
       "    </tr>\n",
       "  </thead>\n",
       "  <tbody>\n",
       "    <tr>\n",
       "      <th>0</th>\n",
       "      <td>27.244444</td>\n",
       "      <td>26.744444</td>\n",
       "      <td>0.34</td>\n",
       "      <td>10.964100</td>\n",
       "      <td>172.000000</td>\n",
       "      <td>9.9820</td>\n",
       "      <td>1011.93</td>\n",
       "      <td>19.0</td>\n",
       "      <td>6.0</td>\n",
       "      <td>7.0</td>\n",
       "      <td>2008.0</td>\n",
       "      <td>17.0</td>\n",
       "      <td>1.0</td>\n",
       "    </tr>\n",
       "    <tr>\n",
       "      <th>1</th>\n",
       "      <td>-5.000000</td>\n",
       "      <td>-5.000000</td>\n",
       "      <td>0.84</td>\n",
       "      <td>4.830000</td>\n",
       "      <td>40.000000</td>\n",
       "      <td>2.5760</td>\n",
       "      <td>1040.40</td>\n",
       "      <td>15.0</td>\n",
       "      <td>11.0</td>\n",
       "      <td>1.0</td>\n",
       "      <td>2009.0</td>\n",
       "      <td>10.0</td>\n",
       "      <td>2.0</td>\n",
       "    </tr>\n",
       "    <tr>\n",
       "      <th>2</th>\n",
       "      <td>13.200000</td>\n",
       "      <td>13.200000</td>\n",
       "      <td>0.69</td>\n",
       "      <td>10.835300</td>\n",
       "      <td>289.000000</td>\n",
       "      <td>14.9086</td>\n",
       "      <td>1023.80</td>\n",
       "      <td>22.0</td>\n",
       "      <td>6.0</td>\n",
       "      <td>4.0</td>\n",
       "      <td>2011.0</td>\n",
       "      <td>15.0</td>\n",
       "      <td>1.0</td>\n",
       "    </tr>\n",
       "    <tr>\n",
       "      <th>3</th>\n",
       "      <td>25.861111</td>\n",
       "      <td>25.861111</td>\n",
       "      <td>0.60</td>\n",
       "      <td>5.908700</td>\n",
       "      <td>4.000000</td>\n",
       "      <td>11.2700</td>\n",
       "      <td>1016.77</td>\n",
       "      <td>18.0</td>\n",
       "      <td>2.0</td>\n",
       "      <td>6.0</td>\n",
       "      <td>2011.0</td>\n",
       "      <td>15.0</td>\n",
       "      <td>1.0</td>\n",
       "    </tr>\n",
       "    <tr>\n",
       "      <th>4</th>\n",
       "      <td>9.888889</td>\n",
       "      <td>8.405556</td>\n",
       "      <td>0.93</td>\n",
       "      <td>10.674300</td>\n",
       "      <td>301.000000</td>\n",
       "      <td>6.3112</td>\n",
       "      <td>1021.51</td>\n",
       "      <td>16.0</td>\n",
       "      <td>1.0</td>\n",
       "      <td>2.0</td>\n",
       "      <td>2016.0</td>\n",
       "      <td>16.0</td>\n",
       "      <td>1.0</td>\n",
       "    </tr>\n",
       "    <tr>\n",
       "      <th>...</th>\n",
       "      <td>...</td>\n",
       "      <td>...</td>\n",
       "      <td>...</td>\n",
       "      <td>...</td>\n",
       "      <td>...</td>\n",
       "      <td>...</td>\n",
       "      <td>...</td>\n",
       "      <td>...</td>\n",
       "      <td>...</td>\n",
       "      <td>...</td>\n",
       "      <td>...</td>\n",
       "      <td>...</td>\n",
       "      <td>...</td>\n",
       "    </tr>\n",
       "    <tr>\n",
       "      <th>67510</th>\n",
       "      <td>18.655556</td>\n",
       "      <td>18.655556</td>\n",
       "      <td>0.76</td>\n",
       "      <td>10.465000</td>\n",
       "      <td>250.000000</td>\n",
       "      <td>15.8263</td>\n",
       "      <td>1014.87</td>\n",
       "      <td>4.0</td>\n",
       "      <td>29.0</td>\n",
       "      <td>8.0</td>\n",
       "      <td>2008.0</td>\n",
       "      <td>15.0</td>\n",
       "      <td>1.0</td>\n",
       "    </tr>\n",
       "    <tr>\n",
       "      <th>67511</th>\n",
       "      <td>15.044444</td>\n",
       "      <td>15.044444</td>\n",
       "      <td>0.44</td>\n",
       "      <td>13.749400</td>\n",
       "      <td>351.000000</td>\n",
       "      <td>10.2557</td>\n",
       "      <td>1017.73</td>\n",
       "      <td>15.0</td>\n",
       "      <td>5.0</td>\n",
       "      <td>5.0</td>\n",
       "      <td>2014.0</td>\n",
       "      <td>15.0</td>\n",
       "      <td>1.0</td>\n",
       "    </tr>\n",
       "    <tr>\n",
       "      <th>67512</th>\n",
       "      <td>8.866667</td>\n",
       "      <td>5.888889</td>\n",
       "      <td>0.89</td>\n",
       "      <td>20.720700</td>\n",
       "      <td>311.000000</td>\n",
       "      <td>4.0089</td>\n",
       "      <td>1010.10</td>\n",
       "      <td>7.0</td>\n",
       "      <td>5.0</td>\n",
       "      <td>9.0</td>\n",
       "      <td>2007.0</td>\n",
       "      <td>16.0</td>\n",
       "      <td>1.0</td>\n",
       "    </tr>\n",
       "    <tr>\n",
       "      <th>67513</th>\n",
       "      <td>10.555556</td>\n",
       "      <td>10.555556</td>\n",
       "      <td>0.89</td>\n",
       "      <td>10.948206</td>\n",
       "      <td>192.037999</td>\n",
       "      <td>12.0750</td>\n",
       "      <td>1013.40</td>\n",
       "      <td>22.0</td>\n",
       "      <td>14.0</td>\n",
       "      <td>5.0</td>\n",
       "      <td>2012.0</td>\n",
       "      <td>16.0</td>\n",
       "      <td>1.0</td>\n",
       "    </tr>\n",
       "    <tr>\n",
       "      <th>67514</th>\n",
       "      <td>23.544444</td>\n",
       "      <td>23.544444</td>\n",
       "      <td>0.60</td>\n",
       "      <td>17.468500</td>\n",
       "      <td>298.000000</td>\n",
       "      <td>14.3612</td>\n",
       "      <td>1014.88</td>\n",
       "      <td>13.0</td>\n",
       "      <td>28.0</td>\n",
       "      <td>8.0</td>\n",
       "      <td>2007.0</td>\n",
       "      <td>17.0</td>\n",
       "      <td>1.0</td>\n",
       "    </tr>\n",
       "  </tbody>\n",
       "</table>\n",
       "<p>67515 rows × 13 columns</p>\n",
       "</div>"
      ],
      "text/plain": [
       "       Temperature (C)  Apparent Temperature (C)  Humidity  Wind Speed (km/h)  \\\n",
       "0            27.244444                 26.744444      0.34          10.964100   \n",
       "1            -5.000000                 -5.000000      0.84           4.830000   \n",
       "2            13.200000                 13.200000      0.69          10.835300   \n",
       "3            25.861111                 25.861111      0.60           5.908700   \n",
       "4             9.888889                  8.405556      0.93          10.674300   \n",
       "...                ...                       ...       ...                ...   \n",
       "67510        18.655556                 18.655556      0.76          10.465000   \n",
       "67511        15.044444                 15.044444      0.44          13.749400   \n",
       "67512         8.866667                  5.888889      0.89          20.720700   \n",
       "67513        10.555556                 10.555556      0.89          10.948206   \n",
       "67514        23.544444                 23.544444      0.60          17.468500   \n",
       "\n",
       "       Wind Bearing (degrees)  Visibility (km)  Pressure (millibars)  Hour  \\\n",
       "0                  172.000000           9.9820               1011.93  19.0   \n",
       "1                   40.000000           2.5760               1040.40  15.0   \n",
       "2                  289.000000          14.9086               1023.80  22.0   \n",
       "3                    4.000000          11.2700               1016.77  18.0   \n",
       "4                  301.000000           6.3112               1021.51  16.0   \n",
       "...                       ...              ...                   ...   ...   \n",
       "67510              250.000000          15.8263               1014.87   4.0   \n",
       "67511              351.000000          10.2557               1017.73  15.0   \n",
       "67512              311.000000           4.0089               1010.10   7.0   \n",
       "67513              192.037999          12.0750               1013.40  22.0   \n",
       "67514              298.000000          14.3612               1014.88  13.0   \n",
       "\n",
       "        Day  Month    Year  Summary  Precip Type  \n",
       "0       6.0    7.0  2008.0     17.0          1.0  \n",
       "1      11.0    1.0  2009.0     10.0          2.0  \n",
       "2       6.0    4.0  2011.0     15.0          1.0  \n",
       "3       2.0    6.0  2011.0     15.0          1.0  \n",
       "4       1.0    2.0  2016.0     16.0          1.0  \n",
       "...     ...    ...     ...      ...          ...  \n",
       "67510  29.0    8.0  2008.0     15.0          1.0  \n",
       "67511   5.0    5.0  2014.0     15.0          1.0  \n",
       "67512   5.0    9.0  2007.0     16.0          1.0  \n",
       "67513  14.0    5.0  2012.0     16.0          1.0  \n",
       "67514  28.0    8.0  2007.0     17.0          1.0  \n",
       "\n",
       "[67515 rows x 13 columns]"
      ]
     },
     "execution_count": 15,
     "metadata": {},
     "output_type": "execute_result"
    }
   ],
   "source": [
    "# b. Aplicar pipeline de limpeza do banco de dados;\n",
    "\n",
    "## i. Utilize apenas as features dentro da pipeline, ajuste utilizando as features de treino e apenas transforme as de teste.\n",
    "\n",
    "cltrain_X = preprocessor.fit_transform(train_X)\n",
    "clval_X = preprocessor.transform(val_X)\n",
    "\n",
    "data_final = pd.DataFrame(cltrain_X, columns = list(topip_num_cols) + list(topip_cat_cols.drop('Daily Summary')))\n",
    "\n",
    "data_final"
   ]
  },
  {
   "cell_type": "code",
   "execution_count": 16,
   "id": "a7e51140",
   "metadata": {
    "execution": {
     "iopub.execute_input": "2025-03-01T05:09:09.114887Z",
     "iopub.status.busy": "2025-03-01T05:09:09.114535Z",
     "iopub.status.idle": "2025-03-01T05:09:09.140642Z",
     "shell.execute_reply": "2025-03-01T05:09:09.139406Z"
    },
    "papermill": {
     "duration": 0.040845,
     "end_time": "2025-03-01T05:09:09.142764",
     "exception": false,
     "start_time": "2025-03-01T05:09:09.101919",
     "status": "completed"
    },
    "tags": []
   },
   "outputs": [],
   "source": [
    "# c. Utilize label encoder para realizar o encoding do target.\n",
    "\n",
    "from sklearn.preprocessing import LabelEncoder\n",
    "LEnc = LabelEncoder()\n",
    "\n",
    "## i. Da mesma forma, utilize o target de treino para ajustar e apenas transforme o de teste.\n",
    "\n",
    "enctrain_y = LEnc.fit_transform(train_y)\n",
    "encval_y = LEnc.transform(val_y)"
   ]
  },
  {
   "cell_type": "markdown",
   "id": "6f873e2d",
   "metadata": {
    "papermill": {
     "duration": 0.011004,
     "end_time": "2025-03-01T05:09:09.165454",
     "exception": false,
     "start_time": "2025-03-01T05:09:09.154450",
     "status": "completed"
    },
    "tags": []
   },
   "source": [
    "# 10.3 - Treinamento e Avaliação da rede neural"
   ]
  },
  {
   "cell_type": "markdown",
   "id": "a97b329c",
   "metadata": {
    "papermill": {
     "duration": 0.010962,
     "end_time": "2025-03-01T05:09:09.187580",
     "exception": false,
     "start_time": "2025-03-01T05:09:09.176618",
     "status": "completed"
    },
    "tags": []
   },
   "source": [
    "### 1. Primeiramente deve-se criar a arquitetura da rede neural, ela terá duas camadas escondidas, sendo cada uma com uma saída de dimensão 256, entre elas serão utilizados Batch normalization e Dropout. Como funções de ativação serão usados “relu” para as camadas escondidas e o “softmax” na camada de saída, esta função serve para que o modelo realize predições na forma de classificação não binária, ou seja, que seja capaz de prever mais de duas classes."
   ]
  },
  {
   "cell_type": "code",
   "execution_count": 17,
   "id": "5fbce07e",
   "metadata": {
    "execution": {
     "iopub.execute_input": "2025-03-01T05:09:09.211099Z",
     "iopub.status.busy": "2025-03-01T05:09:09.210721Z",
     "iopub.status.idle": "2025-03-01T05:09:24.488555Z",
     "shell.execute_reply": "2025-03-01T05:09:24.487369Z"
    },
    "papermill": {
     "duration": 15.291982,
     "end_time": "2025-03-01T05:09:24.490488",
     "exception": false,
     "start_time": "2025-03-01T05:09:09.198506",
     "status": "completed"
    },
    "tags": []
   },
   "outputs": [
    {
     "name": "stdout",
     "output_type": "stream",
     "text": [
      "Tamanho da entrada:  13\n",
      "Tamanho da saída:  214\n"
     ]
    }
   ],
   "source": [
    "# a. Configurar o tamanho da entrada, que é o número de features para treinamento, e o tamanho da saída, que será a quantidade de classes do\n",
    "# target;\n",
    "\n",
    "from tensorflow import keras\n",
    "from tensorflow.keras import layers\n",
    "\n",
    "input_shape = X.shape[1]\n",
    "print('Tamanho da entrada: ', input_shape)\n",
    "\n",
    "output_shape = y.nunique()\n",
    "print('Tamanho da saída: ', output_shape)"
   ]
  },
  {
   "cell_type": "code",
   "execution_count": 18,
   "id": "efc512e2",
   "metadata": {
    "execution": {
     "iopub.execute_input": "2025-03-01T05:09:24.515255Z",
     "iopub.status.busy": "2025-03-01T05:09:24.514601Z",
     "iopub.status.idle": "2025-03-01T05:09:24.567914Z",
     "shell.execute_reply": "2025-03-01T05:09:24.566604Z"
    },
    "papermill": {
     "duration": 0.068072,
     "end_time": "2025-03-01T05:09:24.569904",
     "exception": false,
     "start_time": "2025-03-01T05:09:24.501832",
     "status": "completed"
    },
    "tags": []
   },
   "outputs": [
    {
     "name": "stderr",
     "output_type": "stream",
     "text": [
      "/usr/local/lib/python3.10/dist-packages/keras/src/layers/core/dense.py:87: UserWarning: Do not pass an `input_shape`/`input_dim` argument to a layer. When using Sequential models, prefer using an `Input(shape)` object as the first layer in the model instead.\n",
      "  super().__init__(activity_regularizer=activity_regularizer, **kwargs)\n"
     ]
    }
   ],
   "source": [
    "# b. Construir arquitetura do modelo utilizando a descrição já informada;\n",
    "\n",
    "model = keras.Sequential([\n",
    "    \n",
    "    ## i. Camada de entrada utilizando batch normalization configurando seu tamanho a partir das features do banco de dados;\n",
    "\n",
    "    layers.BatchNormalization(),\n",
    "\n",
    "    ## ii. Primeira camada escondida utilizando “relu” como função de ativação, saída de dimensão 256, batch normalization e dropout de 0.3;\n",
    "\n",
    "    layers.Dense(256, activation='relu', input_shape=input_shape),\n",
    "    layers.BatchNormalization(),\n",
    "    layers.Dropout(rate=0.3),\n",
    "\n",
    "    ## iii. Segunda camada escondida igual à primeira;\n",
    "\n",
    "    layers.Dense(256, activation='relu', input_shape=input_shape),\n",
    "    layers.BatchNormalization(),\n",
    "    layers.Dropout(rate=0.3),\n",
    "\n",
    "    ## iv. Camada de saída com tamanho igual ao número de classes do target e função de ativação “softmax”.\n",
    "\n",
    "    layers.Dense(output_shape, activation='softmax'),\n",
    "\n",
    "])"
   ]
  },
  {
   "cell_type": "code",
   "execution_count": 19,
   "id": "cd47e68a",
   "metadata": {
    "execution": {
     "iopub.execute_input": "2025-03-01T05:09:24.594468Z",
     "iopub.status.busy": "2025-03-01T05:09:24.594037Z",
     "iopub.status.idle": "2025-03-01T05:09:24.750330Z",
     "shell.execute_reply": "2025-03-01T05:09:24.749156Z"
    },
    "papermill": {
     "duration": 0.170934,
     "end_time": "2025-03-01T05:09:24.752274",
     "exception": false,
     "start_time": "2025-03-01T05:09:24.581340",
     "status": "completed"
    },
    "tags": []
   },
   "outputs": [
    {
     "data": {
      "text/plain": [
       "array([[0., 0., 0., ..., 0., 0., 0.],\n",
       "       [0., 0., 0., ..., 0., 0., 0.],\n",
       "       [0., 0., 0., ..., 0., 0., 0.],\n",
       "       ...,\n",
       "       [0., 0., 0., ..., 0., 0., 0.],\n",
       "       [0., 0., 0., ..., 0., 0., 0.],\n",
       "       [0., 0., 0., ..., 0., 0., 0.]])"
      ]
     },
     "execution_count": 19,
     "metadata": {},
     "output_type": "execute_result"
    }
   ],
   "source": [
    "# c. Realizar tratamento do target utilizando o método “utils.to_categorical” do keras.\n",
    "\n",
    "## i. Transformar target de treino e de teste utilizando o método do keras;\n",
    "\n",
    "ktrain_y = keras.utils.to_categorical(enctrain_y)\n",
    "kval_y = keras.utils.to_categorical(encval_y)\n",
    "\n",
    "## ii. Veja as dimensões da matriz de target e responda, o target é composto de quantas classes (Possíveis previsões)?\n",
    "\n",
    "ktrain_y"
   ]
  },
  {
   "cell_type": "markdown",
   "id": "9e732268",
   "metadata": {
    "papermill": {
     "duration": 0.011555,
     "end_time": "2025-03-01T05:09:24.775459",
     "exception": false,
     "start_time": "2025-03-01T05:09:24.763904",
     "status": "completed"
    },
    "tags": []
   },
   "source": [
    "### 2. Configurar o otimizador, a função de perda que será utilizada e a métrica para avaliação do modelo."
   ]
  },
  {
   "cell_type": "code",
   "execution_count": 20,
   "id": "f55c29ec",
   "metadata": {
    "execution": {
     "iopub.execute_input": "2025-03-01T05:09:24.799960Z",
     "iopub.status.busy": "2025-03-01T05:09:24.799614Z",
     "iopub.status.idle": "2025-03-01T05:09:24.823086Z",
     "shell.execute_reply": "2025-03-01T05:09:24.821878Z"
    },
    "papermill": {
     "duration": 0.038399,
     "end_time": "2025-03-01T05:09:24.825190",
     "exception": false,
     "start_time": "2025-03-01T05:09:24.786791",
     "status": "completed"
    },
    "tags": []
   },
   "outputs": [],
   "source": [
    "# a. Como otimizador será utilizado “adam”, como função de perda “categorical_crossentropy” e como métrica para avaliação\n",
    "# “categorical_accuracy”.\n",
    "\n",
    "model.compile(\n",
    "    optimizer='adam',\n",
    "    loss='categorical_crossentropy',\n",
    "    metrics=['categorical_accuracy'],\n",
    ")"
   ]
  },
  {
   "cell_type": "markdown",
   "id": "db05dc8f",
   "metadata": {
    "papermill": {
     "duration": 0.010892,
     "end_time": "2025-03-01T05:09:24.847930",
     "exception": false,
     "start_time": "2025-03-01T05:09:24.837038",
     "status": "completed"
    },
    "tags": []
   },
   "source": [
    "### 3. Por fim, será realizado o treinamento do modelo e plotagem dos resultados das avaliações, será utilizado o early stopping para evitar o overfitting. Os hiperparâmetros que serão utilizados, como o número de épocas e tamanho de cada batch durante o treinamento do modelo podem ser alterados pelo aluno para teste e possível aprimoramento."
   ]
  },
  {
   "cell_type": "code",
   "execution_count": 21,
   "id": "14b42188",
   "metadata": {
    "execution": {
     "iopub.execute_input": "2025-03-01T05:09:24.871818Z",
     "iopub.status.busy": "2025-03-01T05:09:24.871440Z",
     "iopub.status.idle": "2025-03-01T05:09:24.878712Z",
     "shell.execute_reply": "2025-03-01T05:09:24.877617Z"
    },
    "papermill": {
     "duration": 0.021502,
     "end_time": "2025-03-01T05:09:24.880525",
     "exception": false,
     "start_time": "2025-03-01T05:09:24.859023",
     "status": "completed"
    },
    "tags": []
   },
   "outputs": [
    {
     "data": {
      "text/plain": [
       "array([[ 2.72444444e+01,  2.67444444e+01,  3.40000000e-01, ...,\n",
       "         2.00800000e+03,  1.70000000e+01,  1.00000000e+00],\n",
       "       [-5.00000000e+00, -5.00000000e+00,  8.40000000e-01, ...,\n",
       "         2.00900000e+03,  1.00000000e+01,  2.00000000e+00],\n",
       "       [ 1.32000000e+01,  1.32000000e+01,  6.90000000e-01, ...,\n",
       "         2.01100000e+03,  1.50000000e+01,  1.00000000e+00],\n",
       "       ...,\n",
       "       [ 8.86666667e+00,  5.88888889e+00,  8.90000000e-01, ...,\n",
       "         2.00700000e+03,  1.60000000e+01,  1.00000000e+00],\n",
       "       [ 1.05555556e+01,  1.05555556e+01,  8.90000000e-01, ...,\n",
       "         2.01200000e+03,  1.60000000e+01,  1.00000000e+00],\n",
       "       [ 2.35444444e+01,  2.35444444e+01,  6.00000000e-01, ...,\n",
       "         2.00700000e+03,  1.70000000e+01,  1.00000000e+00]])"
      ]
     },
     "execution_count": 21,
     "metadata": {},
     "output_type": "execute_result"
    }
   ],
   "source": [
    "# a. Configurar early stopping;\n",
    "\n",
    "## i. Utilizar a biblioteca do keras para configurar early stopping, com uma tolerância de 10 épocas e uma variação mínima no resultado da função\n",
    "## de perda de 0.001.\n",
    "\n",
    "early_stopping = keras.callbacks.EarlyStopping(\n",
    "    patience=10,\n",
    "    min_delta=0.001,\n",
    "    restore_best_weights=True,\n",
    ")\n",
    "\n",
    "cltrain_X"
   ]
  },
  {
   "cell_type": "code",
   "execution_count": 22,
   "id": "f2efe8d7",
   "metadata": {
    "execution": {
     "iopub.execute_input": "2025-03-01T05:09:24.905901Z",
     "iopub.status.busy": "2025-03-01T05:09:24.905554Z",
     "iopub.status.idle": "2025-03-01T05:11:48.597323Z",
     "shell.execute_reply": "2025-03-01T05:11:48.596006Z"
    },
    "papermill": {
     "duration": 143.707074,
     "end_time": "2025-03-01T05:11:48.599508",
     "exception": false,
     "start_time": "2025-03-01T05:09:24.892434",
     "status": "completed"
    },
    "tags": []
   },
   "outputs": [],
   "source": [
    "# b. Realizar o treino e armazenar os resultados da avaliação do modelo;\n",
    "\n",
    "history = model.fit(\n",
    "\n",
    "    ## i. Utilizar as features e target de treino para treinar o modelo;\n",
    "    cltrain_X, ktrain_y,\n",
    "\n",
    "    ## ii. Utilizar os dados de teste para validar o modelo;\n",
    "    validation_data=(clval_X, kval_y),\n",
    "\n",
    "    ## iii. Utilizar um tamanho de batch de 3000;\n",
    "    batch_size=3000,\n",
    "\n",
    "    ### iv. Utilizar 100 épocas para treino;\n",
    "    epochs=100,\n",
    "\n",
    "    ### v. Indicar utilização de early stopping;\n",
    "    callbacks=[early_stopping],\n",
    "\n",
    "    verbose=0, # esconde o texto das épocas\n",
    ")"
   ]
  },
  {
   "cell_type": "code",
   "execution_count": 23,
   "id": "5bc4509d",
   "metadata": {
    "execution": {
     "iopub.execute_input": "2025-03-01T05:11:48.624791Z",
     "iopub.status.busy": "2025-03-01T05:11:48.624421Z",
     "iopub.status.idle": "2025-03-01T05:11:49.124511Z",
     "shell.execute_reply": "2025-03-01T05:11:49.123261Z"
    },
    "papermill": {
     "duration": 0.514841,
     "end_time": "2025-03-01T05:11:49.126468",
     "exception": false,
     "start_time": "2025-03-01T05:11:48.611627",
     "status": "completed"
    },
    "tags": []
   },
   "outputs": [
    {
     "name": "stdout",
     "output_type": "stream",
     "text": [
      "Best Validation Loss: 1.5253\n",
      "Best Validation Accuracy: 0.5145\n"
     ]
    },
    {
     "data": {
      "image/png": "[encoded data removed]",
      "text/plain": [
       "<Figure size 640x480 with 1 Axes>"
      ]
     },
     "metadata": {},
     "output_type": "display_data"
    },
    {
     "data": {
      "image/png": "[encoded data removed]",
      "text/plain": [
       "<Figure size 640x480 with 1 Axes>"
      ]
     },
     "metadata": {},
     "output_type": "display_data"
    }
   ],
   "source": [
    "# c. Para a plotagem deve-se transformar os resultados do treino em um dataframe o pandas e plotar os valores de perda e acurácia em função das épocas.\n",
    "\n",
    "## i. Utilizar o método “.DataFrame” para transformar resultados em data frame do pandas;\n",
    "\n",
    "history_df = pd.DataFrame(history.history)\n",
    "\n",
    "## ii. Utilizar gráfico de linha para plotar os resultados da perda e da acurácia em função das épocas de treino.\n",
    "\n",
    "history_df.head()\n",
    "\n",
    "history_df.loc[5:, ['loss', 'val_loss']].plot()\n",
    "history_df.loc[5:, ['categorical_accuracy', 'val_categorical_accuracy']].plot()\n",
    "\n",
    "print((\"Best Validation Loss: {:0.4f}\" +\\\n",
    "      \"\\nBest Validation Accuracy: {:0.4f}\")\\\n",
    "      .format(history_df['val_loss'].min(), \n",
    "              history_df['val_categorical_accuracy'].max()))"
   ]
  }
 ],
 "metadata": {
  "kaggle": {
   "accelerator": "none",
   "dataSources": [
    {
     "datasetId": 634,
     "sourceId": 1203,
     "sourceType": "datasetVersion"
    }
   ],
   "dockerImageVersionId": 30918,
   "isGpuEnabled": false,
   "isInternetEnabled": false,
   "language": "python",
   "sourceType": "notebook"
  },
  "kernelspec": {
   "display_name": "Python 3",
   "language": "python",
   "name": "python3"
  },
  "language_info": {
   "codemirror_mode": {
    "name": "ipython",
    "version": 3
   },
   "file_extension": ".py",
   "mimetype": "text/x-python",
   "name": "python",
   "nbconvert_exporter": "python",
   "pygments_lexer": "ipython3",
   "version": "3.10.12"
  },
  "papermill": {
   "default_parameters": {},
   "duration": 178.586102,
   "end_time": "2025-03-01T05:11:51.366163",
   "environment_variables": {},
   "exception": null,
   "input_path": "__notebook__.ipynb",
   "output_path": "__notebook__.ipynb",
   "parameters": {},
   "start_time": "2025-03-01T05:08:52.780061",
   "version": "2.6.0"
  }
 },
 "nbformat": 4,
 "nbformat_minor": 5
}
