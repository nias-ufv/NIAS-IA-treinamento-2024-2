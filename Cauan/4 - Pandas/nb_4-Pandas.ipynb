{
 "cells": [
  {
   "cell_type": "code",
   "execution_count": 19,
   "metadata": {},
   "outputs": [
    {
     "name": "stdout",
     "output_type": "stream",
     "text": [
      "Setup completo :)\n"
     ]
    }
   ],
   "source": [
    "# Base para o código:\n",
    "\n",
    "## Leitura de arquivos e interpertação de dados:\n",
    "import numpy as np \n",
    "import pandas as pd\n",
    "\n",
    "## Importação e preparação dos arquivos\n",
    "covid_19 = pd.read_csv(r\"\\Users\\Cauan\\Documents\\UFV\\NIAS-IA-treinamento-2024-2\\Cauan\\Pandas\\COVID-19 Dataset\\covid_19_clean_complete.csv\")\n",
    "worldmeter = pd.read_csv(r\"\\Users\\Cauan\\Documents\\UFV\\NIAS-IA-treinamento-2024-2\\Cauan\\Pandas\\COVID-19 Dataset\\worldometer_data.csv\")\n",
    "\n",
    "print('Setup completo :)')"
   ]
  },
  {
   "cell_type": "markdown",
   "metadata": {},
   "source": [
    "# 4.1 - Explorando o \"COVID-19 Dataset\""
   ]
  },
  {
   "cell_type": "markdown",
   "metadata": {},
   "source": [
    "### 1. O primeiro passo da exploração de dados é obter informações gerais, deve-se importar o arquivo “covid_19_clean_complete.csv” e obter as seguintes informações."
   ]
  },
  {
   "cell_type": "code",
   "execution_count": 20,
   "metadata": {},
   "outputs": [
    {
     "name": "stdout",
     "output_type": "stream",
     "text": [
      "O dataset possui  49068  linhas e  10  colunas\n"
     ]
    }
   ],
   "source": [
    "# a. Quantidade de linhas e colunas;\n",
    "\n",
    "print('O dataset possui ',covid_19.shape[0],' linhas e ', covid_19.shape[1],' colunas')"
   ]
  },
  {
   "cell_type": "code",
   "execution_count": 21,
   "metadata": {},
   "outputs": [
    {
     "name": "stdout",
     "output_type": "stream",
     "text": [
      "As colunas do dataset são:  ['Province/State', 'Country/Region', 'Lat', 'Long', 'Date', 'Confirmed', 'Deaths', 'Recovered', 'Active', 'WHO Region']\n"
     ]
    }
   ],
   "source": [
    "# b. Quais são as colunas;\n",
    "\n",
    "print('As colunas do dataset são: ', list(covid_19.columns))"
   ]
  },
  {
   "cell_type": "code",
   "execution_count": 22,
   "metadata": {},
   "outputs": [
    {
     "data": {
      "text/plain": [
       "Province/State     object\n",
       "Country/Region     object\n",
       "Lat               float64\n",
       "Long              float64\n",
       "Date               object\n",
       "Confirmed           int64\n",
       "Deaths              int64\n",
       "Recovered           int64\n",
       "Active              int64\n",
       "WHO Region         object\n",
       "dtype: object"
      ]
     },
     "execution_count": 22,
     "metadata": {},
     "output_type": "execute_result"
    }
   ],
   "source": [
    "# c. O tipo de dado de cada coluna;\n",
    "\n",
    "covid_19.dtypes"
   ]
  },
  {
   "cell_type": "code",
   "execution_count": 23,
   "metadata": {},
   "outputs": [
    {
     "data": {
      "text/plain": [
       "dtype('<M8[ns]')"
      ]
     },
     "execution_count": 23,
     "metadata": {},
     "output_type": "execute_result"
    }
   ],
   "source": [
    "# d. A coluna de datas deve ser transformada de “Object” para “datetime64”, utilizando o comando “pd.todatetime( )” ;\n",
    "\n",
    "covid_19['Date']=pd.to_datetime(covid_19['Date'])\n",
    "\n",
    "covid_19['Date'].dtype"
   ]
  },
  {
   "cell_type": "code",
   "execution_count": 24,
   "metadata": {},
   "outputs": [
    {
     "data": {
      "application/vnd.microsoft.datawrangler.viewer.v0+json": {
       "columns": [
        {
         "name": "index",
         "rawType": "object",
         "type": "string"
        },
        {
         "name": "Lat",
         "rawType": "float64",
         "type": "float"
        },
        {
         "name": "Long",
         "rawType": "float64",
         "type": "float"
        },
        {
         "name": "Date",
         "rawType": "object",
         "type": "unknown"
        },
        {
         "name": "Confirmed",
         "rawType": "float64",
         "type": "float"
        },
        {
         "name": "Deaths",
         "rawType": "float64",
         "type": "float"
        },
        {
         "name": "Recovered",
         "rawType": "float64",
         "type": "float"
        },
        {
         "name": "Active",
         "rawType": "float64",
         "type": "float"
        }
       ],
       "conversionMethod": "pd.DataFrame",
       "ref": "1a9d116a-205a-4c3c-b529-7cdf06587c3b",
       "rows": [
        [
         "count",
         "49068.0",
         "49068.0",
         "49068",
         "49068.0",
         "49068.0",
         "49068.0",
         "49068.0"
        ],
        [
         "mean",
         "21.433730459770114",
         "23.52823645210728",
         "2020-04-24 12:00:00",
         "16884.90425531915",
         "884.1791595337083",
         "7915.713479253282",
         "8085.01161653216"
        ],
        [
         "min",
         "-51.7963",
         "-135.0",
         "2020-01-22 00:00:00",
         "0.0",
         "0.0",
         "0.0",
         "-14.0"
        ],
        [
         "25%",
         "7.873054",
         "-15.3101",
         "2020-03-08 18:00:00",
         "4.0",
         "0.0",
         "0.0",
         "0.0"
        ],
        [
         "50%",
         "23.6345",
         "21.7453",
         "2020-04-24 12:00:00",
         "168.0",
         "2.0",
         "29.0",
         "26.0"
        ],
        [
         "75%",
         "41.20438",
         "80.77179699999998",
         "2020-06-10 06:00:00",
         "1518.25",
         "30.0",
         "666.0",
         "606.0"
        ],
        [
         "max",
         "71.7069",
         "178.065",
         "2020-07-27 00:00:00",
         "4290259.0",
         "148011.0",
         "1846641.0",
         "2816444.0"
        ],
        [
         "std",
         "24.950319826064398",
         "70.44273974450293",
         null,
         "127300.2052722802",
         "6313.584410596364",
         "54800.91873054018",
         "76258.90302550718"
        ]
       ],
       "shape": {
        "columns": 7,
        "rows": 8
       }
      },
      "text/html": [
       "<div>\n",
       "<style scoped>\n",
       "    .dataframe tbody tr th:only-of-type {\n",
       "        vertical-align: middle;\n",
       "    }\n",
       "\n",
       "    .dataframe tbody tr th {\n",
       "        vertical-align: top;\n",
       "    }\n",
       "\n",
       "    .dataframe thead th {\n",
       "        text-align: right;\n",
       "    }\n",
       "</style>\n",
       "<table border=\"1\" class=\"dataframe\">\n",
       "  <thead>\n",
       "    <tr style=\"text-align: right;\">\n",
       "      <th></th>\n",
       "      <th>Lat</th>\n",
       "      <th>Long</th>\n",
       "      <th>Date</th>\n",
       "      <th>Confirmed</th>\n",
       "      <th>Deaths</th>\n",
       "      <th>Recovered</th>\n",
       "      <th>Active</th>\n",
       "    </tr>\n",
       "  </thead>\n",
       "  <tbody>\n",
       "    <tr>\n",
       "      <th>count</th>\n",
       "      <td>49068.000000</td>\n",
       "      <td>49068.000000</td>\n",
       "      <td>49068</td>\n",
       "      <td>4.906800e+04</td>\n",
       "      <td>49068.000000</td>\n",
       "      <td>4.906800e+04</td>\n",
       "      <td>4.906800e+04</td>\n",
       "    </tr>\n",
       "    <tr>\n",
       "      <th>mean</th>\n",
       "      <td>21.433730</td>\n",
       "      <td>23.528236</td>\n",
       "      <td>2020-04-24 12:00:00</td>\n",
       "      <td>1.688490e+04</td>\n",
       "      <td>884.179160</td>\n",
       "      <td>7.915713e+03</td>\n",
       "      <td>8.085012e+03</td>\n",
       "    </tr>\n",
       "    <tr>\n",
       "      <th>min</th>\n",
       "      <td>-51.796300</td>\n",
       "      <td>-135.000000</td>\n",
       "      <td>2020-01-22 00:00:00</td>\n",
       "      <td>0.000000e+00</td>\n",
       "      <td>0.000000</td>\n",
       "      <td>0.000000e+00</td>\n",
       "      <td>-1.400000e+01</td>\n",
       "    </tr>\n",
       "    <tr>\n",
       "      <th>25%</th>\n",
       "      <td>7.873054</td>\n",
       "      <td>-15.310100</td>\n",
       "      <td>2020-03-08 18:00:00</td>\n",
       "      <td>4.000000e+00</td>\n",
       "      <td>0.000000</td>\n",
       "      <td>0.000000e+00</td>\n",
       "      <td>0.000000e+00</td>\n",
       "    </tr>\n",
       "    <tr>\n",
       "      <th>50%</th>\n",
       "      <td>23.634500</td>\n",
       "      <td>21.745300</td>\n",
       "      <td>2020-04-24 12:00:00</td>\n",
       "      <td>1.680000e+02</td>\n",
       "      <td>2.000000</td>\n",
       "      <td>2.900000e+01</td>\n",
       "      <td>2.600000e+01</td>\n",
       "    </tr>\n",
       "    <tr>\n",
       "      <th>75%</th>\n",
       "      <td>41.204380</td>\n",
       "      <td>80.771797</td>\n",
       "      <td>2020-06-10 06:00:00</td>\n",
       "      <td>1.518250e+03</td>\n",
       "      <td>30.000000</td>\n",
       "      <td>6.660000e+02</td>\n",
       "      <td>6.060000e+02</td>\n",
       "    </tr>\n",
       "    <tr>\n",
       "      <th>max</th>\n",
       "      <td>71.706900</td>\n",
       "      <td>178.065000</td>\n",
       "      <td>2020-07-27 00:00:00</td>\n",
       "      <td>4.290259e+06</td>\n",
       "      <td>148011.000000</td>\n",
       "      <td>1.846641e+06</td>\n",
       "      <td>2.816444e+06</td>\n",
       "    </tr>\n",
       "    <tr>\n",
       "      <th>std</th>\n",
       "      <td>24.950320</td>\n",
       "      <td>70.442740</td>\n",
       "      <td>NaN</td>\n",
       "      <td>1.273002e+05</td>\n",
       "      <td>6313.584411</td>\n",
       "      <td>5.480092e+04</td>\n",
       "      <td>7.625890e+04</td>\n",
       "    </tr>\n",
       "  </tbody>\n",
       "</table>\n",
       "</div>"
      ],
      "text/plain": [
       "                Lat          Long                 Date     Confirmed  \\\n",
       "count  49068.000000  49068.000000                49068  4.906800e+04   \n",
       "mean      21.433730     23.528236  2020-04-24 12:00:00  1.688490e+04   \n",
       "min      -51.796300   -135.000000  2020-01-22 00:00:00  0.000000e+00   \n",
       "25%        7.873054    -15.310100  2020-03-08 18:00:00  4.000000e+00   \n",
       "50%       23.634500     21.745300  2020-04-24 12:00:00  1.680000e+02   \n",
       "75%       41.204380     80.771797  2020-06-10 06:00:00  1.518250e+03   \n",
       "max       71.706900    178.065000  2020-07-27 00:00:00  4.290259e+06   \n",
       "std       24.950320     70.442740                  NaN  1.273002e+05   \n",
       "\n",
       "              Deaths     Recovered        Active  \n",
       "count   49068.000000  4.906800e+04  4.906800e+04  \n",
       "mean      884.179160  7.915713e+03  8.085012e+03  \n",
       "min         0.000000  0.000000e+00 -1.400000e+01  \n",
       "25%         0.000000  0.000000e+00  0.000000e+00  \n",
       "50%         2.000000  2.900000e+01  2.600000e+01  \n",
       "75%        30.000000  6.660000e+02  6.060000e+02  \n",
       "max    148011.000000  1.846641e+06  2.816444e+06  \n",
       "std      6313.584411  5.480092e+04  7.625890e+04  "
      ]
     },
     "execution_count": 24,
     "metadata": {},
     "output_type": "execute_result"
    }
   ],
   "source": [
    "# e. Informações estatísticas sobre o banco de dados;\n",
    "\n",
    "covid_19.describe()"
   ]
  },
  {
   "cell_type": "code",
   "execution_count": 25,
   "metadata": {},
   "outputs": [],
   "source": [
    "# f. Se necessário, transformar uma coluna pertinente para formato de data;\n",
    "\n",
    "# Não há necessidade"
   ]
  },
  {
   "cell_type": "code",
   "execution_count": 26,
   "metadata": {},
   "outputs": [
    {
     "data": {
      "text/plain": [
       "Province/State    34404\n",
       "Country/Region        0\n",
       "Lat                   0\n",
       "Long                  0\n",
       "Date                  0\n",
       "Confirmed             0\n",
       "Deaths                0\n",
       "Recovered             0\n",
       "Active                0\n",
       "WHO Region            0\n",
       "dtype: int64"
      ]
     },
     "execution_count": 26,
     "metadata": {},
     "output_type": "execute_result"
    }
   ],
   "source": [
    "# g. Quais colunas apresentam NaN.\n",
    "\n",
    "covid_19.isnull().sum()"
   ]
  },
  {
   "cell_type": "markdown",
   "metadata": {},
   "source": [
    "### 2. Crie um dataframe que contenha apenas as 5 províncias da China que mais registraram casos."
   ]
  },
  {
   "cell_type": "code",
   "execution_count": 27,
   "metadata": {},
   "outputs": [
    {
     "data": {
      "text/plain": [
       "Province/State\n",
       "Anhui             China\n",
       "Beijing           China\n",
       "Chongqing         China\n",
       "Fujian            China\n",
       "Gansu             China\n",
       "Guangdong         China\n",
       "Guangxi           China\n",
       "Guizhou           China\n",
       "Hainan            China\n",
       "Hebei             China\n",
       "Heilongjiang      China\n",
       "Henan             China\n",
       "Hong Kong         China\n",
       "Hubei             China\n",
       "Hunan             China\n",
       "Inner Mongolia    China\n",
       "Jiangsu           China\n",
       "Jiangxi           China\n",
       "Jilin             China\n",
       "Liaoning          China\n",
       "Macau             China\n",
       "Ningxia           China\n",
       "Qinghai           China\n",
       "Shaanxi           China\n",
       "Shandong          China\n",
       "Shanghai          China\n",
       "Shanxi            China\n",
       "Sichuan           China\n",
       "Tianjin           China\n",
       "Tibet             China\n",
       "Xinjiang          China\n",
       "Yunnan            China\n",
       "Zhejiang          China\n",
       "Name: Country/Region, dtype: object"
      ]
     },
     "execution_count": 27,
     "metadata": {},
     "output_type": "execute_result"
    }
   ],
   "source": [
    "# a. Descubra qual o nome das províncias chinesas contidas no dataset ;\n",
    "\n",
    "c_provinces = covid_19.loc[covid_19['Country/Region'] == 'China']\n",
    "\n",
    "c_provinces.groupby('Province/State')['Country/Region'].max()"
   ]
  },
  {
   "cell_type": "code",
   "execution_count": 28,
   "metadata": {},
   "outputs": [
    {
     "data": {
      "application/vnd.microsoft.datawrangler.viewer.v0+json": {
       "columns": [
        {
         "name": "index",
         "rawType": "int64",
         "type": "integer"
        },
        {
         "name": "Province/State",
         "rawType": "object",
         "type": "string"
        },
        {
         "name": "Country/Region",
         "rawType": "object",
         "type": "string"
        },
        {
         "name": "Lat",
         "rawType": "float64",
         "type": "float"
        },
        {
         "name": "Long",
         "rawType": "float64",
         "type": "float"
        },
        {
         "name": "Date",
         "rawType": "datetime64[ns]",
         "type": "datetime"
        },
        {
         "name": "Confirmed",
         "rawType": "int64",
         "type": "integer"
        },
        {
         "name": "Deaths",
         "rawType": "int64",
         "type": "integer"
        },
        {
         "name": "Recovered",
         "rawType": "int64",
         "type": "integer"
        },
        {
         "name": "Active",
         "rawType": "int64",
         "type": "integer"
        },
        {
         "name": "WHO Region",
         "rawType": "object",
         "type": "string"
        }
       ],
       "conversionMethod": "pd.DataFrame",
       "ref": "0a67e25f-06fc-40bb-b8c6-c17fde4aaaf3",
       "rows": [
        [
         "48",
         "Anhui",
         "China",
         "31.8257",
         "117.2264",
         "2020-01-22 00:00:00",
         "1",
         "0",
         "0",
         "1",
         "Western Pacific"
        ],
        [
         "49",
         "Beijing",
         "China",
         "40.1824",
         "116.4142",
         "2020-01-22 00:00:00",
         "14",
         "0",
         "0",
         "14",
         "Western Pacific"
        ],
        [
         "50",
         "Chongqing",
         "China",
         "30.0572",
         "107.874",
         "2020-01-22 00:00:00",
         "6",
         "0",
         "0",
         "6",
         "Western Pacific"
        ],
        [
         "51",
         "Fujian",
         "China",
         "26.0789",
         "117.9874",
         "2020-01-22 00:00:00",
         "1",
         "0",
         "0",
         "1",
         "Western Pacific"
        ],
        [
         "52",
         "Gansu",
         "China",
         "35.7518",
         "104.2861",
         "2020-01-22 00:00:00",
         "0",
         "0",
         "0",
         "0",
         "Western Pacific"
        ],
        [
         "53",
         "Guangdong",
         "China",
         "23.3417",
         "113.4244",
         "2020-01-22 00:00:00",
         "26",
         "0",
         "0",
         "26",
         "Western Pacific"
        ],
        [
         "54",
         "Guangxi",
         "China",
         "23.8298",
         "108.7881",
         "2020-01-22 00:00:00",
         "2",
         "0",
         "0",
         "2",
         "Western Pacific"
        ],
        [
         "55",
         "Guizhou",
         "China",
         "26.8154",
         "106.8748",
         "2020-01-22 00:00:00",
         "1",
         "0",
         "0",
         "1",
         "Western Pacific"
        ],
        [
         "56",
         "Hainan",
         "China",
         "19.1959",
         "109.7453",
         "2020-01-22 00:00:00",
         "4",
         "0",
         "0",
         "4",
         "Western Pacific"
        ],
        [
         "57",
         "Hebei",
         "China",
         "39.549",
         "116.1306",
         "2020-01-22 00:00:00",
         "1",
         "0",
         "0",
         "1",
         "Western Pacific"
        ],
        [
         "58",
         "Heilongjiang",
         "China",
         "47.862",
         "127.7615",
         "2020-01-22 00:00:00",
         "0",
         "0",
         "0",
         "0",
         "Western Pacific"
        ],
        [
         "59",
         "Henan",
         "China",
         "37.8957",
         "114.9042",
         "2020-01-22 00:00:00",
         "5",
         "0",
         "0",
         "5",
         "Western Pacific"
        ],
        [
         "60",
         "Hong Kong",
         "China",
         "22.3",
         "114.2",
         "2020-01-22 00:00:00",
         "0",
         "0",
         "0",
         "0",
         "Western Pacific"
        ],
        [
         "61",
         "Hubei",
         "China",
         "30.9756",
         "112.2707",
         "2020-01-22 00:00:00",
         "444",
         "17",
         "28",
         "399",
         "Western Pacific"
        ],
        [
         "62",
         "Hunan",
         "China",
         "27.6104",
         "111.7088",
         "2020-01-22 00:00:00",
         "4",
         "0",
         "0",
         "4",
         "Western Pacific"
        ],
        [
         "63",
         "Inner Mongolia",
         "China",
         "44.0935",
         "113.9448",
         "2020-01-22 00:00:00",
         "0",
         "0",
         "0",
         "0",
         "Western Pacific"
        ],
        [
         "64",
         "Jiangsu",
         "China",
         "32.9711",
         "119.455",
         "2020-01-22 00:00:00",
         "1",
         "0",
         "0",
         "1",
         "Western Pacific"
        ],
        [
         "65",
         "Jiangxi",
         "China",
         "27.614",
         "115.7221",
         "2020-01-22 00:00:00",
         "2",
         "0",
         "0",
         "2",
         "Western Pacific"
        ],
        [
         "66",
         "Jilin",
         "China",
         "43.6661",
         "126.1923",
         "2020-01-22 00:00:00",
         "0",
         "0",
         "0",
         "0",
         "Western Pacific"
        ],
        [
         "67",
         "Liaoning",
         "China",
         "41.2956",
         "122.6085",
         "2020-01-22 00:00:00",
         "2",
         "0",
         "0",
         "2",
         "Western Pacific"
        ],
        [
         "68",
         "Macau",
         "China",
         "22.1667",
         "113.55",
         "2020-01-22 00:00:00",
         "1",
         "0",
         "0",
         "1",
         "Western Pacific"
        ],
        [
         "69",
         "Ningxia",
         "China",
         "37.2692",
         "106.1655",
         "2020-01-22 00:00:00",
         "1",
         "0",
         "0",
         "1",
         "Western Pacific"
        ],
        [
         "70",
         "Qinghai",
         "China",
         "35.7452",
         "95.9956",
         "2020-01-22 00:00:00",
         "0",
         "0",
         "0",
         "0",
         "Western Pacific"
        ],
        [
         "71",
         "Shaanxi",
         "China",
         "35.1917",
         "108.8701",
         "2020-01-22 00:00:00",
         "0",
         "0",
         "0",
         "0",
         "Western Pacific"
        ],
        [
         "72",
         "Shandong",
         "China",
         "36.3427",
         "118.1498",
         "2020-01-22 00:00:00",
         "2",
         "0",
         "0",
         "2",
         "Western Pacific"
        ],
        [
         "73",
         "Shanghai",
         "China",
         "31.202",
         "121.4491",
         "2020-01-22 00:00:00",
         "9",
         "0",
         "0",
         "9",
         "Western Pacific"
        ],
        [
         "74",
         "Shanxi",
         "China",
         "37.5777",
         "112.2922",
         "2020-01-22 00:00:00",
         "1",
         "0",
         "0",
         "1",
         "Western Pacific"
        ],
        [
         "75",
         "Sichuan",
         "China",
         "30.6171",
         "102.7103",
         "2020-01-22 00:00:00",
         "5",
         "0",
         "0",
         "5",
         "Western Pacific"
        ],
        [
         "76",
         "Tianjin",
         "China",
         "39.3054",
         "117.323",
         "2020-01-22 00:00:00",
         "4",
         "0",
         "0",
         "4",
         "Western Pacific"
        ],
        [
         "77",
         "Tibet",
         "China",
         "31.6927",
         "88.0924",
         "2020-01-22 00:00:00",
         "0",
         "0",
         "0",
         "0",
         "Western Pacific"
        ],
        [
         "78",
         "Xinjiang",
         "China",
         "41.1129",
         "85.2401",
         "2020-01-22 00:00:00",
         "0",
         "0",
         "0",
         "0",
         "Western Pacific"
        ],
        [
         "79",
         "Yunnan",
         "China",
         "24.974",
         "101.487",
         "2020-01-22 00:00:00",
         "1",
         "0",
         "0",
         "1",
         "Western Pacific"
        ],
        [
         "80",
         "Zhejiang",
         "China",
         "29.1832",
         "120.0934",
         "2020-01-22 00:00:00",
         "10",
         "0",
         "0",
         "10",
         "Western Pacific"
        ],
        [
         "309",
         "Anhui",
         "China",
         "31.8257",
         "117.2264",
         "2020-01-23 00:00:00",
         "9",
         "0",
         "0",
         "9",
         "Western Pacific"
        ],
        [
         "310",
         "Beijing",
         "China",
         "40.1824",
         "116.4142",
         "2020-01-23 00:00:00",
         "22",
         "0",
         "0",
         "22",
         "Western Pacific"
        ],
        [
         "311",
         "Chongqing",
         "China",
         "30.0572",
         "107.874",
         "2020-01-23 00:00:00",
         "9",
         "0",
         "0",
         "9",
         "Western Pacific"
        ],
        [
         "312",
         "Fujian",
         "China",
         "26.0789",
         "117.9874",
         "2020-01-23 00:00:00",
         "5",
         "0",
         "0",
         "5",
         "Western Pacific"
        ],
        [
         "313",
         "Gansu",
         "China",
         "35.7518",
         "104.2861",
         "2020-01-23 00:00:00",
         "2",
         "0",
         "0",
         "2",
         "Western Pacific"
        ],
        [
         "314",
         "Guangdong",
         "China",
         "23.3417",
         "113.4244",
         "2020-01-23 00:00:00",
         "32",
         "0",
         "2",
         "30",
         "Western Pacific"
        ],
        [
         "315",
         "Guangxi",
         "China",
         "23.8298",
         "108.7881",
         "2020-01-23 00:00:00",
         "5",
         "0",
         "0",
         "5",
         "Western Pacific"
        ],
        [
         "316",
         "Guizhou",
         "China",
         "26.8154",
         "106.8748",
         "2020-01-23 00:00:00",
         "3",
         "0",
         "0",
         "3",
         "Western Pacific"
        ],
        [
         "317",
         "Hainan",
         "China",
         "19.1959",
         "109.7453",
         "2020-01-23 00:00:00",
         "5",
         "0",
         "0",
         "5",
         "Western Pacific"
        ],
        [
         "318",
         "Hebei",
         "China",
         "39.549",
         "116.1306",
         "2020-01-23 00:00:00",
         "1",
         "1",
         "0",
         "0",
         "Western Pacific"
        ],
        [
         "319",
         "Heilongjiang",
         "China",
         "47.862",
         "127.7615",
         "2020-01-23 00:00:00",
         "2",
         "0",
         "0",
         "2",
         "Western Pacific"
        ],
        [
         "320",
         "Henan",
         "China",
         "37.8957",
         "114.9042",
         "2020-01-23 00:00:00",
         "5",
         "0",
         "0",
         "5",
         "Western Pacific"
        ],
        [
         "321",
         "Hong Kong",
         "China",
         "22.3",
         "114.2",
         "2020-01-23 00:00:00",
         "2",
         "0",
         "0",
         "2",
         "Western Pacific"
        ],
        [
         "322",
         "Hubei",
         "China",
         "30.9756",
         "112.2707",
         "2020-01-23 00:00:00",
         "444",
         "17",
         "28",
         "399",
         "Western Pacific"
        ],
        [
         "323",
         "Hunan",
         "China",
         "27.6104",
         "111.7088",
         "2020-01-23 00:00:00",
         "9",
         "0",
         "0",
         "9",
         "Western Pacific"
        ],
        [
         "324",
         "Inner Mongolia",
         "China",
         "44.0935",
         "113.9448",
         "2020-01-23 00:00:00",
         "0",
         "0",
         "0",
         "0",
         "Western Pacific"
        ],
        [
         "325",
         "Jiangsu",
         "China",
         "32.9711",
         "119.455",
         "2020-01-23 00:00:00",
         "5",
         "0",
         "0",
         "5",
         "Western Pacific"
        ]
       ],
       "shape": {
        "columns": 10,
        "rows": 6204
       }
      },
      "text/html": [
       "<div>\n",
       "<style scoped>\n",
       "    .dataframe tbody tr th:only-of-type {\n",
       "        vertical-align: middle;\n",
       "    }\n",
       "\n",
       "    .dataframe tbody tr th {\n",
       "        vertical-align: top;\n",
       "    }\n",
       "\n",
       "    .dataframe thead th {\n",
       "        text-align: right;\n",
       "    }\n",
       "</style>\n",
       "<table border=\"1\" class=\"dataframe\">\n",
       "  <thead>\n",
       "    <tr style=\"text-align: right;\">\n",
       "      <th></th>\n",
       "      <th>Province/State</th>\n",
       "      <th>Country/Region</th>\n",
       "      <th>Lat</th>\n",
       "      <th>Long</th>\n",
       "      <th>Date</th>\n",
       "      <th>Confirmed</th>\n",
       "      <th>Deaths</th>\n",
       "      <th>Recovered</th>\n",
       "      <th>Active</th>\n",
       "      <th>WHO Region</th>\n",
       "    </tr>\n",
       "  </thead>\n",
       "  <tbody>\n",
       "    <tr>\n",
       "      <th>48</th>\n",
       "      <td>Anhui</td>\n",
       "      <td>China</td>\n",
       "      <td>31.8257</td>\n",
       "      <td>117.2264</td>\n",
       "      <td>2020-01-22</td>\n",
       "      <td>1</td>\n",
       "      <td>0</td>\n",
       "      <td>0</td>\n",
       "      <td>1</td>\n",
       "      <td>Western Pacific</td>\n",
       "    </tr>\n",
       "    <tr>\n",
       "      <th>49</th>\n",
       "      <td>Beijing</td>\n",
       "      <td>China</td>\n",
       "      <td>40.1824</td>\n",
       "      <td>116.4142</td>\n",
       "      <td>2020-01-22</td>\n",
       "      <td>14</td>\n",
       "      <td>0</td>\n",
       "      <td>0</td>\n",
       "      <td>14</td>\n",
       "      <td>Western Pacific</td>\n",
       "    </tr>\n",
       "    <tr>\n",
       "      <th>50</th>\n",
       "      <td>Chongqing</td>\n",
       "      <td>China</td>\n",
       "      <td>30.0572</td>\n",
       "      <td>107.8740</td>\n",
       "      <td>2020-01-22</td>\n",
       "      <td>6</td>\n",
       "      <td>0</td>\n",
       "      <td>0</td>\n",
       "      <td>6</td>\n",
       "      <td>Western Pacific</td>\n",
       "    </tr>\n",
       "    <tr>\n",
       "      <th>51</th>\n",
       "      <td>Fujian</td>\n",
       "      <td>China</td>\n",
       "      <td>26.0789</td>\n",
       "      <td>117.9874</td>\n",
       "      <td>2020-01-22</td>\n",
       "      <td>1</td>\n",
       "      <td>0</td>\n",
       "      <td>0</td>\n",
       "      <td>1</td>\n",
       "      <td>Western Pacific</td>\n",
       "    </tr>\n",
       "    <tr>\n",
       "      <th>52</th>\n",
       "      <td>Gansu</td>\n",
       "      <td>China</td>\n",
       "      <td>35.7518</td>\n",
       "      <td>104.2861</td>\n",
       "      <td>2020-01-22</td>\n",
       "      <td>0</td>\n",
       "      <td>0</td>\n",
       "      <td>0</td>\n",
       "      <td>0</td>\n",
       "      <td>Western Pacific</td>\n",
       "    </tr>\n",
       "    <tr>\n",
       "      <th>...</th>\n",
       "      <td>...</td>\n",
       "      <td>...</td>\n",
       "      <td>...</td>\n",
       "      <td>...</td>\n",
       "      <td>...</td>\n",
       "      <td>...</td>\n",
       "      <td>...</td>\n",
       "      <td>...</td>\n",
       "      <td>...</td>\n",
       "      <td>...</td>\n",
       "    </tr>\n",
       "    <tr>\n",
       "      <th>48883</th>\n",
       "      <td>Tianjin</td>\n",
       "      <td>China</td>\n",
       "      <td>39.3054</td>\n",
       "      <td>117.3230</td>\n",
       "      <td>2020-07-27</td>\n",
       "      <td>204</td>\n",
       "      <td>3</td>\n",
       "      <td>195</td>\n",
       "      <td>6</td>\n",
       "      <td>Western Pacific</td>\n",
       "    </tr>\n",
       "    <tr>\n",
       "      <th>48884</th>\n",
       "      <td>Tibet</td>\n",
       "      <td>China</td>\n",
       "      <td>31.6927</td>\n",
       "      <td>88.0924</td>\n",
       "      <td>2020-07-27</td>\n",
       "      <td>1</td>\n",
       "      <td>0</td>\n",
       "      <td>1</td>\n",
       "      <td>0</td>\n",
       "      <td>Western Pacific</td>\n",
       "    </tr>\n",
       "    <tr>\n",
       "      <th>48885</th>\n",
       "      <td>Xinjiang</td>\n",
       "      <td>China</td>\n",
       "      <td>41.1129</td>\n",
       "      <td>85.2401</td>\n",
       "      <td>2020-07-27</td>\n",
       "      <td>311</td>\n",
       "      <td>3</td>\n",
       "      <td>73</td>\n",
       "      <td>235</td>\n",
       "      <td>Western Pacific</td>\n",
       "    </tr>\n",
       "    <tr>\n",
       "      <th>48886</th>\n",
       "      <td>Yunnan</td>\n",
       "      <td>China</td>\n",
       "      <td>24.9740</td>\n",
       "      <td>101.4870</td>\n",
       "      <td>2020-07-27</td>\n",
       "      <td>190</td>\n",
       "      <td>2</td>\n",
       "      <td>186</td>\n",
       "      <td>2</td>\n",
       "      <td>Western Pacific</td>\n",
       "    </tr>\n",
       "    <tr>\n",
       "      <th>48887</th>\n",
       "      <td>Zhejiang</td>\n",
       "      <td>China</td>\n",
       "      <td>29.1832</td>\n",
       "      <td>120.0934</td>\n",
       "      <td>2020-07-27</td>\n",
       "      <td>1270</td>\n",
       "      <td>1</td>\n",
       "      <td>1268</td>\n",
       "      <td>1</td>\n",
       "      <td>Western Pacific</td>\n",
       "    </tr>\n",
       "  </tbody>\n",
       "</table>\n",
       "<p>6204 rows × 10 columns</p>\n",
       "</div>"
      ],
      "text/plain": [
       "      Province/State Country/Region      Lat      Long       Date  Confirmed  \\\n",
       "48             Anhui          China  31.8257  117.2264 2020-01-22          1   \n",
       "49           Beijing          China  40.1824  116.4142 2020-01-22         14   \n",
       "50         Chongqing          China  30.0572  107.8740 2020-01-22          6   \n",
       "51            Fujian          China  26.0789  117.9874 2020-01-22          1   \n",
       "52             Gansu          China  35.7518  104.2861 2020-01-22          0   \n",
       "...              ...            ...      ...       ...        ...        ...   \n",
       "48883        Tianjin          China  39.3054  117.3230 2020-07-27        204   \n",
       "48884          Tibet          China  31.6927   88.0924 2020-07-27          1   \n",
       "48885       Xinjiang          China  41.1129   85.2401 2020-07-27        311   \n",
       "48886         Yunnan          China  24.9740  101.4870 2020-07-27        190   \n",
       "48887       Zhejiang          China  29.1832  120.0934 2020-07-27       1270   \n",
       "\n",
       "       Deaths  Recovered  Active       WHO Region  \n",
       "48          0          0       1  Western Pacific  \n",
       "49          0          0      14  Western Pacific  \n",
       "50          0          0       6  Western Pacific  \n",
       "51          0          0       1  Western Pacific  \n",
       "52          0          0       0  Western Pacific  \n",
       "...       ...        ...     ...              ...  \n",
       "48883       3        195       6  Western Pacific  \n",
       "48884       0          1       0  Western Pacific  \n",
       "48885       3         73     235  Western Pacific  \n",
       "48886       2        186       2  Western Pacific  \n",
       "48887       1       1268       1  Western Pacific  \n",
       "\n",
       "[6204 rows x 10 columns]"
      ]
     },
     "execution_count": 28,
     "metadata": {},
     "output_type": "execute_result"
    }
   ],
   "source": [
    "# b. Retire do banco de dados apenas as informações dessas províncias;\n",
    "\n",
    "c_provinces"
   ]
  },
  {
   "cell_type": "code",
   "execution_count": 38,
   "metadata": {},
   "outputs": [
    {
     "data": {
      "application/vnd.microsoft.datawrangler.viewer.v0+json": {
       "columns": [
        {
         "name": "index",
         "rawType": "int64",
         "type": "integer"
        },
        {
         "name": "Confirmed",
         "rawType": "int64",
         "type": "integer"
        },
        {
         "name": "Active",
         "rawType": "int64",
         "type": "integer"
        },
        {
         "name": "Deaths",
         "rawType": "int64",
         "type": "integer"
        },
        {
         "name": "Recovered",
         "rawType": "int64",
         "type": "integer"
        }
       ],
       "conversionMethod": "pd.DataFrame",
       "ref": "f39dc83b-0c37-4c2c-bf85-58977b15ca6f",
       "rows": [
        [
         "48",
         "1",
         "1",
         "0",
         "0"
        ],
        [
         "49",
         "14",
         "14",
         "0",
         "0"
        ],
        [
         "50",
         "6",
         "6",
         "0",
         "0"
        ],
        [
         "51",
         "1",
         "1",
         "0",
         "0"
        ],
        [
         "52",
         "0",
         "0",
         "0",
         "0"
        ],
        [
         "53",
         "26",
         "26",
         "0",
         "0"
        ],
        [
         "54",
         "2",
         "2",
         "0",
         "0"
        ],
        [
         "55",
         "1",
         "1",
         "0",
         "0"
        ],
        [
         "56",
         "4",
         "4",
         "0",
         "0"
        ],
        [
         "57",
         "1",
         "1",
         "0",
         "0"
        ],
        [
         "58",
         "0",
         "0",
         "0",
         "0"
        ],
        [
         "59",
         "5",
         "5",
         "0",
         "0"
        ],
        [
         "60",
         "0",
         "0",
         "0",
         "0"
        ],
        [
         "61",
         "444",
         "399",
         "17",
         "28"
        ],
        [
         "62",
         "4",
         "4",
         "0",
         "0"
        ],
        [
         "63",
         "0",
         "0",
         "0",
         "0"
        ],
        [
         "64",
         "1",
         "1",
         "0",
         "0"
        ],
        [
         "65",
         "2",
         "2",
         "0",
         "0"
        ],
        [
         "66",
         "0",
         "0",
         "0",
         "0"
        ],
        [
         "67",
         "2",
         "2",
         "0",
         "0"
        ],
        [
         "68",
         "1",
         "1",
         "0",
         "0"
        ],
        [
         "69",
         "1",
         "1",
         "0",
         "0"
        ],
        [
         "70",
         "0",
         "0",
         "0",
         "0"
        ],
        [
         "71",
         "0",
         "0",
         "0",
         "0"
        ],
        [
         "72",
         "2",
         "2",
         "0",
         "0"
        ],
        [
         "73",
         "9",
         "9",
         "0",
         "0"
        ],
        [
         "74",
         "1",
         "1",
         "0",
         "0"
        ],
        [
         "75",
         "5",
         "5",
         "0",
         "0"
        ],
        [
         "76",
         "4",
         "4",
         "0",
         "0"
        ],
        [
         "77",
         "0",
         "0",
         "0",
         "0"
        ],
        [
         "78",
         "0",
         "0",
         "0",
         "0"
        ],
        [
         "79",
         "1",
         "1",
         "0",
         "0"
        ],
        [
         "80",
         "10",
         "10",
         "0",
         "0"
        ],
        [
         "309",
         "9",
         "9",
         "0",
         "0"
        ],
        [
         "310",
         "22",
         "22",
         "0",
         "0"
        ],
        [
         "311",
         "9",
         "9",
         "0",
         "0"
        ],
        [
         "312",
         "5",
         "5",
         "0",
         "0"
        ],
        [
         "313",
         "2",
         "2",
         "0",
         "0"
        ],
        [
         "314",
         "32",
         "30",
         "0",
         "2"
        ],
        [
         "315",
         "5",
         "5",
         "0",
         "0"
        ],
        [
         "316",
         "3",
         "3",
         "0",
         "0"
        ],
        [
         "317",
         "5",
         "5",
         "0",
         "0"
        ],
        [
         "318",
         "1",
         "0",
         "1",
         "0"
        ],
        [
         "319",
         "2",
         "2",
         "0",
         "0"
        ],
        [
         "320",
         "5",
         "5",
         "0",
         "0"
        ],
        [
         "321",
         "2",
         "2",
         "0",
         "0"
        ],
        [
         "322",
         "444",
         "399",
         "17",
         "28"
        ],
        [
         "323",
         "9",
         "9",
         "0",
         "0"
        ],
        [
         "324",
         "0",
         "0",
         "0",
         "0"
        ],
        [
         "325",
         "5",
         "5",
         "0",
         "0"
        ]
       ],
       "shape": {
        "columns": 4,
        "rows": 6204
       }
      },
      "text/html": [
       "<div>\n",
       "<style scoped>\n",
       "    .dataframe tbody tr th:only-of-type {\n",
       "        vertical-align: middle;\n",
       "    }\n",
       "\n",
       "    .dataframe tbody tr th {\n",
       "        vertical-align: top;\n",
       "    }\n",
       "\n",
       "    .dataframe thead th {\n",
       "        text-align: right;\n",
       "    }\n",
       "</style>\n",
       "<table border=\"1\" class=\"dataframe\">\n",
       "  <thead>\n",
       "    <tr style=\"text-align: right;\">\n",
       "      <th></th>\n",
       "      <th>Confirmed</th>\n",
       "      <th>Active</th>\n",
       "      <th>Deaths</th>\n",
       "      <th>Recovered</th>\n",
       "    </tr>\n",
       "  </thead>\n",
       "  <tbody>\n",
       "    <tr>\n",
       "      <th>48</th>\n",
       "      <td>1</td>\n",
       "      <td>1</td>\n",
       "      <td>0</td>\n",
       "      <td>0</td>\n",
       "    </tr>\n",
       "    <tr>\n",
       "      <th>49</th>\n",
       "      <td>14</td>\n",
       "      <td>14</td>\n",
       "      <td>0</td>\n",
       "      <td>0</td>\n",
       "    </tr>\n",
       "    <tr>\n",
       "      <th>50</th>\n",
       "      <td>6</td>\n",
       "      <td>6</td>\n",
       "      <td>0</td>\n",
       "      <td>0</td>\n",
       "    </tr>\n",
       "    <tr>\n",
       "      <th>51</th>\n",
       "      <td>1</td>\n",
       "      <td>1</td>\n",
       "      <td>0</td>\n",
       "      <td>0</td>\n",
       "    </tr>\n",
       "    <tr>\n",
       "      <th>52</th>\n",
       "      <td>0</td>\n",
       "      <td>0</td>\n",
       "      <td>0</td>\n",
       "      <td>0</td>\n",
       "    </tr>\n",
       "    <tr>\n",
       "      <th>...</th>\n",
       "      <td>...</td>\n",
       "      <td>...</td>\n",
       "      <td>...</td>\n",
       "      <td>...</td>\n",
       "    </tr>\n",
       "    <tr>\n",
       "      <th>48883</th>\n",
       "      <td>204</td>\n",
       "      <td>6</td>\n",
       "      <td>3</td>\n",
       "      <td>195</td>\n",
       "    </tr>\n",
       "    <tr>\n",
       "      <th>48884</th>\n",
       "      <td>1</td>\n",
       "      <td>0</td>\n",
       "      <td>0</td>\n",
       "      <td>1</td>\n",
       "    </tr>\n",
       "    <tr>\n",
       "      <th>48885</th>\n",
       "      <td>311</td>\n",
       "      <td>235</td>\n",
       "      <td>3</td>\n",
       "      <td>73</td>\n",
       "    </tr>\n",
       "    <tr>\n",
       "      <th>48886</th>\n",
       "      <td>190</td>\n",
       "      <td>2</td>\n",
       "      <td>2</td>\n",
       "      <td>186</td>\n",
       "    </tr>\n",
       "    <tr>\n",
       "      <th>48887</th>\n",
       "      <td>1270</td>\n",
       "      <td>1</td>\n",
       "      <td>1</td>\n",
       "      <td>1268</td>\n",
       "    </tr>\n",
       "  </tbody>\n",
       "</table>\n",
       "<p>6204 rows × 4 columns</p>\n",
       "</div>"
      ],
      "text/plain": [
       "       Confirmed  Active  Deaths  Recovered\n",
       "48             1       1       0          0\n",
       "49            14      14       0          0\n",
       "50             6       6       0          0\n",
       "51             1       1       0          0\n",
       "52             0       0       0          0\n",
       "...          ...     ...     ...        ...\n",
       "48883        204       6       3        195\n",
       "48884          1       0       0          1\n",
       "48885        311     235       3         73\n",
       "48886        190       2       2        186\n",
       "48887       1270       1       1       1268\n",
       "\n",
       "[6204 rows x 4 columns]"
      ]
     },
     "execution_count": 38,
     "metadata": {},
     "output_type": "execute_result"
    }
   ],
   "source": [
    "# c. Tome apenas as informações das features: “Confirmed”, “Active”, “Deaths”, “Recovered”; \n",
    "\n",
    "c_provinces.loc[:,['Confirmed', 'Active', 'Deaths', 'Recovered']]"
   ]
  },
  {
   "cell_type": "code",
   "execution_count": 39,
   "metadata": {},
   "outputs": [
    {
     "data": {
      "application/vnd.microsoft.datawrangler.viewer.v0+json": {
       "columns": [
        {
         "name": "Province/State",
         "rawType": "object",
         "type": "string"
        },
        {
         "name": "Confirmed",
         "rawType": "int64",
         "type": "integer"
        },
        {
         "name": "Active",
         "rawType": "int64",
         "type": "integer"
        },
        {
         "name": "Deaths",
         "rawType": "int64",
         "type": "integer"
        },
        {
         "name": "Recovered",
         "rawType": "int64",
         "type": "integer"
        }
       ],
       "conversionMethod": "pd.DataFrame",
       "ref": "626c638d-4fd1-49d1-8f57-1401ba075727",
       "rows": [
        [
         "Anhui",
         "172497",
         "15722",
         "1007",
         "155768"
        ],
        [
         "Beijing",
         "108512",
         "23282",
         "1383",
         "83847"
        ],
        [
         "Chongqing",
         "101756",
         "10608",
         "1013",
         "90135"
        ],
        [
         "Fujian",
         "59855",
         "6760",
         "159",
         "52936"
        ],
        [
         "Gansu",
         "23786",
         "2282",
         "341",
         "21163"
        ],
        [
         "Guangdong",
         "268051",
         "29668",
         "1273",
         "237110"
        ],
        [
         "Guangxi",
         "44368",
         "5105",
         "336",
         "38927"
        ],
        [
         "Guizhou",
         "25341",
         "2334",
         "335",
         "22672"
        ],
        [
         "Hainan",
         "29584",
         "2661",
         "993",
         "25930"
        ],
        [
         "Hebei",
         "56848",
         "55848",
         "1000",
         "0"
        ],
        [
         "Heilongjiang",
         "131961",
         "18095",
         "2196",
         "111670"
        ],
        [
         "Henan",
         "222581",
         "218953",
         "3628",
         "0"
        ],
        [
         "Hong Kong",
         "151541",
         "37002",
         "814",
         "113725"
        ],
        [
         "Hubei",
         "11473248",
         "1433798",
         "651932",
         "9387518"
        ],
        [
         "Hunan",
         "178641",
         "15540",
         "662",
         "162439"
        ],
        [
         "Inner Mongolia",
         "29781",
         "4921",
         "147",
         "24713"
        ],
        [
         "Jiangsu",
         "112469",
         "10102",
         "0",
         "102367"
        ],
        [
         "Jiangxi",
         "162963",
         "15139",
         "169",
         "147655"
        ],
        [
         "Jilin",
         "21375",
         "2229",
         "245",
         "18901"
        ],
        [
         "Liaoning",
         "25295",
         "3133",
         "297",
         "21865"
        ],
        [
         "Macau",
         "6217",
         "1364",
         "0",
         "4853"
        ],
        [
         "Ningxia",
         "12932",
         "906",
         "0",
         "12026"
        ],
        [
         "Qinghai",
         "3215",
         "231",
         "0",
         "2984"
        ],
        [
         "Shaanxi",
         "49821",
         "5586",
         "430",
         "43805"
        ],
        [
         "Shandong",
         "132944",
         "13614",
         "1103",
         "118227"
        ],
        [
         "Shanghai",
         "100089",
         "12426",
         "983",
         "86680"
        ],
        [
         "Shanxi",
         "30441",
         "3353",
         "0",
         "27088"
        ],
        [
         "Sichuan",
         "98075",
         "11262",
         "507",
         "86306"
        ],
        [
         "Tianjin",
         "30533",
         "3093",
         "508",
         "26932"
        ],
        [
         "Tibet",
         "180",
         "13",
         "0",
         "167"
        ],
        [
         "Xinjiang",
         "14160",
         "2406",
         "474",
         "11280"
        ],
        [
         "Yunnan",
         "32118",
         "3399",
         "319",
         "28400"
        ],
        [
         "Zhejiang",
         "220824",
         "21888",
         "159",
         "198777"
        ]
       ],
       "shape": {
        "columns": 4,
        "rows": 33
       }
      },
      "text/html": [
       "<div>\n",
       "<style scoped>\n",
       "    .dataframe tbody tr th:only-of-type {\n",
       "        vertical-align: middle;\n",
       "    }\n",
       "\n",
       "    .dataframe tbody tr th {\n",
       "        vertical-align: top;\n",
       "    }\n",
       "\n",
       "    .dataframe thead th {\n",
       "        text-align: right;\n",
       "    }\n",
       "</style>\n",
       "<table border=\"1\" class=\"dataframe\">\n",
       "  <thead>\n",
       "    <tr style=\"text-align: right;\">\n",
       "      <th></th>\n",
       "      <th>Confirmed</th>\n",
       "      <th>Active</th>\n",
       "      <th>Deaths</th>\n",
       "      <th>Recovered</th>\n",
       "    </tr>\n",
       "    <tr>\n",
       "      <th>Province/State</th>\n",
       "      <th></th>\n",
       "      <th></th>\n",
       "      <th></th>\n",
       "      <th></th>\n",
       "    </tr>\n",
       "  </thead>\n",
       "  <tbody>\n",
       "    <tr>\n",
       "      <th>Anhui</th>\n",
       "      <td>172497</td>\n",
       "      <td>15722</td>\n",
       "      <td>1007</td>\n",
       "      <td>155768</td>\n",
       "    </tr>\n",
       "    <tr>\n",
       "      <th>Beijing</th>\n",
       "      <td>108512</td>\n",
       "      <td>23282</td>\n",
       "      <td>1383</td>\n",
       "      <td>83847</td>\n",
       "    </tr>\n",
       "    <tr>\n",
       "      <th>Chongqing</th>\n",
       "      <td>101756</td>\n",
       "      <td>10608</td>\n",
       "      <td>1013</td>\n",
       "      <td>90135</td>\n",
       "    </tr>\n",
       "    <tr>\n",
       "      <th>Fujian</th>\n",
       "      <td>59855</td>\n",
       "      <td>6760</td>\n",
       "      <td>159</td>\n",
       "      <td>52936</td>\n",
       "    </tr>\n",
       "    <tr>\n",
       "      <th>Gansu</th>\n",
       "      <td>23786</td>\n",
       "      <td>2282</td>\n",
       "      <td>341</td>\n",
       "      <td>21163</td>\n",
       "    </tr>\n",
       "    <tr>\n",
       "      <th>Guangdong</th>\n",
       "      <td>268051</td>\n",
       "      <td>29668</td>\n",
       "      <td>1273</td>\n",
       "      <td>237110</td>\n",
       "    </tr>\n",
       "    <tr>\n",
       "      <th>Guangxi</th>\n",
       "      <td>44368</td>\n",
       "      <td>5105</td>\n",
       "      <td>336</td>\n",
       "      <td>38927</td>\n",
       "    </tr>\n",
       "    <tr>\n",
       "      <th>Guizhou</th>\n",
       "      <td>25341</td>\n",
       "      <td>2334</td>\n",
       "      <td>335</td>\n",
       "      <td>22672</td>\n",
       "    </tr>\n",
       "    <tr>\n",
       "      <th>Hainan</th>\n",
       "      <td>29584</td>\n",
       "      <td>2661</td>\n",
       "      <td>993</td>\n",
       "      <td>25930</td>\n",
       "    </tr>\n",
       "    <tr>\n",
       "      <th>Hebei</th>\n",
       "      <td>56848</td>\n",
       "      <td>55848</td>\n",
       "      <td>1000</td>\n",
       "      <td>0</td>\n",
       "    </tr>\n",
       "    <tr>\n",
       "      <th>Heilongjiang</th>\n",
       "      <td>131961</td>\n",
       "      <td>18095</td>\n",
       "      <td>2196</td>\n",
       "      <td>111670</td>\n",
       "    </tr>\n",
       "    <tr>\n",
       "      <th>Henan</th>\n",
       "      <td>222581</td>\n",
       "      <td>218953</td>\n",
       "      <td>3628</td>\n",
       "      <td>0</td>\n",
       "    </tr>\n",
       "    <tr>\n",
       "      <th>Hong Kong</th>\n",
       "      <td>151541</td>\n",
       "      <td>37002</td>\n",
       "      <td>814</td>\n",
       "      <td>113725</td>\n",
       "    </tr>\n",
       "    <tr>\n",
       "      <th>Hubei</th>\n",
       "      <td>11473248</td>\n",
       "      <td>1433798</td>\n",
       "      <td>651932</td>\n",
       "      <td>9387518</td>\n",
       "    </tr>\n",
       "    <tr>\n",
       "      <th>Hunan</th>\n",
       "      <td>178641</td>\n",
       "      <td>15540</td>\n",
       "      <td>662</td>\n",
       "      <td>162439</td>\n",
       "    </tr>\n",
       "    <tr>\n",
       "      <th>Inner Mongolia</th>\n",
       "      <td>29781</td>\n",
       "      <td>4921</td>\n",
       "      <td>147</td>\n",
       "      <td>24713</td>\n",
       "    </tr>\n",
       "    <tr>\n",
       "      <th>Jiangsu</th>\n",
       "      <td>112469</td>\n",
       "      <td>10102</td>\n",
       "      <td>0</td>\n",
       "      <td>102367</td>\n",
       "    </tr>\n",
       "    <tr>\n",
       "      <th>Jiangxi</th>\n",
       "      <td>162963</td>\n",
       "      <td>15139</td>\n",
       "      <td>169</td>\n",
       "      <td>147655</td>\n",
       "    </tr>\n",
       "    <tr>\n",
       "      <th>Jilin</th>\n",
       "      <td>21375</td>\n",
       "      <td>2229</td>\n",
       "      <td>245</td>\n",
       "      <td>18901</td>\n",
       "    </tr>\n",
       "    <tr>\n",
       "      <th>Liaoning</th>\n",
       "      <td>25295</td>\n",
       "      <td>3133</td>\n",
       "      <td>297</td>\n",
       "      <td>21865</td>\n",
       "    </tr>\n",
       "    <tr>\n",
       "      <th>Macau</th>\n",
       "      <td>6217</td>\n",
       "      <td>1364</td>\n",
       "      <td>0</td>\n",
       "      <td>4853</td>\n",
       "    </tr>\n",
       "    <tr>\n",
       "      <th>Ningxia</th>\n",
       "      <td>12932</td>\n",
       "      <td>906</td>\n",
       "      <td>0</td>\n",
       "      <td>12026</td>\n",
       "    </tr>\n",
       "    <tr>\n",
       "      <th>Qinghai</th>\n",
       "      <td>3215</td>\n",
       "      <td>231</td>\n",
       "      <td>0</td>\n",
       "      <td>2984</td>\n",
       "    </tr>\n",
       "    <tr>\n",
       "      <th>Shaanxi</th>\n",
       "      <td>49821</td>\n",
       "      <td>5586</td>\n",
       "      <td>430</td>\n",
       "      <td>43805</td>\n",
       "    </tr>\n",
       "    <tr>\n",
       "      <th>Shandong</th>\n",
       "      <td>132944</td>\n",
       "      <td>13614</td>\n",
       "      <td>1103</td>\n",
       "      <td>118227</td>\n",
       "    </tr>\n",
       "    <tr>\n",
       "      <th>Shanghai</th>\n",
       "      <td>100089</td>\n",
       "      <td>12426</td>\n",
       "      <td>983</td>\n",
       "      <td>86680</td>\n",
       "    </tr>\n",
       "    <tr>\n",
       "      <th>Shanxi</th>\n",
       "      <td>30441</td>\n",
       "      <td>3353</td>\n",
       "      <td>0</td>\n",
       "      <td>27088</td>\n",
       "    </tr>\n",
       "    <tr>\n",
       "      <th>Sichuan</th>\n",
       "      <td>98075</td>\n",
       "      <td>11262</td>\n",
       "      <td>507</td>\n",
       "      <td>86306</td>\n",
       "    </tr>\n",
       "    <tr>\n",
       "      <th>Tianjin</th>\n",
       "      <td>30533</td>\n",
       "      <td>3093</td>\n",
       "      <td>508</td>\n",
       "      <td>26932</td>\n",
       "    </tr>\n",
       "    <tr>\n",
       "      <th>Tibet</th>\n",
       "      <td>180</td>\n",
       "      <td>13</td>\n",
       "      <td>0</td>\n",
       "      <td>167</td>\n",
       "    </tr>\n",
       "    <tr>\n",
       "      <th>Xinjiang</th>\n",
       "      <td>14160</td>\n",
       "      <td>2406</td>\n",
       "      <td>474</td>\n",
       "      <td>11280</td>\n",
       "    </tr>\n",
       "    <tr>\n",
       "      <th>Yunnan</th>\n",
       "      <td>32118</td>\n",
       "      <td>3399</td>\n",
       "      <td>319</td>\n",
       "      <td>28400</td>\n",
       "    </tr>\n",
       "    <tr>\n",
       "      <th>Zhejiang</th>\n",
       "      <td>220824</td>\n",
       "      <td>21888</td>\n",
       "      <td>159</td>\n",
       "      <td>198777</td>\n",
       "    </tr>\n",
       "  </tbody>\n",
       "</table>\n",
       "</div>"
      ],
      "text/plain": [
       "                Confirmed   Active  Deaths  Recovered\n",
       "Province/State                                       \n",
       "Anhui              172497    15722    1007     155768\n",
       "Beijing            108512    23282    1383      83847\n",
       "Chongqing          101756    10608    1013      90135\n",
       "Fujian              59855     6760     159      52936\n",
       "Gansu               23786     2282     341      21163\n",
       "Guangdong          268051    29668    1273     237110\n",
       "Guangxi             44368     5105     336      38927\n",
       "Guizhou             25341     2334     335      22672\n",
       "Hainan              29584     2661     993      25930\n",
       "Hebei               56848    55848    1000          0\n",
       "Heilongjiang       131961    18095    2196     111670\n",
       "Henan              222581   218953    3628          0\n",
       "Hong Kong          151541    37002     814     113725\n",
       "Hubei            11473248  1433798  651932    9387518\n",
       "Hunan              178641    15540     662     162439\n",
       "Inner Mongolia      29781     4921     147      24713\n",
       "Jiangsu            112469    10102       0     102367\n",
       "Jiangxi            162963    15139     169     147655\n",
       "Jilin               21375     2229     245      18901\n",
       "Liaoning            25295     3133     297      21865\n",
       "Macau                6217     1364       0       4853\n",
       "Ningxia             12932      906       0      12026\n",
       "Qinghai              3215      231       0       2984\n",
       "Shaanxi             49821     5586     430      43805\n",
       "Shandong           132944    13614    1103     118227\n",
       "Shanghai           100089    12426     983      86680\n",
       "Shanxi              30441     3353       0      27088\n",
       "Sichuan             98075    11262     507      86306\n",
       "Tianjin             30533     3093     508      26932\n",
       "Tibet                 180       13       0        167\n",
       "Xinjiang            14160     2406     474      11280\n",
       "Yunnan              32118     3399     319      28400\n",
       "Zhejiang           220824    21888     159     198777"
      ]
     },
     "execution_count": 39,
     "metadata": {},
     "output_type": "execute_result"
    }
   ],
   "source": [
    "# d. Agrupe o novo dataframe a partir dessas províncias. Qual a função de agrupamento que deve ser usada?\n",
    "\n",
    "provinces_cases = c_provinces.groupby('Province/State').agg({'Confirmed':'sum','Active':'sum','Deaths':'sum','Recovered':'sum'})\n",
    "\n",
    "provinces_cases\n",
    "\n",
    "# Foi usada o method '.groupby()' para montar o dataframe"
   ]
  },
  {
   "cell_type": "code",
   "execution_count": 40,
   "metadata": {},
   "outputs": [
    {
     "data": {
      "application/vnd.microsoft.datawrangler.viewer.v0+json": {
       "columns": [
        {
         "name": "Province/State",
         "rawType": "object",
         "type": "string"
        },
        {
         "name": "Confirmed",
         "rawType": "int64",
         "type": "integer"
        },
        {
         "name": "Active",
         "rawType": "int64",
         "type": "integer"
        },
        {
         "name": "Deaths",
         "rawType": "int64",
         "type": "integer"
        },
        {
         "name": "Recovered",
         "rawType": "int64",
         "type": "integer"
        }
       ],
       "conversionMethod": "pd.DataFrame",
       "ref": "abf3dcb2-bc51-4b73-b82b-266e74488c47",
       "rows": [
        [
         "Hubei",
         "11473248",
         "1433798",
         "651932",
         "9387518"
        ],
        [
         "Guangdong",
         "268051",
         "29668",
         "1273",
         "237110"
        ],
        [
         "Henan",
         "222581",
         "218953",
         "3628",
         "0"
        ],
        [
         "Zhejiang",
         "220824",
         "21888",
         "159",
         "198777"
        ],
        [
         "Hunan",
         "178641",
         "15540",
         "662",
         "162439"
        ]
       ],
       "shape": {
        "columns": 4,
        "rows": 5
       }
      },
      "text/html": [
       "<div>\n",
       "<style scoped>\n",
       "    .dataframe tbody tr th:only-of-type {\n",
       "        vertical-align: middle;\n",
       "    }\n",
       "\n",
       "    .dataframe tbody tr th {\n",
       "        vertical-align: top;\n",
       "    }\n",
       "\n",
       "    .dataframe thead th {\n",
       "        text-align: right;\n",
       "    }\n",
       "</style>\n",
       "<table border=\"1\" class=\"dataframe\">\n",
       "  <thead>\n",
       "    <tr style=\"text-align: right;\">\n",
       "      <th></th>\n",
       "      <th>Confirmed</th>\n",
       "      <th>Active</th>\n",
       "      <th>Deaths</th>\n",
       "      <th>Recovered</th>\n",
       "    </tr>\n",
       "    <tr>\n",
       "      <th>Province/State</th>\n",
       "      <th></th>\n",
       "      <th></th>\n",
       "      <th></th>\n",
       "      <th></th>\n",
       "    </tr>\n",
       "  </thead>\n",
       "  <tbody>\n",
       "    <tr>\n",
       "      <th>Hubei</th>\n",
       "      <td>11473248</td>\n",
       "      <td>1433798</td>\n",
       "      <td>651932</td>\n",
       "      <td>9387518</td>\n",
       "    </tr>\n",
       "    <tr>\n",
       "      <th>Guangdong</th>\n",
       "      <td>268051</td>\n",
       "      <td>29668</td>\n",
       "      <td>1273</td>\n",
       "      <td>237110</td>\n",
       "    </tr>\n",
       "    <tr>\n",
       "      <th>Henan</th>\n",
       "      <td>222581</td>\n",
       "      <td>218953</td>\n",
       "      <td>3628</td>\n",
       "      <td>0</td>\n",
       "    </tr>\n",
       "    <tr>\n",
       "      <th>Zhejiang</th>\n",
       "      <td>220824</td>\n",
       "      <td>21888</td>\n",
       "      <td>159</td>\n",
       "      <td>198777</td>\n",
       "    </tr>\n",
       "    <tr>\n",
       "      <th>Hunan</th>\n",
       "      <td>178641</td>\n",
       "      <td>15540</td>\n",
       "      <td>662</td>\n",
       "      <td>162439</td>\n",
       "    </tr>\n",
       "  </tbody>\n",
       "</table>\n",
       "</div>"
      ],
      "text/plain": [
       "                Confirmed   Active  Deaths  Recovered\n",
       "Province/State                                       \n",
       "Hubei            11473248  1433798  651932    9387518\n",
       "Guangdong          268051    29668    1273     237110\n",
       "Henan              222581   218953    3628          0\n",
       "Zhejiang           220824    21888     159     198777\n",
       "Hunan              178641    15540     662     162439"
      ]
     },
     "execution_count": 40,
     "metadata": {},
     "output_type": "execute_result"
    }
   ],
   "source": [
    "# e. Produza um dataframe contendo as 5 regiões com o maior número de casos confirmados.\n",
    "\n",
    "top_provinces = provinces_cases.sort_values(by='Confirmed', ascending=False).head()\n",
    "\n",
    "top_provinces"
   ]
  },
  {
   "cell_type": "markdown",
   "metadata": {},
   "source": [
    "### 3. A coluna “Province/State” contém muitos valores faltando. Para descartá-la perdendo mínimo de informação, inclua na coluna “Country/Region” o nome das regiões junto ao nome dos países em que existem mais de uma província registrada no banco de dados, utilizando o método “.apply”. Como por exemplo, juntar o nome China com a região pertinente: “China_Hubei”, “China_Guangdong”."
   ]
  },
  {
   "cell_type": "code",
   "execution_count": 46,
   "metadata": {},
   "outputs": [],
   "source": [
    "# a. Elabore uma função que tenha uma linha do banco de dados como argumento e, se a coluna “Province/State” não for valor faltante,\n",
    "# concatenar seu valor com coluna “Country/Region”.\n",
    "\n",
    "def concat(row):\n",
    "    \n",
    "    ## i. Utilize o método “pandas.notna” para averiguar de “Province/State” é valor faltante.\n",
    "    if pd.notnull(row['Province/State']):\n",
    "        row['Country/Region'] = row['Country/Region'] + '_' + row['Province/State']\n",
    "\n",
    "    return row"
   ]
  },
  {
   "cell_type": "code",
   "execution_count": 43,
   "metadata": {},
   "outputs": [
    {
     "data": {
      "application/vnd.microsoft.datawrangler.viewer.v0+json": {
       "columns": [
        {
         "name": "index",
         "rawType": "int64",
         "type": "integer"
        },
        {
         "name": "Province/State",
         "rawType": "object",
         "type": "unknown"
        },
        {
         "name": "Country/Region",
         "rawType": "object",
         "type": "string"
        },
        {
         "name": "Lat",
         "rawType": "float64",
         "type": "float"
        },
        {
         "name": "Long",
         "rawType": "float64",
         "type": "float"
        },
        {
         "name": "Date",
         "rawType": "datetime64[ns]",
         "type": "datetime"
        },
        {
         "name": "Confirmed",
         "rawType": "int64",
         "type": "integer"
        },
        {
         "name": "Deaths",
         "rawType": "int64",
         "type": "integer"
        },
        {
         "name": "Recovered",
         "rawType": "int64",
         "type": "integer"
        },
        {
         "name": "Active",
         "rawType": "int64",
         "type": "integer"
        },
        {
         "name": "WHO Region",
         "rawType": "object",
         "type": "string"
        }
       ],
       "conversionMethod": "pd.DataFrame",
       "ref": "696c46ea-aa31-4e5b-9128-d43aafbf1ad8",
       "rows": [
        [
         "0",
         null,
         "Afghanistan",
         "33.93911",
         "67.709953",
         "2020-01-22 00:00:00",
         "0",
         "0",
         "0",
         "0",
         "Eastern Mediterranean"
        ],
        [
         "1",
         null,
         "Albania",
         "41.1533",
         "20.1683",
         "2020-01-22 00:00:00",
         "0",
         "0",
         "0",
         "0",
         "Europe"
        ],
        [
         "2",
         null,
         "Algeria",
         "28.0339",
         "1.6596",
         "2020-01-22 00:00:00",
         "0",
         "0",
         "0",
         "0",
         "Africa"
        ],
        [
         "3",
         null,
         "Andorra",
         "42.5063",
         "1.5218",
         "2020-01-22 00:00:00",
         "0",
         "0",
         "0",
         "0",
         "Europe"
        ],
        [
         "4",
         null,
         "Angola",
         "-11.2027",
         "17.8739",
         "2020-01-22 00:00:00",
         "0",
         "0",
         "0",
         "0",
         "Africa"
        ],
        [
         "5",
         null,
         "Antigua and Barbuda",
         "17.0608",
         "-61.7964",
         "2020-01-22 00:00:00",
         "0",
         "0",
         "0",
         "0",
         "Americas"
        ],
        [
         "6",
         null,
         "Argentina",
         "-38.4161",
         "-63.6167",
         "2020-01-22 00:00:00",
         "0",
         "0",
         "0",
         "0",
         "Americas"
        ],
        [
         "7",
         null,
         "Armenia",
         "40.0691",
         "45.0382",
         "2020-01-22 00:00:00",
         "0",
         "0",
         "0",
         "0",
         "Europe"
        ],
        [
         "8",
         "Australian Capital Territory",
         "Australia",
         "-35.4735",
         "149.0124",
         "2020-01-22 00:00:00",
         "0",
         "0",
         "0",
         "0",
         "Western Pacific"
        ],
        [
         "9",
         "New South Wales",
         "Australia",
         "-33.8688",
         "151.2093",
         "2020-01-22 00:00:00",
         "0",
         "0",
         "0",
         "0",
         "Western Pacific"
        ],
        [
         "10",
         "Northern Territory",
         "Australia",
         "-12.4634",
         "130.8456",
         "2020-01-22 00:00:00",
         "0",
         "0",
         "0",
         "0",
         "Western Pacific"
        ],
        [
         "11",
         "Queensland",
         "Australia",
         "-27.4698",
         "153.0251",
         "2020-01-22 00:00:00",
         "0",
         "0",
         "0",
         "0",
         "Western Pacific"
        ],
        [
         "12",
         "South Australia",
         "Australia",
         "-34.9285",
         "138.6007",
         "2020-01-22 00:00:00",
         "0",
         "0",
         "0",
         "0",
         "Western Pacific"
        ],
        [
         "13",
         "Tasmania",
         "Australia",
         "-42.8821",
         "147.3272",
         "2020-01-22 00:00:00",
         "0",
         "0",
         "0",
         "0",
         "Western Pacific"
        ],
        [
         "14",
         "Victoria",
         "Australia",
         "-37.8136",
         "144.9631",
         "2020-01-22 00:00:00",
         "0",
         "0",
         "0",
         "0",
         "Western Pacific"
        ],
        [
         "15",
         "Western Australia",
         "Australia",
         "-31.9505",
         "115.8605",
         "2020-01-22 00:00:00",
         "0",
         "0",
         "0",
         "0",
         "Western Pacific"
        ],
        [
         "16",
         null,
         "Austria",
         "47.5162",
         "14.5501",
         "2020-01-22 00:00:00",
         "0",
         "0",
         "0",
         "0",
         "Europe"
        ],
        [
         "17",
         null,
         "Azerbaijan",
         "40.1431",
         "47.5769",
         "2020-01-22 00:00:00",
         "0",
         "0",
         "0",
         "0",
         "Europe"
        ],
        [
         "18",
         null,
         "Bahamas",
         "25.025885",
         "-78.035889",
         "2020-01-22 00:00:00",
         "0",
         "0",
         "0",
         "0",
         "Americas"
        ],
        [
         "19",
         null,
         "Bahrain",
         "26.0275",
         "50.55",
         "2020-01-22 00:00:00",
         "0",
         "0",
         "0",
         "0",
         "Eastern Mediterranean"
        ],
        [
         "20",
         null,
         "Bangladesh",
         "23.685",
         "90.3563",
         "2020-01-22 00:00:00",
         "0",
         "0",
         "0",
         "0",
         "South-East Asia"
        ],
        [
         "21",
         null,
         "Barbados",
         "13.1939",
         "-59.5432",
         "2020-01-22 00:00:00",
         "0",
         "0",
         "0",
         "0",
         "Americas"
        ],
        [
         "22",
         null,
         "Belarus",
         "53.7098",
         "27.9534",
         "2020-01-22 00:00:00",
         "0",
         "0",
         "0",
         "0",
         "Europe"
        ],
        [
         "23",
         null,
         "Belgium",
         "50.8333",
         "4.469936",
         "2020-01-22 00:00:00",
         "0",
         "0",
         "0",
         "0",
         "Europe"
        ],
        [
         "24",
         null,
         "Benin",
         "9.3077",
         "2.3158",
         "2020-01-22 00:00:00",
         "0",
         "0",
         "0",
         "0",
         "Africa"
        ],
        [
         "25",
         null,
         "Bhutan",
         "27.5142",
         "90.4336",
         "2020-01-22 00:00:00",
         "0",
         "0",
         "0",
         "0",
         "South-East Asia"
        ],
        [
         "26",
         null,
         "Bolivia",
         "-16.2902",
         "-63.5887",
         "2020-01-22 00:00:00",
         "0",
         "0",
         "0",
         "0",
         "Americas"
        ],
        [
         "27",
         null,
         "Bosnia and Herzegovina",
         "43.9159",
         "17.6791",
         "2020-01-22 00:00:00",
         "0",
         "0",
         "0",
         "0",
         "Europe"
        ],
        [
         "28",
         null,
         "Brazil",
         "-14.235",
         "-51.9253",
         "2020-01-22 00:00:00",
         "0",
         "0",
         "0",
         "0",
         "Americas"
        ],
        [
         "29",
         null,
         "Brunei",
         "4.5353",
         "114.7277",
         "2020-01-22 00:00:00",
         "0",
         "0",
         "0",
         "0",
         "Western Pacific"
        ],
        [
         "30",
         null,
         "Bulgaria",
         "42.7339",
         "25.4858",
         "2020-01-22 00:00:00",
         "0",
         "0",
         "0",
         "0",
         "Europe"
        ],
        [
         "31",
         null,
         "Burkina Faso",
         "12.2383",
         "-1.5616",
         "2020-01-22 00:00:00",
         "0",
         "0",
         "0",
         "0",
         "Africa"
        ],
        [
         "32",
         null,
         "Cabo Verde",
         "16.5388",
         "-23.0418",
         "2020-01-22 00:00:00",
         "0",
         "0",
         "0",
         "0",
         "Africa"
        ],
        [
         "33",
         null,
         "Cambodia",
         "11.55",
         "104.9167",
         "2020-01-22 00:00:00",
         "0",
         "0",
         "0",
         "0",
         "Western Pacific"
        ],
        [
         "34",
         null,
         "Cameroon",
         "3.848",
         "11.5021",
         "2020-01-22 00:00:00",
         "0",
         "0",
         "0",
         "0",
         "Africa"
        ],
        [
         "35",
         "Alberta",
         "Canada",
         "53.9333",
         "-116.5765",
         "2020-01-22 00:00:00",
         "0",
         "0",
         "0",
         "0",
         "Americas"
        ],
        [
         "36",
         "British Columbia",
         "Canada",
         "53.7267",
         "-127.6476",
         "2020-01-22 00:00:00",
         "0",
         "0",
         "0",
         "0",
         "Americas"
        ],
        [
         "37",
         "Manitoba",
         "Canada",
         "53.7609",
         "-98.8139",
         "2020-01-22 00:00:00",
         "0",
         "0",
         "0",
         "0",
         "Americas"
        ],
        [
         "38",
         "New Brunswick",
         "Canada",
         "46.5653",
         "-66.4619",
         "2020-01-22 00:00:00",
         "0",
         "0",
         "0",
         "0",
         "Americas"
        ],
        [
         "39",
         "Newfoundland and Labrador",
         "Canada",
         "53.1355",
         "-57.6604",
         "2020-01-22 00:00:00",
         "0",
         "0",
         "0",
         "0",
         "Americas"
        ],
        [
         "40",
         "Nova Scotia",
         "Canada",
         "44.682",
         "-63.7443",
         "2020-01-22 00:00:00",
         "0",
         "0",
         "0",
         "0",
         "Americas"
        ],
        [
         "41",
         "Ontario",
         "Canada",
         "51.2538",
         "-85.3232",
         "2020-01-22 00:00:00",
         "0",
         "0",
         "0",
         "0",
         "Americas"
        ],
        [
         "42",
         "Prince Edward Island",
         "Canada",
         "46.5107",
         "-63.4168",
         "2020-01-22 00:00:00",
         "0",
         "0",
         "0",
         "0",
         "Americas"
        ],
        [
         "43",
         "Quebec",
         "Canada",
         "52.9399",
         "-73.5491",
         "2020-01-22 00:00:00",
         "0",
         "0",
         "0",
         "0",
         "Americas"
        ],
        [
         "44",
         "Saskatchewan",
         "Canada",
         "52.9399",
         "-106.4509",
         "2020-01-22 00:00:00",
         "0",
         "0",
         "0",
         "0",
         "Americas"
        ],
        [
         "45",
         null,
         "Central African Republic",
         "6.6111",
         "20.9394",
         "2020-01-22 00:00:00",
         "0",
         "0",
         "0",
         "0",
         "Africa"
        ],
        [
         "46",
         null,
         "Chad",
         "15.4542",
         "18.7322",
         "2020-01-22 00:00:00",
         "0",
         "0",
         "0",
         "0",
         "Africa"
        ],
        [
         "47",
         null,
         "Chile",
         "-35.6751",
         "-71.543",
         "2020-01-22 00:00:00",
         "0",
         "0",
         "0",
         "0",
         "Americas"
        ],
        [
         "48",
         "Anhui",
         "China",
         "31.8257",
         "117.2264",
         "2020-01-22 00:00:00",
         "1",
         "0",
         "0",
         "1",
         "Western Pacific"
        ],
        [
         "49",
         "Beijing",
         "China",
         "40.1824",
         "116.4142",
         "2020-01-22 00:00:00",
         "14",
         "0",
         "0",
         "14",
         "Western Pacific"
        ]
       ],
       "shape": {
        "columns": 10,
        "rows": 49068
       }
      },
      "text/html": [
       "<div>\n",
       "<style scoped>\n",
       "    .dataframe tbody tr th:only-of-type {\n",
       "        vertical-align: middle;\n",
       "    }\n",
       "\n",
       "    .dataframe tbody tr th {\n",
       "        vertical-align: top;\n",
       "    }\n",
       "\n",
       "    .dataframe thead th {\n",
       "        text-align: right;\n",
       "    }\n",
       "</style>\n",
       "<table border=\"1\" class=\"dataframe\">\n",
       "  <thead>\n",
       "    <tr style=\"text-align: right;\">\n",
       "      <th></th>\n",
       "      <th>Province/State</th>\n",
       "      <th>Country/Region</th>\n",
       "      <th>Lat</th>\n",
       "      <th>Long</th>\n",
       "      <th>Date</th>\n",
       "      <th>Confirmed</th>\n",
       "      <th>Deaths</th>\n",
       "      <th>Recovered</th>\n",
       "      <th>Active</th>\n",
       "      <th>WHO Region</th>\n",
       "    </tr>\n",
       "  </thead>\n",
       "  <tbody>\n",
       "    <tr>\n",
       "      <th>0</th>\n",
       "      <td>NaN</td>\n",
       "      <td>Afghanistan</td>\n",
       "      <td>33.939110</td>\n",
       "      <td>67.709953</td>\n",
       "      <td>2020-01-22</td>\n",
       "      <td>0</td>\n",
       "      <td>0</td>\n",
       "      <td>0</td>\n",
       "      <td>0</td>\n",
       "      <td>Eastern Mediterranean</td>\n",
       "    </tr>\n",
       "    <tr>\n",
       "      <th>1</th>\n",
       "      <td>NaN</td>\n",
       "      <td>Albania</td>\n",
       "      <td>41.153300</td>\n",
       "      <td>20.168300</td>\n",
       "      <td>2020-01-22</td>\n",
       "      <td>0</td>\n",
       "      <td>0</td>\n",
       "      <td>0</td>\n",
       "      <td>0</td>\n",
       "      <td>Europe</td>\n",
       "    </tr>\n",
       "    <tr>\n",
       "      <th>2</th>\n",
       "      <td>NaN</td>\n",
       "      <td>Algeria</td>\n",
       "      <td>28.033900</td>\n",
       "      <td>1.659600</td>\n",
       "      <td>2020-01-22</td>\n",
       "      <td>0</td>\n",
       "      <td>0</td>\n",
       "      <td>0</td>\n",
       "      <td>0</td>\n",
       "      <td>Africa</td>\n",
       "    </tr>\n",
       "    <tr>\n",
       "      <th>3</th>\n",
       "      <td>NaN</td>\n",
       "      <td>Andorra</td>\n",
       "      <td>42.506300</td>\n",
       "      <td>1.521800</td>\n",
       "      <td>2020-01-22</td>\n",
       "      <td>0</td>\n",
       "      <td>0</td>\n",
       "      <td>0</td>\n",
       "      <td>0</td>\n",
       "      <td>Europe</td>\n",
       "    </tr>\n",
       "    <tr>\n",
       "      <th>4</th>\n",
       "      <td>NaN</td>\n",
       "      <td>Angola</td>\n",
       "      <td>-11.202700</td>\n",
       "      <td>17.873900</td>\n",
       "      <td>2020-01-22</td>\n",
       "      <td>0</td>\n",
       "      <td>0</td>\n",
       "      <td>0</td>\n",
       "      <td>0</td>\n",
       "      <td>Africa</td>\n",
       "    </tr>\n",
       "    <tr>\n",
       "      <th>...</th>\n",
       "      <td>...</td>\n",
       "      <td>...</td>\n",
       "      <td>...</td>\n",
       "      <td>...</td>\n",
       "      <td>...</td>\n",
       "      <td>...</td>\n",
       "      <td>...</td>\n",
       "      <td>...</td>\n",
       "      <td>...</td>\n",
       "      <td>...</td>\n",
       "    </tr>\n",
       "    <tr>\n",
       "      <th>49063</th>\n",
       "      <td>NaN</td>\n",
       "      <td>Sao Tome and Principe</td>\n",
       "      <td>0.186400</td>\n",
       "      <td>6.613100</td>\n",
       "      <td>2020-07-27</td>\n",
       "      <td>865</td>\n",
       "      <td>14</td>\n",
       "      <td>734</td>\n",
       "      <td>117</td>\n",
       "      <td>Africa</td>\n",
       "    </tr>\n",
       "    <tr>\n",
       "      <th>49064</th>\n",
       "      <td>NaN</td>\n",
       "      <td>Yemen</td>\n",
       "      <td>15.552727</td>\n",
       "      <td>48.516388</td>\n",
       "      <td>2020-07-27</td>\n",
       "      <td>1691</td>\n",
       "      <td>483</td>\n",
       "      <td>833</td>\n",
       "      <td>375</td>\n",
       "      <td>Eastern Mediterranean</td>\n",
       "    </tr>\n",
       "    <tr>\n",
       "      <th>49065</th>\n",
       "      <td>NaN</td>\n",
       "      <td>Comoros</td>\n",
       "      <td>-11.645500</td>\n",
       "      <td>43.333300</td>\n",
       "      <td>2020-07-27</td>\n",
       "      <td>354</td>\n",
       "      <td>7</td>\n",
       "      <td>328</td>\n",
       "      <td>19</td>\n",
       "      <td>Africa</td>\n",
       "    </tr>\n",
       "    <tr>\n",
       "      <th>49066</th>\n",
       "      <td>NaN</td>\n",
       "      <td>Tajikistan</td>\n",
       "      <td>38.861000</td>\n",
       "      <td>71.276100</td>\n",
       "      <td>2020-07-27</td>\n",
       "      <td>7235</td>\n",
       "      <td>60</td>\n",
       "      <td>6028</td>\n",
       "      <td>1147</td>\n",
       "      <td>Europe</td>\n",
       "    </tr>\n",
       "    <tr>\n",
       "      <th>49067</th>\n",
       "      <td>NaN</td>\n",
       "      <td>Lesotho</td>\n",
       "      <td>-29.610000</td>\n",
       "      <td>28.233600</td>\n",
       "      <td>2020-07-27</td>\n",
       "      <td>505</td>\n",
       "      <td>12</td>\n",
       "      <td>128</td>\n",
       "      <td>365</td>\n",
       "      <td>Africa</td>\n",
       "    </tr>\n",
       "  </tbody>\n",
       "</table>\n",
       "<p>49068 rows × 10 columns</p>\n",
       "</div>"
      ],
      "text/plain": [
       "      Province/State         Country/Region        Lat       Long       Date  \\\n",
       "0                NaN            Afghanistan  33.939110  67.709953 2020-01-22   \n",
       "1                NaN                Albania  41.153300  20.168300 2020-01-22   \n",
       "2                NaN                Algeria  28.033900   1.659600 2020-01-22   \n",
       "3                NaN                Andorra  42.506300   1.521800 2020-01-22   \n",
       "4                NaN                 Angola -11.202700  17.873900 2020-01-22   \n",
       "...              ...                    ...        ...        ...        ...   \n",
       "49063            NaN  Sao Tome and Principe   0.186400   6.613100 2020-07-27   \n",
       "49064            NaN                  Yemen  15.552727  48.516388 2020-07-27   \n",
       "49065            NaN                Comoros -11.645500  43.333300 2020-07-27   \n",
       "49066            NaN             Tajikistan  38.861000  71.276100 2020-07-27   \n",
       "49067            NaN                Lesotho -29.610000  28.233600 2020-07-27   \n",
       "\n",
       "       Confirmed  Deaths  Recovered  Active             WHO Region  \n",
       "0              0       0          0       0  Eastern Mediterranean  \n",
       "1              0       0          0       0                 Europe  \n",
       "2              0       0          0       0                 Africa  \n",
       "3              0       0          0       0                 Europe  \n",
       "4              0       0          0       0                 Africa  \n",
       "...          ...     ...        ...     ...                    ...  \n",
       "49063        865      14        734     117                 Africa  \n",
       "49064       1691     483        833     375  Eastern Mediterranean  \n",
       "49065        354       7        328      19                 Africa  \n",
       "49066       7235      60       6028    1147                 Europe  \n",
       "49067        505      12        128     365                 Africa  \n",
       "\n",
       "[49068 rows x 10 columns]"
      ]
     },
     "execution_count": 43,
     "metadata": {},
     "output_type": "execute_result"
    }
   ],
   "source": [
    "# b. Faça uma cópia do banco de dados para poder retirar informações sem perder o banco de dados original.\n",
    "\n",
    "covid = covid_19.copy()\n",
    "\n",
    "covid"
   ]
  },
  {
   "cell_type": "code",
   "execution_count": 47,
   "metadata": {},
   "outputs": [
    {
     "data": {
      "application/vnd.microsoft.datawrangler.viewer.v0+json": {
       "columns": [
        {
         "name": "index",
         "rawType": "int64",
         "type": "integer"
        },
        {
         "name": "Province/State",
         "rawType": "object",
         "type": "string"
        },
        {
         "name": "Country/Region",
         "rawType": "object",
         "type": "string"
        },
        {
         "name": "Lat",
         "rawType": "float64",
         "type": "float"
        },
        {
         "name": "Long",
         "rawType": "float64",
         "type": "float"
        },
        {
         "name": "Date",
         "rawType": "datetime64[ns]",
         "type": "datetime"
        },
        {
         "name": "Confirmed",
         "rawType": "int64",
         "type": "integer"
        },
        {
         "name": "Deaths",
         "rawType": "int64",
         "type": "integer"
        },
        {
         "name": "Recovered",
         "rawType": "int64",
         "type": "integer"
        },
        {
         "name": "Active",
         "rawType": "int64",
         "type": "integer"
        },
        {
         "name": "WHO Region",
         "rawType": "object",
         "type": "string"
        }
       ],
       "conversionMethod": "pd.DataFrame",
       "ref": "15559d58-f8c4-420b-bd3d-49ce7328729a",
       "rows": [
        [
         "61",
         "Hubei",
         "China_Hubei",
         "30.9756",
         "112.2707",
         "2020-01-22 00:00:00",
         "444",
         "17",
         "28",
         "399",
         "Western Pacific"
        ],
        [
         "322",
         "Hubei",
         "China_Hubei",
         "30.9756",
         "112.2707",
         "2020-01-23 00:00:00",
         "444",
         "17",
         "28",
         "399",
         "Western Pacific"
        ],
        [
         "583",
         "Hubei",
         "China_Hubei",
         "30.9756",
         "112.2707",
         "2020-01-24 00:00:00",
         "549",
         "24",
         "31",
         "494",
         "Western Pacific"
        ],
        [
         "844",
         "Hubei",
         "China_Hubei",
         "30.9756",
         "112.2707",
         "2020-01-25 00:00:00",
         "761",
         "40",
         "32",
         "689",
         "Western Pacific"
        ],
        [
         "1105",
         "Hubei",
         "China_Hubei",
         "30.9756",
         "112.2707",
         "2020-01-26 00:00:00",
         "1058",
         "52",
         "42",
         "964",
         "Western Pacific"
        ],
        [
         "1366",
         "Hubei",
         "China_Hubei",
         "30.9756",
         "112.2707",
         "2020-01-27 00:00:00",
         "1423",
         "76",
         "45",
         "1302",
         "Western Pacific"
        ],
        [
         "1627",
         "Hubei",
         "China_Hubei",
         "30.9756",
         "112.2707",
         "2020-01-28 00:00:00",
         "3554",
         "125",
         "80",
         "3349",
         "Western Pacific"
        ],
        [
         "1888",
         "Hubei",
         "China_Hubei",
         "30.9756",
         "112.2707",
         "2020-01-29 00:00:00",
         "3554",
         "125",
         "88",
         "3341",
         "Western Pacific"
        ],
        [
         "2149",
         "Hubei",
         "China_Hubei",
         "30.9756",
         "112.2707",
         "2020-01-30 00:00:00",
         "4903",
         "162",
         "90",
         "4651",
         "Western Pacific"
        ],
        [
         "2410",
         "Hubei",
         "China_Hubei",
         "30.9756",
         "112.2707",
         "2020-01-31 00:00:00",
         "5806",
         "204",
         "141",
         "5461",
         "Western Pacific"
        ],
        [
         "2671",
         "Hubei",
         "China_Hubei",
         "30.9756",
         "112.2707",
         "2020-02-01 00:00:00",
         "7153",
         "249",
         "168",
         "6736",
         "Western Pacific"
        ],
        [
         "2932",
         "Hubei",
         "China_Hubei",
         "30.9756",
         "112.2707",
         "2020-02-02 00:00:00",
         "11177",
         "350",
         "295",
         "10532",
         "Western Pacific"
        ],
        [
         "3193",
         "Hubei",
         "China_Hubei",
         "30.9756",
         "112.2707",
         "2020-02-03 00:00:00",
         "13522",
         "414",
         "386",
         "12722",
         "Western Pacific"
        ],
        [
         "3454",
         "Hubei",
         "China_Hubei",
         "30.9756",
         "112.2707",
         "2020-02-04 00:00:00",
         "16678",
         "479",
         "522",
         "15677",
         "Western Pacific"
        ],
        [
         "3715",
         "Hubei",
         "China_Hubei",
         "30.9756",
         "112.2707",
         "2020-02-05 00:00:00",
         "19665",
         "549",
         "633",
         "18483",
         "Western Pacific"
        ],
        [
         "3976",
         "Hubei",
         "China_Hubei",
         "30.9756",
         "112.2707",
         "2020-02-06 00:00:00",
         "22112",
         "618",
         "817",
         "20677",
         "Western Pacific"
        ],
        [
         "4237",
         "Hubei",
         "China_Hubei",
         "30.9756",
         "112.2707",
         "2020-02-07 00:00:00",
         "24953",
         "699",
         "1115",
         "23139",
         "Western Pacific"
        ],
        [
         "4498",
         "Hubei",
         "China_Hubei",
         "30.9756",
         "112.2707",
         "2020-02-08 00:00:00",
         "27100",
         "780",
         "1439",
         "24881",
         "Western Pacific"
        ],
        [
         "4759",
         "Hubei",
         "China_Hubei",
         "30.9756",
         "112.2707",
         "2020-02-09 00:00:00",
         "29631",
         "871",
         "1795",
         "26965",
         "Western Pacific"
        ],
        [
         "5020",
         "Hubei",
         "China_Hubei",
         "30.9756",
         "112.2707",
         "2020-02-10 00:00:00",
         "31728",
         "974",
         "2222",
         "28532",
         "Western Pacific"
        ],
        [
         "5281",
         "Hubei",
         "China_Hubei",
         "30.9756",
         "112.2707",
         "2020-02-11 00:00:00",
         "33366",
         "1068",
         "2639",
         "29659",
         "Western Pacific"
        ],
        [
         "5542",
         "Hubei",
         "China_Hubei",
         "30.9756",
         "112.2707",
         "2020-02-12 00:00:00",
         "34874",
         "1068",
         "2686",
         "31120",
         "Western Pacific"
        ],
        [
         "5803",
         "Hubei",
         "China_Hubei",
         "30.9756",
         "112.2707",
         "2020-02-13 00:00:00",
         "48206",
         "1310",
         "3459",
         "43437",
         "Western Pacific"
        ],
        [
         "6064",
         "Hubei",
         "China_Hubei",
         "30.9756",
         "112.2707",
         "2020-02-14 00:00:00",
         "54406",
         "1457",
         "4774",
         "48175",
         "Western Pacific"
        ],
        [
         "6325",
         "Hubei",
         "China_Hubei",
         "30.9756",
         "112.2707",
         "2020-02-15 00:00:00",
         "56249",
         "1596",
         "5623",
         "49030",
         "Western Pacific"
        ],
        [
         "6586",
         "Hubei",
         "China_Hubei",
         "30.9756",
         "112.2707",
         "2020-02-16 00:00:00",
         "58182",
         "1696",
         "6639",
         "49847",
         "Western Pacific"
        ],
        [
         "6847",
         "Hubei",
         "China_Hubei",
         "30.9756",
         "112.2707",
         "2020-02-17 00:00:00",
         "59989",
         "1789",
         "7862",
         "50338",
         "Western Pacific"
        ],
        [
         "7108",
         "Hubei",
         "China_Hubei",
         "30.9756",
         "112.2707",
         "2020-02-18 00:00:00",
         "61682",
         "1921",
         "9128",
         "50633",
         "Western Pacific"
        ],
        [
         "7369",
         "Hubei",
         "China_Hubei",
         "30.9756",
         "112.2707",
         "2020-02-19 00:00:00",
         "62031",
         "2029",
         "10337",
         "49665",
         "Western Pacific"
        ],
        [
         "7630",
         "Hubei",
         "China_Hubei",
         "30.9756",
         "112.2707",
         "2020-02-20 00:00:00",
         "62442",
         "2144",
         "11788",
         "48510",
         "Western Pacific"
        ],
        [
         "7891",
         "Hubei",
         "China_Hubei",
         "30.9756",
         "112.2707",
         "2020-02-21 00:00:00",
         "62662",
         "2144",
         "11881",
         "48637",
         "Western Pacific"
        ],
        [
         "8152",
         "Hubei",
         "China_Hubei",
         "30.9756",
         "112.2707",
         "2020-02-22 00:00:00",
         "64084",
         "2346",
         "15299",
         "46439",
         "Western Pacific"
        ],
        [
         "8413",
         "Hubei",
         "China_Hubei",
         "30.9756",
         "112.2707",
         "2020-02-23 00:00:00",
         "64084",
         "2346",
         "15343",
         "46395",
         "Western Pacific"
        ],
        [
         "8674",
         "Hubei",
         "China_Hubei",
         "30.9756",
         "112.2707",
         "2020-02-24 00:00:00",
         "64287",
         "2495",
         "16748",
         "45044",
         "Western Pacific"
        ],
        [
         "8935",
         "Hubei",
         "China_Hubei",
         "30.9756",
         "112.2707",
         "2020-02-25 00:00:00",
         "64786",
         "2563",
         "18971",
         "43252",
         "Western Pacific"
        ],
        [
         "9196",
         "Hubei",
         "China_Hubei",
         "30.9756",
         "112.2707",
         "2020-02-26 00:00:00",
         "65187",
         "2615",
         "20969",
         "41603",
         "Western Pacific"
        ],
        [
         "9457",
         "Hubei",
         "China_Hubei",
         "30.9756",
         "112.2707",
         "2020-02-27 00:00:00",
         "65596",
         "2641",
         "23383",
         "39572",
         "Western Pacific"
        ],
        [
         "9718",
         "Hubei",
         "China_Hubei",
         "30.9756",
         "112.2707",
         "2020-02-28 00:00:00",
         "65914",
         "2682",
         "26403",
         "36829",
         "Western Pacific"
        ],
        [
         "9979",
         "Hubei",
         "China_Hubei",
         "30.9756",
         "112.2707",
         "2020-02-29 00:00:00",
         "66337",
         "2727",
         "28993",
         "34617",
         "Western Pacific"
        ],
        [
         "10240",
         "Hubei",
         "China_Hubei",
         "30.9756",
         "112.2707",
         "2020-03-01 00:00:00",
         "66907",
         "2761",
         "31536",
         "32610",
         "Western Pacific"
        ],
        [
         "10501",
         "Hubei",
         "China_Hubei",
         "30.9756",
         "112.2707",
         "2020-03-02 00:00:00",
         "67103",
         "2803",
         "33934",
         "30366",
         "Western Pacific"
        ],
        [
         "10762",
         "Hubei",
         "China_Hubei",
         "30.9756",
         "112.2707",
         "2020-03-03 00:00:00",
         "67217",
         "2835",
         "36208",
         "28174",
         "Western Pacific"
        ],
        [
         "11023",
         "Hubei",
         "China_Hubei",
         "30.9756",
         "112.2707",
         "2020-03-04 00:00:00",
         "67332",
         "2871",
         "38557",
         "25904",
         "Western Pacific"
        ],
        [
         "11284",
         "Hubei",
         "China_Hubei",
         "30.9756",
         "112.2707",
         "2020-03-05 00:00:00",
         "67466",
         "2902",
         "40592",
         "23972",
         "Western Pacific"
        ],
        [
         "11545",
         "Hubei",
         "China_Hubei",
         "30.9756",
         "112.2707",
         "2020-03-06 00:00:00",
         "67592",
         "2931",
         "42033",
         "22628",
         "Western Pacific"
        ],
        [
         "11806",
         "Hubei",
         "China_Hubei",
         "30.9756",
         "112.2707",
         "2020-03-07 00:00:00",
         "67666",
         "2959",
         "43500",
         "21207",
         "Western Pacific"
        ],
        [
         "12067",
         "Hubei",
         "China_Hubei",
         "30.9756",
         "112.2707",
         "2020-03-08 00:00:00",
         "67707",
         "2986",
         "45235",
         "19486",
         "Western Pacific"
        ],
        [
         "12328",
         "Hubei",
         "China_Hubei",
         "30.9756",
         "112.2707",
         "2020-03-09 00:00:00",
         "67743",
         "3008",
         "46488",
         "18247",
         "Western Pacific"
        ],
        [
         "12589",
         "Hubei",
         "China_Hubei",
         "30.9756",
         "112.2707",
         "2020-03-10 00:00:00",
         "67760",
         "3024",
         "47743",
         "16993",
         "Western Pacific"
        ],
        [
         "12850",
         "Hubei",
         "China_Hubei",
         "30.9756",
         "112.2707",
         "2020-03-11 00:00:00",
         "67773",
         "3046",
         "49134",
         "15593",
         "Western Pacific"
        ]
       ],
       "shape": {
        "columns": 10,
        "rows": 188
       }
      },
      "text/html": [
       "<div>\n",
       "<style scoped>\n",
       "    .dataframe tbody tr th:only-of-type {\n",
       "        vertical-align: middle;\n",
       "    }\n",
       "\n",
       "    .dataframe tbody tr th {\n",
       "        vertical-align: top;\n",
       "    }\n",
       "\n",
       "    .dataframe thead th {\n",
       "        text-align: right;\n",
       "    }\n",
       "</style>\n",
       "<table border=\"1\" class=\"dataframe\">\n",
       "  <thead>\n",
       "    <tr style=\"text-align: right;\">\n",
       "      <th></th>\n",
       "      <th>Province/State</th>\n",
       "      <th>Country/Region</th>\n",
       "      <th>Lat</th>\n",
       "      <th>Long</th>\n",
       "      <th>Date</th>\n",
       "      <th>Confirmed</th>\n",
       "      <th>Deaths</th>\n",
       "      <th>Recovered</th>\n",
       "      <th>Active</th>\n",
       "      <th>WHO Region</th>\n",
       "    </tr>\n",
       "  </thead>\n",
       "  <tbody>\n",
       "    <tr>\n",
       "      <th>61</th>\n",
       "      <td>Hubei</td>\n",
       "      <td>China_Hubei</td>\n",
       "      <td>30.9756</td>\n",
       "      <td>112.2707</td>\n",
       "      <td>2020-01-22</td>\n",
       "      <td>444</td>\n",
       "      <td>17</td>\n",
       "      <td>28</td>\n",
       "      <td>399</td>\n",
       "      <td>Western Pacific</td>\n",
       "    </tr>\n",
       "    <tr>\n",
       "      <th>322</th>\n",
       "      <td>Hubei</td>\n",
       "      <td>China_Hubei</td>\n",
       "      <td>30.9756</td>\n",
       "      <td>112.2707</td>\n",
       "      <td>2020-01-23</td>\n",
       "      <td>444</td>\n",
       "      <td>17</td>\n",
       "      <td>28</td>\n",
       "      <td>399</td>\n",
       "      <td>Western Pacific</td>\n",
       "    </tr>\n",
       "    <tr>\n",
       "      <th>583</th>\n",
       "      <td>Hubei</td>\n",
       "      <td>China_Hubei</td>\n",
       "      <td>30.9756</td>\n",
       "      <td>112.2707</td>\n",
       "      <td>2020-01-24</td>\n",
       "      <td>549</td>\n",
       "      <td>24</td>\n",
       "      <td>31</td>\n",
       "      <td>494</td>\n",
       "      <td>Western Pacific</td>\n",
       "    </tr>\n",
       "    <tr>\n",
       "      <th>844</th>\n",
       "      <td>Hubei</td>\n",
       "      <td>China_Hubei</td>\n",
       "      <td>30.9756</td>\n",
       "      <td>112.2707</td>\n",
       "      <td>2020-01-25</td>\n",
       "      <td>761</td>\n",
       "      <td>40</td>\n",
       "      <td>32</td>\n",
       "      <td>689</td>\n",
       "      <td>Western Pacific</td>\n",
       "    </tr>\n",
       "    <tr>\n",
       "      <th>1105</th>\n",
       "      <td>Hubei</td>\n",
       "      <td>China_Hubei</td>\n",
       "      <td>30.9756</td>\n",
       "      <td>112.2707</td>\n",
       "      <td>2020-01-26</td>\n",
       "      <td>1058</td>\n",
       "      <td>52</td>\n",
       "      <td>42</td>\n",
       "      <td>964</td>\n",
       "      <td>Western Pacific</td>\n",
       "    </tr>\n",
       "    <tr>\n",
       "      <th>...</th>\n",
       "      <td>...</td>\n",
       "      <td>...</td>\n",
       "      <td>...</td>\n",
       "      <td>...</td>\n",
       "      <td>...</td>\n",
       "      <td>...</td>\n",
       "      <td>...</td>\n",
       "      <td>...</td>\n",
       "      <td>...</td>\n",
       "      <td>...</td>\n",
       "    </tr>\n",
       "    <tr>\n",
       "      <th>47824</th>\n",
       "      <td>Hubei</td>\n",
       "      <td>China_Hubei</td>\n",
       "      <td>30.9756</td>\n",
       "      <td>112.2707</td>\n",
       "      <td>2020-07-23</td>\n",
       "      <td>68135</td>\n",
       "      <td>4512</td>\n",
       "      <td>63623</td>\n",
       "      <td>0</td>\n",
       "      <td>Western Pacific</td>\n",
       "    </tr>\n",
       "    <tr>\n",
       "      <th>48085</th>\n",
       "      <td>Hubei</td>\n",
       "      <td>China_Hubei</td>\n",
       "      <td>30.9756</td>\n",
       "      <td>112.2707</td>\n",
       "      <td>2020-07-24</td>\n",
       "      <td>68135</td>\n",
       "      <td>4512</td>\n",
       "      <td>63623</td>\n",
       "      <td>0</td>\n",
       "      <td>Western Pacific</td>\n",
       "    </tr>\n",
       "    <tr>\n",
       "      <th>48346</th>\n",
       "      <td>Hubei</td>\n",
       "      <td>China_Hubei</td>\n",
       "      <td>30.9756</td>\n",
       "      <td>112.2707</td>\n",
       "      <td>2020-07-25</td>\n",
       "      <td>68135</td>\n",
       "      <td>4512</td>\n",
       "      <td>63623</td>\n",
       "      <td>0</td>\n",
       "      <td>Western Pacific</td>\n",
       "    </tr>\n",
       "    <tr>\n",
       "      <th>48607</th>\n",
       "      <td>Hubei</td>\n",
       "      <td>China_Hubei</td>\n",
       "      <td>30.9756</td>\n",
       "      <td>112.2707</td>\n",
       "      <td>2020-07-26</td>\n",
       "      <td>68135</td>\n",
       "      <td>4512</td>\n",
       "      <td>63623</td>\n",
       "      <td>0</td>\n",
       "      <td>Western Pacific</td>\n",
       "    </tr>\n",
       "    <tr>\n",
       "      <th>48868</th>\n",
       "      <td>Hubei</td>\n",
       "      <td>China_Hubei</td>\n",
       "      <td>30.9756</td>\n",
       "      <td>112.2707</td>\n",
       "      <td>2020-07-27</td>\n",
       "      <td>68135</td>\n",
       "      <td>4512</td>\n",
       "      <td>63623</td>\n",
       "      <td>0</td>\n",
       "      <td>Western Pacific</td>\n",
       "    </tr>\n",
       "  </tbody>\n",
       "</table>\n",
       "<p>188 rows × 10 columns</p>\n",
       "</div>"
      ],
      "text/plain": [
       "      Province/State Country/Region      Lat      Long       Date  Confirmed  \\\n",
       "61             Hubei    China_Hubei  30.9756  112.2707 2020-01-22        444   \n",
       "322            Hubei    China_Hubei  30.9756  112.2707 2020-01-23        444   \n",
       "583            Hubei    China_Hubei  30.9756  112.2707 2020-01-24        549   \n",
       "844            Hubei    China_Hubei  30.9756  112.2707 2020-01-25        761   \n",
       "1105           Hubei    China_Hubei  30.9756  112.2707 2020-01-26       1058   \n",
       "...              ...            ...      ...       ...        ...        ...   \n",
       "47824          Hubei    China_Hubei  30.9756  112.2707 2020-07-23      68135   \n",
       "48085          Hubei    China_Hubei  30.9756  112.2707 2020-07-24      68135   \n",
       "48346          Hubei    China_Hubei  30.9756  112.2707 2020-07-25      68135   \n",
       "48607          Hubei    China_Hubei  30.9756  112.2707 2020-07-26      68135   \n",
       "48868          Hubei    China_Hubei  30.9756  112.2707 2020-07-27      68135   \n",
       "\n",
       "       Deaths  Recovered  Active       WHO Region  \n",
       "61         17         28     399  Western Pacific  \n",
       "322        17         28     399  Western Pacific  \n",
       "583        24         31     494  Western Pacific  \n",
       "844        40         32     689  Western Pacific  \n",
       "1105       52         42     964  Western Pacific  \n",
       "...       ...        ...     ...              ...  \n",
       "47824    4512      63623       0  Western Pacific  \n",
       "48085    4512      63623       0  Western Pacific  \n",
       "48346    4512      63623       0  Western Pacific  \n",
       "48607    4512      63623       0  Western Pacific  \n",
       "48868    4512      63623       0  Western Pacific  \n",
       "\n",
       "[188 rows x 10 columns]"
      ]
     },
     "execution_count": 47,
     "metadata": {},
     "output_type": "execute_result"
    }
   ],
   "source": [
    "# c. Aplique, por meio do método “apply”, a função criada no item a.\n",
    "\n",
    "concat_covid = covid.apply(concat,axis='columns')\n",
    "\n",
    "#Exemplo do resultado:\n",
    "\n",
    "concat_covid.loc[concat_covid['Country/Region'] == 'China_Hubei']"
   ]
  },
  {
   "cell_type": "code",
   "execution_count": 48,
   "metadata": {},
   "outputs": [
    {
     "data": {
      "application/vnd.microsoft.datawrangler.viewer.v0+json": {
       "columns": [
        {
         "name": "index",
         "rawType": "int64",
         "type": "integer"
        },
        {
         "name": "Country/Region",
         "rawType": "object",
         "type": "string"
        },
        {
         "name": "Lat",
         "rawType": "float64",
         "type": "float"
        },
        {
         "name": "Long",
         "rawType": "float64",
         "type": "float"
        },
        {
         "name": "Date",
         "rawType": "datetime64[ns]",
         "type": "datetime"
        },
        {
         "name": "Confirmed",
         "rawType": "int64",
         "type": "integer"
        },
        {
         "name": "Deaths",
         "rawType": "int64",
         "type": "integer"
        },
        {
         "name": "Recovered",
         "rawType": "int64",
         "type": "integer"
        },
        {
         "name": "Active",
         "rawType": "int64",
         "type": "integer"
        },
        {
         "name": "WHO Region",
         "rawType": "object",
         "type": "string"
        }
       ],
       "conversionMethod": "pd.DataFrame",
       "ref": "4bbba5ee-b108-4f7c-9db3-b7828b5f1628",
       "rows": [
        [
         "61",
         "China_Hubei",
         "30.9756",
         "112.2707",
         "2020-01-22 00:00:00",
         "444",
         "17",
         "28",
         "399",
         "Western Pacific"
        ],
        [
         "322",
         "China_Hubei",
         "30.9756",
         "112.2707",
         "2020-01-23 00:00:00",
         "444",
         "17",
         "28",
         "399",
         "Western Pacific"
        ],
        [
         "583",
         "China_Hubei",
         "30.9756",
         "112.2707",
         "2020-01-24 00:00:00",
         "549",
         "24",
         "31",
         "494",
         "Western Pacific"
        ],
        [
         "844",
         "China_Hubei",
         "30.9756",
         "112.2707",
         "2020-01-25 00:00:00",
         "761",
         "40",
         "32",
         "689",
         "Western Pacific"
        ],
        [
         "1105",
         "China_Hubei",
         "30.9756",
         "112.2707",
         "2020-01-26 00:00:00",
         "1058",
         "52",
         "42",
         "964",
         "Western Pacific"
        ],
        [
         "1366",
         "China_Hubei",
         "30.9756",
         "112.2707",
         "2020-01-27 00:00:00",
         "1423",
         "76",
         "45",
         "1302",
         "Western Pacific"
        ],
        [
         "1627",
         "China_Hubei",
         "30.9756",
         "112.2707",
         "2020-01-28 00:00:00",
         "3554",
         "125",
         "80",
         "3349",
         "Western Pacific"
        ],
        [
         "1888",
         "China_Hubei",
         "30.9756",
         "112.2707",
         "2020-01-29 00:00:00",
         "3554",
         "125",
         "88",
         "3341",
         "Western Pacific"
        ],
        [
         "2149",
         "China_Hubei",
         "30.9756",
         "112.2707",
         "2020-01-30 00:00:00",
         "4903",
         "162",
         "90",
         "4651",
         "Western Pacific"
        ],
        [
         "2410",
         "China_Hubei",
         "30.9756",
         "112.2707",
         "2020-01-31 00:00:00",
         "5806",
         "204",
         "141",
         "5461",
         "Western Pacific"
        ],
        [
         "2671",
         "China_Hubei",
         "30.9756",
         "112.2707",
         "2020-02-01 00:00:00",
         "7153",
         "249",
         "168",
         "6736",
         "Western Pacific"
        ],
        [
         "2932",
         "China_Hubei",
         "30.9756",
         "112.2707",
         "2020-02-02 00:00:00",
         "11177",
         "350",
         "295",
         "10532",
         "Western Pacific"
        ],
        [
         "3193",
         "China_Hubei",
         "30.9756",
         "112.2707",
         "2020-02-03 00:00:00",
         "13522",
         "414",
         "386",
         "12722",
         "Western Pacific"
        ],
        [
         "3454",
         "China_Hubei",
         "30.9756",
         "112.2707",
         "2020-02-04 00:00:00",
         "16678",
         "479",
         "522",
         "15677",
         "Western Pacific"
        ],
        [
         "3715",
         "China_Hubei",
         "30.9756",
         "112.2707",
         "2020-02-05 00:00:00",
         "19665",
         "549",
         "633",
         "18483",
         "Western Pacific"
        ],
        [
         "3976",
         "China_Hubei",
         "30.9756",
         "112.2707",
         "2020-02-06 00:00:00",
         "22112",
         "618",
         "817",
         "20677",
         "Western Pacific"
        ],
        [
         "4237",
         "China_Hubei",
         "30.9756",
         "112.2707",
         "2020-02-07 00:00:00",
         "24953",
         "699",
         "1115",
         "23139",
         "Western Pacific"
        ],
        [
         "4498",
         "China_Hubei",
         "30.9756",
         "112.2707",
         "2020-02-08 00:00:00",
         "27100",
         "780",
         "1439",
         "24881",
         "Western Pacific"
        ],
        [
         "4759",
         "China_Hubei",
         "30.9756",
         "112.2707",
         "2020-02-09 00:00:00",
         "29631",
         "871",
         "1795",
         "26965",
         "Western Pacific"
        ],
        [
         "5020",
         "China_Hubei",
         "30.9756",
         "112.2707",
         "2020-02-10 00:00:00",
         "31728",
         "974",
         "2222",
         "28532",
         "Western Pacific"
        ],
        [
         "5281",
         "China_Hubei",
         "30.9756",
         "112.2707",
         "2020-02-11 00:00:00",
         "33366",
         "1068",
         "2639",
         "29659",
         "Western Pacific"
        ],
        [
         "5542",
         "China_Hubei",
         "30.9756",
         "112.2707",
         "2020-02-12 00:00:00",
         "34874",
         "1068",
         "2686",
         "31120",
         "Western Pacific"
        ],
        [
         "5803",
         "China_Hubei",
         "30.9756",
         "112.2707",
         "2020-02-13 00:00:00",
         "48206",
         "1310",
         "3459",
         "43437",
         "Western Pacific"
        ],
        [
         "6064",
         "China_Hubei",
         "30.9756",
         "112.2707",
         "2020-02-14 00:00:00",
         "54406",
         "1457",
         "4774",
         "48175",
         "Western Pacific"
        ],
        [
         "6325",
         "China_Hubei",
         "30.9756",
         "112.2707",
         "2020-02-15 00:00:00",
         "56249",
         "1596",
         "5623",
         "49030",
         "Western Pacific"
        ],
        [
         "6586",
         "China_Hubei",
         "30.9756",
         "112.2707",
         "2020-02-16 00:00:00",
         "58182",
         "1696",
         "6639",
         "49847",
         "Western Pacific"
        ],
        [
         "6847",
         "China_Hubei",
         "30.9756",
         "112.2707",
         "2020-02-17 00:00:00",
         "59989",
         "1789",
         "7862",
         "50338",
         "Western Pacific"
        ],
        [
         "7108",
         "China_Hubei",
         "30.9756",
         "112.2707",
         "2020-02-18 00:00:00",
         "61682",
         "1921",
         "9128",
         "50633",
         "Western Pacific"
        ],
        [
         "7369",
         "China_Hubei",
         "30.9756",
         "112.2707",
         "2020-02-19 00:00:00",
         "62031",
         "2029",
         "10337",
         "49665",
         "Western Pacific"
        ],
        [
         "7630",
         "China_Hubei",
         "30.9756",
         "112.2707",
         "2020-02-20 00:00:00",
         "62442",
         "2144",
         "11788",
         "48510",
         "Western Pacific"
        ],
        [
         "7891",
         "China_Hubei",
         "30.9756",
         "112.2707",
         "2020-02-21 00:00:00",
         "62662",
         "2144",
         "11881",
         "48637",
         "Western Pacific"
        ],
        [
         "8152",
         "China_Hubei",
         "30.9756",
         "112.2707",
         "2020-02-22 00:00:00",
         "64084",
         "2346",
         "15299",
         "46439",
         "Western Pacific"
        ],
        [
         "8413",
         "China_Hubei",
         "30.9756",
         "112.2707",
         "2020-02-23 00:00:00",
         "64084",
         "2346",
         "15343",
         "46395",
         "Western Pacific"
        ],
        [
         "8674",
         "China_Hubei",
         "30.9756",
         "112.2707",
         "2020-02-24 00:00:00",
         "64287",
         "2495",
         "16748",
         "45044",
         "Western Pacific"
        ],
        [
         "8935",
         "China_Hubei",
         "30.9756",
         "112.2707",
         "2020-02-25 00:00:00",
         "64786",
         "2563",
         "18971",
         "43252",
         "Western Pacific"
        ],
        [
         "9196",
         "China_Hubei",
         "30.9756",
         "112.2707",
         "2020-02-26 00:00:00",
         "65187",
         "2615",
         "20969",
         "41603",
         "Western Pacific"
        ],
        [
         "9457",
         "China_Hubei",
         "30.9756",
         "112.2707",
         "2020-02-27 00:00:00",
         "65596",
         "2641",
         "23383",
         "39572",
         "Western Pacific"
        ],
        [
         "9718",
         "China_Hubei",
         "30.9756",
         "112.2707",
         "2020-02-28 00:00:00",
         "65914",
         "2682",
         "26403",
         "36829",
         "Western Pacific"
        ],
        [
         "9979",
         "China_Hubei",
         "30.9756",
         "112.2707",
         "2020-02-29 00:00:00",
         "66337",
         "2727",
         "28993",
         "34617",
         "Western Pacific"
        ],
        [
         "10240",
         "China_Hubei",
         "30.9756",
         "112.2707",
         "2020-03-01 00:00:00",
         "66907",
         "2761",
         "31536",
         "32610",
         "Western Pacific"
        ],
        [
         "10501",
         "China_Hubei",
         "30.9756",
         "112.2707",
         "2020-03-02 00:00:00",
         "67103",
         "2803",
         "33934",
         "30366",
         "Western Pacific"
        ],
        [
         "10762",
         "China_Hubei",
         "30.9756",
         "112.2707",
         "2020-03-03 00:00:00",
         "67217",
         "2835",
         "36208",
         "28174",
         "Western Pacific"
        ],
        [
         "11023",
         "China_Hubei",
         "30.9756",
         "112.2707",
         "2020-03-04 00:00:00",
         "67332",
         "2871",
         "38557",
         "25904",
         "Western Pacific"
        ],
        [
         "11284",
         "China_Hubei",
         "30.9756",
         "112.2707",
         "2020-03-05 00:00:00",
         "67466",
         "2902",
         "40592",
         "23972",
         "Western Pacific"
        ],
        [
         "11545",
         "China_Hubei",
         "30.9756",
         "112.2707",
         "2020-03-06 00:00:00",
         "67592",
         "2931",
         "42033",
         "22628",
         "Western Pacific"
        ],
        [
         "11806",
         "China_Hubei",
         "30.9756",
         "112.2707",
         "2020-03-07 00:00:00",
         "67666",
         "2959",
         "43500",
         "21207",
         "Western Pacific"
        ],
        [
         "12067",
         "China_Hubei",
         "30.9756",
         "112.2707",
         "2020-03-08 00:00:00",
         "67707",
         "2986",
         "45235",
         "19486",
         "Western Pacific"
        ],
        [
         "12328",
         "China_Hubei",
         "30.9756",
         "112.2707",
         "2020-03-09 00:00:00",
         "67743",
         "3008",
         "46488",
         "18247",
         "Western Pacific"
        ],
        [
         "12589",
         "China_Hubei",
         "30.9756",
         "112.2707",
         "2020-03-10 00:00:00",
         "67760",
         "3024",
         "47743",
         "16993",
         "Western Pacific"
        ],
        [
         "12850",
         "China_Hubei",
         "30.9756",
         "112.2707",
         "2020-03-11 00:00:00",
         "67773",
         "3046",
         "49134",
         "15593",
         "Western Pacific"
        ]
       ],
       "shape": {
        "columns": 9,
        "rows": 188
       }
      },
      "text/html": [
       "<div>\n",
       "<style scoped>\n",
       "    .dataframe tbody tr th:only-of-type {\n",
       "        vertical-align: middle;\n",
       "    }\n",
       "\n",
       "    .dataframe tbody tr th {\n",
       "        vertical-align: top;\n",
       "    }\n",
       "\n",
       "    .dataframe thead th {\n",
       "        text-align: right;\n",
       "    }\n",
       "</style>\n",
       "<table border=\"1\" class=\"dataframe\">\n",
       "  <thead>\n",
       "    <tr style=\"text-align: right;\">\n",
       "      <th></th>\n",
       "      <th>Country/Region</th>\n",
       "      <th>Lat</th>\n",
       "      <th>Long</th>\n",
       "      <th>Date</th>\n",
       "      <th>Confirmed</th>\n",
       "      <th>Deaths</th>\n",
       "      <th>Recovered</th>\n",
       "      <th>Active</th>\n",
       "      <th>WHO Region</th>\n",
       "    </tr>\n",
       "  </thead>\n",
       "  <tbody>\n",
       "    <tr>\n",
       "      <th>61</th>\n",
       "      <td>China_Hubei</td>\n",
       "      <td>30.9756</td>\n",
       "      <td>112.2707</td>\n",
       "      <td>2020-01-22</td>\n",
       "      <td>444</td>\n",
       "      <td>17</td>\n",
       "      <td>28</td>\n",
       "      <td>399</td>\n",
       "      <td>Western Pacific</td>\n",
       "    </tr>\n",
       "    <tr>\n",
       "      <th>322</th>\n",
       "      <td>China_Hubei</td>\n",
       "      <td>30.9756</td>\n",
       "      <td>112.2707</td>\n",
       "      <td>2020-01-23</td>\n",
       "      <td>444</td>\n",
       "      <td>17</td>\n",
       "      <td>28</td>\n",
       "      <td>399</td>\n",
       "      <td>Western Pacific</td>\n",
       "    </tr>\n",
       "    <tr>\n",
       "      <th>583</th>\n",
       "      <td>China_Hubei</td>\n",
       "      <td>30.9756</td>\n",
       "      <td>112.2707</td>\n",
       "      <td>2020-01-24</td>\n",
       "      <td>549</td>\n",
       "      <td>24</td>\n",
       "      <td>31</td>\n",
       "      <td>494</td>\n",
       "      <td>Western Pacific</td>\n",
       "    </tr>\n",
       "    <tr>\n",
       "      <th>844</th>\n",
       "      <td>China_Hubei</td>\n",
       "      <td>30.9756</td>\n",
       "      <td>112.2707</td>\n",
       "      <td>2020-01-25</td>\n",
       "      <td>761</td>\n",
       "      <td>40</td>\n",
       "      <td>32</td>\n",
       "      <td>689</td>\n",
       "      <td>Western Pacific</td>\n",
       "    </tr>\n",
       "    <tr>\n",
       "      <th>1105</th>\n",
       "      <td>China_Hubei</td>\n",
       "      <td>30.9756</td>\n",
       "      <td>112.2707</td>\n",
       "      <td>2020-01-26</td>\n",
       "      <td>1058</td>\n",
       "      <td>52</td>\n",
       "      <td>42</td>\n",
       "      <td>964</td>\n",
       "      <td>Western Pacific</td>\n",
       "    </tr>\n",
       "    <tr>\n",
       "      <th>...</th>\n",
       "      <td>...</td>\n",
       "      <td>...</td>\n",
       "      <td>...</td>\n",
       "      <td>...</td>\n",
       "      <td>...</td>\n",
       "      <td>...</td>\n",
       "      <td>...</td>\n",
       "      <td>...</td>\n",
       "      <td>...</td>\n",
       "    </tr>\n",
       "    <tr>\n",
       "      <th>47824</th>\n",
       "      <td>China_Hubei</td>\n",
       "      <td>30.9756</td>\n",
       "      <td>112.2707</td>\n",
       "      <td>2020-07-23</td>\n",
       "      <td>68135</td>\n",
       "      <td>4512</td>\n",
       "      <td>63623</td>\n",
       "      <td>0</td>\n",
       "      <td>Western Pacific</td>\n",
       "    </tr>\n",
       "    <tr>\n",
       "      <th>48085</th>\n",
       "      <td>China_Hubei</td>\n",
       "      <td>30.9756</td>\n",
       "      <td>112.2707</td>\n",
       "      <td>2020-07-24</td>\n",
       "      <td>68135</td>\n",
       "      <td>4512</td>\n",
       "      <td>63623</td>\n",
       "      <td>0</td>\n",
       "      <td>Western Pacific</td>\n",
       "    </tr>\n",
       "    <tr>\n",
       "      <th>48346</th>\n",
       "      <td>China_Hubei</td>\n",
       "      <td>30.9756</td>\n",
       "      <td>112.2707</td>\n",
       "      <td>2020-07-25</td>\n",
       "      <td>68135</td>\n",
       "      <td>4512</td>\n",
       "      <td>63623</td>\n",
       "      <td>0</td>\n",
       "      <td>Western Pacific</td>\n",
       "    </tr>\n",
       "    <tr>\n",
       "      <th>48607</th>\n",
       "      <td>China_Hubei</td>\n",
       "      <td>30.9756</td>\n",
       "      <td>112.2707</td>\n",
       "      <td>2020-07-26</td>\n",
       "      <td>68135</td>\n",
       "      <td>4512</td>\n",
       "      <td>63623</td>\n",
       "      <td>0</td>\n",
       "      <td>Western Pacific</td>\n",
       "    </tr>\n",
       "    <tr>\n",
       "      <th>48868</th>\n",
       "      <td>China_Hubei</td>\n",
       "      <td>30.9756</td>\n",
       "      <td>112.2707</td>\n",
       "      <td>2020-07-27</td>\n",
       "      <td>68135</td>\n",
       "      <td>4512</td>\n",
       "      <td>63623</td>\n",
       "      <td>0</td>\n",
       "      <td>Western Pacific</td>\n",
       "    </tr>\n",
       "  </tbody>\n",
       "</table>\n",
       "<p>188 rows × 9 columns</p>\n",
       "</div>"
      ],
      "text/plain": [
       "      Country/Region      Lat      Long       Date  Confirmed  Deaths  \\\n",
       "61       China_Hubei  30.9756  112.2707 2020-01-22        444      17   \n",
       "322      China_Hubei  30.9756  112.2707 2020-01-23        444      17   \n",
       "583      China_Hubei  30.9756  112.2707 2020-01-24        549      24   \n",
       "844      China_Hubei  30.9756  112.2707 2020-01-25        761      40   \n",
       "1105     China_Hubei  30.9756  112.2707 2020-01-26       1058      52   \n",
       "...              ...      ...       ...        ...        ...     ...   \n",
       "47824    China_Hubei  30.9756  112.2707 2020-07-23      68135    4512   \n",
       "48085    China_Hubei  30.9756  112.2707 2020-07-24      68135    4512   \n",
       "48346    China_Hubei  30.9756  112.2707 2020-07-25      68135    4512   \n",
       "48607    China_Hubei  30.9756  112.2707 2020-07-26      68135    4512   \n",
       "48868    China_Hubei  30.9756  112.2707 2020-07-27      68135    4512   \n",
       "\n",
       "       Recovered  Active       WHO Region  \n",
       "61            28     399  Western Pacific  \n",
       "322           28     399  Western Pacific  \n",
       "583           31     494  Western Pacific  \n",
       "844           32     689  Western Pacific  \n",
       "1105          42     964  Western Pacific  \n",
       "...          ...     ...              ...  \n",
       "47824      63623       0  Western Pacific  \n",
       "48085      63623       0  Western Pacific  \n",
       "48346      63623       0  Western Pacific  \n",
       "48607      63623       0  Western Pacific  \n",
       "48868      63623       0  Western Pacific  \n",
       "\n",
       "[188 rows x 9 columns]"
      ]
     },
     "execution_count": 48,
     "metadata": {},
     "output_type": "execute_result"
    }
   ],
   "source": [
    "# d. Exclua a coluna “Province/State” do novo dataframe.\n",
    "\n",
    "concat_covid = concat_covid.loc[:,concat_covid.columns != 'Province/State']\n",
    "\n",
    "#Exemplo do resultado final:\n",
    "\n",
    "concat_covid.loc[concat_covid['Country/Region'] == 'China_Hubei']"
   ]
  },
  {
   "cell_type": "markdown",
   "metadata": {},
   "source": [
    "### 4. Importe o arquivo \"world meter data.csv\" e, a partir de seus dados de população e continentes, faça um ranking de maior número de mortes por milhão de habitantes entre os continentes."
   ]
  },
  {
   "cell_type": "code",
   "execution_count": 49,
   "metadata": {},
   "outputs": [
    {
     "data": {
      "application/vnd.microsoft.datawrangler.viewer.v0+json": {
       "columns": [
        {
         "name": "index",
         "rawType": "int64",
         "type": "integer"
        },
        {
         "name": "Country/Region",
         "rawType": "object",
         "type": "string"
        },
        {
         "name": "Continent",
         "rawType": "object",
         "type": "string"
        },
        {
         "name": "Population",
         "rawType": "float64",
         "type": "float"
        },
        {
         "name": "TotalCases",
         "rawType": "int64",
         "type": "integer"
        },
        {
         "name": "NewCases",
         "rawType": "float64",
         "type": "float"
        },
        {
         "name": "TotalDeaths",
         "rawType": "float64",
         "type": "float"
        },
        {
         "name": "NewDeaths",
         "rawType": "float64",
         "type": "float"
        },
        {
         "name": "TotalRecovered",
         "rawType": "float64",
         "type": "float"
        },
        {
         "name": "NewRecovered",
         "rawType": "float64",
         "type": "float"
        },
        {
         "name": "ActiveCases",
         "rawType": "float64",
         "type": "float"
        },
        {
         "name": "Serious,Critical",
         "rawType": "float64",
         "type": "float"
        },
        {
         "name": "Tot Cases/1M pop",
         "rawType": "float64",
         "type": "float"
        },
        {
         "name": "Deaths/1M pop",
         "rawType": "float64",
         "type": "float"
        },
        {
         "name": "TotalTests",
         "rawType": "float64",
         "type": "float"
        },
        {
         "name": "Tests/1M pop",
         "rawType": "float64",
         "type": "float"
        },
        {
         "name": "WHO Region",
         "rawType": "object",
         "type": "string"
        }
       ],
       "conversionMethod": "pd.DataFrame",
       "ref": "d883ae58-ee71-4c30-b1a8-fff2be981b2b",
       "rows": [
        [
         "0",
         "USA",
         "North America",
         "331198130.0",
         "5032179",
         null,
         "162804.0",
         null,
         "2576668.0",
         null,
         "2292707.0",
         "18296.0",
         "15194.0",
         "492.0",
         "63139605.0",
         "190640.0",
         "Americas"
        ],
        [
         "1",
         "Brazil",
         "South America",
         "212710692.0",
         "2917562",
         null,
         "98644.0",
         null,
         "2047660.0",
         null,
         "771258.0",
         "8318.0",
         "13716.0",
         "464.0",
         "13206188.0",
         "62085.0",
         "Americas"
        ],
        [
         "2",
         "India",
         "Asia",
         "1381344997.0",
         "2025409",
         null,
         "41638.0",
         null,
         "1377384.0",
         null,
         "606387.0",
         "8944.0",
         "1466.0",
         "30.0",
         "22149351.0",
         "16035.0",
         "South-EastAsia"
        ],
        [
         "3",
         "Russia",
         "Europe",
         "145940924.0",
         "871894",
         null,
         "14606.0",
         null,
         "676357.0",
         null,
         "180931.0",
         "2300.0",
         "5974.0",
         "100.0",
         "29716907.0",
         "203623.0",
         "Europe"
        ],
        [
         "4",
         "South Africa",
         "Africa",
         "59381566.0",
         "538184",
         null,
         "9604.0",
         null,
         "387316.0",
         null,
         "141264.0",
         "539.0",
         "9063.0",
         "162.0",
         "3149807.0",
         "53044.0",
         "Africa"
        ]
       ],
       "shape": {
        "columns": 16,
        "rows": 5
       }
      },
      "text/html": [
       "<div>\n",
       "<style scoped>\n",
       "    .dataframe tbody tr th:only-of-type {\n",
       "        vertical-align: middle;\n",
       "    }\n",
       "\n",
       "    .dataframe tbody tr th {\n",
       "        vertical-align: top;\n",
       "    }\n",
       "\n",
       "    .dataframe thead th {\n",
       "        text-align: right;\n",
       "    }\n",
       "</style>\n",
       "<table border=\"1\" class=\"dataframe\">\n",
       "  <thead>\n",
       "    <tr style=\"text-align: right;\">\n",
       "      <th></th>\n",
       "      <th>Country/Region</th>\n",
       "      <th>Continent</th>\n",
       "      <th>Population</th>\n",
       "      <th>TotalCases</th>\n",
       "      <th>NewCases</th>\n",
       "      <th>TotalDeaths</th>\n",
       "      <th>NewDeaths</th>\n",
       "      <th>TotalRecovered</th>\n",
       "      <th>NewRecovered</th>\n",
       "      <th>ActiveCases</th>\n",
       "      <th>Serious,Critical</th>\n",
       "      <th>Tot Cases/1M pop</th>\n",
       "      <th>Deaths/1M pop</th>\n",
       "      <th>TotalTests</th>\n",
       "      <th>Tests/1M pop</th>\n",
       "      <th>WHO Region</th>\n",
       "    </tr>\n",
       "  </thead>\n",
       "  <tbody>\n",
       "    <tr>\n",
       "      <th>0</th>\n",
       "      <td>USA</td>\n",
       "      <td>North America</td>\n",
       "      <td>3.311981e+08</td>\n",
       "      <td>5032179</td>\n",
       "      <td>NaN</td>\n",
       "      <td>162804.0</td>\n",
       "      <td>NaN</td>\n",
       "      <td>2576668.0</td>\n",
       "      <td>NaN</td>\n",
       "      <td>2292707.0</td>\n",
       "      <td>18296.0</td>\n",
       "      <td>15194.0</td>\n",
       "      <td>492.0</td>\n",
       "      <td>63139605.0</td>\n",
       "      <td>190640.0</td>\n",
       "      <td>Americas</td>\n",
       "    </tr>\n",
       "    <tr>\n",
       "      <th>1</th>\n",
       "      <td>Brazil</td>\n",
       "      <td>South America</td>\n",
       "      <td>2.127107e+08</td>\n",
       "      <td>2917562</td>\n",
       "      <td>NaN</td>\n",
       "      <td>98644.0</td>\n",
       "      <td>NaN</td>\n",
       "      <td>2047660.0</td>\n",
       "      <td>NaN</td>\n",
       "      <td>771258.0</td>\n",
       "      <td>8318.0</td>\n",
       "      <td>13716.0</td>\n",
       "      <td>464.0</td>\n",
       "      <td>13206188.0</td>\n",
       "      <td>62085.0</td>\n",
       "      <td>Americas</td>\n",
       "    </tr>\n",
       "    <tr>\n",
       "      <th>2</th>\n",
       "      <td>India</td>\n",
       "      <td>Asia</td>\n",
       "      <td>1.381345e+09</td>\n",
       "      <td>2025409</td>\n",
       "      <td>NaN</td>\n",
       "      <td>41638.0</td>\n",
       "      <td>NaN</td>\n",
       "      <td>1377384.0</td>\n",
       "      <td>NaN</td>\n",
       "      <td>606387.0</td>\n",
       "      <td>8944.0</td>\n",
       "      <td>1466.0</td>\n",
       "      <td>30.0</td>\n",
       "      <td>22149351.0</td>\n",
       "      <td>16035.0</td>\n",
       "      <td>South-EastAsia</td>\n",
       "    </tr>\n",
       "    <tr>\n",
       "      <th>3</th>\n",
       "      <td>Russia</td>\n",
       "      <td>Europe</td>\n",
       "      <td>1.459409e+08</td>\n",
       "      <td>871894</td>\n",
       "      <td>NaN</td>\n",
       "      <td>14606.0</td>\n",
       "      <td>NaN</td>\n",
       "      <td>676357.0</td>\n",
       "      <td>NaN</td>\n",
       "      <td>180931.0</td>\n",
       "      <td>2300.0</td>\n",
       "      <td>5974.0</td>\n",
       "      <td>100.0</td>\n",
       "      <td>29716907.0</td>\n",
       "      <td>203623.0</td>\n",
       "      <td>Europe</td>\n",
       "    </tr>\n",
       "    <tr>\n",
       "      <th>4</th>\n",
       "      <td>South Africa</td>\n",
       "      <td>Africa</td>\n",
       "      <td>5.938157e+07</td>\n",
       "      <td>538184</td>\n",
       "      <td>NaN</td>\n",
       "      <td>9604.0</td>\n",
       "      <td>NaN</td>\n",
       "      <td>387316.0</td>\n",
       "      <td>NaN</td>\n",
       "      <td>141264.0</td>\n",
       "      <td>539.0</td>\n",
       "      <td>9063.0</td>\n",
       "      <td>162.0</td>\n",
       "      <td>3149807.0</td>\n",
       "      <td>53044.0</td>\n",
       "      <td>Africa</td>\n",
       "    </tr>\n",
       "  </tbody>\n",
       "</table>\n",
       "</div>"
      ],
      "text/plain": [
       "  Country/Region      Continent    Population  TotalCases  NewCases  \\\n",
       "0            USA  North America  3.311981e+08     5032179       NaN   \n",
       "1         Brazil  South America  2.127107e+08     2917562       NaN   \n",
       "2          India           Asia  1.381345e+09     2025409       NaN   \n",
       "3         Russia         Europe  1.459409e+08      871894       NaN   \n",
       "4   South Africa         Africa  5.938157e+07      538184       NaN   \n",
       "\n",
       "   TotalDeaths  NewDeaths  TotalRecovered  NewRecovered  ActiveCases  \\\n",
       "0     162804.0        NaN       2576668.0           NaN    2292707.0   \n",
       "1      98644.0        NaN       2047660.0           NaN     771258.0   \n",
       "2      41638.0        NaN       1377384.0           NaN     606387.0   \n",
       "3      14606.0        NaN        676357.0           NaN     180931.0   \n",
       "4       9604.0        NaN        387316.0           NaN     141264.0   \n",
       "\n",
       "   Serious,Critical  Tot Cases/1M pop  Deaths/1M pop  TotalTests  \\\n",
       "0           18296.0           15194.0          492.0  63139605.0   \n",
       "1            8318.0           13716.0          464.0  13206188.0   \n",
       "2            8944.0            1466.0           30.0  22149351.0   \n",
       "3            2300.0            5974.0          100.0  29716907.0   \n",
       "4             539.0            9063.0          162.0   3149807.0   \n",
       "\n",
       "   Tests/1M pop      WHO Region  \n",
       "0      190640.0        Americas  \n",
       "1       62085.0        Americas  \n",
       "2       16035.0  South-EastAsia  \n",
       "3      203623.0          Europe  \n",
       "4       53044.0          Africa  "
      ]
     },
     "execution_count": 49,
     "metadata": {},
     "output_type": "execute_result"
    }
   ],
   "source": [
    "# a. Importar o banco de dados \"world meter data.csv\".\n",
    "\n",
    "worldmeter.head()"
   ]
  },
  {
   "cell_type": "code",
   "execution_count": 71,
   "metadata": {},
   "outputs": [
    {
     "data": {
      "application/vnd.microsoft.datawrangler.viewer.v0+json": {
       "columns": [
        {
         "name": "Country/Region",
         "rawType": "object",
         "type": "string"
        },
        {
         "name": "Continent",
         "rawType": "object",
         "type": "unknown"
        },
        {
         "name": "Population",
         "rawType": "float64",
         "type": "float"
        }
       ],
       "conversionMethod": "pd.DataFrame",
       "ref": "e1edb11e-df58-41bb-85e4-d4321997f674",
       "rows": [
        [
         "Afghanistan",
         "Asia",
         "39009447.0"
        ],
        [
         "Albania",
         "Europe",
         "2877470.0"
        ],
        [
         "Algeria",
         "Africa",
         "43926079.0"
        ],
        [
         "Andorra",
         "Europe",
         "77278.0"
        ],
        [
         "Angola",
         "Africa",
         "32956300.0"
        ],
        [
         "Antigua and Barbuda",
         "North America",
         "98010.0"
        ],
        [
         "Argentina",
         "South America",
         "45236884.0"
        ],
        [
         "Armenia",
         "Asia",
         "2963811.0"
        ],
        [
         "Aruba",
         "North America",
         "106812.0"
        ],
        [
         "Australia",
         "Australia/Oceania",
         "25528864.0"
        ],
        [
         "Austria",
         "Europe",
         "9011577.0"
        ],
        [
         "Azerbaijan",
         "Asia",
         "10148243.0"
        ],
        [
         "Bahamas",
         "North America",
         "393616.0"
        ],
        [
         "Bahrain",
         "Asia",
         "1706669.0"
        ],
        [
         "Bangladesh",
         "Asia",
         "164851401.0"
        ],
        [
         "Barbados",
         "North America",
         "287411.0"
        ],
        [
         "Belarus",
         "Europe",
         "9449001.0"
        ],
        [
         "Belgium",
         "Europe",
         "11594739.0"
        ],
        [
         "Belize",
         "North America",
         "398312.0"
        ],
        [
         "Benin",
         "Africa",
         "12151976.0"
        ],
        [
         "Bermuda",
         "North America",
         "62254.0"
        ],
        [
         "Bhutan",
         "Asia",
         "772443.0"
        ],
        [
         "Bolivia",
         "South America",
         "11688459.0"
        ],
        [
         "Bosnia and Herzegovina",
         "Europe",
         "3278650.0"
        ],
        [
         "Botswana",
         "Africa",
         "2356075.0"
        ],
        [
         "Brazil",
         "South America",
         "212710692.0"
        ],
        [
         "Brunei ",
         "Asia",
         "437893.0"
        ],
        [
         "Bulgaria",
         "Europe",
         "6942854.0"
        ],
        [
         "Burkina Faso",
         "Africa",
         "20954852.0"
        ],
        [
         "Burundi",
         "Africa",
         "11922216.0"
        ],
        [
         "CAR",
         "Africa",
         "4837752.0"
        ],
        [
         "Cabo Verde",
         "Africa",
         "556581.0"
        ],
        [
         "Cambodia",
         "Asia",
         "16741375.0"
        ],
        [
         "Cameroon",
         "Africa",
         "26606188.0"
        ],
        [
         "Canada",
         "North America",
         "37775022.0"
        ],
        [
         "Caribbean Netherlands",
         "North America",
         "26247.0"
        ],
        [
         "Cayman Islands",
         "North America",
         "65798.0"
        ],
        [
         "Chad",
         "Africa",
         "16467965.0"
        ],
        [
         "Channel Islands",
         "Europe",
         "174022.0"
        ],
        [
         "Chile",
         "South America",
         "19132514.0"
        ],
        [
         "Colombia",
         "South America",
         "50936262.0"
        ],
        [
         "Comoros",
         "Africa",
         "871326.0"
        ],
        [
         "Congo",
         "Africa",
         "5530506.0"
        ],
        [
         "Costa Rica",
         "North America",
         "5098730.0"
        ],
        [
         "Croatia",
         "Europe",
         "4102577.0"
        ],
        [
         "Cuba",
         "North America",
         "11325899.0"
        ],
        [
         "Curaçao",
         "North America",
         "164161.0"
        ],
        [
         "Cyprus",
         "Asia",
         "1208238.0"
        ],
        [
         "Czechia",
         "Europe",
         "10711019.0"
        ],
        [
         "DRC",
         "Africa",
         "89802183.0"
        ]
       ],
       "shape": {
        "columns": 2,
        "rows": 209
       }
      },
      "text/html": [
       "<div>\n",
       "<style scoped>\n",
       "    .dataframe tbody tr th:only-of-type {\n",
       "        vertical-align: middle;\n",
       "    }\n",
       "\n",
       "    .dataframe tbody tr th {\n",
       "        vertical-align: top;\n",
       "    }\n",
       "\n",
       "    .dataframe thead th {\n",
       "        text-align: right;\n",
       "    }\n",
       "</style>\n",
       "<table border=\"1\" class=\"dataframe\">\n",
       "  <thead>\n",
       "    <tr style=\"text-align: right;\">\n",
       "      <th></th>\n",
       "      <th>Continent</th>\n",
       "      <th>Population</th>\n",
       "    </tr>\n",
       "    <tr>\n",
       "      <th>Country/Region</th>\n",
       "      <th></th>\n",
       "      <th></th>\n",
       "    </tr>\n",
       "  </thead>\n",
       "  <tbody>\n",
       "    <tr>\n",
       "      <th>Afghanistan</th>\n",
       "      <td>Asia</td>\n",
       "      <td>39009447.0</td>\n",
       "    </tr>\n",
       "    <tr>\n",
       "      <th>Albania</th>\n",
       "      <td>Europe</td>\n",
       "      <td>2877470.0</td>\n",
       "    </tr>\n",
       "    <tr>\n",
       "      <th>Algeria</th>\n",
       "      <td>Africa</td>\n",
       "      <td>43926079.0</td>\n",
       "    </tr>\n",
       "    <tr>\n",
       "      <th>Andorra</th>\n",
       "      <td>Europe</td>\n",
       "      <td>77278.0</td>\n",
       "    </tr>\n",
       "    <tr>\n",
       "      <th>Angola</th>\n",
       "      <td>Africa</td>\n",
       "      <td>32956300.0</td>\n",
       "    </tr>\n",
       "    <tr>\n",
       "      <th>...</th>\n",
       "      <td>...</td>\n",
       "      <td>...</td>\n",
       "    </tr>\n",
       "    <tr>\n",
       "      <th>Vietnam</th>\n",
       "      <td>Asia</td>\n",
       "      <td>97425470.0</td>\n",
       "    </tr>\n",
       "    <tr>\n",
       "      <th>Western Sahara</th>\n",
       "      <td>Africa</td>\n",
       "      <td>598682.0</td>\n",
       "    </tr>\n",
       "    <tr>\n",
       "      <th>Yemen</th>\n",
       "      <td>Asia</td>\n",
       "      <td>29886897.0</td>\n",
       "    </tr>\n",
       "    <tr>\n",
       "      <th>Zambia</th>\n",
       "      <td>Africa</td>\n",
       "      <td>18430129.0</td>\n",
       "    </tr>\n",
       "    <tr>\n",
       "      <th>Zimbabwe</th>\n",
       "      <td>Africa</td>\n",
       "      <td>14883803.0</td>\n",
       "    </tr>\n",
       "  </tbody>\n",
       "</table>\n",
       "<p>209 rows × 2 columns</p>\n",
       "</div>"
      ],
      "text/plain": [
       "               Continent  Population\n",
       "Country/Region                      \n",
       "Afghanistan         Asia  39009447.0\n",
       "Albania           Europe   2877470.0\n",
       "Algeria           Africa  43926079.0\n",
       "Andorra           Europe     77278.0\n",
       "Angola            Africa  32956300.0\n",
       "...                  ...         ...\n",
       "Vietnam             Asia  97425470.0\n",
       "Western Sahara    Africa    598682.0\n",
       "Yemen               Asia  29886897.0\n",
       "Zambia            Africa  18430129.0\n",
       "Zimbabwe          Africa  14883803.0\n",
       "\n",
       "[209 rows x 2 columns]"
      ]
     },
     "execution_count": 71,
     "metadata": {},
     "output_type": "execute_result"
    }
   ],
   "source": [
    "# b. Tome apenas as informações de população, país e continentes deste banco de dados.\n",
    "\n",
    "worldmeter_country = worldmeter.groupby('Country/Region').agg({'Continent':'sum','Population':'sum'})\n",
    "\n",
    "worldmeter_country"
   ]
  },
  {
   "cell_type": "code",
   "execution_count": 69,
   "metadata": {},
   "outputs": [
    {
     "data": {
      "application/vnd.microsoft.datawrangler.viewer.v0+json": {
       "columns": [
        {
         "name": "Country/Region",
         "rawType": "object",
         "type": "string"
        },
        {
         "name": "WHO Region",
         "rawType": "object",
         "type": "string"
        },
        {
         "name": "Deaths",
         "rawType": "int64",
         "type": "integer"
        }
       ],
       "conversionMethod": "pd.DataFrame",
       "ref": "57f79b6a-8a37-4a96-9271-c081bdd96ae1",
       "rows": [
        [
         "Afghanistan",
         "Eastern Mediterranean",
         "49098"
        ],
        [
         "Albania",
         "Europe",
         "5708"
        ],
        [
         "Algeria",
         "Africa",
         "77972"
        ],
        [
         "Andorra",
         "Europe",
         "5423"
        ],
        [
         "Angola",
         "Africa",
         "1078"
        ],
        [
         "Antigua and Barbuda",
         "Americas",
         "326"
        ],
        [
         "Argentina",
         "Americas",
         "97749"
        ],
        [
         "Armenia",
         "Europe",
         "27089"
        ],
        [
         "Australia",
         "Western Pacific",
         "11387"
        ],
        [
         "Austria",
         "Europe",
         "71390"
        ],
        [
         "Azerbaijan",
         "Europe",
         "14282"
        ],
        [
         "Bahamas",
         "Americas",
         "1203"
        ],
        [
         "Bahrain",
         "Eastern Mediterranean",
         "5115"
        ],
        [
         "Bangladesh",
         "South-East Asia",
         "115633"
        ],
        [
         "Barbados",
         "Americas",
         "738"
        ],
        [
         "Belarus",
         "Europe",
         "28391"
        ],
        [
         "Belgium",
         "Europe",
         "963679"
        ],
        [
         "Belize",
         "Americas",
         "222"
        ],
        [
         "Benin",
         "Africa",
         "1095"
        ],
        [
         "Bhutan",
         "South-East Asia",
         "0"
        ],
        [
         "Bolivia",
         "Americas",
         "78032"
        ],
        [
         "Bosnia and Herzegovina",
         "Europe",
         "16373"
        ],
        [
         "Botswana",
         "Africa",
         "120"
        ],
        [
         "Brazil",
         "Americas",
         "3938034"
        ],
        [
         "Brunei",
         "Western Pacific",
         "226"
        ],
        [
         "Bulgaria",
         "Europe",
         "17654"
        ],
        [
         "Burkina Faso",
         "Africa",
         "5583"
        ],
        [
         "Burma",
         "South-East Asia",
         "639"
        ],
        [
         "Burundi",
         "Africa",
         "106"
        ],
        [
         "Cabo Verde",
         "Africa",
         "854"
        ],
        [
         "Cambodia",
         "Western Pacific",
         "0"
        ],
        [
         "Cameroon",
         "Africa",
         "22354"
        ],
        [
         "Canada",
         "Americas",
         "699566"
        ],
        [
         "Central African Republic",
         "Africa",
         "2010"
        ],
        [
         "Chad",
         "Africa",
         "5523"
        ],
        [
         "Chile",
         "Americas",
         "322480"
        ],
        [
         "China",
         "Western Pacific",
         "672413"
        ],
        [
         "Colombia",
         "Americas",
         "236525"
        ],
        [
         "Comoros",
         "Africa",
         "337"
        ],
        [
         "Congo (Brazzaville)",
         "Africa",
         "2696"
        ],
        [
         "Congo (Kinshasa)",
         "Africa",
         "10888"
        ],
        [
         "Costa Rica",
         "Americas",
         "2037"
        ],
        [
         "Cote d'Ivoire",
         "Africa",
         "4717"
        ],
        [
         "Croatia",
         "Europe",
         "10372"
        ],
        [
         "Cuba",
         "Americas",
         "8145"
        ],
        [
         "Cyprus",
         "Europe",
         "1962"
        ],
        [
         "Czechia",
         "Europe",
         "33364"
        ],
        [
         "Denmark",
         "Europe",
         "60602"
        ],
        [
         "Djibouti",
         "Eastern Mediterranean",
         "3011"
        ],
        [
         "Dominica",
         "Americas",
         "0"
        ]
       ],
       "shape": {
        "columns": 2,
        "rows": 187
       }
      },
      "text/html": [
       "<div>\n",
       "<style scoped>\n",
       "    .dataframe tbody tr th:only-of-type {\n",
       "        vertical-align: middle;\n",
       "    }\n",
       "\n",
       "    .dataframe tbody tr th {\n",
       "        vertical-align: top;\n",
       "    }\n",
       "\n",
       "    .dataframe thead th {\n",
       "        text-align: right;\n",
       "    }\n",
       "</style>\n",
       "<table border=\"1\" class=\"dataframe\">\n",
       "  <thead>\n",
       "    <tr style=\"text-align: right;\">\n",
       "      <th></th>\n",
       "      <th>WHO Region</th>\n",
       "      <th>Deaths</th>\n",
       "    </tr>\n",
       "    <tr>\n",
       "      <th>Country/Region</th>\n",
       "      <th></th>\n",
       "      <th></th>\n",
       "    </tr>\n",
       "  </thead>\n",
       "  <tbody>\n",
       "    <tr>\n",
       "      <th>Afghanistan</th>\n",
       "      <td>Eastern Mediterranean</td>\n",
       "      <td>49098</td>\n",
       "    </tr>\n",
       "    <tr>\n",
       "      <th>Albania</th>\n",
       "      <td>Europe</td>\n",
       "      <td>5708</td>\n",
       "    </tr>\n",
       "    <tr>\n",
       "      <th>Algeria</th>\n",
       "      <td>Africa</td>\n",
       "      <td>77972</td>\n",
       "    </tr>\n",
       "    <tr>\n",
       "      <th>Andorra</th>\n",
       "      <td>Europe</td>\n",
       "      <td>5423</td>\n",
       "    </tr>\n",
       "    <tr>\n",
       "      <th>Angola</th>\n",
       "      <td>Africa</td>\n",
       "      <td>1078</td>\n",
       "    </tr>\n",
       "    <tr>\n",
       "      <th>...</th>\n",
       "      <td>...</td>\n",
       "      <td>...</td>\n",
       "    </tr>\n",
       "    <tr>\n",
       "      <th>West Bank and Gaza</th>\n",
       "      <td>Eastern Mediterranean</td>\n",
       "      <td>1370</td>\n",
       "    </tr>\n",
       "    <tr>\n",
       "      <th>Western Sahara</th>\n",
       "      <td>Africa</td>\n",
       "      <td>63</td>\n",
       "    </tr>\n",
       "    <tr>\n",
       "      <th>Yemen</th>\n",
       "      <td>Eastern Mediterranean</td>\n",
       "      <td>17707</td>\n",
       "    </tr>\n",
       "    <tr>\n",
       "      <th>Zambia</th>\n",
       "      <td>Africa</td>\n",
       "      <td>2643</td>\n",
       "    </tr>\n",
       "    <tr>\n",
       "      <th>Zimbabwe</th>\n",
       "      <td>Africa</td>\n",
       "      <td>881</td>\n",
       "    </tr>\n",
       "  </tbody>\n",
       "</table>\n",
       "<p>187 rows × 2 columns</p>\n",
       "</div>"
      ],
      "text/plain": [
       "                               WHO Region  Deaths\n",
       "Country/Region                                   \n",
       "Afghanistan         Eastern Mediterranean   49098\n",
       "Albania                            Europe    5708\n",
       "Algeria                            Africa   77972\n",
       "Andorra                            Europe    5423\n",
       "Angola                             Africa    1078\n",
       "...                                   ...     ...\n",
       "West Bank and Gaza  Eastern Mediterranean    1370\n",
       "Western Sahara                     Africa      63\n",
       "Yemen               Eastern Mediterranean   17707\n",
       "Zambia                             Africa    2643\n",
       "Zimbabwe                           Africa     881\n",
       "\n",
       "[187 rows x 2 columns]"
      ]
     },
     "execution_count": 69,
     "metadata": {},
     "output_type": "execute_result"
    }
   ],
   "source": [
    "# c. Agrupe o “covid_19_clean_complete” por países. Deve-se usar o dataframe do item “c)” ou o original?\n",
    "\n",
    "#Devemos utilizar o dataframe original, dado que o dataframe gerado no item c) não inclui informações de países\n",
    "\n",
    "covid_country = covid_19.groupby('Country/Region').agg({'WHO Region': 'max','Deaths':'sum'})\n",
    "\n",
    "covid_country"
   ]
  },
  {
   "cell_type": "code",
   "execution_count": 67,
   "metadata": {},
   "outputs": [
    {
     "data": {
      "application/vnd.microsoft.datawrangler.viewer.v0+json": {
       "columns": [
        {
         "name": "Country/Region",
         "rawType": "object",
         "type": "string"
        },
        {
         "name": "Continent",
         "rawType": "object",
         "type": "string"
        },
        {
         "name": "Population",
         "rawType": "float64",
         "type": "float"
        },
        {
         "name": "Deaths",
         "rawType": "float64",
         "type": "float"
        }
       ],
       "conversionMethod": "pd.DataFrame",
       "ref": "b28b017f-0fe6-46c3-9931-5a537a8358e3",
       "rows": [
        [
         "Afghanistan",
         "Asia",
         "39009447.0",
         "49098.0"
        ],
        [
         "Albania",
         "Europe",
         "2877470.0",
         "5708.0"
        ],
        [
         "Algeria",
         "Africa",
         "43926079.0",
         "77972.0"
        ],
        [
         "Andorra",
         "Europe",
         "77278.0",
         "5423.0"
        ],
        [
         "Angola",
         "Africa",
         "32956300.0",
         "1078.0"
        ]
       ],
       "shape": {
        "columns": 3,
        "rows": 5
       }
      },
      "text/html": [
       "<div>\n",
       "<style scoped>\n",
       "    .dataframe tbody tr th:only-of-type {\n",
       "        vertical-align: middle;\n",
       "    }\n",
       "\n",
       "    .dataframe tbody tr th {\n",
       "        vertical-align: top;\n",
       "    }\n",
       "\n",
       "    .dataframe thead th {\n",
       "        text-align: right;\n",
       "    }\n",
       "</style>\n",
       "<table border=\"1\" class=\"dataframe\">\n",
       "  <thead>\n",
       "    <tr style=\"text-align: right;\">\n",
       "      <th></th>\n",
       "      <th>Continent</th>\n",
       "      <th>Population</th>\n",
       "      <th>Deaths</th>\n",
       "    </tr>\n",
       "    <tr>\n",
       "      <th>Country/Region</th>\n",
       "      <th></th>\n",
       "      <th></th>\n",
       "      <th></th>\n",
       "    </tr>\n",
       "  </thead>\n",
       "  <tbody>\n",
       "    <tr>\n",
       "      <th>Afghanistan</th>\n",
       "      <td>Asia</td>\n",
       "      <td>39009447.0</td>\n",
       "      <td>49098.0</td>\n",
       "    </tr>\n",
       "    <tr>\n",
       "      <th>Albania</th>\n",
       "      <td>Europe</td>\n",
       "      <td>2877470.0</td>\n",
       "      <td>5708.0</td>\n",
       "    </tr>\n",
       "    <tr>\n",
       "      <th>Algeria</th>\n",
       "      <td>Africa</td>\n",
       "      <td>43926079.0</td>\n",
       "      <td>77972.0</td>\n",
       "    </tr>\n",
       "    <tr>\n",
       "      <th>Andorra</th>\n",
       "      <td>Europe</td>\n",
       "      <td>77278.0</td>\n",
       "      <td>5423.0</td>\n",
       "    </tr>\n",
       "    <tr>\n",
       "      <th>Angola</th>\n",
       "      <td>Africa</td>\n",
       "      <td>32956300.0</td>\n",
       "      <td>1078.0</td>\n",
       "    </tr>\n",
       "  </tbody>\n",
       "</table>\n",
       "</div>"
      ],
      "text/plain": [
       "               Continent  Population   Deaths\n",
       "Country/Region                               \n",
       "Afghanistan         Asia  39009447.0  49098.0\n",
       "Albania           Europe   2877470.0   5708.0\n",
       "Algeria           Africa  43926079.0  77972.0\n",
       "Andorra           Europe     77278.0   5423.0\n",
       "Angola            Africa  32956300.0   1078.0"
      ]
     },
     "execution_count": 67,
     "metadata": {},
     "output_type": "execute_result"
    }
   ],
   "source": [
    "# d. Mescle os dois dataframes, a partir dos países, contendo apenas as informações de mortes, população e continente.\n",
    "\n",
    "world_covid = worldmeter_country.join(covid_country.loc[:,['Deaths']])\n",
    "\n",
    "world_covid.head()"
   ]
  },
  {
   "cell_type": "code",
   "execution_count": 68,
   "metadata": {},
   "outputs": [
    {
     "data": {
      "application/vnd.microsoft.datawrangler.viewer.v0+json": {
       "columns": [
        {
         "name": "Continent",
         "rawType": "object",
         "type": "unknown"
        },
        {
         "name": "Country/Region",
         "rawType": "object",
         "type": "string"
        },
        {
         "name": "Population",
         "rawType": "float64",
         "type": "float"
        },
        {
         "name": "Deaths",
         "rawType": "float64",
         "type": "float"
        }
       ],
       "conversionMethod": "pd.DataFrame",
       "ref": "b82ccc6a-e79c-4ccf-99ce-4c5f649812cc",
       "rows": [
        [
         "0",
         "Diamond Princess",
         "0.0",
         "0.0"
        ],
        [
         "Africa",
         "Algeria, Angola, Benin, Botswana, Burkina Faso, Burundi, CAR, Cabo Verde, Cameroon, Chad, Comoros, Congo, DRC, Djibouti, Egypt, Equatorial Guinea, Eritrea, Eswatini, Ethiopia, Gabon, Gambia, Ghana, Guinea, Guinea-Bissau, Ivory Coast, Kenya, Lesotho, Liberia, Libya, Madagascar, Malawi, Mali, Mauritania, Mauritius, Mayotte, Morocco, Mozambique, Namibia, Niger, Nigeria, Rwanda, Réunion, Sao Tome and Principe, Senegal, Seychelles, Sierra Leone, Somalia, South Africa, South Sudan, Sudan, Tanzania, Togo, Tunisia, Uganda, Western Sahara, Zambia, Zimbabwe",
         "1343515489.0",
         "682067.0"
        ],
        [
         "Asia",
         "Afghanistan, Armenia, Azerbaijan, Bahrain, Bangladesh, Bhutan, Brunei , Cambodia, Cyprus, Georgia, Hong Kong, India, Indonesia, Iran, Iraq, Israel, Japan, Jordan, Kazakhstan, Kuwait, Kyrgyzstan, Laos, Lebanon, Macao, Malaysia, Maldives, Mongolia, Myanmar, Nepal, Oman, Pakistan, Palestine, Philippines, Qatar, S. Korea, Saudi Arabia, Singapore, Sri Lanka, Syria, Taiwan, Tajikistan, Thailand, Timor-Leste, Turkey, UAE, Uzbekistan, Vietnam, Yemen",
         "3173656415.0",
         "3882965.0"
        ],
        [
         "Australia/Oceania",
         "Australia, Fiji, French Polynesia, New Caledonia, New Zealand, Papua New Guinea",
         "40957909.0",
         "13570.0"
        ],
        [
         "Europe",
         "Albania, Andorra, Austria, Belarus, Belgium, Bosnia and Herzegovina, Bulgaria, Channel Islands, Croatia, Czechia, Denmark, Estonia, Faeroe Islands, Finland, France, Germany, Gibraltar, Greece, Hungary, Iceland, Ireland, Isle of Man, Italy, Latvia, Liechtenstein, Lithuania, Luxembourg, Malta, Moldova, Monaco, Montenegro, Netherlands, North Macedonia, Norway, Poland, Portugal, Romania, Russia, San Marino, Serbia, Slovakia, Slovenia, Spain, Sweden, Switzerland, UK, Ukraine, Vatican City",
         "747677546.0",
         "14689301.0"
        ],
        [
         "North America",
         "Antigua and Barbuda, Aruba, Bahamas, Barbados, Belize, Bermuda, Canada, Caribbean Netherlands, Cayman Islands, Costa Rica, Cuba, Curaçao, Dominica, Dominican Republic, El Salvador, Greenland, Grenada, Guadeloupe, Guatemala, Haiti, Honduras, Jamaica, Martinique, Mexico, Montserrat, Nicaragua, Panama, Saint Kitts and Nevis, Saint Lucia, Saint Martin, Sint Maarten, St. Vincent Grenadines, Trinidad and Tobago, Turks and Caicos, USA",
         "589503467.0",
         "2666043.0"
        ],
        [
         "South America",
         "Argentina, Bolivia, Brazil, Chile, Colombia, Ecuador, Falkland Islands, French Guiana, Guyana, Paraguay, Peru, Suriname, Uruguay, Venezuela",
         "431110464.0",
         "5681838.0"
        ]
       ],
       "shape": {
        "columns": 3,
        "rows": 7
       }
      },
      "text/html": [
       "<div>\n",
       "<style scoped>\n",
       "    .dataframe tbody tr th:only-of-type {\n",
       "        vertical-align: middle;\n",
       "    }\n",
       "\n",
       "    .dataframe tbody tr th {\n",
       "        vertical-align: top;\n",
       "    }\n",
       "\n",
       "    .dataframe thead th {\n",
       "        text-align: right;\n",
       "    }\n",
       "</style>\n",
       "<table border=\"1\" class=\"dataframe\">\n",
       "  <thead>\n",
       "    <tr style=\"text-align: right;\">\n",
       "      <th></th>\n",
       "      <th>Country/Region</th>\n",
       "      <th>Population</th>\n",
       "      <th>Deaths</th>\n",
       "    </tr>\n",
       "    <tr>\n",
       "      <th>Continent</th>\n",
       "      <th></th>\n",
       "      <th></th>\n",
       "      <th></th>\n",
       "    </tr>\n",
       "  </thead>\n",
       "  <tbody>\n",
       "    <tr>\n",
       "      <th>0</th>\n",
       "      <td>Diamond Princess</td>\n",
       "      <td>0.000000e+00</td>\n",
       "      <td>0.0</td>\n",
       "    </tr>\n",
       "    <tr>\n",
       "      <th>Africa</th>\n",
       "      <td>Algeria, Angola, Benin, Botswana, Burkina Faso...</td>\n",
       "      <td>1.343515e+09</td>\n",
       "      <td>682067.0</td>\n",
       "    </tr>\n",
       "    <tr>\n",
       "      <th>Asia</th>\n",
       "      <td>Afghanistan, Armenia, Azerbaijan, Bahrain, Ban...</td>\n",
       "      <td>3.173656e+09</td>\n",
       "      <td>3882965.0</td>\n",
       "    </tr>\n",
       "    <tr>\n",
       "      <th>Australia/Oceania</th>\n",
       "      <td>Australia, Fiji, French Polynesia, New Caledon...</td>\n",
       "      <td>4.095791e+07</td>\n",
       "      <td>13570.0</td>\n",
       "    </tr>\n",
       "    <tr>\n",
       "      <th>Europe</th>\n",
       "      <td>Albania, Andorra, Austria, Belarus, Belgium, B...</td>\n",
       "      <td>7.476775e+08</td>\n",
       "      <td>14689301.0</td>\n",
       "    </tr>\n",
       "    <tr>\n",
       "      <th>North America</th>\n",
       "      <td>Antigua and Barbuda, Aruba, Bahamas, Barbados,...</td>\n",
       "      <td>5.895035e+08</td>\n",
       "      <td>2666043.0</td>\n",
       "    </tr>\n",
       "    <tr>\n",
       "      <th>South America</th>\n",
       "      <td>Argentina, Bolivia, Brazil, Chile, Colombia, E...</td>\n",
       "      <td>4.311105e+08</td>\n",
       "      <td>5681838.0</td>\n",
       "    </tr>\n",
       "  </tbody>\n",
       "</table>\n",
       "</div>"
      ],
      "text/plain": [
       "                                                      Country/Region  \\\n",
       "Continent                                                              \n",
       "0                                                   Diamond Princess   \n",
       "Africa             Algeria, Angola, Benin, Botswana, Burkina Faso...   \n",
       "Asia               Afghanistan, Armenia, Azerbaijan, Bahrain, Ban...   \n",
       "Australia/Oceania  Australia, Fiji, French Polynesia, New Caledon...   \n",
       "Europe             Albania, Andorra, Austria, Belarus, Belgium, B...   \n",
       "North America      Antigua and Barbuda, Aruba, Bahamas, Barbados,...   \n",
       "South America      Argentina, Bolivia, Brazil, Chile, Colombia, E...   \n",
       "\n",
       "                     Population      Deaths  \n",
       "Continent                                    \n",
       "0                  0.000000e+00         0.0  \n",
       "Africa             1.343515e+09    682067.0  \n",
       "Asia               3.173656e+09   3882965.0  \n",
       "Australia/Oceania  4.095791e+07     13570.0  \n",
       "Europe             7.476775e+08  14689301.0  \n",
       "North America      5.895035e+08   2666043.0  \n",
       "South America      4.311105e+08   5681838.0  "
      ]
     },
     "execution_count": 68,
     "metadata": {},
     "output_type": "execute_result"
    }
   ],
   "source": [
    "# e. Agrupe o novo dataset agora pelo continente.\n",
    "\n",
    "continentmeter = world_covid.reset_index().groupby('Continent').agg({'Country/Region': ', '.join,'Population':'sum','Deaths':'sum'})\n",
    "\n",
    "continentmeter"
   ]
  },
  {
   "cell_type": "code",
   "execution_count": 73,
   "metadata": {},
   "outputs": [
    {
     "name": "stderr",
     "output_type": "stream",
     "text": [
      "C:\\Users\\Cauan\\AppData\\Local\\Temp\\ipykernel_24784\\3582478010.py:6: RuntimeWarning: invalid value encountered in scalar divide\n",
      "  dths_1m.append(((continentmeter.Deaths.iloc[i])/(continentmeter.Population.iloc[i]))*(10**6))\n"
     ]
    },
    {
     "data": {
      "application/vnd.microsoft.datawrangler.viewer.v0+json": {
       "columns": [
        {
         "name": "Continent",
         "rawType": "object",
         "type": "unknown"
        },
        {
         "name": "Country/Region",
         "rawType": "object",
         "type": "string"
        },
        {
         "name": "Population",
         "rawType": "float64",
         "type": "float"
        },
        {
         "name": "Deaths",
         "rawType": "float64",
         "type": "float"
        },
        {
         "name": "Deaths_1M_Pop",
         "rawType": "float64",
         "type": "float"
        },
        {
         "name": "Deaths/1M_Pop",
         "rawType": "float64",
         "type": "float"
        }
       ],
       "conversionMethod": "pd.DataFrame",
       "ref": "7d5af31e-f82b-459f-bf89-01267af9594f",
       "rows": [
        [
         "0",
         "Diamond Princess",
         "0.0",
         "0.0",
         null,
         null
        ],
        [
         "Africa",
         "Algeria, Angola, Benin, Botswana, Burkina Faso, Burundi, CAR, Cabo Verde, Cameroon, Chad, Comoros, Congo, DRC, Djibouti, Egypt, Equatorial Guinea, Eritrea, Eswatini, Ethiopia, Gabon, Gambia, Ghana, Guinea, Guinea-Bissau, Ivory Coast, Kenya, Lesotho, Liberia, Libya, Madagascar, Malawi, Mali, Mauritania, Mauritius, Mayotte, Morocco, Mozambique, Namibia, Niger, Nigeria, Rwanda, Réunion, Sao Tome and Principe, Senegal, Seychelles, Sierra Leone, Somalia, South Africa, South Sudan, Sudan, Tanzania, Togo, Tunisia, Uganda, Western Sahara, Zambia, Zimbabwe",
         "1343515489.0",
         "682067.0",
         "507.67334324345853",
         "507.67334324345853"
        ],
        [
         "Asia",
         "Afghanistan, Armenia, Azerbaijan, Bahrain, Bangladesh, Bhutan, Brunei , Cambodia, Cyprus, Georgia, Hong Kong, India, Indonesia, Iran, Iraq, Israel, Japan, Jordan, Kazakhstan, Kuwait, Kyrgyzstan, Laos, Lebanon, Macao, Malaysia, Maldives, Mongolia, Myanmar, Nepal, Oman, Pakistan, Palestine, Philippines, Qatar, S. Korea, Saudi Arabia, Singapore, Sri Lanka, Syria, Taiwan, Tajikistan, Thailand, Timor-Leste, Turkey, UAE, Uzbekistan, Vietnam, Yemen",
         "3173656415.0",
         "3882965.0",
         "1223.4988581774376",
         "1223.4988581774376"
        ],
        [
         "Australia/Oceania",
         "Australia, Fiji, French Polynesia, New Caledonia, New Zealand, Papua New Guinea",
         "40957909.0",
         "13570.0",
         "331.31574172890515",
         "331.31574172890515"
        ],
        [
         "Europe",
         "Albania, Andorra, Austria, Belarus, Belgium, Bosnia and Herzegovina, Bulgaria, Channel Islands, Croatia, Czechia, Denmark, Estonia, Faeroe Islands, Finland, France, Germany, Gibraltar, Greece, Hungary, Iceland, Ireland, Isle of Man, Italy, Latvia, Liechtenstein, Lithuania, Luxembourg, Malta, Moldova, Monaco, Montenegro, Netherlands, North Macedonia, Norway, Poland, Portugal, Romania, Russia, San Marino, Serbia, Slovakia, Slovenia, Spain, Sweden, Switzerland, UK, Ukraine, Vatican City",
         "747677546.0",
         "14689301.0",
         "19646.57234737928",
         "19646.57234737928"
        ],
        [
         "North America",
         "Antigua and Barbuda, Aruba, Bahamas, Barbados, Belize, Bermuda, Canada, Caribbean Netherlands, Cayman Islands, Costa Rica, Cuba, Curaçao, Dominica, Dominican Republic, El Salvador, Greenland, Grenada, Guadeloupe, Guatemala, Haiti, Honduras, Jamaica, Martinique, Mexico, Montserrat, Nicaragua, Panama, Saint Kitts and Nevis, Saint Lucia, Saint Martin, Sint Maarten, St. Vincent Grenadines, Trinidad and Tobago, Turks and Caicos, USA",
         "589503467.0",
         "2666043.0",
         "4522.523020208124",
         "4522.523020208124"
        ],
        [
         "South America",
         "Argentina, Bolivia, Brazil, Chile, Colombia, Ecuador, Falkland Islands, French Guiana, Guyana, Paraguay, Peru, Suriname, Uruguay, Venezuela",
         "431110464.0",
         "5681838.0",
         "13179.54091691915",
         "13179.54091691915"
        ]
       ],
       "shape": {
        "columns": 5,
        "rows": 7
       }
      },
      "text/html": [
       "<div>\n",
       "<style scoped>\n",
       "    .dataframe tbody tr th:only-of-type {\n",
       "        vertical-align: middle;\n",
       "    }\n",
       "\n",
       "    .dataframe tbody tr th {\n",
       "        vertical-align: top;\n",
       "    }\n",
       "\n",
       "    .dataframe thead th {\n",
       "        text-align: right;\n",
       "    }\n",
       "</style>\n",
       "<table border=\"1\" class=\"dataframe\">\n",
       "  <thead>\n",
       "    <tr style=\"text-align: right;\">\n",
       "      <th></th>\n",
       "      <th>Country/Region</th>\n",
       "      <th>Population</th>\n",
       "      <th>Deaths</th>\n",
       "      <th>Deaths_1M_Pop</th>\n",
       "      <th>Deaths/1M_Pop</th>\n",
       "    </tr>\n",
       "    <tr>\n",
       "      <th>Continent</th>\n",
       "      <th></th>\n",
       "      <th></th>\n",
       "      <th></th>\n",
       "      <th></th>\n",
       "      <th></th>\n",
       "    </tr>\n",
       "  </thead>\n",
       "  <tbody>\n",
       "    <tr>\n",
       "      <th>0</th>\n",
       "      <td>Diamond Princess</td>\n",
       "      <td>0.000000e+00</td>\n",
       "      <td>0.0</td>\n",
       "      <td>NaN</td>\n",
       "      <td>NaN</td>\n",
       "    </tr>\n",
       "    <tr>\n",
       "      <th>Africa</th>\n",
       "      <td>Algeria, Angola, Benin, Botswana, Burkina Faso...</td>\n",
       "      <td>1.343515e+09</td>\n",
       "      <td>682067.0</td>\n",
       "      <td>507.673343</td>\n",
       "      <td>507.673343</td>\n",
       "    </tr>\n",
       "    <tr>\n",
       "      <th>Asia</th>\n",
       "      <td>Afghanistan, Armenia, Azerbaijan, Bahrain, Ban...</td>\n",
       "      <td>3.173656e+09</td>\n",
       "      <td>3882965.0</td>\n",
       "      <td>1223.498858</td>\n",
       "      <td>1223.498858</td>\n",
       "    </tr>\n",
       "    <tr>\n",
       "      <th>Australia/Oceania</th>\n",
       "      <td>Australia, Fiji, French Polynesia, New Caledon...</td>\n",
       "      <td>4.095791e+07</td>\n",
       "      <td>13570.0</td>\n",
       "      <td>331.315742</td>\n",
       "      <td>331.315742</td>\n",
       "    </tr>\n",
       "    <tr>\n",
       "      <th>Europe</th>\n",
       "      <td>Albania, Andorra, Austria, Belarus, Belgium, B...</td>\n",
       "      <td>7.476775e+08</td>\n",
       "      <td>14689301.0</td>\n",
       "      <td>19646.572347</td>\n",
       "      <td>19646.572347</td>\n",
       "    </tr>\n",
       "    <tr>\n",
       "      <th>North America</th>\n",
       "      <td>Antigua and Barbuda, Aruba, Bahamas, Barbados,...</td>\n",
       "      <td>5.895035e+08</td>\n",
       "      <td>2666043.0</td>\n",
       "      <td>4522.523020</td>\n",
       "      <td>4522.523020</td>\n",
       "    </tr>\n",
       "    <tr>\n",
       "      <th>South America</th>\n",
       "      <td>Argentina, Bolivia, Brazil, Chile, Colombia, E...</td>\n",
       "      <td>4.311105e+08</td>\n",
       "      <td>5681838.0</td>\n",
       "      <td>13179.540917</td>\n",
       "      <td>13179.540917</td>\n",
       "    </tr>\n",
       "  </tbody>\n",
       "</table>\n",
       "</div>"
      ],
      "text/plain": [
       "                                                      Country/Region  \\\n",
       "Continent                                                              \n",
       "0                                                   Diamond Princess   \n",
       "Africa             Algeria, Angola, Benin, Botswana, Burkina Faso...   \n",
       "Asia               Afghanistan, Armenia, Azerbaijan, Bahrain, Ban...   \n",
       "Australia/Oceania  Australia, Fiji, French Polynesia, New Caledon...   \n",
       "Europe             Albania, Andorra, Austria, Belarus, Belgium, B...   \n",
       "North America      Antigua and Barbuda, Aruba, Bahamas, Barbados,...   \n",
       "South America      Argentina, Bolivia, Brazil, Chile, Colombia, E...   \n",
       "\n",
       "                     Population      Deaths  Deaths_1M_Pop  Deaths/1M_Pop  \n",
       "Continent                                                                  \n",
       "0                  0.000000e+00         0.0            NaN            NaN  \n",
       "Africa             1.343515e+09    682067.0     507.673343     507.673343  \n",
       "Asia               3.173656e+09   3882965.0    1223.498858    1223.498858  \n",
       "Australia/Oceania  4.095791e+07     13570.0     331.315742     331.315742  \n",
       "Europe             7.476775e+08  14689301.0   19646.572347   19646.572347  \n",
       "North America      5.895035e+08   2666043.0    4522.523020    4522.523020  \n",
       "South America      4.311105e+08   5681838.0   13179.540917   13179.540917  "
      ]
     },
     "execution_count": 73,
     "metadata": {},
     "output_type": "execute_result"
    }
   ],
   "source": [
    "# f. Crie uma nova coluna contendo o número de mortes por milhão dentro dos continentes (Utilize a fórmula: (mortes/população)*10^6).\n",
    "\n",
    "dths_1m = []\n",
    "\n",
    "for i in range(continentmeter.__len__()):\n",
    "    dths_1m.append(((continentmeter.Deaths.iloc[i])/(continentmeter.Population.iloc[i]))*(10**6))\n",
    "\n",
    "continentmeter['Deaths/1M_Pop']=dths_1m\n",
    "\n",
    "continentmeter"
   ]
  },
  {
   "cell_type": "code",
   "execution_count": 74,
   "metadata": {},
   "outputs": [
    {
     "data": {
      "application/vnd.microsoft.datawrangler.viewer.v0+json": {
       "columns": [
        {
         "name": "Continent",
         "rawType": "object",
         "type": "unknown"
        },
        {
         "name": "Country/Region",
         "rawType": "object",
         "type": "string"
        },
        {
         "name": "Population",
         "rawType": "float64",
         "type": "float"
        },
        {
         "name": "Deaths",
         "rawType": "float64",
         "type": "float"
        },
        {
         "name": "Deaths_1M_Pop",
         "rawType": "float64",
         "type": "float"
        },
        {
         "name": "Deaths/1M_Pop",
         "rawType": "float64",
         "type": "float"
        }
       ],
       "conversionMethod": "pd.DataFrame",
       "ref": "be3f8642-c47d-41bd-9f8c-688e11b536f0",
       "rows": [
        [
         "Europe",
         "Albania, Andorra, Austria, Belarus, Belgium, Bosnia and Herzegovina, Bulgaria, Channel Islands, Croatia, Czechia, Denmark, Estonia, Faeroe Islands, Finland, France, Germany, Gibraltar, Greece, Hungary, Iceland, Ireland, Isle of Man, Italy, Latvia, Liechtenstein, Lithuania, Luxembourg, Malta, Moldova, Monaco, Montenegro, Netherlands, North Macedonia, Norway, Poland, Portugal, Romania, Russia, San Marino, Serbia, Slovakia, Slovenia, Spain, Sweden, Switzerland, UK, Ukraine, Vatican City",
         "747677546.0",
         "14689301.0",
         "19646.57234737928",
         "19646.57234737928"
        ],
        [
         "South America",
         "Argentina, Bolivia, Brazil, Chile, Colombia, Ecuador, Falkland Islands, French Guiana, Guyana, Paraguay, Peru, Suriname, Uruguay, Venezuela",
         "431110464.0",
         "5681838.0",
         "13179.54091691915",
         "13179.54091691915"
        ],
        [
         "North America",
         "Antigua and Barbuda, Aruba, Bahamas, Barbados, Belize, Bermuda, Canada, Caribbean Netherlands, Cayman Islands, Costa Rica, Cuba, Curaçao, Dominica, Dominican Republic, El Salvador, Greenland, Grenada, Guadeloupe, Guatemala, Haiti, Honduras, Jamaica, Martinique, Mexico, Montserrat, Nicaragua, Panama, Saint Kitts and Nevis, Saint Lucia, Saint Martin, Sint Maarten, St. Vincent Grenadines, Trinidad and Tobago, Turks and Caicos, USA",
         "589503467.0",
         "2666043.0",
         "4522.523020208124",
         "4522.523020208124"
        ],
        [
         "Asia",
         "Afghanistan, Armenia, Azerbaijan, Bahrain, Bangladesh, Bhutan, Brunei , Cambodia, Cyprus, Georgia, Hong Kong, India, Indonesia, Iran, Iraq, Israel, Japan, Jordan, Kazakhstan, Kuwait, Kyrgyzstan, Laos, Lebanon, Macao, Malaysia, Maldives, Mongolia, Myanmar, Nepal, Oman, Pakistan, Palestine, Philippines, Qatar, S. Korea, Saudi Arabia, Singapore, Sri Lanka, Syria, Taiwan, Tajikistan, Thailand, Timor-Leste, Turkey, UAE, Uzbekistan, Vietnam, Yemen",
         "3173656415.0",
         "3882965.0",
         "1223.4988581774376",
         "1223.4988581774376"
        ],
        [
         "Africa",
         "Algeria, Angola, Benin, Botswana, Burkina Faso, Burundi, CAR, Cabo Verde, Cameroon, Chad, Comoros, Congo, DRC, Djibouti, Egypt, Equatorial Guinea, Eritrea, Eswatini, Ethiopia, Gabon, Gambia, Ghana, Guinea, Guinea-Bissau, Ivory Coast, Kenya, Lesotho, Liberia, Libya, Madagascar, Malawi, Mali, Mauritania, Mauritius, Mayotte, Morocco, Mozambique, Namibia, Niger, Nigeria, Rwanda, Réunion, Sao Tome and Principe, Senegal, Seychelles, Sierra Leone, Somalia, South Africa, South Sudan, Sudan, Tanzania, Togo, Tunisia, Uganda, Western Sahara, Zambia, Zimbabwe",
         "1343515489.0",
         "682067.0",
         "507.67334324345853",
         "507.67334324345853"
        ],
        [
         "Australia/Oceania",
         "Australia, Fiji, French Polynesia, New Caledonia, New Zealand, Papua New Guinea",
         "40957909.0",
         "13570.0",
         "331.31574172890515",
         "331.31574172890515"
        ],
        [
         "0",
         "Diamond Princess",
         "0.0",
         "0.0",
         null,
         null
        ]
       ],
       "shape": {
        "columns": 5,
        "rows": 7
       }
      },
      "text/html": [
       "<div>\n",
       "<style scoped>\n",
       "    .dataframe tbody tr th:only-of-type {\n",
       "        vertical-align: middle;\n",
       "    }\n",
       "\n",
       "    .dataframe tbody tr th {\n",
       "        vertical-align: top;\n",
       "    }\n",
       "\n",
       "    .dataframe thead th {\n",
       "        text-align: right;\n",
       "    }\n",
       "</style>\n",
       "<table border=\"1\" class=\"dataframe\">\n",
       "  <thead>\n",
       "    <tr style=\"text-align: right;\">\n",
       "      <th></th>\n",
       "      <th>Country/Region</th>\n",
       "      <th>Population</th>\n",
       "      <th>Deaths</th>\n",
       "      <th>Deaths_1M_Pop</th>\n",
       "      <th>Deaths/1M_Pop</th>\n",
       "    </tr>\n",
       "    <tr>\n",
       "      <th>Continent</th>\n",
       "      <th></th>\n",
       "      <th></th>\n",
       "      <th></th>\n",
       "      <th></th>\n",
       "      <th></th>\n",
       "    </tr>\n",
       "  </thead>\n",
       "  <tbody>\n",
       "    <tr>\n",
       "      <th>Europe</th>\n",
       "      <td>Albania, Andorra, Austria, Belarus, Belgium, B...</td>\n",
       "      <td>7.476775e+08</td>\n",
       "      <td>14689301.0</td>\n",
       "      <td>19646.572347</td>\n",
       "      <td>19646.572347</td>\n",
       "    </tr>\n",
       "    <tr>\n",
       "      <th>South America</th>\n",
       "      <td>Argentina, Bolivia, Brazil, Chile, Colombia, E...</td>\n",
       "      <td>4.311105e+08</td>\n",
       "      <td>5681838.0</td>\n",
       "      <td>13179.540917</td>\n",
       "      <td>13179.540917</td>\n",
       "    </tr>\n",
       "    <tr>\n",
       "      <th>North America</th>\n",
       "      <td>Antigua and Barbuda, Aruba, Bahamas, Barbados,...</td>\n",
       "      <td>5.895035e+08</td>\n",
       "      <td>2666043.0</td>\n",
       "      <td>4522.523020</td>\n",
       "      <td>4522.523020</td>\n",
       "    </tr>\n",
       "    <tr>\n",
       "      <th>Asia</th>\n",
       "      <td>Afghanistan, Armenia, Azerbaijan, Bahrain, Ban...</td>\n",
       "      <td>3.173656e+09</td>\n",
       "      <td>3882965.0</td>\n",
       "      <td>1223.498858</td>\n",
       "      <td>1223.498858</td>\n",
       "    </tr>\n",
       "    <tr>\n",
       "      <th>Africa</th>\n",
       "      <td>Algeria, Angola, Benin, Botswana, Burkina Faso...</td>\n",
       "      <td>1.343515e+09</td>\n",
       "      <td>682067.0</td>\n",
       "      <td>507.673343</td>\n",
       "      <td>507.673343</td>\n",
       "    </tr>\n",
       "    <tr>\n",
       "      <th>Australia/Oceania</th>\n",
       "      <td>Australia, Fiji, French Polynesia, New Caledon...</td>\n",
       "      <td>4.095791e+07</td>\n",
       "      <td>13570.0</td>\n",
       "      <td>331.315742</td>\n",
       "      <td>331.315742</td>\n",
       "    </tr>\n",
       "    <tr>\n",
       "      <th>0</th>\n",
       "      <td>Diamond Princess</td>\n",
       "      <td>0.000000e+00</td>\n",
       "      <td>0.0</td>\n",
       "      <td>NaN</td>\n",
       "      <td>NaN</td>\n",
       "    </tr>\n",
       "  </tbody>\n",
       "</table>\n",
       "</div>"
      ],
      "text/plain": [
       "                                                      Country/Region  \\\n",
       "Continent                                                              \n",
       "Europe             Albania, Andorra, Austria, Belarus, Belgium, B...   \n",
       "South America      Argentina, Bolivia, Brazil, Chile, Colombia, E...   \n",
       "North America      Antigua and Barbuda, Aruba, Bahamas, Barbados,...   \n",
       "Asia               Afghanistan, Armenia, Azerbaijan, Bahrain, Ban...   \n",
       "Africa             Algeria, Angola, Benin, Botswana, Burkina Faso...   \n",
       "Australia/Oceania  Australia, Fiji, French Polynesia, New Caledon...   \n",
       "0                                                   Diamond Princess   \n",
       "\n",
       "                     Population      Deaths  Deaths_1M_Pop  Deaths/1M_Pop  \n",
       "Continent                                                                  \n",
       "Europe             7.476775e+08  14689301.0   19646.572347   19646.572347  \n",
       "South America      4.311105e+08   5681838.0   13179.540917   13179.540917  \n",
       "North America      5.895035e+08   2666043.0    4522.523020    4522.523020  \n",
       "Asia               3.173656e+09   3882965.0    1223.498858    1223.498858  \n",
       "Africa             1.343515e+09    682067.0     507.673343     507.673343  \n",
       "Australia/Oceania  4.095791e+07     13570.0     331.315742     331.315742  \n",
       "0                  0.000000e+00         0.0            NaN            NaN  "
      ]
     },
     "execution_count": 74,
     "metadata": {},
     "output_type": "execute_result"
    }
   ],
   "source": [
    "# g. Faça um ranking do número de mortes por milhão de habitantes entre os continentes.\n",
    "\n",
    "continentmeter.sort_values(by='Deaths/1M_Pop', ascending=False)"
   ]
  }
 ],
 "metadata": {
  "kernelspec": {
   "display_name": "base",
   "language": "python",
   "name": "python3"
  },
  "language_info": {
   "codemirror_mode": {
    "name": "ipython",
    "version": 3
   },
   "file_extension": ".py",
   "mimetype": "text/x-python",
   "name": "python",
   "nbconvert_exporter": "python",
   "pygments_lexer": "ipython3",
   "version": "3.12.7"
  }
 },
 "nbformat": 4,
 "nbformat_minor": 2
}
